{
 "cells": [
  {
   "cell_type": "markdown",
   "metadata": {},
   "source": [
    "# Recherche_Fonction_Logique"
   ]
  },
  {
   "cell_type": "markdown",
   "metadata": {},
   "source": [
    "<hr>\n",
    "\n",
    "<h2 class='fa fa-graduation-cap' style=\"color: purple\"> Exercice de recherche - <strong>Répondre</strong> aux questions suivantes :</h2>\n",
    "\n",
    "A qui Google rendait hommage le 2 novembre 2015 en mettant sur la page d'accueil de son moteur de recherche le doodle ci-dessous ?\n",
    "\n",
    "<br>\n",
    "<img  src=\"https://ericecmorlaix.github.io/img/doodle_George.gif\" alt=\"doodle_George\">\n",
    "<br>\n",
    "\n",
    "Indice : lorsque l'on cliquait sur l'image, cela ouvrait [cette page de résultats de recherche...](https://www.google.fr/search?q=George+Boole&oi=ddle&ct=george-booles-200th-birthday-5636122663190528&hl=fr)\n",
    "\n",
    "\n",
    "Google rendait hommage à George Boole.\n",
    "\n",
    "Quelles étaient les raisons de cet hommage rendu par Google ?\n",
    "\n",
    "> George Boole a créé le type booléen.\n",
    "\n",
    "Qu'est-ce qu'une variable booléenne ?\n",
    "\n",
    "> C'est une variable qui est vraie/True ou fausse/False.\n",
    "\n",
    "Qu'elles sont les principales fonctions (opérations) booléennes ?\n",
    "\n",
    "> and, not, or, xor...\n",
    "\n",
    "Expliquer en observant le gif animé du doodle ci-dessus, les conditions pour que :\n",
    "\n",
    "- le G s'allume en bleu  :\n",
    "\n",
    "> Il faut que x et y soient True.\n",
    "\n",
    "- le deuxième o s'allume en jaune :\n",
    "\n",
    "> Il faut que x ou/et y soit True.\n",
    "\n",
    "- le l s'allume en vert :\n",
    "\n",
    "> Il faut que y soit False.\n",
    "\n",
    "- le e s'allume en rouge :\n",
    "\n",
    "> Il faut que x soit False.\n",
    "\n",
    "- le premier o s'allume en rouge :\n",
    "\n",
    "> Il faut que seulement x ou y soit True.\n",
    "\n",
    "\n",
    "<hr>\n"
   ]
  },
  {
   "cell_type": "markdown",
   "metadata": {
    "slideshow": {
     "slide_type": "-"
    }
   },
   "source": [
    "<a rel=\"license\" href=\"http://creativecommons.org/licenses/by-sa/4.0/\"><img alt=\"Licence Creative Commons\" style=\"border-width:0\" src=\"https://i.creativecommons.org/l/by-sa/4.0/88x31.png\" /></a><br />Ce document est mis à disposition selon les termes de la <a rel=\"license\" href=\"http://creativecommons.org/licenses/by-sa/4.0/\">Licence Creative Commons Attribution -  Partage dans les Mêmes Conditions 4.0 International</a>.\n",
    "\n",
    "Pour toute question, suggestion ou commentaire : <a href=\"mailto:eric.madec@ecmorlaix.fr\">eric.madec@ecmorlaix.fr</a>"
   ]
  }
 ],
 "metadata": {
  "hide_input": false,
  "kernelspec": {
   "display_name": "Python 3.10.7 64-bit",
   "language": "python",
   "name": "python3"
  },
  "language_info": {
   "codemirror_mode": {
    "name": "ipython",
    "version": 3
   },
   "file_extension": ".py",
   "mimetype": "text/x-python",
   "name": "python",
   "nbconvert_exporter": "python",
   "pygments_lexer": "ipython3",
   "version": "3.10.7"
  },
  "toc": {
   "base_numbering": 1,
   "nav_menu": {},
   "number_sections": true,
   "sideBar": true,
   "skip_h1_title": false,
   "title_cell": "Table of Contents",
   "title_sidebar": "Contents",
   "toc_cell": false,
   "toc_position": {},
   "toc_section_display": true,
   "toc_window_display": false
  },
  "varInspector": {
   "cols": {
    "lenName": 16,
    "lenType": 16,
    "lenVar": 40
   },
   "kernels_config": {
    "python": {
     "delete_cmd_postfix": "",
     "delete_cmd_prefix": "del ",
     "library": "var_list.py",
     "varRefreshCmd": "print(var_dic_list())"
    },
    "r": {
     "delete_cmd_postfix": ") ",
     "delete_cmd_prefix": "rm(",
     "library": "var_list.r",
     "varRefreshCmd": "cat(var_dic_list()) "
    }
   },
   "types_to_exclude": [
    "module",
    "function",
    "builtin_function_or_method",
    "instance",
    "_Feature"
   ],
   "window_display": false
  },
  "vscode": {
   "interpreter": {
    "hash": "64ae21ee98cd2819759ae8f1351a2318f24a930180cc2089820c6cf2e3aa9781"
   }
  }
 },
 "nbformat": 4,
 "nbformat_minor": 2
}
