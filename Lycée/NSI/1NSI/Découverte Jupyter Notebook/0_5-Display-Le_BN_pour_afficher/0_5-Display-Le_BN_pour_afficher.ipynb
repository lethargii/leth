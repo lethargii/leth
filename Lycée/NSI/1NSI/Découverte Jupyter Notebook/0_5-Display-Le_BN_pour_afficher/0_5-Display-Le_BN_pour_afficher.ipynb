{
 "cells": [
  {
   "cell_type": "markdown",
   "metadata": {},
   "source": [
    "# Display"
   ]
  },
  {
   "cell_type": "markdown",
   "metadata": {},
   "source": [
    "# Le Bloc Note pour afficher :\n",
    "\n",
    "## Markdown() :\n",
    "\n",
    "La fonction Markdown() du module IPython.display permet d'afficher directement une chaine de caractères écrite en langage Markdown :"
   ]
  },
  {
   "cell_type": "code",
   "execution_count": 1,
   "metadata": {},
   "outputs": [
    {
     "data": {
      "text/markdown": [
       "| d | b | h |\n",
       "|:-:|:-:|:-:|\n",
       "| 0 | 0b0 | 0x0 |\n",
       "| 1 | 0b1 | 0x1 |\n",
       "| 2 | 0b10 | 0x2 |\n",
       "| 3 | 0b11 | 0x3 |\n",
       "| 4 | 0b100 | 0x4 |\n",
       "| 5 | 0b101 | 0x5 |\n",
       "| 6 | 0b110 | 0x6 |\n",
       "| 7 | 0b111 | 0x7 |\n",
       "| 8 | 0b1000 | 0x8 |\n",
       "| 9 | 0b1001 | 0x9 |\n",
       "| 10 | 0b1010 | 0xa |\n",
       "| 11 | 0b1011 | 0xb |\n",
       "| 12 | 0b1100 | 0xc |\n",
       "| 13 | 0b1101 | 0xd |\n",
       "| 14 | 0b1110 | 0xe |\n",
       "| 15 | 0b1111 | 0xf |\n"
      ],
      "text/plain": [
       "<IPython.core.display.Markdown object>"
      ]
     },
     "execution_count": 1,
     "metadata": {},
     "output_type": "execute_result"
    }
   ],
   "source": [
    "from IPython.display import Markdown\n",
    "\n",
    "chaine = \"| d | b | h |\" + \"\\n\"\n",
    "chaine += \"|:-:\" * 3 + \"|\" + \"\\n\"\n",
    "\n",
    "for i in range(16) :\n",
    "    chaine += f\"| {i} | {bin(i)} | {hex(i)} |\" + \"\\n\"\n",
    "\n",
    "Markdown(chaine)    "
   ]
  },
  {
   "cell_type": "markdown",
   "metadata": {},
   "source": [
    "## HTML() :\n",
    "\n",
    "La fonction HTML() du module IPython.display permet d'afficher directement une chaine de caractères écrite en langage HTML :"
   ]
  },
  {
   "cell_type": "code",
   "execution_count": 1,
   "metadata": {},
   "outputs": [
    {
     "data": {
      "text/html": [
       "<h1>Mon titre de niveau 1</h1><h2>Mon titre de niveau 2</h2><h3>Mon titre de niveau 3</h3><h4>Mon titre de niveau 4</h4><h5>Mon titre de niveau 5</h5>"
      ],
      "text/plain": [
       "<IPython.core.display.HTML object>"
      ]
     },
     "execution_count": 1,
     "metadata": {},
     "output_type": "execute_result"
    }
   ],
   "source": [
    "from IPython.display import HTML\n",
    "\n",
    "chaine = ''\n",
    "\n",
    "for i in range(1,6) :\n",
    "    chaine = chaine + f'<h{i}>Mon titre de niveau {i}</h{i}>'\n",
    "\n",
    "HTML(chaine)"
   ]
  },
  {
   "cell_type": "markdown",
   "metadata": {},
   "source": [
    "<hr>\n",
    "\n",
    "On peut donc ainsi afficher tout type de balise HTML y compris des images :"
   ]
  },
  {
   "cell_type": "code",
   "execution_count": 2,
   "metadata": {},
   "outputs": [
    {
     "name": "stdout",
     "output_type": "stream",
     "text": [
      "Entrer un nombre entier positif : 21\n"
     ]
    },
    {
     "data": {
      "text/html": [
       "<h3 style=\"color:darkorange;text-align:center;\">Et voici le résultat :</h3><img src=\"https://ericecmorlaix.github.io/img/Jupyter_logo.svg\" style = \"display:inline-block\"><img src=\"https://ericecmorlaix.github.io/img/Jupyter_logo.svg\" style = \"display:inline-block\"><img src=\"https://ericecmorlaix.github.io/img/Jupyter_logo.svg\" style = \"display:inline-block\"><img src=\"https://ericecmorlaix.github.io/img/Jupyter_logo.svg\" style = \"display:inline-block\"><img src=\"https://ericecmorlaix.github.io/img/Jupyter_logo.svg\" style = \"display:inline-block\"><img src=\"https://ericecmorlaix.github.io/img/Jupyter_logo.svg\" style = \"display:inline-block\"><img src=\"https://ericecmorlaix.github.io/img/Jupyter_logo.svg\" style = \"display:inline-block\"><img src=\"https://ericecmorlaix.github.io/img/Jupyter_logo.svg\" style = \"display:inline-block\"><img src=\"https://ericecmorlaix.github.io/img/Jupyter_logo.svg\" style = \"display:inline-block\"><img src=\"https://ericecmorlaix.github.io/img/Jupyter_logo.svg\" style = \"display:inline-block\"><img src=\"https://ericecmorlaix.github.io/img/Jupyter_logo.svg\" style = \"display:inline-block\"><img src=\"https://ericecmorlaix.github.io/img/Jupyter_logo.svg\" style = \"display:inline-block\"><img src=\"https://ericecmorlaix.github.io/img/Jupyter_logo.svg\" style = \"display:inline-block\"><img src=\"https://ericecmorlaix.github.io/img/Jupyter_logo.svg\" style = \"display:inline-block\"><img src=\"https://ericecmorlaix.github.io/img/Jupyter_logo.svg\" style = \"display:inline-block\"><img src=\"https://ericecmorlaix.github.io/img/Jupyter_logo.svg\" style = \"display:inline-block\"><img src=\"https://ericecmorlaix.github.io/img/Jupyter_logo.svg\" style = \"display:inline-block\"><img src=\"https://ericecmorlaix.github.io/img/Jupyter_logo.svg\" style = \"display:inline-block\"><img src=\"https://ericecmorlaix.github.io/img/Jupyter_logo.svg\" style = \"display:inline-block\"><img src=\"https://ericecmorlaix.github.io/img/Jupyter_logo.svg\" style = \"display:inline-block\"><img src=\"https://ericecmorlaix.github.io/img/Jupyter_logo.svg\" style = \"display:inline-block\">"
      ],
      "text/plain": [
       "<IPython.core.display.HTML object>"
      ]
     },
     "execution_count": 2,
     "metadata": {},
     "output_type": "execute_result"
    }
   ],
   "source": [
    "from IPython.display import HTML\n",
    "\n",
    "chaine = '<h3 style=\"color:darkorange;text-align:center;\">Et voici le résultat :</h3>'\n",
    "\n",
    "nombre = int(input('Entrer un nombre entier positif : '))\n",
    "\n",
    "chaine = chaine + '<img src=\"https://ericecmorlaix.github.io/img/Jupyter_logo.svg\" style = \"display:inline-block\">' * nombre\n",
    "\n",
    "HTML(chaine)"
   ]
  },
  {
   "cell_type": "markdown",
   "metadata": {},
   "source": [
    "> L'attribut style ajouté en ligne dans une balise HTML permet de surcharger le CSS pour forcer un style d'affichage différent du style par défaut. Les images s'affichent donc ici en ligne... "
   ]
  },
  {
   "cell_type": "markdown",
   "metadata": {},
   "source": [
    "## Video()\n",
    "\n",
    "Le module IPython.display dispose d'autres fonctions comme celle qui permet d'afficher une vidéo "
   ]
  },
  {
   "cell_type": "code",
   "execution_count": 7,
   "metadata": {},
   "outputs": [
    {
     "data": {
      "text/html": [
       "<video src=\"https://ericecmorlaix.github.io/img/CalculShadok.mp4\" controls>\n",
       "      Your browser does not support the <code>video</code> element.\n",
       "    </video>"
      ],
      "text/plain": [
       "<IPython.core.display.Video object>"
      ]
     },
     "execution_count": 7,
     "metadata": {},
     "output_type": "execute_result"
    }
   ],
   "source": [
    "from IPython.core.display import Video\n",
    "Video('https://ericecmorlaix.github.io/img/CalculShadok.mp4')"
   ]
  },
  {
   "cell_type": "markdown",
   "metadata": {},
   "source": [
    "## SVG()\n",
    "\n",
    "Ou encore un dessin généré à partir d'un code en langage SVG :"
   ]
  },
  {
   "cell_type": "code",
   "execution_count": 2,
   "metadata": {},
   "outputs": [
    {
     "data": {
      "image/svg+xml": "<svg width=\"600\" height=\"80\"><circle cx=\"300\" cy=\"30\" r=\"0.0\" fill=\"purple\" stroke-width=\"2\" stroke=\"grey\"/><circle cx=\"297\" cy=\"30\" r=\"3.0\" fill=\"purple\" stroke-width=\"2\" stroke=\"grey\"/><circle cx=\"288\" cy=\"30\" r=\"6.0\" fill=\"purple\" stroke-width=\"2\" stroke=\"grey\"/><circle cx=\"273\" cy=\"30\" r=\"9.0\" fill=\"purple\" stroke-width=\"2\" stroke=\"grey\"/><circle cx=\"252\" cy=\"30\" r=\"12.0\" fill=\"purple\" stroke-width=\"2\" stroke=\"grey\"/><circle cx=\"225\" cy=\"30\" r=\"15.0\" fill=\"purple\" stroke-width=\"2\" stroke=\"grey\"/><circle cx=\"192\" cy=\"30\" r=\"18.0\" fill=\"purple\" stroke-width=\"2\" stroke=\"grey\"/><circle cx=\"153\" cy=\"30\" r=\"21.0\" fill=\"purple\" stroke-width=\"2\" stroke=\"grey\"/><circle cx=\"108\" cy=\"30\" r=\"24.0\" fill=\"purple\" stroke-width=\"2\" stroke=\"grey\"/><circle cx=\"57\" cy=\"30\" r=\"27.0\" fill=\"purple\" stroke-width=\"2\" stroke=\"grey\"/></svg>",
      "text/plain": [
       "<IPython.core.display.SVG object>"
      ]
     },
     "execution_count": 2,
     "metadata": {},
     "output_type": "execute_result"
    }
   ],
   "source": [
    "from IPython.display import SVG\n",
    "\n",
    "chaine = '<svg width=\"600\" height=\"80\">'\n",
    "\n",
    "for i in range(10) :\n",
    "    chaine = chaine + f'<circle cx=\"{(30+3*i)*(10-i)}\" cy=\"{30}\" r=\"{3.*float(i)}\" fill=\"purple\" stroke-width=\"2\" stroke=\"grey\"></circle>'\n",
    "\n",
    "SVG(chaine + '</svg>')\n"
   ]
  },
  {
   "cell_type": "markdown",
   "metadata": {},
   "source": [
    "> Voici quelques tutoriels pour découvrir ce langage et plus si affinité :\n",
    "> - https://www.alsacreations.com/tuto/lire/1421-svg-initiation-syntaxe-outils.html\n",
    "> - https://developer.mozilla.org/fr/docs/Web/SVG/Tutoriel\n",
    "> - http://svground.fr//\n",
    "> - https://www.w3.org/TR/SVG/\n",
    "\n",
    "On peut également et avantageusement faire un dessin vectoriel sur [draw.io](https://www.draw.io/) et récupérer son code SVG par le menu `File > Embed > SVG` (décocher toute les cases de choix) :\n",
    "\n",
    "````html\n",
    "<svg xmlns=\"http://www.w3.org/2000/svg\" xmlns:xlink=\"http://www.w3.org/1999/xlink\" version=\"1.1\" width=\"385px\" height=\"85px\" viewBox=\"-0.5 -0.5 385 85\"><defs/><g>\n",
    "<ellipse cx=\"40\" cy=\"40\" rx=\"38\" ry=\"38\" fill=\"none\" stroke=\"#ff8000\" stroke-width=\"4\" pointer-events=\"none\"/>\n",
    "<path d=\"M 100 80 L 180 80\" fill=\"none\" stroke=\"#ff8000\" stroke-width=\"4\" stroke-miterlimit=\"10\" pointer-events=\"none\"/>\n",
    "<path d=\"M 200 80 L 280 80\" fill=\"none\" stroke=\"#ff8000\" stroke-width=\"4\" stroke-miterlimit=\"10\" pointer-events=\"none\"/>\n",
    "<path d=\"M 280 80 L 280 10\" fill=\"none\" stroke=\"#ff8000\" stroke-width=\"4\" stroke-miterlimit=\"10\" pointer-events=\"none\"/>\n",
    "<path d=\"M 300 80 L 380 80\" fill=\"none\" stroke=\"#ff8000\" stroke-width=\"4\" stroke-miterlimit=\"10\" pointer-events=\"none\"/>\n",
    "<path d=\"M 380 10 L 380 80\" fill=\"none\" stroke=\"#ff8000\" stroke-width=\"4\" stroke-miterlimit=\"10\" pointer-events=\"none\"/>\n",
    "<path d=\"M 300 80 L 380 10\" fill=\"none\" stroke=\"#ff8000\" stroke-width=\"4\" stroke-miterlimit=\"10\" pointer-events=\"none\"/>\n",
    "</g></svg>\n",
    "````\n",
    "Et l'intégrer en l'adaptant si besoin tel que :"
   ]
  },
  {
   "cell_type": "code",
   "execution_count": 5,
   "metadata": {},
   "outputs": [
    {
     "data": {
      "image/svg+xml": "<svg height=\"85px\" version=\"1.1\" viewBox=\"-0.5 -0.5 385 85\" width=\"385px\" xmlns=\"http://www.w3.org/2000/svg\" xmlns:xlink=\"http://www.w3.org/1999/xlink\"><defs/><g>\n<ellipse cx=\"40\" cy=\"40\" fill=\"none\" pointer-events=\"none\" rx=\"38\" ry=\"38\" stroke=\"#ff8000\" stroke-width=\"4\"/>\n<path d=\"M 100 80 L 180 80\" fill=\"none\" pointer-events=\"none\" stroke=\"#ff8000\" stroke-miterlimit=\"10\" stroke-width=\"4\"/>\n<path d=\"M 200 80 L 280 80\" fill=\"none\" pointer-events=\"none\" stroke=\"#ff8000\" stroke-miterlimit=\"10\" stroke-width=\"4\"/>\n<path d=\"M 280 80 L 280 10\" fill=\"none\" pointer-events=\"none\" stroke=\"#ff8000\" stroke-miterlimit=\"10\" stroke-width=\"4\"/>\n<path d=\"M 300 80 L 380 80\" fill=\"none\" pointer-events=\"none\" stroke=\"#ff8000\" stroke-miterlimit=\"10\" stroke-width=\"4\"/>\n<path d=\"M 380 10 L 380 80\" fill=\"none\" pointer-events=\"none\" stroke=\"#ff8000\" stroke-miterlimit=\"10\" stroke-width=\"4\"/>\n<path d=\"M 300 80 L 380 10\" fill=\"none\" pointer-events=\"none\" stroke=\"#ff8000\" stroke-miterlimit=\"10\" stroke-width=\"4\"/>\n</g></svg>",
      "text/plain": [
       "<IPython.core.display.SVG object>"
      ]
     },
     "execution_count": 5,
     "metadata": {},
     "output_type": "execute_result"
    }
   ],
   "source": [
    "from IPython.display import SVG\n",
    "SVG('''<svg xmlns=\"http://www.w3.org/2000/svg\" xmlns:xlink=\"http://www.w3.org/1999/xlink\" version=\"1.1\" width=\"385px\" height=\"85px\" viewBox=\"-0.5 -0.5 385 85\"><defs/><g>\n",
    "<ellipse cx=\"40\" cy=\"40\" rx=\"38\" ry=\"38\" fill=\"none\" stroke=\"#ff8000\" stroke-width=\"4\" pointer-events=\"none\"/>\n",
    "<path d=\"M 100 80 L 180 80\" fill=\"none\" stroke=\"#ff8000\" stroke-width=\"4\" stroke-miterlimit=\"10\" pointer-events=\"none\"/>\n",
    "<path d=\"M 200 80 L 280 80\" fill=\"none\" stroke=\"#ff8000\" stroke-width=\"4\" stroke-miterlimit=\"10\" pointer-events=\"none\"/>\n",
    "<path d=\"M 280 80 L 280 10\" fill=\"none\" stroke=\"#ff8000\" stroke-width=\"4\" stroke-miterlimit=\"10\" pointer-events=\"none\"/>\n",
    "<path d=\"M 300 80 L 380 80\" fill=\"none\" stroke=\"#ff8000\" stroke-width=\"4\" stroke-miterlimit=\"10\" pointer-events=\"none\"/>\n",
    "<path d=\"M 380 10 L 380 80\" fill=\"none\" stroke=\"#ff8000\" stroke-width=\"4\" stroke-miterlimit=\"10\" pointer-events=\"none\"/>\n",
    "<path d=\"M 300 80 L 380 10\" fill=\"none\" stroke=\"#ff8000\" stroke-width=\"4\" stroke-miterlimit=\"10\" pointer-events=\"none\"/>\n",
    "</g></svg>''')"
   ]
  },
  {
   "cell_type": "markdown",
   "metadata": {},
   "source": [
    "> Les triples apostrophes ``'''`` (ou guillements) permettent d'écrire une même chaine de caractères sur plusieurs lignes.\n",
    "\n",
    "> Voici quelques tutoriels pour prendre en main l'application [draw.io](https://www.draw.io/) et plus si affinité :\n",
    "> - http://www.ac-grenoble.fr/webeleves/IMG/pdf/tutoriel_draw.io_imprim.pdf\n",
    "> - https://epn.salledesrancy.com/wp-content/uploads/2018/12/tutoriel-Draw-io-2018.pdf\n",
    "> - La chaine [Youtube](https://www.youtube.com/channel/UCiTtRN9b8P4CoSfpkfgEJHA) \n",
    "\n",
    "\n",
    "## Remix :\n",
    "\n",
    "En fait SVG est une balise de HTML5 et on peut combiner ce que l'on vient de voir tel que par exemple :"
   ]
  },
  {
   "cell_type": "code",
   "execution_count": 6,
   "metadata": {},
   "outputs": [
    {
     "data": {
      "text/html": [
       "<center><h3 style=\"color:darkorange;\">Et voici le résultat :</h3><br><svg xmlns=\"http://www.w3.org/2000/svg\" xmlns:xlink=\"http://www.w3.org/1999/xlink\" version=\"1.1\" width=\"90px\" height=\"93px\" viewBox=\"-0.5 -0.5 85 93\"><defs/><g><path d=\"M 2 72 L 82 72\" fill=\"none\" stroke=\"#ff8000\" stroke-width=\"4\" stroke-miterlimit=\"10\" pointer-events=\"none\"/><path d=\"M 82 2 L 82 72\" fill=\"none\" stroke=\"#ff8000\" stroke-width=\"4\" stroke-miterlimit=\"10\" pointer-events=\"none\"/><path d=\"M 2 72 L 82 2\" fill=\"none\" stroke=\"#ff8000\" stroke-width=\"4\" stroke-miterlimit=\"10\" pointer-events=\"none\"/><g transform=\"translate(17.5,73.5)\"><switch><foreignObject style=\"overflow:visible;\" pointer-events=\"none\" width=\"48\" height=\"17\" requiredFeatures=\"http://www.w3.org/TR/SVG11/feature#Extensibility\"><div xmlns=\"http://www.w3.org/1999/xhtml\" style=\"display: inline-block; font-size: 16px; font-family: &quot;Comic Sans MS&quot;; color: rgb(0, 0, 0); line-height: 1.2; vertical-align: top; width: 49px; white-space: nowrap; overflow-wrap: normal; text-align: center;\"><div xmlns=\"http://www.w3.org/1999/xhtml\" style=\"display:inline-block;text-align:inherit;text-decoration:inherit;white-space:normal;\"><font color=\"#9933ff\"><b>MEUH</b></font></div></div></foreignObject><text x=\"24\" y=\"17\" fill=\"#000000\" text-anchor=\"middle\" font-size=\"16px\" font-family=\"Comic Sans MS\">[Not supported by viewer]</text></switch></g></g></svg><svg xmlns=\"http://www.w3.org/2000/svg\" xmlns:xlink=\"http://www.w3.org/1999/xlink\" version=\"1.1\" width=\"90px\" height=\"103px\" viewBox=\"-0.5 -0.5 84 103\"><defs/><g><ellipse cx=\"42\" cy=\"42\" rx=\"40\" ry=\"40\" fill=\"none\" stroke=\"#ff8000\" stroke-width=\"4\" pointer-events=\"none\"/><g transform=\"translate(30.5,83.5)\"><switch><foreignObject style=\"overflow:visible;\" pointer-events=\"none\" width=\"23\" height=\"17\" requiredFeatures=\"http://www.w3.org/TR/SVG11/feature#Extensibility\"><div xmlns=\"http://www.w3.org/1999/xhtml\" style=\"display: inline-block; font-size: 16px; font-family: &quot;Comic Sans MS&quot;; color: rgb(0, 0, 0); line-height: 1.2; vertical-align: top; width: 24px; white-space: nowrap; overflow-wrap: normal; text-align: center;\"><div xmlns=\"http://www.w3.org/1999/xhtml\" style=\"display:inline-block;text-align:inherit;text-decoration:inherit;white-space:normal;\"><font color=\"#9933ff\"><b>GA</b></font></div></div></foreignObject><text x=\"12\" y=\"17\" fill=\"#000000\" text-anchor=\"middle\" font-size=\"16px\" font-family=\"Comic Sans MS\">[Not supported by viewer]</text></switch></g></g></svg><svg xmlns=\"http://www.w3.org/2000/svg\" xmlns:xlink=\"http://www.w3.org/1999/xlink\" version=\"1.1\" width=\"90px\" height=\"93px\" viewBox=\"-0.5 -0.5 85 93\"><defs/><g><path d=\"M 2 72 L 82 72\" fill=\"none\" stroke=\"#ff8000\" stroke-width=\"4\" stroke-miterlimit=\"10\" pointer-events=\"none\"/><path d=\"M 82 72 L 82 2\" fill=\"none\" stroke=\"#ff8000\" stroke-width=\"4\" stroke-miterlimit=\"10\" pointer-events=\"none\"/><g transform=\"translate(29.5,73.5)\"><switch><foreignObject style=\"overflow:visible;\" pointer-events=\"none\" width=\"24\" height=\"17\" requiredFeatures=\"http://www.w3.org/TR/SVG11/feature#Extensibility\"><div xmlns=\"http://www.w3.org/1999/xhtml\" style=\"display: inline-block; font-size: 16px; font-family: &quot;Comic Sans MS&quot;; color: rgb(0, 0, 0); line-height: 1.2; vertical-align: top; width: 25px; white-space: nowrap; overflow-wrap: normal; text-align: center;\"><div xmlns=\"http://www.w3.org/1999/xhtml\" style=\"display:inline-block;text-align:inherit;text-decoration:inherit;white-space:normal;\"><font color=\"#9933ff\"><b>ZO</b></font></div></div></foreignObject><text x=\"12\" y=\"17\" fill=\"#000000\" text-anchor=\"middle\" font-size=\"16px\" font-family=\"Comic Sans MS\">[Not supported by viewer]</text></switch></g></g></svg><svg xmlns=\"http://www.w3.org/2000/svg\" xmlns:xlink=\"http://www.w3.org/1999/xlink\" version=\"1.1\" width=\"90px\" height=\"103px\" viewBox=\"-0.5 -0.5 84 103\"><defs/><g><ellipse cx=\"42\" cy=\"42\" rx=\"40\" ry=\"40\" fill=\"none\" stroke=\"#ff8000\" stroke-width=\"4\" pointer-events=\"none\"/><g transform=\"translate(30.5,83.5)\"><switch><foreignObject style=\"overflow:visible;\" pointer-events=\"none\" width=\"23\" height=\"17\" requiredFeatures=\"http://www.w3.org/TR/SVG11/feature#Extensibility\"><div xmlns=\"http://www.w3.org/1999/xhtml\" style=\"display: inline-block; font-size: 16px; font-family: &quot;Comic Sans MS&quot;; color: rgb(0, 0, 0); line-height: 1.2; vertical-align: top; width: 24px; white-space: nowrap; overflow-wrap: normal; text-align: center;\"><div xmlns=\"http://www.w3.org/1999/xhtml\" style=\"display:inline-block;text-align:inherit;text-decoration:inherit;white-space:normal;\"><font color=\"#9933ff\"><b>GA</b></font></div></div></foreignObject><text x=\"12\" y=\"17\" fill=\"#000000\" text-anchor=\"middle\" font-size=\"16px\" font-family=\"Comic Sans MS\">[Not supported by viewer]</text></switch></g></g></svg><svg xmlns=\"http://www.w3.org/2000/svg\" xmlns:xlink=\"http://www.w3.org/1999/xlink\" version=\"1.1\" width=\"90px\" height=\"23px\" viewBox=\"-0.5 -0.5 85 23\"><defs/><g><path d=\"M 2 2 L 82 2\" fill=\"none\" stroke=\"#ff8000\" stroke-width=\"4\" stroke-miterlimit=\"10\" pointer-events=\"none\"/><g transform=\"translate(30.5,3.5)\"><switch><foreignObject style=\"overflow:visible;\" pointer-events=\"none\" width=\"22\" height=\"17\" requiredFeatures=\"http://www.w3.org/TR/SVG11/feature#Extensibility\"><div xmlns=\"http://www.w3.org/1999/xhtml\" style=\"display: inline-block; font-size: 16px; font-family: &quot;Comic Sans MS&quot;; color: rgb(0, 0, 0); line-height: 1.2; vertical-align: top; width: 23px; white-space: nowrap; overflow-wrap: normal; text-align: center;\"><div xmlns=\"http://www.w3.org/1999/xhtml\" style=\"display:inline-block;text-align:inherit;text-decoration:inherit;white-space:normal;\"><font color=\"#9933ff\"><b>BU</b></font></div></div></foreignObject><text x=\"11\" y=\"17\" fill=\"#000000\" text-anchor=\"middle\" font-size=\"16px\" font-family=\"Comic Sans MS\">[Not supported by viewer]</text></switch></g></g></svg></center>"
      ],
      "text/plain": [
       "<IPython.core.display.HTML object>"
      ]
     },
     "execution_count": 6,
     "metadata": {},
     "output_type": "execute_result"
    }
   ],
   "source": [
    "from IPython.display import HTML\n",
    "\n",
    "chaine = '<center><h3 style=\"color:darkorange;\">Et voici le résultat :</h3><br>'\n",
    "\n",
    "ga = '''<svg xmlns=\"http://www.w3.org/2000/svg\" xmlns:xlink=\"http://www.w3.org/1999/xlink\" version=\"1.1\" width=\"90px\" height=\"103px\" viewBox=\"-0.5 -0.5 84 103\"><defs/><g><ellipse cx=\"42\" cy=\"42\" rx=\"40\" ry=\"40\" fill=\"none\" stroke=\"#ff8000\" stroke-width=\"4\" pointer-events=\"none\"/><g transform=\"translate(30.5,83.5)\"><switch><foreignObject style=\"overflow:visible;\" pointer-events=\"none\" width=\"23\" height=\"17\" requiredFeatures=\"http://www.w3.org/TR/SVG11/feature#Extensibility\"><div xmlns=\"http://www.w3.org/1999/xhtml\" style=\"display: inline-block; font-size: 16px; font-family: &quot;Comic Sans MS&quot;; color: rgb(0, 0, 0); line-height: 1.2; vertical-align: top; width: 24px; white-space: nowrap; overflow-wrap: normal; text-align: center;\"><div xmlns=\"http://www.w3.org/1999/xhtml\" style=\"display:inline-block;text-align:inherit;text-decoration:inherit;white-space:normal;\"><font color=\"#9933ff\"><b>GA</b></font></div></div></foreignObject><text x=\"12\" y=\"17\" fill=\"#000000\" text-anchor=\"middle\" font-size=\"16px\" font-family=\"Comic Sans MS\">[Not supported by viewer]</text></switch></g></g></svg>'''\n",
    "\n",
    "bu = '''<svg xmlns=\"http://www.w3.org/2000/svg\" xmlns:xlink=\"http://www.w3.org/1999/xlink\" version=\"1.1\" width=\"90px\" height=\"23px\" viewBox=\"-0.5 -0.5 85 23\"><defs/><g><path d=\"M 2 2 L 82 2\" fill=\"none\" stroke=\"#ff8000\" stroke-width=\"4\" stroke-miterlimit=\"10\" pointer-events=\"none\"/><g transform=\"translate(30.5,3.5)\"><switch><foreignObject style=\"overflow:visible;\" pointer-events=\"none\" width=\"22\" height=\"17\" requiredFeatures=\"http://www.w3.org/TR/SVG11/feature#Extensibility\"><div xmlns=\"http://www.w3.org/1999/xhtml\" style=\"display: inline-block; font-size: 16px; font-family: &quot;Comic Sans MS&quot;; color: rgb(0, 0, 0); line-height: 1.2; vertical-align: top; width: 23px; white-space: nowrap; overflow-wrap: normal; text-align: center;\"><div xmlns=\"http://www.w3.org/1999/xhtml\" style=\"display:inline-block;text-align:inherit;text-decoration:inherit;white-space:normal;\"><font color=\"#9933ff\"><b>BU</b></font></div></div></foreignObject><text x=\"11\" y=\"17\" fill=\"#000000\" text-anchor=\"middle\" font-size=\"16px\" font-family=\"Comic Sans MS\">[Not supported by viewer]</text></switch></g></g></svg>'''\n",
    "\n",
    "zo ='''<svg xmlns=\"http://www.w3.org/2000/svg\" xmlns:xlink=\"http://www.w3.org/1999/xlink\" version=\"1.1\" width=\"90px\" height=\"93px\" viewBox=\"-0.5 -0.5 85 93\"><defs/><g><path d=\"M 2 72 L 82 72\" fill=\"none\" stroke=\"#ff8000\" stroke-width=\"4\" stroke-miterlimit=\"10\" pointer-events=\"none\"/><path d=\"M 82 72 L 82 2\" fill=\"none\" stroke=\"#ff8000\" stroke-width=\"4\" stroke-miterlimit=\"10\" pointer-events=\"none\"/><g transform=\"translate(29.5,73.5)\"><switch><foreignObject style=\"overflow:visible;\" pointer-events=\"none\" width=\"24\" height=\"17\" requiredFeatures=\"http://www.w3.org/TR/SVG11/feature#Extensibility\"><div xmlns=\"http://www.w3.org/1999/xhtml\" style=\"display: inline-block; font-size: 16px; font-family: &quot;Comic Sans MS&quot;; color: rgb(0, 0, 0); line-height: 1.2; vertical-align: top; width: 25px; white-space: nowrap; overflow-wrap: normal; text-align: center;\"><div xmlns=\"http://www.w3.org/1999/xhtml\" style=\"display:inline-block;text-align:inherit;text-decoration:inherit;white-space:normal;\"><font color=\"#9933ff\"><b>ZO</b></font></div></div></foreignObject><text x=\"12\" y=\"17\" fill=\"#000000\" text-anchor=\"middle\" font-size=\"16px\" font-family=\"Comic Sans MS\">[Not supported by viewer]</text></switch></g></g></svg>'''\n",
    "\n",
    "meuh = '''<svg xmlns=\"http://www.w3.org/2000/svg\" xmlns:xlink=\"http://www.w3.org/1999/xlink\" version=\"1.1\" width=\"90px\" height=\"93px\" viewBox=\"-0.5 -0.5 85 93\"><defs/><g><path d=\"M 2 72 L 82 72\" fill=\"none\" stroke=\"#ff8000\" stroke-width=\"4\" stroke-miterlimit=\"10\" pointer-events=\"none\"/><path d=\"M 82 2 L 82 72\" fill=\"none\" stroke=\"#ff8000\" stroke-width=\"4\" stroke-miterlimit=\"10\" pointer-events=\"none\"/><path d=\"M 2 72 L 82 2\" fill=\"none\" stroke=\"#ff8000\" stroke-width=\"4\" stroke-miterlimit=\"10\" pointer-events=\"none\"/><g transform=\"translate(17.5,73.5)\"><switch><foreignObject style=\"overflow:visible;\" pointer-events=\"none\" width=\"48\" height=\"17\" requiredFeatures=\"http://www.w3.org/TR/SVG11/feature#Extensibility\"><div xmlns=\"http://www.w3.org/1999/xhtml\" style=\"display: inline-block; font-size: 16px; font-family: &quot;Comic Sans MS&quot;; color: rgb(0, 0, 0); line-height: 1.2; vertical-align: top; width: 49px; white-space: nowrap; overflow-wrap: normal; text-align: center;\"><div xmlns=\"http://www.w3.org/1999/xhtml\" style=\"display:inline-block;text-align:inherit;text-decoration:inherit;white-space:normal;\"><font color=\"#9933ff\"><b>MEUH</b></font></div></div></foreignObject><text x=\"24\" y=\"17\" fill=\"#000000\" text-anchor=\"middle\" font-size=\"16px\" font-family=\"Comic Sans MS\">[Not supported by viewer]</text></switch></g></g></svg>'''\n",
    "\n",
    "HTML(chaine + meuh + ga + zo + ga + bu +'</center>')"
   ]
  },
  {
   "cell_type": "markdown",
   "metadata": {},
   "source": [
    "## Ressources :\n",
    "\n",
    "- https://ipython.readthedocs.io/en/stable/api/generated/IPython.display.html"
   ]
  }
 ],
 "metadata": {
  "gist": {
   "data": {
    "description": "Documents/1NSI_2019-2020/Untitled.ipynb",
    "public": true
   },
   "id": ""
  },
  "hide_input": false,
  "kernelspec": {
   "display_name": "Python 3.10.7 64-bit",
   "language": "python",
   "name": "python3"
  },
  "language_info": {
   "codemirror_mode": {
    "name": "ipython",
    "version": 3
   },
   "file_extension": ".py",
   "mimetype": "text/x-python",
   "name": "python",
   "nbconvert_exporter": "python",
   "pygments_lexer": "ipython3",
   "version": "3.10.7"
  },
  "toc": {
   "base_numbering": 1,
   "nav_menu": {},
   "number_sections": true,
   "sideBar": true,
   "skip_h1_title": false,
   "title_cell": "Table of Contents",
   "title_sidebar": "Contents",
   "toc_cell": false,
   "toc_position": {},
   "toc_section_display": true,
   "toc_window_display": false
  },
  "varInspector": {
   "cols": {
    "lenName": 16,
    "lenType": 16,
    "lenVar": 40
   },
   "kernels_config": {
    "python": {
     "delete_cmd_postfix": "",
     "delete_cmd_prefix": "del ",
     "library": "var_list.py",
     "varRefreshCmd": "print(var_dic_list())"
    },
    "r": {
     "delete_cmd_postfix": ") ",
     "delete_cmd_prefix": "rm(",
     "library": "var_list.r",
     "varRefreshCmd": "cat(var_dic_list()) "
    }
   },
   "types_to_exclude": [
    "module",
    "function",
    "builtin_function_or_method",
    "instance",
    "_Feature"
   ],
   "window_display": false
  },
  "vscode": {
   "interpreter": {
    "hash": "64ae21ee98cd2819759ae8f1351a2318f24a930180cc2089820c6cf2e3aa9781"
   }
  }
 },
 "nbformat": 4,
 "nbformat_minor": 2
}
