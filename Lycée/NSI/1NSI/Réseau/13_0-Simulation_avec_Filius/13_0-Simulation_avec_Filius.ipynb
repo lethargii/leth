{
 "cells": [
  {
   "cell_type": "markdown",
   "metadata": {},
   "source": [
    "# Filius"
   ]
  },
  {
   "cell_type": "markdown",
   "metadata": {},
   "source": [
    "# Simulation d'un réseau avec le logiciel FILIUS\n",
    "\n",
    "Il peut être fastidieux de mettre en place tout un réseau pour n'effectuer que quelques tests. À la place, nous allons utiliser un simulateur de réseau relativement simple à prendre en main, mais suffisamment performant.\n",
    "\n",
    "<h3 class='fa fa-graduation-cap' style=\"color: MediumSeaGreen\"> A faire vous même n°0 :</h3>\n",
    "\n",
    "- Si ce n'est pas déjà fait, **télécharger** puis **installer** la dernière version de [Filius](https://www.lernsoftware-filius.de/Herunterladen) *(la page web est en Allemand, mais le logiciel est aussi disponible en Anglais et en Français)*...\n",
    "\n",
    "\n",
    "<h3 class='fa fa-graduation-cap' style=\"color: MediumSeaGreen\"> A faire vous même n°1 :</h3>\n",
    "\n",
    "- **Prendre** en main le logiciel Filius à l'aide de la vidéo suivante proposée par David ROCHE :"
   ]
  },
  {
   "cell_type": "code",
   "execution_count": 1,
   "metadata": {},
   "outputs": [
    {
     "data": {
      "text/html": [
       "<center>\n",
       "    <iframe width=\"560\" height=\"315\" src=\"https://www.youtube-nocookie.com/embed/nzuRSOwdF5I\" frameborder=\"0\" allow=\"accelerometer; autoplay; clipboard-write; encrypted-media; gyroscope; picture-in-picture\" allowfullscreen></iframe>\n",
       "</center>\n"
      ],
      "text/plain": [
       "<IPython.core.display.HTML object>"
      ]
     },
     "metadata": {},
     "output_type": "display_data"
    }
   ],
   "source": [
    "%%HTML\n",
    "<center>\n",
    "    <iframe width=\"560\" height=\"315\" src=\"https://www.youtube-nocookie.com/embed/nzuRSOwdF5I\" frameborder=\"0\" allow=\"accelerometer; autoplay; clipboard-write; encrypted-media; gyroscope; picture-in-picture\" allowfullscreen></iframe>\n",
    "</center>"
   ]
  },
  {
   "cell_type": "markdown",
   "metadata": {},
   "source": [
    "<h3 class='fa fa-graduation-cap' style=\"color: MediumSeaGreen\"> A faire vous même n°2 :</h3>\n",
    "\n",
    "- En utilisant le logiciel Filius, **créer** un réseau de 4 machines (M1, M2, M3 et M4). L'adresse IP de la machine M1 est \"192.168.1.1\", choisissez les adresses IP des machines M2, M3 et M4.\n",
    "\n",
    "- **Effectuer** un \"ipconfig\" sur la machine \"M1\" afin de vérifier son adresse IP et de **déterminer** son adresse MAC (adresse physique)\n",
    "\n",
    "- **Effectuer** un \"ping\" de la machine M2 vers la machine M4.\n",
    "\n",
    "\n",
    "<h3 class='fa fa-graduation-cap' style=\"color: darkorange\"> A faire vous même n°3 :</h3>\n",
    "\n",
    "- **Télécharger** le fichier [communication.fls](../ommunication.fls) puis l'**ouvrir** dans Filius. Ce réseau miniature contient deux ordinateurs et un serveur web.\n",
    "- en mode simulation (flèche verte), depuis l'ordinateur de Bob, par un clic droit **afficher les échanges de données** et par un clic gauche en ligne de commande **lancer** un ping vers l'ordinateur d'Alice...\n",
    "- **Expliquer** le rôle des trames de communication alors observées :\n",
    "\n",
    "Le premier ordinateur demande l'adresse MAC et le deuxième lui répond.\n",
    "\n",
    "Ils vont ensuite faire un ping et échanger plusieurs paquets.\n",
    "\n",
    "- **Faire** un clic droit sur les tables d'échanges de données pour les **vider**.\n",
    "\n",
    "-  **Démarrer** le Navigateur web sur l'ordinateur de Bob et **saisir** l'adresse IP du ServeurWeb dans la barre d'URL...\n",
    "- **Expliquer** le rôle des trames de communication alors observées :\n",
    "\n",
    "L'ordinateur de Bob établie le contact avec le serveur web.\n",
    "\n",
    "Ensuite le serveur envoie les paquets du site à Bob.\n",
    "\n",
    "- **Ouvrir** dans l'éditeur de texte sur le serveur le fichier `index.html` du dossier `webserver` afin de remplacer dans la balise `<img>` le fichier image source par `src=\"tux-ski.jpg\"` puis **rafraichir** l'affichage de cette page web dans le navigateur de l'ordinateur de Bob. **Décrire** les différences avec les échanges de données précédemment observées :      \n",
    "\n",
    "Le serveur renvoie la nouvelle image.\n",
    "\n",
    "- **Recommencer** la dernière manipulation mais en faisant une erreur sur le nom du fichier image ; **Observer** alors les communications :\n",
    "\n",
    "Le serveur envoie le site web mais pas l'image car il ne la trouve pas.\n",
    "\n",
    "<h3 class='fa fa-rocket' style=\"color: tomato\"> A faire vous même n°4 :</h3>\n",
    "\n",
    "- Indiquer quel dispositif minimal est nécessaire pour établir la communication entre deux machines ?\n",
    "\n",
    "Un cable.\n",
    "\n",
    "- Indiquer quel dispositif est nécessaire pour établir la communication entre trois machines ?\n",
    "\n",
    "Un switch.\n",
    "\n",
    "- Indiquer quel dispositif permet d'interconnecter des réseaux entre eux ?\n",
    "\n",
    "Un routeur.\n",
    "\n",
    "- Que permet un DHCP ? L'ajouter à votre réseau...\n",
    "\n",
    "Un DHCP (Dynamic Host Configuration Protocol) est un protocol permettant d'avoir automatiquement une configuration réseau pour une machine.\n",
    "\n",
    "- Que permet un DNS ? L'ajouter à votre réseau...\n",
    "\n",
    "Un DNS (Domain Name System) permet de traduire une adresse IP en nom de domaine.\n",
    "\n",
    "- Développer votre mini réseau Internet...\n"
   ]
  },
  {
   "cell_type": "code",
   "execution_count": null,
   "metadata": {},
   "outputs": [],
   "source": []
  }
 ],
 "metadata": {
  "kernelspec": {
   "display_name": "Python 3.10.7 64-bit",
   "language": "python",
   "name": "python3"
  },
  "language_info": {
   "codemirror_mode": {
    "name": "ipython",
    "version": 3
   },
   "file_extension": ".py",
   "mimetype": "text/x-python",
   "name": "python",
   "nbconvert_exporter": "python",
   "pygments_lexer": "ipython3",
   "version": "3.10.7"
  },
  "toc": {
   "base_numbering": 1,
   "nav_menu": {},
   "number_sections": true,
   "sideBar": true,
   "skip_h1_title": false,
   "title_cell": "Table of Contents",
   "title_sidebar": "Contents",
   "toc_cell": false,
   "toc_position": {},
   "toc_section_display": true,
   "toc_window_display": false
  },
  "varInspector": {
   "cols": {
    "lenName": 16,
    "lenType": 16,
    "lenVar": 40
   },
   "kernels_config": {
    "python": {
     "delete_cmd_postfix": "",
     "delete_cmd_prefix": "del ",
     "library": "var_list.py",
     "varRefreshCmd": "print(var_dic_list())"
    },
    "r": {
     "delete_cmd_postfix": ") ",
     "delete_cmd_prefix": "rm(",
     "library": "var_list.r",
     "varRefreshCmd": "cat(var_dic_list()) "
    }
   },
   "types_to_exclude": [
    "module",
    "function",
    "builtin_function_or_method",
    "instance",
    "_Feature"
   ],
   "window_display": false
  },
  "vscode": {
   "interpreter": {
    "hash": "64ae21ee98cd2819759ae8f1351a2318f24a930180cc2089820c6cf2e3aa9781"
   }
  }
 },
 "nbformat": 4,
 "nbformat_minor": 4
}
