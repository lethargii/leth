{
 "cells": [
  {
   "cell_type": "markdown",
   "metadata": {},
   "source": [
    "# Algorithmique_Complexite"
   ]
  },
  {
   "cell_type": "markdown",
   "metadata": {},
   "source": [
    "# Algorithmique et complexité :\n",
    "\n",
    "<h2 class='fa fa-graduation-cap' style=\"color: MediumSeaGreen\"> A faire vous même :</h2>\n",
    "\n",
    "Lire la page [Introduction à l'algorithmique](https://pixees.fr/informatiquelycee/n_site/nsi_prem_intro_algo.html) proposée par David ROCHE puis répondre aux questions suivantes :"
   ]
  },
  {
   "cell_type": "markdown",
   "metadata": {},
   "source": [
    "- A qui attribue-t-on les premiers algorithmes :\n",
    "\n",
    "On attribue les premiers algorithmes à al-Khuwārizmī."
   ]
  },
  {
   "cell_type": "markdown",
   "metadata": {},
   "source": [
    "- Qu'est-ce qu'un algorithme ? Proposez une définition :\n",
    "\n",
    "Déf : Procédure de calcul bien définie qui prend en entrée une valeur ou un ensemble de valeur, et qui donne en sortie une valeur ou un ensemble de valeur."
   ]
  },
  {
   "cell_type": "markdown",
   "metadata": {},
   "source": [
    "- Dans quel langage exprime-t-on un algorithme :\n",
    "\n",
    "On exprime un algorithme dans un langage naturel."
   ]
  },
  {
   "cell_type": "markdown",
   "metadata": {},
   "source": [
    "- Rechercher sur le Web ce qu'est un algorigramme ? Proposez des synonymes puis collez ci-dessous un lien hypertexte, une image d'un exemple d'algorigramme :\n",
    "\n",
    "Un algorigramme est la représentation graphique d'un algorithme. On a comme synonyme organigramme de programmation.  \n",
    "[Qu'est-ce qu'un algorigramme ?](https://www.lucidchart.com/pages/fr/algorigramme)\n",
    "![exemple d'algorigramme](exemple.png)"
   ]
  },
  {
   "cell_type": "markdown",
   "metadata": {},
   "source": [
    "- Que devez vous faire si on vous demande d'implémenter un algorithme ?\n",
    "\n",
    "On demande d'écrire l'algorithme dans un langage de programmation exécutable par une machine."
   ]
  },
  {
   "cell_type": "markdown",
   "metadata": {},
   "source": [
    "- Qu'est-ce que la complexité d'un algorithme ?\n",
    "\n",
    "La complexité d'un algorithme, c'est son efficacité."
   ]
  },
  {
   "cell_type": "markdown",
   "metadata": {},
   "source": [
    "- Quels types de complexité distingue-t-on pour un algorithme ?\n",
    "\n",
    "On distingue la complexité en temps et la complexité en mémoire."
   ]
  },
  {
   "cell_type": "markdown",
   "metadata": {},
   "source": [
    "- Comment mesure-t-on la complexité d'un algorithme ?\n",
    "\n",
    "En calculant le nombre d'opérations élémentaires effectuées par l'algorithme."
   ]
  },
  {
   "cell_type": "markdown",
   "metadata": {},
   "source": [
    "- A quoi correspond la complexité du pire des cas ?\n",
    "\n",
    "3n + 5 = O(n)"
   ]
  },
  {
   "cell_type": "markdown",
   "metadata": {},
   "source": [
    "<h2 class='fa fa-code' style=\"color: darkorange\"> A coder vous même :</h2>\n",
    "\n",
    "### Implémenter l'algorithme suivant dans une fonction en Python :\n",
    "\n",
    "> /!\\ en Python le premier élément d'un tableau a pour indice 0\n",
    "\n",
    "```pseudocode\n",
    "VARIABLE\n",
    "t : tableau d'entiers\n",
    "x : nombre entier\n",
    "tr : booléen (VRAI ou FAUX)\n",
    "i : nombre entier\n",
    "DEBUT\n",
    "tr ← FAUX\n",
    "i ← 1\n",
    "tant que i<=longueur(t) et que tr==FAUX:\n",
    "  si t[i]==x:\n",
    "    tr ← VRAI\n",
    "  fin si\n",
    "  i ← i+1\n",
    "fin tant que\n",
    "renvoyer la valeur de tr\n",
    "FIN\n",
    "```"
   ]
  },
  {
   "cell_type": "code",
   "execution_count": 2,
   "metadata": {},
   "outputs": [],
   "source": [
    "def maFonction(t, x) :\n",
    "    tr = False\n",
    "    i = 0\n",
    "    while i <= len(t)-1 and tr == False:\n",
    "        if t[i] == x:\n",
    "            tr = True\n",
    "        i += 1    \n",
    "    return tr"
   ]
  },
  {
   "cell_type": "markdown",
   "metadata": {},
   "source": [
    "### Vérifier le bon fonctionnement de votre fonction :"
   ]
  },
  {
   "cell_type": "code",
   "execution_count": 7,
   "metadata": {},
   "outputs": [
    {
     "data": {
      "text/plain": [
       "True"
      ]
     },
     "execution_count": 7,
     "metadata": {},
     "output_type": "execute_result"
    }
   ],
   "source": [
    "maFonction([5,8,15,53], 15)"
   ]
  },
  {
   "cell_type": "code",
   "execution_count": 8,
   "metadata": {},
   "outputs": [
    {
     "data": {
      "text/plain": [
       "False"
      ]
     },
     "execution_count": 8,
     "metadata": {},
     "output_type": "execute_result"
    }
   ],
   "source": [
    "maFonction([5,8,15,53], 12)"
   ]
  },
  {
   "cell_type": "markdown",
   "metadata": {},
   "source": [
    "### Puis mesurer le temps d'exécution de votre programme avec `timeit` :"
   ]
  },
  {
   "cell_type": "code",
   "execution_count": 9,
   "metadata": {},
   "outputs": [
    {
     "name": "stdout",
     "output_type": "stream",
     "text": [
      "1.16 µs ± 0.617 ns per loop (mean ± std. dev. of 7 runs, 1000000 loops each)\n"
     ]
    }
   ],
   "source": [
    "%timeit maFonction([5,8,15,53], 15)"
   ]
  },
  {
   "cell_type": "code",
   "execution_count": 10,
   "metadata": {},
   "outputs": [
    {
     "name": "stdout",
     "output_type": "stream",
     "text": [
      "1.39 µs ± 2.5 ns per loop (mean ± std. dev. of 7 runs, 1000000 loops each)\n"
     ]
    }
   ],
   "source": [
    "%timeit maFonction([5,8,15,53], 12)"
   ]
  },
  {
   "cell_type": "code",
   "execution_count": 11,
   "metadata": {},
   "outputs": [
    {
     "name": "stdout",
     "output_type": "stream",
     "text": [
      "657 ns ± 0.832 ns per loop (mean ± std. dev. of 7 runs, 1000000 loops each)\n"
     ]
    }
   ],
   "source": [
    "%timeit maFonction([5,8,15,53], 5)"
   ]
  },
  {
   "cell_type": "markdown",
   "metadata": {},
   "source": [
    "Est-ce que ces résultats sont logiques ? Expliquez pourquoi ?\n",
    "\n",
    "Ces résultats sont logiques car plus on fait de calculs plus le programme prend du temps à s'exécuter."
   ]
  },
  {
   "cell_type": "markdown",
   "metadata": {},
   "source": [
    "Mesurez le temps d'exécution de votre programme pour des tableaux de plus grande dimension.\n",
    "\n",
    "Est-ce que ces résultats vérifient l'ordre de grandeur de sa complexité ?\n",
    "\n",
    "Oui."
   ]
  },
  {
   "cell_type": "code",
   "execution_count": 3,
   "metadata": {},
   "outputs": [
    {
     "name": "stdout",
     "output_type": "stream",
     "text": [
      "1.36 µs ± 0.772 ns per loop (mean ± std. dev. of 7 runs, 1000000 loops each)\n"
     ]
    }
   ],
   "source": [
    "%timeit maFonction([5,8,15,53]*5, 15)"
   ]
  },
  {
   "cell_type": "code",
   "execution_count": 4,
   "metadata": {},
   "outputs": [
    {
     "name": "stdout",
     "output_type": "stream",
     "text": [
      "5.71 µs ± 1.9 ns per loop (mean ± std. dev. of 7 runs, 100000 loops each)\n"
     ]
    }
   ],
   "source": [
    "%timeit maFonction([5,8,15,53]*5, 12)"
   ]
  },
  {
   "cell_type": "code",
   "execution_count": 5,
   "metadata": {},
   "outputs": [
    {
     "name": "stdout",
     "output_type": "stream",
     "text": [
      "842 ns ± 2.58 ns per loop (mean ± std. dev. of 7 runs, 1000000 loops each)\n"
     ]
    }
   ],
   "source": [
    "%timeit maFonction([5,8,15,53]*5, 5)"
   ]
  },
  {
   "cell_type": "markdown",
   "metadata": {},
   "source": [
    "<h2 class='fa fa-cogs' style=\"color: tomato\"> A faire vous même :</h2>"
   ]
  },
  {
   "cell_type": "markdown",
   "metadata": {},
   "source": [
    "Écrivez un algorithme permettant de trouver le plus grand entier présent dans un tableau.\n",
    "\n",
    "\n",
    "```pseudocode\n",
    "VARIABLE\n",
    "t : tableau d'entiers\n",
    "nb : nombre entier\n",
    "i : nombre entier\n",
    "DEBUT\n",
    "nb <- t[1]\n",
    "i <- 1\n",
    "tant que i<=longueur(t):\n",
    "    si t[i]>=nb:\n",
    "        nb <- t[i]\n",
    "    fin si\n",
    "    i ← i+1\n",
    "fin tant que\n",
    "renvoyer la valeur de nb\n",
    "FIN\n",
    "```\n",
    "\n",
    "Vous ferez \"tourner à la main\" votre algorithme en utilisant le tableau `t = [3,5,1,8,4,2]`.\n",
    "\n",
    "Vous déterminerez ensuite la complexité de votre algorithme.\n",
    "\n",
    "Enfin programmez une fonction Python correspondante à votre algorithme puis mesurez son temps d'exécution et vérifiez sa complexité..."
   ]
  },
  {
   "cell_type": "code",
   "execution_count": 3,
   "metadata": {},
   "outputs": [],
   "source": [
    "def valeur_max(tab):\n",
    "    valeur_max = 0\n",
    "    i=0\n",
    "    while i<len(tab):\n",
    "        if tab[i] >= valeur_max:\n",
    "            valeur_max = tab[i]\n",
    "        i += 1\n",
    "    return valeur_max"
   ]
  },
  {
   "cell_type": "code",
   "execution_count": 5,
   "metadata": {},
   "outputs": [
    {
     "data": {
      "text/plain": [
       "10"
      ]
     },
     "execution_count": 5,
     "metadata": {},
     "output_type": "execute_result"
    }
   ],
   "source": [
    "valeur_max([3,5,1,8,4,10])"
   ]
  },
  {
   "cell_type": "markdown",
   "metadata": {},
   "source": [
    "<h2 class='fa fa-cogs' style=\"color: tomato\"> A faire vous même :</h2>"
   ]
  },
  {
   "cell_type": "markdown",
   "metadata": {},
   "source": [
    "Écrivez un algorithme permettant de calculer la moyenne de tous les entiers présents dans un tableau.\n",
    "\n",
    "```pseudocode\n",
    "VARIABLE\n",
    "t : tableau d'entiers\n",
    "s : nombre entier\n",
    "i : nombre entier\n",
    "DEBUT\n",
    "s <- 0\n",
    "i <- 1\n",
    "tant que i<=longueur(t):\n",
    "    si t[i]>=s:\n",
    "        s <- t[i]\n",
    "    fin si\n",
    "    i ← i+1\n",
    "fin tant que\n",
    "renvoyer la valeur de s divisée par longueur(t)\n",
    "FIN\n",
    "```\n",
    "\n",
    "Vous ferez \"tourner à la main\" votre algorithme en utilisant le tableau `t = [3,5,1,8,4,2]`.\n",
    "\n",
    "Vous déterminerez ensuite la complexité de votre algorithme.\n",
    "\n",
    "Enfin programmez une fonction Python correspondante à votre algorithme puis mesurez son temps d'exécution et vérifiez sa complexité..."
   ]
  },
  {
   "cell_type": "code",
   "execution_count": null,
   "metadata": {},
   "outputs": [],
   "source": [
    "def somme(tab):\n",
    "    somme = 0\n",
    "    i = 0\n",
    "    while i<len(tab):\n",
    "        somme += tab[i]\n",
    "    return somme\n",
    "def moyenne(tab):\n",
    "    return somme(tab)/len(tab)"
   ]
  },
  {
   "cell_type": "code",
   "execution_count": null,
   "metadata": {},
   "outputs": [],
   "source": [
    "moyenne([3,5,1,8,4,2])"
   ]
  },
  {
   "cell_type": "markdown",
   "metadata": {},
   "source": [
    "****\n",
    "## Références aux programmes :\n",
    "\n",
    "<style type=\"text/css\">\n",
    ".tg  {border-collapse:collapse;border-spacing:0;}\n",
    ".tg td{font-family:Arial, sans-serif;font-size:14px;padding:10px 5px;border-style:solid;border-width:1px;overflow:hidden;word-break:normal;border-color:black;}\n",
    ".tg th{font-family:Arial, sans-serif;font-size:14px;font-weight:normal;padding:10px 5px;border-style:solid;border-width:1px;overflow:hidden;word-break:normal;border-color:black;}\n",
    ".tg .tg-cv16{font-weight:bold;background-color:#dae8fc;border-color:inherit;text-align:center}\n",
    ".tg .tg-xldj{border-color:inherit;text-align:left}\n",
    "</style>\n",
    "\n",
    "<table class=\"tg\">\n",
    "  <tr>\n",
    "    <th class=\"tg-cv16\">Contenus</th>\n",
    "    <th class=\"tg-cv16\">Capacités attendues</th>\n",
    "    <th class=\"tg-cv16\">Commentaires</th>\n",
    "  </tr>\n",
    "  \n",
    "  <tr>\n",
    "    <td class=\"tg-xldj\">Parcours séquentiel d’un tableau</td>\n",
    "    <td class=\"tg-xldj\">Écrire un algorithme de recherche d’une occurrence sur des valeurs de type quelconque.<br>Écrire un algorithme de recherche d’un extremum, de calcul d’une moyenne.</td>\n",
    "    <td class=\"tg-xldj\">On montre que le coût est linéaire.</td>\n",
    "  </tr>\n",
    "    \n",
    "</table>"
   ]
  },
  {
   "cell_type": "markdown",
   "metadata": {},
   "source": [
    "## Ressources :\n",
    "\n",
    "Pour mesurer un temps d'exécution, Python dispose d'une bibliothèque dédiée : [timeit](https://docs.python.org/3.8/library/timeit)"
   ]
  },
  {
   "cell_type": "markdown",
   "metadata": {},
   "source": [
    "Dans jupyter :\n",
    "\n",
    "```python\n",
    "%timeit ma_fonction()\n",
    "```\n",
    "\n",
    "ou \n",
    "\n",
    "```python\n",
    "%%timeit\n",
    "i,r = 0,1\n",
    "n = 5\n",
    "while i <= n:\n",
    "    i = i + 1\n",
    "    r = r*i\n",
    "```\n",
    "\n",
    "Afficher l'aide :"
   ]
  },
  {
   "cell_type": "code",
   "execution_count": null,
   "metadata": {},
   "outputs": [],
   "source": [
    "?timeit"
   ]
  },
  {
   "cell_type": "markdown",
   "metadata": {},
   "source": [
    "<a rel=\"license\" href=\"http://creativecommons.org/licenses/by-sa/4.0/\"><img alt=\"Licence Creative Commons\" style=\"border-width:0\" src=\"https://i.creativecommons.org/l/by-sa/4.0/88x31.png\" /></a><br />Ce document, basé sur le travail de [David ROCHE](https://pixees.fr/informatiquelycee/n_site/nsi_prem.html), est mis à disposition selon les termes de la <a rel=\"license\" href=\"http://creativecommons.org/licenses/by-sa/4.0/\">Licence Creative Commons Attribution -  Partage dans les Mêmes Conditions 4.0 International</a>.\n",
    "\n",
    "Pour toute question, suggestion ou commentaire : <a href=\"mailto:eric.madec@ecmorlaix.fr\">eric.madec@ecmorlaix.fr</a>"
   ]
  },
  {
   "cell_type": "code",
   "execution_count": null,
   "metadata": {},
   "outputs": [],
   "source": []
  }
 ],
 "metadata": {
  "kernelspec": {
   "display_name": "Python 3.10.7 64-bit",
   "language": "python",
   "name": "python3"
  },
  "language_info": {
   "codemirror_mode": {
    "name": "ipython",
    "version": 3
   },
   "file_extension": ".py",
   "mimetype": "text/x-python",
   "name": "python",
   "nbconvert_exporter": "python",
   "pygments_lexer": "ipython3",
   "version": "3.10.7"
  },
  "toc": {
   "base_numbering": 1,
   "nav_menu": {},
   "number_sections": true,
   "sideBar": true,
   "skip_h1_title": false,
   "title_cell": "Table of Contents",
   "title_sidebar": "Contents",
   "toc_cell": false,
   "toc_position": {},
   "toc_section_display": true,
   "toc_window_display": false
  },
  "varInspector": {
   "cols": {
    "lenName": 16,
    "lenType": 16,
    "lenVar": 40
   },
   "kernels_config": {
    "python": {
     "delete_cmd_postfix": "",
     "delete_cmd_prefix": "del ",
     "library": "var_list.py",
     "varRefreshCmd": "print(var_dic_list())"
    },
    "r": {
     "delete_cmd_postfix": ") ",
     "delete_cmd_prefix": "rm(",
     "library": "var_list.r",
     "varRefreshCmd": "cat(var_dic_list()) "
    }
   },
   "types_to_exclude": [
    "module",
    "function",
    "builtin_function_or_method",
    "instance",
    "_Feature"
   ],
   "window_display": false
  },
  "vscode": {
   "interpreter": {
    "hash": "64ae21ee98cd2819759ae8f1351a2318f24a930180cc2089820c6cf2e3aa9781"
   }
  }
 },
 "nbformat": 4,
 "nbformat_minor": 2
}
