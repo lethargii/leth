{
 "cells": [
  {
   "cell_type": "markdown",
   "metadata": {},
   "source": [
    "# Bases de python 3"
   ]
  },
  {
   "cell_type": "markdown",
   "metadata": {},
   "source": [
    "### Opérateurs et chaines de caractère"
   ]
  },
  {
   "cell_type": "code",
   "execution_count": 3,
   "metadata": {},
   "outputs": [
    {
     "data": {
      "text/plain": [
       "(6, 18, 7, 63)"
      ]
     },
     "execution_count": 3,
     "metadata": {},
     "output_type": "execute_result"
    }
   ],
   "source": [
    "'''Avec python on peut effectuer des calculs simples avec des opérateurs comme + - * /...'''\n",
    "3+3,9*2,14-7,21*3"
   ]
  },
  {
   "cell_type": "code",
   "execution_count": 4,
   "metadata": {},
   "outputs": [
    {
     "data": {
      "text/plain": [
       "('caillou', 'arbre', 'rivière')"
      ]
     },
     "execution_count": 4,
     "metadata": {},
     "output_type": "execute_result"
    }
   ],
   "source": [
    "'''On peut aussi écrire du texte grâce aux chaines de caractères'''\n",
    "'caillou','arbre','rivière'"
   ]
  },
  {
   "cell_type": "code",
   "execution_count": 5,
   "metadata": {},
   "outputs": [
    {
     "data": {
      "text/plain": [
       "'caillouarbrerivière'"
      ]
     },
     "execution_count": 5,
     "metadata": {},
     "output_type": "execute_result"
    }
   ],
   "source": [
    "'''On peut aussi concaténer des chaînes de caractère c'est à dire les coller pour ne former qu'une seule chaîne de caractères'''\n",
    "'caillou'+'arbre'+'rivière'"
   ]
  },
  {
   "cell_type": "code",
   "execution_count": 6,
   "metadata": {},
   "outputs": [
    {
     "data": {
      "text/plain": [
       "'caillou arbre rivière'"
      ]
     },
     "execution_count": 6,
     "metadata": {},
     "output_type": "execute_result"
    }
   ],
   "source": [
    "'''On remarque que les chaînes sont collés directement, qu'il n'y a pas d'espaces entre les mots. Il faut les rajouter par nous-mêmes.'''\n",
    "'caillou '+'arbre '+'rivière'"
   ]
  },
  {
   "cell_type": "code",
   "execution_count": 11,
   "metadata": {},
   "outputs": [
    {
     "ename": "SyntaxError",
     "evalue": "invalid syntax (131169360.py, line 3)",
     "output_type": "error",
     "traceback": [
      "\u001b[0;36m  Input \u001b[0;32mIn [11]\u001b[0;36m\u001b[0m\n\u001b[0;31m    print(\"Un jour, un homme dit : Python c'est\"bon\"\")\u001b[0m\n\u001b[0m                                                ^\u001b[0m\n\u001b[0;31mSyntaxError\u001b[0m\u001b[0;31m:\u001b[0m invalid syntax\n"
     ]
    }
   ],
   "source": [
    "'''On peut écrire des chaïnes de caractères avec des guillemets simples ou doubles si la chaîne que l'on veut écrire contient des guillemets.'''\n",
    "print(\"C'est une \" + '\"chaîne de caractères\"')\n",
    "print(\"Un jour, un homme dit : Python c'est\"bon\"\")"
   ]
  },
  {
   "cell_type": "code",
   "execution_count": 2,
   "metadata": {},
   "outputs": [
    {
     "name": "stdout",
     "output_type": "stream",
     "text": [
      "Je m'appelle Lucien et j'ai 17 ans.\n"
     ]
    }
   ],
   "source": [
    "'''Pour créer facilement des chaînes à partir d'autres éléments il existe les f-strings'''\n",
    "prenom = 'Lucien'\n",
    "age = 17\n",
    "print(f\"Je m'appelle {prenom} et j'ai {age} ans.\")"
   ]
  },
  {
   "cell_type": "code",
   "execution_count": 3,
   "metadata": {},
   "outputs": [
    {
     "data": {
      "text/plain": [
       "'C'"
      ]
     },
     "execution_count": 3,
     "metadata": {},
     "output_type": "execute_result"
    }
   ],
   "source": [
    "'''Il est possible de parcourir les caractères d'une chaînes par ses indices'''\n",
    "mot = 'Chat'\n",
    "mot[0]"
   ]
  },
  {
   "cell_type": "markdown",
   "metadata": {},
   "source": [
    "### Variables"
   ]
  },
  {
   "cell_type": "code",
   "execution_count": 7,
   "metadata": {},
   "outputs": [
    {
     "data": {
      "text/plain": [
       "'Lucien'"
      ]
     },
     "execution_count": 7,
     "metadata": {},
     "output_type": "execute_result"
    }
   ],
   "source": [
    "'''Il y a la possibilité de créer des variables qui va contenir un nombre, des chaînes de caractère...'''\n",
    "mon_prenom = 'Lucien'\n",
    "mon_prenom"
   ]
  },
  {
   "cell_type": "code",
   "execution_count": 8,
   "metadata": {},
   "outputs": [
    {
     "data": {
      "text/plain": [
       "\"Attention une variable s'utilise sans guillemets, et une chaîne de caractères avec guillemets\""
      ]
     },
     "execution_count": 8,
     "metadata": {},
     "output_type": "execute_result"
    }
   ],
   "source": [
    "'''Attention une variable s'utilise sans guillemets, et une chaîne de caractères avec guillemets'''"
   ]
  },
  {
   "cell_type": "code",
   "execution_count": 9,
   "metadata": {},
   "outputs": [
    {
     "data": {
      "text/plain": [
       "'mon_prenom'"
      ]
     },
     "execution_count": 9,
     "metadata": {},
     "output_type": "execute_result"
    }
   ],
   "source": [
    "'''En mettant des guillemets en voulant appeler une variable on n'obtiendra pas le contenu de cette dernière car Python pensera que c'est une chaîne de caractères'''\n",
    "'mon_prenom'"
   ]
  },
  {
   "cell_type": "code",
   "execution_count": 10,
   "metadata": {},
   "outputs": [
    {
     "ename": "NameError",
     "evalue": "name 'Lucien' is not defined",
     "output_type": "error",
     "traceback": [
      "\u001b[0;31m---------------------------------------------------------------------------\u001b[0m",
      "\u001b[0;31mNameError\u001b[0m                                 Traceback (most recent call last)",
      "\u001b[1;32m/workspace/TNSI_classeur/docs/bases.ipynb Cell 11\u001b[0m in \u001b[0;36m<cell line: 2>\u001b[0;34m()\u001b[0m\n\u001b[1;32m      <a href='vscode-notebook-cell://luciensw-tnsiclasseur-rjn3utqqc5z.ws-eu64.gitpod.io/workspace/TNSI_classeur/docs/bases.ipynb#X13sdnNjb2RlLXJlbW90ZQ%3D%3D?line=0'>1</a>\u001b[0m \u001b[39m'''Python renverra une erreur si on essaie d'écrire une chaîne de caractères sans guillemets car il croira que c'est une variable'''\u001b[39;00m\n\u001b[0;32m----> <a href='vscode-notebook-cell://luciensw-tnsiclasseur-rjn3utqqc5z.ws-eu64.gitpod.io/workspace/TNSI_classeur/docs/bases.ipynb#X13sdnNjb2RlLXJlbW90ZQ%3D%3D?line=1'>2</a>\u001b[0m Lucien\n",
      "\u001b[0;31mNameError\u001b[0m: name 'Lucien' is not defined"
     ]
    }
   ],
   "source": [
    "'''Python renverra une erreur si on essaie d'écrire une chaîne de caractères sans guillemets car il croira que c'est une variable'''\n",
    "Lucien"
   ]
  },
  {
   "cell_type": "code",
   "execution_count": null,
   "metadata": {},
   "outputs": [
    {
     "name": "stdout",
     "output_type": "stream",
     "text": [
      "Bonjour Lucien\n"
     ]
    }
   ],
   "source": [
    "'''La fonction print() permet d'afficher dans la console ce que l'on met dans la fonction'''\n",
    "print('Bonjour' + ' ' + mon_prenom)"
   ]
  },
  {
   "cell_type": "markdown",
   "metadata": {},
   "source": [
    "### Boucles for"
   ]
  },
  {
   "cell_type": "code",
   "execution_count": null,
   "metadata": {},
   "outputs": [
    {
     "name": "stdout",
     "output_type": "stream",
     "text": [
      "Chat\n",
      "Chat\n",
      "Chat\n",
      "Chat\n",
      "Chat\n"
     ]
    }
   ],
   "source": [
    "'''Une boucle for permet de répéter une ligne de code plusieurs fois. On utilise ici la fonction range qui prend en paramètre n et renvoie toutes les valeurs allant de 0 à n-1.'''\n",
    "mot = 'Chat'\n",
    "for loop in range(5):\n",
    "    print(mot)"
   ]
  },
  {
   "cell_type": "code",
   "execution_count": 2,
   "metadata": {},
   "outputs": [
    {
     "name": "stdout",
     "output_type": "stream",
     "text": [
      "0Chat\n",
      "0Chat\n",
      "0Chat\n",
      "0Chat\n",
      "0Chat\n",
      "1Chat\n",
      "1Chat\n",
      "1Chat\n",
      "1Chat\n",
      "1Chat\n",
      "2Chat\n",
      "2Chat\n",
      "2Chat\n",
      "2Chat\n",
      "2Chat\n",
      "3Chat\n",
      "3Chat\n",
      "3Chat\n",
      "3Chat\n",
      "3Chat\n",
      "4Chat\n",
      "4Chat\n",
      "4Chat\n",
      "4Chat\n",
      "4Chat\n"
     ]
    }
   ],
   "source": [
    "'''On peut imbriquer plusieurs boucles pour faire des programmes plus complexes.'''\n",
    "mot = 'Chat'\n",
    "for lettre in range(5):\n",
    "    for i in range(5):\n",
    "        print(str(lettre) + mot)"
   ]
  },
  {
   "cell_type": "markdown",
   "metadata": {},
   "source": [
    "On remarquera que pour écrire du code en python il faudra parfois \"indenter\" c'est à dire ajouter des espaces (ici 4) avant les lignes de commandes qui sont dans la boucle"
   ]
  },
  {
   "cell_type": "markdown",
   "metadata": {},
   "source": [
    "Booléens"
   ]
  },
  {
   "cell_type": "markdown",
   "metadata": {},
   "source": [
    "Pour l'instant nous n'avons parlé que des entiers et des chaines de caractère mais il existe un autre type de valeur qui sont les booléens. Ils sont 2 et s'appellent True et False."
   ]
  },
  {
   "cell_type": "code",
   "execution_count": null,
   "metadata": {},
   "outputs": [
    {
     "name": "stdout",
     "output_type": "stream",
     "text": [
      "True or False\n"
     ]
    }
   ],
   "source": [
    "vrai = True\n",
    "faux = False\n",
    "print(vrai,'or',faux)"
   ]
  },
  {
   "cell_type": "markdown",
   "metadata": {},
   "source": [
    "if - Si une condition est remplie  \n",
    "elif - Si une autre condition est remplie  \n",
    "else - Sinon"
   ]
  },
  {
   "cell_type": "code",
   "execution_count": null,
   "metadata": {},
   "outputs": [
    {
     "name": "stdout",
     "output_type": "stream",
     "text": [
      "OK\n"
     ]
    }
   ],
   "source": [
    "'''Pour exécuter une ligne de code uniquement si une condition est remplie on utilise le if'''\n",
    "code = 1234\n",
    "if code == 1234:\n",
    "    print('OK')"
   ]
  },
  {
   "cell_type": "markdown",
   "metadata": {},
   "source": [
    "On remarque qu'il faut, comme pour les boucles for, indenter le code soumis à la condition pour que cela fonctionne."
   ]
  },
  {
   "cell_type": "code",
   "execution_count": null,
   "metadata": {},
   "outputs": [
    {
     "name": "stdout",
     "output_type": "stream",
     "text": [
      "NOT OK\n"
     ]
    }
   ],
   "source": [
    "'''Si l'on veut exécuter une instruction quand la condition du if n'est pas remplie il existe le else.'''\n",
    "code = 1324\n",
    "if code == 1234:\n",
    "    print('OK')\n",
    "else:\n",
    "    print('NOT OK')"
   ]
  },
  {
   "cell_type": "code",
   "execution_count": null,
   "metadata": {},
   "outputs": [
    {
     "name": "stdout",
     "output_type": "stream",
     "text": [
      "ALMOST OK\n"
     ]
    }
   ],
   "source": [
    "'''Si l'on veut demander une autre condition pour exécuter du code après que celle du if ait été vérifiée comme fausse nous avons le elif'''\n",
    "code = 1324\n",
    "if code == 1234:\n",
    "    print('OK')\n",
    "elif code == 1324:\n",
    "    print('ALMOST OK')\n",
    "else:\n",
    "    print('NOT OK')"
   ]
  },
  {
   "cell_type": "markdown",
   "metadata": {},
   "source": [
    "Il est possible de mettre autant de elif que l'on veut tant qu'il y a un if.  \n",
    "Le else restera exécuté si aucune des conditions n'est respectée."
   ]
  },
  {
   "cell_type": "markdown",
   "metadata": {},
   "source": [
    "### Opérateurs"
   ]
  },
  {
   "cell_type": "code",
   "execution_count": null,
   "metadata": {},
   "outputs": [
    {
     "name": "stdout",
     "output_type": "stream",
     "text": [
      "True\n",
      "False\n"
     ]
    }
   ],
   "source": [
    "'''Plus tôt, nous avons utilisé un opérateur de comparaison == qui renvoie True si 2 valeurs sont égales et False sinon'''\n",
    "print(2 + 3 == 5)\n",
    "print(3*3 == 33)"
   ]
  },
  {
   "cell_type": "code",
   "execution_count": null,
   "metadata": {},
   "outputs": [
    {
     "name": "stdout",
     "output_type": "stream",
     "text": [
      "False\n",
      "True\n"
     ]
    }
   ],
   "source": [
    "'''Un autre opérateur de comparaison est != qui va renvoyer True si 2 valeurs sont différentes et False sinon.'''\n",
    "print(2 + 3 != 5)\n",
    "print(3*3 != 33)"
   ]
  },
  {
   "cell_type": "code",
   "execution_count": null,
   "metadata": {},
   "outputs": [
    {
     "name": "stdout",
     "output_type": "stream",
     "text": [
      "False\n",
      "False\n",
      "True\n",
      "True\n"
     ]
    }
   ],
   "source": [
    "'''Les quatres derniers principaux opérateurs de comparaison sont < (inférieur) > (supérieur) <= (inférieur ou égal) >= (supérieur ou égal) qui fonctionnent comme en maths.'''\n",
    "print(2 + 3 > 5)\n",
    "print(3*3 < 9)\n",
    "print(2 + 3 >= 5)\n",
    "print(3*3 <= 9)"
   ]
  },
  {
   "cell_type": "code",
   "execution_count": 23,
   "metadata": {},
   "outputs": [
    {
     "name": "stdout",
     "output_type": "stream",
     "text": [
      "False\n",
      "True\n"
     ]
    }
   ],
   "source": [
    "'''in permet de savoir si une valeur se trouve dans une liste'''\n",
    "nombres = [2, 9, 1, 8, 5, 64]\n",
    "print(7 in nombres)\n",
    "print(2 in nombres)"
   ]
  },
  {
   "cell_type": "code",
   "execution_count": 7,
   "metadata": {},
   "outputs": [
    {
     "name": "stdout",
     "output_type": "stream",
     "text": [
      "False\n",
      "True\n"
     ]
    }
   ],
   "source": [
    "'''is vérifie si deux valeurs sont les mêmes (en en modifiant une l'autre l'est aussi car elles sont les mêmes) \n",
    "ce qui le différencie de == qui vérifie seulement si 2 valeurs sont égales (en en modifiant une l'autre ne l'est pas car elles sont juste égales)'''\n",
    "liste_1 = [1,2,3]\n",
    "liste_2 = [1,2,3]\n",
    "print(liste_1 is liste_2)\n",
    "liste_2 = liste_1\n",
    "print(liste_1 is liste_2)"
   ]
  },
  {
   "cell_type": "markdown",
   "metadata": {},
   "source": [
    "### Listes"
   ]
  },
  {
   "cell_type": "code",
   "execution_count": null,
   "metadata": {},
   "outputs": [
    {
     "name": "stdout",
     "output_type": "stream",
     "text": [
      "1\n",
      "2\n",
      "3\n",
      "4\n",
      "banane\n",
      "True\n",
      "False\n"
     ]
    }
   ],
   "source": [
    "'''Les listes sont un autre type de données contenant une suite de plusieurs valeurs de n'importe quel type. Ici on parcourt la liste par ses éléments.'''\n",
    "liste = [1,2,3,4,'banane',True,False]\n",
    "for element in liste:\n",
    "    print(element)"
   ]
  },
  {
   "cell_type": "code",
   "execution_count": 11,
   "metadata": {},
   "outputs": [
    {
     "name": "stdout",
     "output_type": "stream",
     "text": [
      "1 2 3 4\n",
      "10\n"
     ]
    }
   ],
   "source": [
    "'''On peut trouver un élément d'une liste avec son indice (le premier indice est 0)'''\n",
    "liste = [1,2,3,4,'banane',True,False]\n",
    "print(liste[0],liste[1],liste[2],liste[3])\n",
    "print(liste[0]+liste[1]+liste[2]+liste[3])"
   ]
  },
  {
   "cell_type": "code",
   "execution_count": 13,
   "metadata": {},
   "outputs": [
    {
     "name": "stdout",
     "output_type": "stream",
     "text": [
      "1\n",
      "2\n",
      "3\n",
      "4\n",
      "banane\n",
      "True\n",
      "False\n"
     ]
    }
   ],
   "source": [
    "'''Cela nous permet de parcourir une liste par ses indices grâce à range et à la fonction len qui renvoie la longueur d'une chaine de caractères, d'une liste...'''\n",
    "liste = [1,2,3,4,'banane',True,False]\n",
    "for element in range(len(liste)):\n",
    "    print(liste[element])"
   ]
  },
  {
   "cell_type": "code",
   "execution_count": null,
   "metadata": {},
   "outputs": [
    {
     "data": {
      "text/plain": [
       "[]"
      ]
     },
     "execution_count": 6,
     "metadata": {},
     "output_type": "execute_result"
    }
   ],
   "source": [
    "'''Une liste peut être vide'''\n",
    "vide = []\n",
    "vide"
   ]
  },
  {
   "cell_type": "code",
   "execution_count": 10,
   "metadata": {},
   "outputs": [
    {
     "name": "stdout",
     "output_type": "stream",
     "text": [
      "[1, 2, 3, 4]\n"
     ]
    }
   ],
   "source": [
    "'''Comme pour les chaines de caractère on peut ajouter une liste à une autre.'''\n",
    "liste1 = [1,2]\n",
    "liste2 = [3,4]\n",
    "liste3 = liste1 + liste2\n",
    "print(liste3)"
   ]
  },
  {
   "cell_type": "code",
   "execution_count": 11,
   "metadata": {},
   "outputs": [
    {
     "name": "stdout",
     "output_type": "stream",
     "text": [
      "[1, 2, 3, 4, 5]\n"
     ]
    }
   ],
   "source": [
    "'''Pour ajouter un élément à une chaine il est préférable d'utiliser la méthode append'''\n",
    "liste1 = [1,2]\n",
    "liste2 = [3,4]\n",
    "liste3 = liste1 + liste2\n",
    "liste3.append(5)\n",
    "print(liste3)"
   ]
  },
  {
   "cell_type": "code",
   "execution_count": 2,
   "metadata": {},
   "outputs": [
    {
     "name": "stdout",
     "output_type": "stream",
     "text": [
      "ok\n"
     ]
    }
   ],
   "source": [
    "'''L'instruction break permet de sortir d'une boucle prématurément. C'est pratique mais il vaut mieux ne pas l'utiliser.'''\n",
    "liste = [1,2,3,4,5]\n",
    "nb = 4\n",
    "for element in liste:\n",
    "    if element == nb:\n",
    "        print('ok')\n",
    "        break"
   ]
  },
  {
   "cell_type": "code",
   "execution_count": 5,
   "metadata": {},
   "outputs": [
    {
     "name": "stdout",
     "output_type": "stream",
     "text": [
      "['chien', 'chat']\n"
     ]
    }
   ],
   "source": [
    "'''Nous avons la possibilité de faire des listes de listes'''\n",
    "liste = [['a','b','c'],['chien','chat'],['table','chaise']]\n",
    "print(liste[1])"
   ]
  },
  {
   "cell_type": "code",
   "execution_count": 9,
   "metadata": {},
   "outputs": [
    {
     "name": "stdout",
     "output_type": "stream",
     "text": [
      "b\n",
      "chien\n"
     ]
    }
   ],
   "source": [
    "'''On peut également parcourir un élément de la liste par ses indices (une chaîne de caractères dans la liste ou une liste dans la liste par exemple)'''\n",
    "liste = [\"abc\", \"def\", \"ghi\",['chien','chat']]\n",
    "print(liste[0][1])\n",
    "print(liste[3][0])"
   ]
  },
  {
   "cell_type": "markdown",
   "metadata": {},
   "source": [
    "### Fonctions et méthodes"
   ]
  },
  {
   "cell_type": "code",
   "execution_count": 16,
   "metadata": {},
   "outputs": [
    {
     "name": "stdout",
     "output_type": "stream",
     "text": [
      "coccinelle\n",
      "None\n"
     ]
    }
   ],
   "source": [
    "'''Une fonction est un programme que l'on va appeler pour effectuer un algorithme dont on a souvent besoin. print, range, len,... sont des fonctions. \n",
    "Chaque fonction peut prendre un ou plusieurs arguments ou paramètres. \n",
    "Toutes les fonctions n'ont pas besoin de renvoyer une valeur utile donc certaines renvoient juste la valeur none qui signifie l'absence de valeur.'''\n",
    "print(print('coccinelle'))#ici print prend en paramètre la chaîne de caractères 'coccinelle' et elle renvoie bien la valeur None"
   ]
  },
  {
   "cell_type": "code",
   "execution_count": null,
   "metadata": {},
   "outputs": [
    {
     "name": "stdout",
     "output_type": "stream",
     "text": [
      "CACAHUETE cacahuete\n"
     ]
    }
   ],
   "source": [
    "'''Dans python il existe des méthodes permettant de modifier facilement des variables comme upper et lower pour les chaines de caractères'''\n",
    "mot = 'cacaHUETE'\n",
    "print(mot.upper(),mot.lower())"
   ]
  },
  {
   "cell_type": "code",
   "execution_count": 26,
   "metadata": {},
   "outputs": [
    {
     "name": "stdout",
     "output_type": "stream",
     "text": [
      "4\n",
      "[1, 2, 3, 4, 'banane', True]\n",
      "True\n",
      "1\n"
     ]
    }
   ],
   "source": [
    "'''Pour les listes, index renvoie l'indice d'une valeur recherchée, remove supprime une valeur de la liste, pop affiche et retire une valeur à un certain indice de la liste\n",
    "et count compte le nombre de fois qu'un élément apparait dans une liste.'''\n",
    "liste = [1,2,3,4,'banane',True,False]\n",
    "print(liste.index('banane'))\n",
    "liste.remove(False)\n",
    "print(liste)\n",
    "print(liste.pop(5))\n",
    "print(liste.count(1))"
   ]
  },
  {
   "cell_type": "code",
   "execution_count": 27,
   "metadata": {},
   "outputs": [
    {
     "name": "stdout",
     "output_type": "stream",
     "text": [
      "12\n",
      "[1, 2, 5, 6, 8, 9]\n"
     ]
    }
   ],
   "source": [
    "'''La fonction somme additionne les valeurs d'une liste et renvoie la somme et la fonction sorted trie les éléments d'une liste dans l'ordre croissant.'''\n",
    "print(sum([5, 3, 4]))\n",
    "print(sorted([2, 9, 1, 8, 5, 6]))"
   ]
  },
  {
   "cell_type": "markdown",
   "metadata": {},
   "source": [
    "#### Définitions de fonctions\n",
    "On peut définir des fonctions pour les réutiliser plus tard."
   ]
  },
  {
   "cell_type": "code",
   "execution_count": 1,
   "metadata": {},
   "outputs": [
    {
     "name": "stdout",
     "output_type": "stream",
     "text": [
      "Bien le bonjour Lucien !\n"
     ]
    }
   ],
   "source": [
    "def cordial(prenom):\n",
    "    print(f'Bien le bonjour {prenom} !')\n",
    "cordial('Lucien')"
   ]
  },
  {
   "cell_type": "markdown",
   "metadata": {},
   "source": [
    "Appeler une fonction dans une autre fonction est possible et on l'a déja fait en appelant print."
   ]
  },
  {
   "cell_type": "markdown",
   "metadata": {},
   "source": [
    "En général une fonction va plutôt retourner une valeur que l'afficher."
   ]
  },
  {
   "cell_type": "code",
   "execution_count": 2,
   "metadata": {},
   "outputs": [
    {
     "data": {
      "text/plain": [
       "38"
      ]
     },
     "execution_count": 2,
     "metadata": {},
     "output_type": "execute_result"
    }
   ],
   "source": [
    "def carre(nombre):\n",
    "    return nombre**2\n",
    "2 + carre(6)"
   ]
  },
  {
   "cell_type": "markdown",
   "metadata": {},
   "source": [
    "note : return met automatiquement fin à une fonction"
   ]
  },
  {
   "cell_type": "markdown",
   "metadata": {},
   "source": [
    "On définit des fonctions de test pour vérifier qu'une fonction marche correctement."
   ]
  },
  {
   "cell_type": "code",
   "execution_count": 3,
   "metadata": {},
   "outputs": [
    {
     "name": "stdout",
     "output_type": "stream",
     "text": [
      "Correct\n"
     ]
    }
   ],
   "source": [
    "def test(resultat_obtenu,resultat_attendu):\n",
    "    if resultat_obtenu == resultat_attendu:\n",
    "        print('Correct')\n",
    "    else:\n",
    "        print('Not correct')\n",
    "test(carre(2),4)"
   ]
  },
  {
   "cell_type": "markdown",
   "metadata": {},
   "source": [
    "### Types de valeurs mutables et immuables"
   ]
  },
  {
   "cell_type": "code",
   "execution_count": 1,
   "metadata": {},
   "outputs": [
    {
     "ename": "AttributeError",
     "evalue": "'str' object has no attribute 'append'",
     "output_type": "error",
     "traceback": [
      "\u001b[0;31m---------------------------------------------------------------------------\u001b[0m",
      "\u001b[0;31mAttributeError\u001b[0m                            Traceback (most recent call last)",
      "\u001b[1;32m/workspace/TNSI_classeur/docs/bases.ipynb Cell 44\u001b[0m in \u001b[0;36m<cell line: 3>\u001b[0;34m()\u001b[0m\n\u001b[1;32m      <a href='vscode-notebook-cell://luciensw-tnsiclasseur-rjn3utqqc5z.ws-eu64.gitpod.io/workspace/TNSI_classeur/docs/bases.ipynb#X62sdnNjb2RlLXJlbW90ZQ%3D%3D?line=0'>1</a>\u001b[0m \u001b[39m'''Les chaînes de caractères sont un type de valeurs dites immuables c'est à dire qu'elles ne sont pas modifiables'''\u001b[39;00m\n\u001b[1;32m      <a href='vscode-notebook-cell://luciensw-tnsiclasseur-rjn3utqqc5z.ws-eu64.gitpod.io/workspace/TNSI_classeur/docs/bases.ipynb#X62sdnNjb2RlLXJlbW90ZQ%3D%3D?line=1'>2</a>\u001b[0m prenom \u001b[39m=\u001b[39m \u001b[39m'\u001b[39m\u001b[39mLucie\u001b[39m\u001b[39m'\u001b[39m\n\u001b[0;32m----> <a href='vscode-notebook-cell://luciensw-tnsiclasseur-rjn3utqqc5z.ws-eu64.gitpod.io/workspace/TNSI_classeur/docs/bases.ipynb#X62sdnNjb2RlLXJlbW90ZQ%3D%3D?line=2'>3</a>\u001b[0m prenom\u001b[39m.\u001b[39;49mappend(\u001b[39m'\u001b[39m\u001b[39mn\u001b[39m\u001b[39m'\u001b[39m)\n",
      "\u001b[0;31mAttributeError\u001b[0m: 'str' object has no attribute 'append'"
     ]
    }
   ],
   "source": [
    "'''Les chaînes de caractères sont un type de valeurs dites immuables c'est à dire qu'elles ne sont pas modifiables, on doit créer une nouvelle chaîne pour en avoir une différente.'''\n",
    "prenom = 'Lucie'\n",
    "prenom.append('n')"
   ]
  },
  {
   "cell_type": "code",
   "execution_count": 3,
   "metadata": {},
   "outputs": [
    {
     "data": {
      "text/plain": [
       "[1, 2, 4, 8, 16, 32, 64]"
      ]
     },
     "execution_count": 3,
     "metadata": {},
     "output_type": "execute_result"
    }
   ],
   "source": [
    "'''Les listes contrairement aux chaînes de caractères sont mutables, on peut les modifier.''' \n",
    "liste = [1,2,4,8,16,32]\n",
    "liste.append(64)\n",
    "liste"
   ]
  },
  {
   "cell_type": "markdown",
   "metadata": {},
   "source": [
    "### Opérateurs booléens"
   ]
  },
  {
   "cell_type": "markdown",
   "metadata": {},
   "source": [
    "Les opérateurs booléens prennent 2 booléens en arguments.\n"
   ]
  },
  {
   "cell_type": "code",
   "execution_count": null,
   "metadata": {},
   "outputs": [],
   "source": []
  }
 ],
 "metadata": {
  "kernelspec": {
   "display_name": "Python 3.8.13 64-bit ('shims')",
   "language": "python",
   "name": "python3"
  },
  "language_info": {
   "codemirror_mode": {
    "name": "ipython",
    "version": 3
   },
   "file_extension": ".py",
   "mimetype": "text/x-python",
   "name": "python",
   "nbconvert_exporter": "python",
   "pygments_lexer": "ipython3",
   "version": "3.8.13 (default, Oct  4 2022, 14:00:32) \n[GCC 9.4.0]"
  },
  "orig_nbformat": 4,
  "vscode": {
   "interpreter": {
    "hash": "9ac03a0a6051494cc606d484d27d20fce22fb7b4d169f583271e11d5ba46a56e"
   }
  }
 },
 "nbformat": 4,
 "nbformat_minor": 2
}
