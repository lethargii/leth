{
 "cells": [
  {
   "cell_type": "markdown",
   "metadata": {},
   "source": [
    "# Série de notes_Corrigé"
   ]
  },
  {
   "cell_type": "markdown",
   "metadata": {},
   "source": [
    "<h1>Quelques recommandations de programmation afin d'anticiper des erreurs...</h1>\n",
    "\n",
    "<h3>Eviter de développer des dizaines de lignes de code dans un seul bloc.</h3>\n",
    "\n",
    "  Il vaut mieux découper son algorithme en fonctions où chaque fonction réalise une tâche précise. Ces fonctions pourront être éventuellement réutilisées ensuite dans un autre contexte. Recommencer à coder une solution c'est investir à nouveau du temps de développement, de degogage, de documentation, ... De plus, il est toujours plus compliqué de chercher une erreur d'algorithme dans 200 lignes de code que dans une des 20 fonctions de 10 lignes chacune.\n",
    "  \n",
    "<h3>Utiliser des assertions comme \"garde fou\"</h3>\n",
    "\n",
    "  <code>assert condition,\"texte d'explication\"</code>\n",
    "  \n",
    "  \n",
    "  > Revoir : [Fonctions_et_modularisation.ipynb](http://si.lycee.ecmorlaix.fr/1NSI_2021-2022/Fonctions_et_modularisation/)\n",
    "\n",
    "\n",
    "<h3>Développer son algorithme grace aux commentaires</h3>\n",
    "\n",
    "  Avant de commencer à coder assurez vous d'avoir une idée claire de vote algorithme. \n",
    "  \n",
    "  Une méthode efficace consiste à :\n",
    "  \n",
    "  1. Ecrire son algorithme sous forme de commentaires\n",
    "  \n",
    "  2. Si certaines parties de l'algorithme ne sont pas encore suffisamment précises, elles pourront être détaillées ensuite dans une fonction spécifique\n",
    "  \n",
    "  3. Lorsque des fonctions ou méthodes sont stables et éprouvées, elles  peuvent être placées dans des bibliothèques pour alléger la lecture du code... => [Fonctions_et_modularisation.ipynb #Modules](http://si.lycee.ecmorlaix.fr/1NSI_2021-2022/Fonctions_et_modularisation/#modules)\n",
    "\n",
    "<h3>Gérer les situations problématiques sans provoquer de message d'erreur ou de \"plantage\"</h3>\n",
    "<h4> try : ... raise ... except ... :</h4>\n",
    "\n",
    "  Si on souhaite éviter une situation de plantage lors d'une erreur, il faut gérer les erreurs provoquées lors de l'exécution de la fonction.\n",
    "\n",
    "*Exemple : un système automatisé doit être capable d'indiquer qu'une commande est incorrecte sans pour cela s'arrêter*\n",
    "\n",
    "<code>\n",
    "  try : <br>\n",
    "&nbsp;&nbsp;&nbsp;if not {condition à respecter} :<br>\n",
    "&nbsp;&nbsp;&nbsp;&nbsp;&nbsp;&nbsp;raise {type d'erreur}()<br>\n",
    "&nbsp;&nbsp;&nbsp;except {type d'erreur} :<br>\n",
    "&nbsp;&nbsp;&nbsp;&nbsp;&nbsp;&nbsp;*Gérer la situation avant de sortir de la fonction*\n",
    "</code><br>\n",
    "\n",
    "Sources d'informations à lire :\n",
    "  - https://docs.python.org/fr/3.9/tutorial/errors.html\n",
    "  - https://openclassrooms.com/fr/courses/235344-apprenez-a-programmer-en-python/231688-gerez-les-exceptions\n",
    "\n",
    "\n",
    "\n",
    "## Exemple avec l'exercice : Série de notes\n",
    "Écrire un programme qui permet :\n",
    "- de demander à l’utilisateur combien de notes il souhaite saisir → [ n ]\n",
    "\n",
    "- de saisir les [ n ] notes comprise entre [ 0 ; 20 ]\n",
    "- d’afficher la note la plus faible et la note la plus élevée\n",
    "- de calculer la moyenne"
   ]
  },
  {
   "cell_type": "markdown",
   "metadata": {},
   "source": [
    "## Construction de l'algorithme :"
   ]
  },
  {
   "cell_type": "code",
   "execution_count": 11,
   "metadata": {},
   "outputs": [
    {
     "ename": "NameError",
     "evalue": "name 'demander_entier' is not defined",
     "output_type": "error",
     "traceback": [
      "\u001b[0;31m---------------------------------------------------------------------------\u001b[0m",
      "\u001b[0;31mNameError\u001b[0m                                 Traceback (most recent call last)",
      "\u001b[1;32m/workspace/TNSI_classeur/docs/Recommandations_de_programmation-Exercice_notes.ipynb Cell 3\u001b[0m in \u001b[0;36m<cell line: 4>\u001b[0;34m()\u001b[0m\n\u001b[1;32m      <a href='vscode-notebook-cell://luciensw-tnsiclasseur-rjn3utqqc5z.ws-eu67.gitpod.io/workspace/TNSI_classeur/docs/Recommandations_de_programmation-Exercice_notes.ipynb#W2sdnNjb2RlLXJlbW90ZQ%3D%3D?line=0'>1</a>\u001b[0m \u001b[39m# Construction du programme à développer à l'aide des commentaires :\u001b[39;00m\n\u001b[1;32m      <a href='vscode-notebook-cell://luciensw-tnsiclasseur-rjn3utqqc5z.ws-eu67.gitpod.io/workspace/TNSI_classeur/docs/Recommandations_de_programmation-Exercice_notes.ipynb#W2sdnNjb2RlLXJlbW90ZQ%3D%3D?line=1'>2</a>\u001b[0m \n\u001b[1;32m      <a href='vscode-notebook-cell://luciensw-tnsiclasseur-rjn3utqqc5z.ws-eu67.gitpod.io/workspace/TNSI_classeur/docs/Recommandations_de_programmation-Exercice_notes.ipynb#W2sdnNjb2RlLXJlbW90ZQ%3D%3D?line=2'>3</a>\u001b[0m \u001b[39m# demander à l’utilisateur combien de notes il souhaite saisir → [ n ]\u001b[39;00m\n\u001b[0;32m----> <a href='vscode-notebook-cell://luciensw-tnsiclasseur-rjn3utqqc5z.ws-eu67.gitpod.io/workspace/TNSI_classeur/docs/Recommandations_de_programmation-Exercice_notes.ipynb#W2sdnNjb2RlLXJlbW90ZQ%3D%3D?line=3'>4</a>\u001b[0m nb_notes \u001b[39m=\u001b[39m demander_entier(\u001b[39m\"\u001b[39m\u001b[39mCombien de notes sont à saisir ? \u001b[39m\u001b[39m\"\u001b[39m)\n\u001b[1;32m      <a href='vscode-notebook-cell://luciensw-tnsiclasseur-rjn3utqqc5z.ws-eu67.gitpod.io/workspace/TNSI_classeur/docs/Recommandations_de_programmation-Exercice_notes.ipynb#W2sdnNjb2RlLXJlbW90ZQ%3D%3D?line=5'>6</a>\u001b[0m \u001b[39m# saisir les [ n ] notes comprise entre [ 0 ; 20 ]\u001b[39;00m\n\u001b[1;32m      <a href='vscode-notebook-cell://luciensw-tnsiclasseur-rjn3utqqc5z.ws-eu67.gitpod.io/workspace/TNSI_classeur/docs/Recommandations_de_programmation-Exercice_notes.ipynb#W2sdnNjb2RlLXJlbW90ZQ%3D%3D?line=6'>7</a>\u001b[0m notes \u001b[39m=\u001b[39m [ saisir_note() \u001b[39mfor\u001b[39;00m i \u001b[39min\u001b[39;00m \u001b[39mrange\u001b[39m(nb_notes)] \u001b[39m# Complété en classe\u001b[39;00m\n",
      "\u001b[0;31mNameError\u001b[0m: name 'demander_entier' is not defined"
     ]
    }
   ],
   "source": [
    "# Construction du programme à développer à l'aide des commentaires :\n",
    "\n",
    "# demander à l’utilisateur combien de notes il souhaite saisir → [ n ]\n",
    "nb_notes = demander_entier(\"Combien de notes sont à saisir ? \")\n",
    "\n",
    "# saisir les [ n ] notes comprise entre [ 0 ; 20 ]\n",
    "notes = [ saisir_note() for i in range(nb_notes)] # Complété en classe\n",
    "\n",
    "# afficher la note la plus faible et la note la plus élevée\n",
    "print(f\"La note mini est {minimum_table(notes)}\")\n",
    "print(f\"La note maxi est {maximum_table(notes)}\")\n",
    "\n",
    "# calculer la moyenne\n",
    "print(f\"La moyenne des notes est {moyenne_table(notes)}\")"
   ]
  },
  {
   "cell_type": "markdown",
   "metadata": {},
   "source": [
    "## Une première version pour `demander_entier()` :"
   ]
  },
  {
   "cell_type": "code",
   "execution_count": 1,
   "metadata": {},
   "outputs": [],
   "source": [
    "def demander_entier_V1(message : str) -> int :\n",
    "    \"\"\" ==================================================================================================================\n",
    "    \n",
    "        * Description : \n",
    "            Je demande à l'utilisateur un nombre correspondant à la question du message et renvoie le résultat au format entier ;\n",
    "                > Remarque : Ici, pas de gestion de vérification de validité de la saisie utilisateur.\n",
    "                        \n",
    "        * Exemple :\n",
    "            >>> demander_entier(\"Combien de notes sont à saisir ? \")\n",
    "            Combien de notes sont à saisir ? 5\n",
    "            5\n",
    "                    \n",
    "        * Préconditions :\n",
    "            message (str) : question définissant le nombre à saisir ;\n",
    "                    \n",
    "        * Postconditions :\n",
    "            (int) : la valeur saisie convertie en entier.       \n",
    "        \n",
    "        ==================================================================================================================\n",
    "    \"\"\"\n",
    "    # Assertions de vérification des préconditions :\n",
    "    assert type(message) == str  , \"Le message doit être une chaine de caractères.\"\n",
    "            \n",
    "    # bloc d'instructions :\n",
    "    nombre = int(input(message))\n",
    "    return nombre"
   ]
  },
  {
   "cell_type": "markdown",
   "metadata": {},
   "source": [
    "### Pour tester :"
   ]
  },
  {
   "cell_type": "code",
   "execution_count": 2,
   "metadata": {},
   "outputs": [
    {
     "name": "stdout",
     "output_type": "stream",
     "text": [
      "Help on function demander_entier_V1 in module __main__:\n",
      "\n",
      "demander_entier_V1(message: str) -> int\n",
      "    ==================================================================================================================\n",
      "    \n",
      "    * Description : \n",
      "        Je demande à l'utilisateur un nombre correspondant à la question du message et renvoie le résultat au format entier ;\n",
      "            > Remarque : Ici, pas de gestion de vérification de validité de la saisie utilisateur.\n",
      "                    \n",
      "    * Exemple :\n",
      "        >>> demander_entier(\"Combien de notes sont à saisir ? \")\n",
      "        Combien de notes sont à saisir ? 5\n",
      "        5\n",
      "                \n",
      "    * Préconditions :\n",
      "        message (str) : question définissant le nombre à saisir ;\n",
      "                \n",
      "    * Postconditions :\n",
      "        (int) : la valeur saisie convertie en entier.       \n",
      "    \n",
      "    ==================================================================================================================\n",
      "\n"
     ]
    }
   ],
   "source": [
    "help(demander_entier_V1)"
   ]
  },
  {
   "cell_type": "code",
   "execution_count": 3,
   "metadata": {},
   "outputs": [
    {
     "ename": "AssertionError",
     "evalue": "Le message doit être une chaine de caractères.",
     "output_type": "error",
     "traceback": [
      "\u001b[0;31m---------------------------------------------------------------------------\u001b[0m",
      "\u001b[0;31mAssertionError\u001b[0m                            Traceback (most recent call last)",
      "\u001b[1;32m/workspace/TNSI_classeur/docs/Recommandations_de_programmation-Exercice_notes.ipynb Cell 8\u001b[0m in \u001b[0;36m<cell line: 1>\u001b[0;34m()\u001b[0m\n\u001b[0;32m----> <a href='vscode-notebook-cell://luciensw-tnsiclasseur-rjn3utqqc5z.ws-eu67.gitpod.io/workspace/TNSI_classeur/docs/Recommandations_de_programmation-Exercice_notes.ipynb#X10sdnNjb2RlLXJlbW90ZQ%3D%3D?line=0'>1</a>\u001b[0m nb_notes \u001b[39m=\u001b[39m demander_entier_V1(\u001b[39m10\u001b[39;49m)\n",
      "\u001b[1;32m/workspace/TNSI_classeur/docs/Recommandations_de_programmation-Exercice_notes.ipynb Cell 8\u001b[0m in \u001b[0;36mdemander_entier_V1\u001b[0;34m(message)\u001b[0m\n\u001b[1;32m      <a href='vscode-notebook-cell://luciensw-tnsiclasseur-rjn3utqqc5z.ws-eu67.gitpod.io/workspace/TNSI_classeur/docs/Recommandations_de_programmation-Exercice_notes.ipynb#X10sdnNjb2RlLXJlbW90ZQ%3D%3D?line=1'>2</a>\u001b[0m \u001b[39m\"\"\" ==================================================================================================================\u001b[39;00m\n\u001b[1;32m      <a href='vscode-notebook-cell://luciensw-tnsiclasseur-rjn3utqqc5z.ws-eu67.gitpod.io/workspace/TNSI_classeur/docs/Recommandations_de_programmation-Exercice_notes.ipynb#X10sdnNjb2RlLXJlbW90ZQ%3D%3D?line=2'>3</a>\u001b[0m \u001b[39m\u001b[39;00m\n\u001b[1;32m      <a href='vscode-notebook-cell://luciensw-tnsiclasseur-rjn3utqqc5z.ws-eu67.gitpod.io/workspace/TNSI_classeur/docs/Recommandations_de_programmation-Exercice_notes.ipynb#X10sdnNjb2RlLXJlbW90ZQ%3D%3D?line=3'>4</a>\u001b[0m \u001b[39m    * Description : \u001b[39;00m\n\u001b[0;32m   (...)\u001b[0m\n\u001b[1;32m     <a href='vscode-notebook-cell://luciensw-tnsiclasseur-rjn3utqqc5z.ws-eu67.gitpod.io/workspace/TNSI_classeur/docs/Recommandations_de_programmation-Exercice_notes.ipynb#X10sdnNjb2RlLXJlbW90ZQ%3D%3D?line=18'>19</a>\u001b[0m \u001b[39m    ==================================================================================================================\u001b[39;00m\n\u001b[1;32m     <a href='vscode-notebook-cell://luciensw-tnsiclasseur-rjn3utqqc5z.ws-eu67.gitpod.io/workspace/TNSI_classeur/docs/Recommandations_de_programmation-Exercice_notes.ipynb#X10sdnNjb2RlLXJlbW90ZQ%3D%3D?line=19'>20</a>\u001b[0m \u001b[39m\"\"\"\u001b[39;00m\n\u001b[1;32m     <a href='vscode-notebook-cell://luciensw-tnsiclasseur-rjn3utqqc5z.ws-eu67.gitpod.io/workspace/TNSI_classeur/docs/Recommandations_de_programmation-Exercice_notes.ipynb#X10sdnNjb2RlLXJlbW90ZQ%3D%3D?line=20'>21</a>\u001b[0m \u001b[39m# Assertions de vérification des préconditions :\u001b[39;00m\n\u001b[0;32m---> <a href='vscode-notebook-cell://luciensw-tnsiclasseur-rjn3utqqc5z.ws-eu67.gitpod.io/workspace/TNSI_classeur/docs/Recommandations_de_programmation-Exercice_notes.ipynb#X10sdnNjb2RlLXJlbW90ZQ%3D%3D?line=21'>22</a>\u001b[0m \u001b[39massert\u001b[39;00m \u001b[39mtype\u001b[39m(message) \u001b[39m==\u001b[39m \u001b[39mstr\u001b[39m  , \u001b[39m\"\u001b[39m\u001b[39mLe message doit être une chaine de caractères.\u001b[39m\u001b[39m\"\u001b[39m\n\u001b[1;32m     <a href='vscode-notebook-cell://luciensw-tnsiclasseur-rjn3utqqc5z.ws-eu67.gitpod.io/workspace/TNSI_classeur/docs/Recommandations_de_programmation-Exercice_notes.ipynb#X10sdnNjb2RlLXJlbW90ZQ%3D%3D?line=23'>24</a>\u001b[0m \u001b[39m# bloc d'instructions :\u001b[39;00m\n\u001b[1;32m     <a href='vscode-notebook-cell://luciensw-tnsiclasseur-rjn3utqqc5z.ws-eu67.gitpod.io/workspace/TNSI_classeur/docs/Recommandations_de_programmation-Exercice_notes.ipynb#X10sdnNjb2RlLXJlbW90ZQ%3D%3D?line=24'>25</a>\u001b[0m nombre \u001b[39m=\u001b[39m \u001b[39mint\u001b[39m(\u001b[39minput\u001b[39m(message))\n",
      "\u001b[0;31mAssertionError\u001b[0m: Le message doit être une chaine de caractères."
     ]
    }
   ],
   "source": [
    "nb_notes = demander_entier_V1(10)"
   ]
  },
  {
   "cell_type": "code",
   "execution_count": 10,
   "metadata": {},
   "outputs": [
    {
     "ename": "ValueError",
     "evalue": "invalid literal for int() with base 10: 'toto'",
     "output_type": "error",
     "traceback": [
      "\u001b[0;31m---------------------------------------------------------------------------\u001b[0m",
      "\u001b[0;31mValueError\u001b[0m                                Traceback (most recent call last)",
      "\u001b[1;32m/workspace/TNSI_classeur/docs/Recommandations_de_programmation-Exercice_notes.ipynb Cell 9\u001b[0m in \u001b[0;36m<cell line: 1>\u001b[0;34m()\u001b[0m\n\u001b[0;32m----> <a href='vscode-notebook-cell://luciensw-tnsiclasseur-rjn3utqqc5z.ws-eu67.gitpod.io/workspace/TNSI_classeur/docs/Recommandations_de_programmation-Exercice_notes.ipynb#X11sdnNjb2RlLXJlbW90ZQ%3D%3D?line=0'>1</a>\u001b[0m nb_notes \u001b[39m=\u001b[39m demander_entier_V1(\u001b[39m\"\u001b[39;49m\u001b[39mCombien de notes sont à saisir ? \u001b[39;49m\u001b[39m\"\u001b[39;49m)\n",
      "\u001b[1;32m/workspace/TNSI_classeur/docs/Recommandations_de_programmation-Exercice_notes.ipynb Cell 9\u001b[0m in \u001b[0;36mdemander_entier_V1\u001b[0;34m(message)\u001b[0m\n\u001b[1;32m     <a href='vscode-notebook-cell://luciensw-tnsiclasseur-rjn3utqqc5z.ws-eu67.gitpod.io/workspace/TNSI_classeur/docs/Recommandations_de_programmation-Exercice_notes.ipynb#X11sdnNjb2RlLXJlbW90ZQ%3D%3D?line=21'>22</a>\u001b[0m \u001b[39massert\u001b[39;00m \u001b[39mtype\u001b[39m(message) \u001b[39m==\u001b[39m \u001b[39mstr\u001b[39m  , \u001b[39m\"\u001b[39m\u001b[39mLe message doit être une chaine de caractères.\u001b[39m\u001b[39m\"\u001b[39m\n\u001b[1;32m     <a href='vscode-notebook-cell://luciensw-tnsiclasseur-rjn3utqqc5z.ws-eu67.gitpod.io/workspace/TNSI_classeur/docs/Recommandations_de_programmation-Exercice_notes.ipynb#X11sdnNjb2RlLXJlbW90ZQ%3D%3D?line=23'>24</a>\u001b[0m \u001b[39m# bloc d'instructions :\u001b[39;00m\n\u001b[0;32m---> <a href='vscode-notebook-cell://luciensw-tnsiclasseur-rjn3utqqc5z.ws-eu67.gitpod.io/workspace/TNSI_classeur/docs/Recommandations_de_programmation-Exercice_notes.ipynb#X11sdnNjb2RlLXJlbW90ZQ%3D%3D?line=24'>25</a>\u001b[0m nombre \u001b[39m=\u001b[39m \u001b[39mint\u001b[39;49m(\u001b[39minput\u001b[39;49m(message))\n\u001b[1;32m     <a href='vscode-notebook-cell://luciensw-tnsiclasseur-rjn3utqqc5z.ws-eu67.gitpod.io/workspace/TNSI_classeur/docs/Recommandations_de_programmation-Exercice_notes.ipynb#X11sdnNjb2RlLXJlbW90ZQ%3D%3D?line=25'>26</a>\u001b[0m \u001b[39mreturn\u001b[39;00m nombre\n",
      "\u001b[0;31mValueError\u001b[0m: invalid literal for int() with base 10: 'toto'"
     ]
    }
   ],
   "source": [
    "nb_notes = demander_entier_V1(\"Combien de notes sont à saisir ? \") # Tester avec les saisies 5, 5.0, toto "
   ]
  },
  {
   "cell_type": "markdown",
   "metadata": {},
   "source": [
    "## Une seconde version pour `demander_entier()` :"
   ]
  },
  {
   "cell_type": "code",
   "execution_count": 5,
   "metadata": {},
   "outputs": [],
   "source": [
    "def demander_entier_V2(message : str) -> int :\n",
    "    \"\"\" ==================================================================================================================\n",
    "    \n",
    "        * Description : \n",
    "            Je demande à l'utilisateur un nombre correspondant à la question du message et renvoie le résultat au format entier ;\n",
    "                > avec une gestion de vérification de la validité de la saisie utilisateur.\n",
    "                        \n",
    "        * Exemple :\n",
    "            >>> demander_entier(\"Combien de notes sont à saisir ? \")\n",
    "            Combien de notes sont à saisir ? 5\n",
    "            5\n",
    "                                           \n",
    "        * Préconditions :\n",
    "            message (str) : question définissant le nombre à saisir ;\n",
    "                    \n",
    "        * Postconditions :\n",
    "            (int) : la valeur saisie convertie en entier.       \n",
    "        \n",
    "        ==================================================================================================================\n",
    "    \"\"\"\n",
    "    # Assertions de vérification des préconditions :\n",
    "    assert type(message) == str  , \"Le message doit être une chaine de caractères.\"\n",
    "            \n",
    "    # bloc d'instructions :\n",
    "    try :\n",
    "        nombre = int(input(message))\n",
    "        return nombre\n",
    "    except ValueError :\n",
    "        print(\"La valeur saisie doit être convertible en un nombre entier exprimé en base 10 : \\n    -> la saisie ne doit pas contenir d'autres caractères que 0, 1, 2, 3, 4, 5, 6, 7, 8, 9\")\n",
    "        "
   ]
  },
  {
   "cell_type": "markdown",
   "metadata": {},
   "source": [
    "### Pour tester :"
   ]
  },
  {
   "cell_type": "code",
   "execution_count": 8,
   "metadata": {},
   "outputs": [
    {
     "name": "stdout",
     "output_type": "stream",
     "text": [
      "La valeur saisie doit être convertible en un nombre entier exprimé en base 10 : \n",
      "    -> la saisie ne doit pas contenir d'autres caractères que 0, 1, 2, 3, 4, 5, 6, 7, 8, 9\n"
     ]
    }
   ],
   "source": [
    "demander_entier_V2(\"Combien de notes sont à saisir ? \") # Tester avec les saisies 5, 5.0, toto "
   ]
  },
  {
   "cell_type": "markdown",
   "metadata": {},
   "source": [
    "## Autres fonctions :"
   ]
  },
  {
   "cell_type": "code",
   "execution_count": 12,
   "metadata": {},
   "outputs": [],
   "source": [
    "def saisir_note() -> float :\n",
    "    \"\"\" ==================================================================================================================\n",
    "    \n",
    "        * Description : \n",
    "            Permet de saisir une note qui sera renvoyée au format float.\n",
    "                        \n",
    "        * Exemple :\n",
    "            >>> saisir_note()\n",
    "            5.0\n",
    "            5.0\n",
    "                    \n",
    "        * Postconditions :\n",
    "            (float) : la valeur saisie convertie en float.       \n",
    "        \n",
    "        ==================================================================================================================\n",
    "    \"\"\"\n",
    "    \n",
    "    # Instructions A CODER\n",
    "    note = float(input())\n",
    "    return note"
   ]
  },
  {
   "cell_type": "code",
   "execution_count": 3,
   "metadata": {},
   "outputs": [],
   "source": [
    "def saisir_note() -> float :\n",
    "    \"\"\" ==================================================================================================================\n",
    "    \n",
    "        * Description : \n",
    "            Permet de saisir une note qui sera renvoyée au format float.\n",
    "                        \n",
    "        * Exemple :\n",
    "            >>> saisir_note()\n",
    "            5.0\n",
    "            5.0\n",
    "                    \n",
    "        * Postconditions :\n",
    "            (float) : la valeur saisie convertie en float.       \n",
    "        \n",
    "        ==================================================================================================================\n",
    "    \"\"\"\n",
    "    \n",
    "    # Instructions A CODER\n",
    "    note = float(input(\"Quelle note avez-vous eu ?\"))\n",
    "    while note < 0 or note > 20:\n",
    "        note = float(input(\"Vous n'avez pas pu avoir cette note ! Quelle note avez-vous eu ?\"))\n",
    "    return note"
   ]
  },
  {
   "cell_type": "code",
   "execution_count": 6,
   "metadata": {},
   "outputs": [
    {
     "ename": "ValueError",
     "evalue": "could not convert string to float: 'l'",
     "output_type": "error",
     "traceback": [
      "\u001b[0;31m---------------------------------------------------------------------------\u001b[0m",
      "\u001b[0;31mValueError\u001b[0m                                Traceback (most recent call last)",
      "\u001b[1;32m/workspace/TNSI_classeur/docs/Recommandations_de_programmation-Exercice_notes.ipynb Cell 17\u001b[0m in \u001b[0;36m<cell line: 1>\u001b[0;34m()\u001b[0m\n\u001b[0;32m----> <a href='vscode-notebook-cell://luciensw-tnsiclasseur-rjn3utqqc5z.ws-eu67.gitpod.io/workspace/TNSI_classeur/docs/Recommandations_de_programmation-Exercice_notes.ipynb#X21sdnNjb2RlLXJlbW90ZQ%3D%3D?line=0'>1</a>\u001b[0m saisir_note()\n",
      "\u001b[1;32m/workspace/TNSI_classeur/docs/Recommandations_de_programmation-Exercice_notes.ipynb Cell 17\u001b[0m in \u001b[0;36msaisir_note\u001b[0;34m()\u001b[0m\n\u001b[1;32m      <a href='vscode-notebook-cell://luciensw-tnsiclasseur-rjn3utqqc5z.ws-eu67.gitpod.io/workspace/TNSI_classeur/docs/Recommandations_de_programmation-Exercice_notes.ipynb#X21sdnNjb2RlLXJlbW90ZQ%3D%3D?line=1'>2</a>\u001b[0m \u001b[39m\"\"\" ==================================================================================================================\u001b[39;00m\n\u001b[1;32m      <a href='vscode-notebook-cell://luciensw-tnsiclasseur-rjn3utqqc5z.ws-eu67.gitpod.io/workspace/TNSI_classeur/docs/Recommandations_de_programmation-Exercice_notes.ipynb#X21sdnNjb2RlLXJlbW90ZQ%3D%3D?line=2'>3</a>\u001b[0m \u001b[39m\u001b[39;00m\n\u001b[1;32m      <a href='vscode-notebook-cell://luciensw-tnsiclasseur-rjn3utqqc5z.ws-eu67.gitpod.io/workspace/TNSI_classeur/docs/Recommandations_de_programmation-Exercice_notes.ipynb#X21sdnNjb2RlLXJlbW90ZQ%3D%3D?line=3'>4</a>\u001b[0m \u001b[39m    * Description : \u001b[39;00m\n\u001b[0;32m   (...)\u001b[0m\n\u001b[1;32m     <a href='vscode-notebook-cell://luciensw-tnsiclasseur-rjn3utqqc5z.ws-eu67.gitpod.io/workspace/TNSI_classeur/docs/Recommandations_de_programmation-Exercice_notes.ipynb#X21sdnNjb2RlLXJlbW90ZQ%3D%3D?line=14'>15</a>\u001b[0m \u001b[39m    ==================================================================================================================\u001b[39;00m\n\u001b[1;32m     <a href='vscode-notebook-cell://luciensw-tnsiclasseur-rjn3utqqc5z.ws-eu67.gitpod.io/workspace/TNSI_classeur/docs/Recommandations_de_programmation-Exercice_notes.ipynb#X21sdnNjb2RlLXJlbW90ZQ%3D%3D?line=15'>16</a>\u001b[0m \u001b[39m\"\"\"\u001b[39;00m\n\u001b[1;32m     <a href='vscode-notebook-cell://luciensw-tnsiclasseur-rjn3utqqc5z.ws-eu67.gitpod.io/workspace/TNSI_classeur/docs/Recommandations_de_programmation-Exercice_notes.ipynb#X21sdnNjb2RlLXJlbW90ZQ%3D%3D?line=17'>18</a>\u001b[0m \u001b[39m# Instructions A CODER\u001b[39;00m\n\u001b[0;32m---> <a href='vscode-notebook-cell://luciensw-tnsiclasseur-rjn3utqqc5z.ws-eu67.gitpod.io/workspace/TNSI_classeur/docs/Recommandations_de_programmation-Exercice_notes.ipynb#X21sdnNjb2RlLXJlbW90ZQ%3D%3D?line=18'>19</a>\u001b[0m note \u001b[39m=\u001b[39m \u001b[39mfloat\u001b[39;49m(\u001b[39minput\u001b[39;49m(\u001b[39m\"\u001b[39;49m\u001b[39mQuelle note avez-vous eu ?\u001b[39;49m\u001b[39m\"\u001b[39;49m))\n\u001b[1;32m     <a href='vscode-notebook-cell://luciensw-tnsiclasseur-rjn3utqqc5z.ws-eu67.gitpod.io/workspace/TNSI_classeur/docs/Recommandations_de_programmation-Exercice_notes.ipynb#X21sdnNjb2RlLXJlbW90ZQ%3D%3D?line=19'>20</a>\u001b[0m \u001b[39mwhile\u001b[39;00m note \u001b[39m<\u001b[39m \u001b[39m0\u001b[39m \u001b[39mor\u001b[39;00m note \u001b[39m>\u001b[39m \u001b[39m20\u001b[39m:\n\u001b[1;32m     <a href='vscode-notebook-cell://luciensw-tnsiclasseur-rjn3utqqc5z.ws-eu67.gitpod.io/workspace/TNSI_classeur/docs/Recommandations_de_programmation-Exercice_notes.ipynb#X21sdnNjb2RlLXJlbW90ZQ%3D%3D?line=20'>21</a>\u001b[0m     note \u001b[39m=\u001b[39m \u001b[39mfloat\u001b[39m(\u001b[39minput\u001b[39m(\u001b[39m\"\u001b[39m\u001b[39mVous n\u001b[39m\u001b[39m'\u001b[39m\u001b[39mavez pas pu avoir cette note ! Quelle note avez-vous eu ?\u001b[39m\u001b[39m\"\u001b[39m))\n",
      "\u001b[0;31mValueError\u001b[0m: could not convert string to float: 'l'"
     ]
    }
   ],
   "source": [
    "saisir_note()"
   ]
  },
  {
   "cell_type": "code",
   "execution_count": 3,
   "metadata": {},
   "outputs": [],
   "source": [
    "def minimum_table(valeurs:list) -> float :\n",
    "    \"\"\" ==================================================================================================================\n",
    "\n",
    "        * Description : \n",
    "            Fonction renvoyant la valeur minimale d'une liste\n",
    "                        \n",
    "        * Exemple :\n",
    "            >>> minimum_table([2,5,6,1])\n",
    "            1.0\n",
    "                                           \n",
    "        * Préconditions :\n",
    "            valeurs (list) : liste de valeurs dont on va chercher la valeur minimale\n",
    "                    \n",
    "        * Postconditions :\n",
    "            (float) : la valeur mini de la liste d'entrée.       \n",
    "        \n",
    "        ==================================================================================================================\n",
    "    \"\"\"\n",
    "\n",
    "    # Instructions A CODER\n",
    "    mini = valeurs[0]\n",
    "    for element in valeurs:\n",
    "        if element < mini:\n",
    "            mini = element\n",
    "    mini = float(mini)\n",
    "    return mini"
   ]
  },
  {
   "cell_type": "code",
   "execution_count": 4,
   "metadata": {},
   "outputs": [
    {
     "data": {
      "text/plain": [
       "1.0"
      ]
     },
     "execution_count": 4,
     "metadata": {},
     "output_type": "execute_result"
    }
   ],
   "source": [
    "minimum_table([2,5,6,1])"
   ]
  },
  {
   "cell_type": "code",
   "execution_count": 5,
   "metadata": {},
   "outputs": [],
   "source": [
    "def maximum_table(valeurs:list) -> float :\n",
    "    \"\"\" ==================================================================================================================\n",
    "\n",
    "        * Description : \n",
    "            Fonction renvoyant la valeur maximale d'une liste\n",
    "                        \n",
    "        * Exemple :\n",
    "            >>> maximum_table([2,5,6,1])\n",
    "            6.0\n",
    "                                           \n",
    "        * Préconditions :\n",
    "            valeurs (list) : liste de valeurs dont on va chercher la valeur maximale\n",
    "                    \n",
    "        * Postconditions :\n",
    "            (float) : la valeur maxi de la liste d'entrée.       \n",
    "        \n",
    "        ==================================================================================================================\n",
    "    \"\"\"\n",
    "    # Instructions A CODER\n",
    "    maxi = valeurs[0]\n",
    "    for element in valeurs:\n",
    "        if element > maxi:\n",
    "            maxi = element\n",
    "    maxi = float(maxi)\n",
    "    return maxi"
   ]
  },
  {
   "cell_type": "code",
   "execution_count": 6,
   "metadata": {},
   "outputs": [
    {
     "data": {
      "text/plain": [
       "6.0"
      ]
     },
     "execution_count": 6,
     "metadata": {},
     "output_type": "execute_result"
    }
   ],
   "source": [
    "maximum_table([2,5,6,1])"
   ]
  },
  {
   "cell_type": "code",
   "execution_count": 7,
   "metadata": {},
   "outputs": [],
   "source": [
    "def somme_table(valeurs:list) -> float :\n",
    "    \"\"\" ==================================================================================================================\n",
    "    \n",
    "        * Description : \n",
    "            Fonction renvoyant la somme des éléments d'une liste\n",
    "                        \n",
    "        * Exemple :\n",
    "            >>> somme_table([2,5,6,1])\n",
    "            14.0\n",
    "                                           \n",
    "        * Préconditions :\n",
    "            valeurs (list) : liste de valeurs que l'on va additioner\n",
    "                    \n",
    "        * Postconditions :\n",
    "            (float) : la somme des valeurs de la liste d'entrée.       \n",
    "        \n",
    "        ==================================================================================================================\n",
    "    \"\"\"\n",
    "    # Instructions A CODER\n",
    "    somme = 0\n",
    "    for element in valeurs:\n",
    "        somme += element\n",
    "    somme = float(somme)\n",
    "    return somme"
   ]
  },
  {
   "cell_type": "code",
   "execution_count": 8,
   "metadata": {},
   "outputs": [
    {
     "data": {
      "text/plain": [
       "14.0"
      ]
     },
     "execution_count": 8,
     "metadata": {},
     "output_type": "execute_result"
    }
   ],
   "source": [
    "somme_table([2,5,6,1])"
   ]
  },
  {
   "cell_type": "code",
   "execution_count": 9,
   "metadata": {},
   "outputs": [],
   "source": [
    "def moyenne_table(valeurs:list) -> float :\n",
    "    \"\"\" ==================================================================================================================\n",
    "    \n",
    "        * Description : \n",
    "            Fonction renvoyant la valeur moyenne d'une liste\n",
    "                        \n",
    "        * Exemple :\n",
    "            >>> moyenne_table([2,5,6,1])\n",
    "            3.5\n",
    "                                           \n",
    "        * Préconditions :\n",
    "            valeurs (list) : liste de valeurs dont on va chercher la valeur moyenne\n",
    "                    \n",
    "        * Postconditions :\n",
    "            (float) : la valeur moyenne de la liste d'entrée.       \n",
    "        \n",
    "        ==================================================================================================================\n",
    "    \"\"\"\n",
    "    # Instructions A CODER\n",
    "    moyenne = somme_table(valeurs)/len(valeurs)\n",
    "    return moyenne"
   ]
  },
  {
   "cell_type": "code",
   "execution_count": 10,
   "metadata": {},
   "outputs": [
    {
     "data": {
      "text/plain": [
       "3.5"
      ]
     },
     "execution_count": 10,
     "metadata": {},
     "output_type": "execute_result"
    }
   ],
   "source": [
    "moyenne_table([2,5,6,1])"
   ]
  }
 ],
 "metadata": {
  "kernelspec": {
   "display_name": "Python 3",
   "language": "python",
   "name": "python3"
  },
  "language_info": {
   "codemirror_mode": {
    "name": "ipython",
    "version": 3
   },
   "file_extension": ".py",
   "mimetype": "text/x-python",
   "name": "python",
   "nbconvert_exporter": "python",
   "pygments_lexer": "ipython3",
   "version": "3.8.13 (default, Dec 30 2022, 16:12:50) \n[GCC 9.4.0]"
  },
  "toc": {
   "base_numbering": 1,
   "nav_menu": {},
   "number_sections": true,
   "sideBar": true,
   "skip_h1_title": false,
   "title_cell": "Table of Contents",
   "title_sidebar": "Contents",
   "toc_cell": false,
   "toc_position": {},
   "toc_section_display": true,
   "toc_window_display": false
  },
  "varInspector": {
   "cols": {
    "lenName": 16,
    "lenType": 16,
    "lenVar": 40
   },
   "kernels_config": {
    "python": {
     "delete_cmd_postfix": "",
     "delete_cmd_prefix": "del ",
     "library": "var_list.py",
     "varRefreshCmd": "print(var_dic_list())"
    },
    "r": {
     "delete_cmd_postfix": ") ",
     "delete_cmd_prefix": "rm(",
     "library": "var_list.r",
     "varRefreshCmd": "cat(var_dic_list()) "
    }
   },
   "types_to_exclude": [
    "module",
    "function",
    "builtin_function_or_method",
    "instance",
    "_Feature"
   ],
   "window_display": false
  },
  "vscode": {
   "interpreter": {
    "hash": "110cc1dee26208153f2972f08a2ad52b6a56238dc66d48e87fb757ef2996db56"
   }
  }
 },
 "nbformat": 4,
 "nbformat_minor": 4
}
