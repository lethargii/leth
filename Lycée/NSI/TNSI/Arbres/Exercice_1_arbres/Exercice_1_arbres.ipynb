{
 "cells": [
  {
   "cell_type": "code",
   "execution_count": 15,
   "metadata": {},
   "outputs": [],
   "source": [
    "class Arbre:\n",
    "    def __init__(self, data):\n",
    "        self.data = data\n",
    "        self.left = None\n",
    "        self.right = None\n",
    "\n",
    "    def set_left(self, sousarbre):\n",
    "        self.left = sousarbre\n",
    "\n",
    "    def set_right(self, sousarbre):\n",
    "        self.right = sousarbre  \n",
    "\n",
    "    def get_left(self):\n",
    "        return self.left\n",
    "\n",
    "    def get_right(self):\n",
    "        return self.right\n",
    "\n",
    "    def get_data(self):\n",
    "        return self.data\n",
    "\n",
    "    def recherche(self, v):\n",
    "        n = self\n",
    "        est_present = False\n",
    "        recherche_finie = False\n",
    "        while not recherche_finie:\n",
    "            if v == n.v:\n",
    "                recherche_finie = True\n",
    "                est_present = True\n",
    "            elif v < n.v:\n",
    "                if n.ag != None:\n",
    "                    n = n.ag\n",
    "                else:\n",
    "                    recherche_finie = True\n",
    "            else:\n",
    "                if n.ad != None:\n",
    "                    n = n.ad\n",
    "                else:\n",
    "                    recherche_finie = True\n",
    "        return est_present\n"
   ]
  },
  {
   "cell_type": "code",
   "execution_count": 19,
   "metadata": {},
   "outputs": [],
   "source": [
    "a = Arbre(4)\n",
    "a.set_left(Arbre(3))\n",
    "a.set_right(Arbre(1))\n",
    "a.get_right().set_left(Arbre(2))\n",
    "a.get_right().set_right(Arbre(7))\n",
    "a.get_left().set_left(Arbre(6))\n",
    "a.get_right().get_right().set_left(Arbre(9))"
   ]
  },
  {
   "cell_type": "code",
   "execution_count": 20,
   "metadata": {},
   "outputs": [
    {
     "data": {
      "text/plain": [
       "False"
      ]
     },
     "execution_count": 20,
     "metadata": {},
     "output_type": "execute_result"
    }
   ],
   "source": [
    "a.recherche(9)"
   ]
  },
  {
   "cell_type": "code",
   "execution_count": 22,
   "metadata": {},
   "outputs": [],
   "source": [
    "class Noeud():\n",
    "    def __init__(self, v):\n",
    "        self.ag = None\n",
    "        self.ad = None\n",
    "        self.v = v\n",
    "    def insere(self, v):\n",
    "        n = self\n",
    "        est_insere = False\n",
    "        while not est_insere :\n",
    "            if v == n.v:\n",
    "                est_insere = True\n",
    "            elif v < n.v:\n",
    "                if n.ag != None:\n",
    "                    n = n.ag\n",
    "                else:\n",
    "                    n.ag = Noeud(v)\n",
    "                    est_insere = True\n",
    "            else:\n",
    "                if n.ad != None:\n",
    "                    n = n.ad\n",
    "                else:\n",
    "                    n.ad = Noeud(v)\n",
    "                    est_insere = True\n",
    "    def insere_tout(self, vals):\n",
    "        for v in vals:\n",
    "            self.insere(v)\n",
    "\n",
    "    def recherche(self, v):\n",
    "        n = self\n",
    "        est_present = False\n",
    "        recherche_finie = False\n",
    "        while not recherche_finie:\n",
    "            if v == n.v:\n",
    "                recherche_finie = True\n",
    "                est_present = True\n",
    "            elif v < n.v:\n",
    "                if n.ag != None:\n",
    "                    n = n.ag\n",
    "                else:\n",
    "                    recherche_finie = True\n",
    "            else:\n",
    "                if n.ad != None:\n",
    "                    n = n.ad\n",
    "                else:\n",
    "                    recherche_finie = True\n",
    "        return est_present\n"
   ]
  },
  {
   "cell_type": "code",
   "execution_count": 34,
   "metadata": {},
   "outputs": [],
   "source": [
    "class Noeud():\n",
    "    def __init__(self, v):\n",
    "        self.ag = None\n",
    "        self.ad = None\n",
    "        self.v = v\n",
    "    def insere(self, v):\n",
    "        n = self\n",
    "        est_insere = False\n",
    "        while not est_insere :\n",
    "            if v == n.v:\n",
    "                est_insere = True\n",
    "            elif v < n.v:\n",
    "                if n.ag != None:\n",
    "                    n = n.ag\n",
    "                else:\n",
    "                    n.ag = Noeud(v)\n",
    "                    est_insere = True\n",
    "            else:\n",
    "                if n.ad != None:\n",
    "                    n = n.ad\n",
    "                else:\n",
    "                    n.ad = Noeud(v)\n",
    "                    est_insere = True\n",
    "    def insere_tout(self, vals):\n",
    "        for v in vals:\n",
    "            self.insere(v)\n",
    "\n",
    "    def recherche(self, v):\n",
    "        n = self\n",
    "        recherche_finie = False\n",
    "        while not recherche_finie:\n",
    "            if v == n.v:\n",
    "                recherche_finie = True\n",
    "                return True\n",
    "            elif v < n.v:\n",
    "                if n.ag != None:\n",
    "                    n = n.ag\n",
    "                else:\n",
    "                    recherche_finie = True\n",
    "            else:\n",
    "                if n.ad != None:\n",
    "                    n = n.ad\n",
    "                else:\n",
    "                    recherche_finie = True\n",
    "        return False\n"
   ]
  },
  {
   "cell_type": "code",
   "execution_count": 35,
   "metadata": {},
   "outputs": [],
   "source": [
    "racine = Noeud(18)\n",
    "racine.insere_tout([12, 13, 15, 16, 19, 21, 32, 23])"
   ]
  },
  {
   "cell_type": "code",
   "execution_count": 36,
   "metadata": {},
   "outputs": [
    {
     "data": {
      "text/plain": [
       "True"
      ]
     },
     "execution_count": 36,
     "metadata": {},
     "output_type": "execute_result"
    }
   ],
   "source": [
    "racine.recherche(32)"
   ]
  }
 ],
 "metadata": {
  "kernelspec": {
   "display_name": "Python 3",
   "language": "python",
   "name": "python3"
  },
  "language_info": {
   "codemirror_mode": {
    "name": "ipython",
    "version": 3
   },
   "file_extension": ".py",
   "mimetype": "text/x-python",
   "name": "python",
   "nbconvert_exporter": "python",
   "pygments_lexer": "ipython3",
   "version": "3.8.13"
  },
  "orig_nbformat": 4,
  "vscode": {
   "interpreter": {
    "hash": "9ac03a0a6051494cc606d484d27d20fce22fb7b4d169f583271e11d5ba46a56e"
   }
  }
 },
 "nbformat": 4,
 "nbformat_minor": 2
}
