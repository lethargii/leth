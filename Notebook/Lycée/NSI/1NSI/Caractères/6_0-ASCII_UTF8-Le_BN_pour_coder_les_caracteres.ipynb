{
 "cells": [
  {
   "cell_type": "markdown",
   "metadata": {},
   "source": [
    "# ASCII"
   ]
  },
  {
   "cell_type": "markdown",
   "metadata": {},
   "source": [
    "# Le Bloc Note pour apprendre à encoder les caractères :"
   ]
  },
  {
   "cell_type": "markdown",
   "metadata": {},
   "source": [
    "Un paquet de données transmit entre deux machines via internet que ce soit du texte, des images ou du son, tout comme un fichier informatique quel qu'il soit, ne sont finalement qu'une suite de 0 et de 1 que l'on peut regrouper par lots de 8 formant ainsi une séquence d'octects...\n",
    "\n",
    "Utiliser un encodage plutôt qu'un autre revient à interpréter la même séquence d'octets de deux façons différentes au risque de commettre des erreurs...\n",
    "\n",
    "## L'ASCII :\n",
    "\n",
    "Pour interpréter correctement un message textuel échangé entre ordinateurs, le choix d'une convention de codage commune et standardisée s'est imposé dès le début des années 1960. C'est la norme **ASCII** pour American Standard Code for Information Interchange qui a été retenu pour le codage des caractères.\n",
    "\n",
    "C'est une table de 128 caractères numérotés de 0 à 127 (codés sur 7 bits) qui inclue les lettres majuscules et minuscules, les symboles de ponctuation (& ~ , . ; # \" - etc...) et les chiffres :\n",
    "\n",
    "<img alt=\"ASCII-Table\" src=\"https://upload.wikimedia.org/wikipedia/commons/d/dd/ASCII-Table.svg\">\n",
    "\n",
    "Ce jeu de symboles est suffisant pour rédiger un programme informatique ou un texte en Anglais. Mais il ne permet pas d'écrire dans d'autres langues qui utiliseraient des accents par exemple...\n",
    "\n",
    "<h3 class='fa fa-graduation-cap' style=\"color: MediumSeaGreen\"> A faire vous même n°1 :</h3>\n",
    "\n",
    "Vérifier si la trame d'informations binaires donnée au début du notebook [Hexadecimal-Autre_BN_pour_coder](Hexadecimal-Autre_BN_pour_coder.ipynb) prend du sens pour vous si on la décode à l'aide de la table ACSCII ?\n",
    "\n",
    "`010011100101001101001001001011000010000001100011001001110110010101110011011101000010000001100011011011110110111101101100001000000100001`\n",
    "\n",
    "| Binaire  |Hexadecimal| ASCII |\n",
    "|:--------:|:---------:|:-----:|\n",
    "|`01001110`|    `4E`   |   N   |\n",
    "|`01010011`|    `53`   |   S   |\n",
    "|`01001001`|    `49`   |   I   |\n",
    "|`00101100`|    `2C`   |   ,   |\n",
    "|`00100000`|    `20`   |       |\n",
    "|`01100011`|    `63`   |   c   |\n",
    "|`00100111`|    `27`   |   '   |\n",
    "|`01100101`|    `65`   |   e   |\n",
    "|`01110011`|    `73`   |   s   |\n",
    "|`01110100`|    `74`   |   t   |\n",
    "|`00100000`|    `20`   |       |\n",
    "|`01100011`|    `63`   |   c   |\n",
    "|`01101111`|    `6F`   |   o   |\n",
    "|`01101111`|    `6F`   |   o   |\n",
    "|`01101100`|    `6C`   |   l   |\n",
    "|`00100000`|    `20`   |       |\n",
    "|`00100001`|    `21`   |   !   |\n",
    "\n",
    "<h3 class='fa fa-graduation-cap' style=\"color: darkorange\"> A faire vous même n°2 :</h3>\n",
    "\n",
    "Quelle opération arithmétique doit-on réaliser pour passer d'une minuscule à une majuscule ?\n",
    "\n",
    "20\n",
    "\n",
    "...\n",
    "\n",
    "\n",
    "<h3 class='fa fa-graduation-cap' style=\"color: tomato\"> A faire vous même n°3 :</h3>\n",
    "\n",
    "Peut-on transformer l'image précédemment étudiée en un message textuel codé en ASCCI ?\n",
    " \n",
    "<img src=\"https://ericecmorlaix.github.io/img/NSI-ASCII-2D_Code.png\" alt=\"ExerciceCodageASCII.png\">\n",
    "\n",
    "...\n",
    "\n",
    "...\n",
    "\n",
    "\n",
    "## Python et le codage des caractères :\n",
    "\n",
    "Deux fonctions prédéfinies permettent d’effectuer la conversion entre un caractère et son identifiant numérique :\n",
    "\n",
    "- la fonction `ord()` renvoie l’identifiant numérique correspondant au caractère passé en argument ;\n",
    "\n",
    "- inversement, `chr()` renvoie le caractère correspondant à l'entier passé à cette fonction.\n"
   ]
  },
  {
   "cell_type": "code",
   "execution_count": null,
   "metadata": {},
   "outputs": [],
   "source": [
    "chr(0b01000001)"
   ]
  },
  {
   "cell_type": "code",
   "execution_count": null,
   "metadata": {},
   "outputs": [],
   "source": [
    "chr(0x41)"
   ]
  },
  {
   "cell_type": "code",
   "execution_count": null,
   "metadata": {},
   "outputs": [],
   "source": [
    "ord('A')"
   ]
  },
  {
   "cell_type": "code",
   "execution_count": null,
   "metadata": {},
   "outputs": [],
   "source": [
    "bin(65)"
   ]
  },
  {
   "cell_type": "code",
   "execution_count": null,
   "metadata": {},
   "outputs": [],
   "source": [
    "hex(ord('A'))"
   ]
  },
  {
   "cell_type": "markdown",
   "metadata": {},
   "source": [
    "<h3 class='fa fa-cog' style=\"color: MediumSeaGreen\"> A faire vous même n°4 :</h3>\n",
    "\n",
    "**Tester** les fonctions suivantes :\n",
    "\n",
    "```python\n",
    "def code(lettre):\n",
    "    return lettre,ord(lettre),bin(ord(lettre))\n",
    "\n",
    "def decode(nombre):\n",
    "    return chr(nombre),nombre,bin(nombre)\n",
    "```\n",
    "Puis, **écrire** un programme qui affiche pour toutes les lettres de l’alphabet un résultat du type :\n",
    "```\n",
    "('a', 97, '0b1100001')\n",
    "('b', 98, '0b1100010')\n",
    "```\n",
    "\n",
    "Enfin, **modifier** la définition des fonctions pour inclure l'affichage du code ASCII en hexadécimal."
   ]
  },
  {
   "cell_type": "code",
   "execution_count": 12,
   "metadata": {},
   "outputs": [
    {
     "name": "stdout",
     "output_type": "stream",
     "text": [
      "('I', 73, '0b1001001', '0x49')\n",
      "('<', 60, '0b111100', '0x3c')\n"
     ]
    }
   ],
   "source": [
    "def code(lettre):\n",
    "    return lettre,ord(lettre),bin(ord(lettre)),hex(ord(lettre))\n",
    "\n",
    "def decode(nombre):\n",
    "    return chr(nombre),nombre,bin(nombre),hex(nombre)\n",
    "\n",
    "print(code(\"I\"))\n",
    "\n",
    "print(decode(60))\n",
    "\n"
   ]
  },
  {
   "cell_type": "markdown",
   "metadata": {},
   "source": [
    "<h3 class='fa fa-code' style=\"color: darkorange\"> A faire vous même n°5 :</h3>\n",
    "\n",
    "**Ecrire** un script qui affiche dans un tableau l'ensemble des caractères imprimables et leur code ASCII respectif"
   ]
  },
  {
   "cell_type": "code",
   "execution_count": 13,
   "metadata": {},
   "outputs": [
    {
     "name": "stdout",
     "output_type": "stream",
     "text": [
      "('\\x00', 0, '0b0', '0x0')\n",
      "('\\x01', 1, '0b1', '0x1')\n",
      "('\\x02', 2, '0b10', '0x2')\n",
      "('\\x03', 3, '0b11', '0x3')\n",
      "('\\x04', 4, '0b100', '0x4')\n",
      "('\\x05', 5, '0b101', '0x5')\n",
      "('\\x06', 6, '0b110', '0x6')\n",
      "('\\x07', 7, '0b111', '0x7')\n",
      "('\\x08', 8, '0b1000', '0x8')\n",
      "('\\t', 9, '0b1001', '0x9')\n",
      "('\\n', 10, '0b1010', '0xa')\n",
      "('\\x0b', 11, '0b1011', '0xb')\n",
      "('\\x0c', 12, '0b1100', '0xc')\n",
      "('\\r', 13, '0b1101', '0xd')\n",
      "('\\x0e', 14, '0b1110', '0xe')\n",
      "('\\x0f', 15, '0b1111', '0xf')\n",
      "('\\x10', 16, '0b10000', '0x10')\n",
      "('\\x11', 17, '0b10001', '0x11')\n",
      "('\\x12', 18, '0b10010', '0x12')\n",
      "('\\x13', 19, '0b10011', '0x13')\n",
      "('\\x14', 20, '0b10100', '0x14')\n",
      "('\\x15', 21, '0b10101', '0x15')\n",
      "('\\x16', 22, '0b10110', '0x16')\n",
      "('\\x17', 23, '0b10111', '0x17')\n",
      "('\\x18', 24, '0b11000', '0x18')\n",
      "('\\x19', 25, '0b11001', '0x19')\n",
      "('\\x1a', 26, '0b11010', '0x1a')\n",
      "('\\x1b', 27, '0b11011', '0x1b')\n",
      "('\\x1c', 28, '0b11100', '0x1c')\n",
      "('\\x1d', 29, '0b11101', '0x1d')\n",
      "('\\x1e', 30, '0b11110', '0x1e')\n",
      "('\\x1f', 31, '0b11111', '0x1f')\n",
      "(' ', 32, '0b100000', '0x20')\n",
      "('!', 33, '0b100001', '0x21')\n",
      "('\"', 34, '0b100010', '0x22')\n",
      "('#', 35, '0b100011', '0x23')\n",
      "('$', 36, '0b100100', '0x24')\n",
      "('%', 37, '0b100101', '0x25')\n",
      "('&', 38, '0b100110', '0x26')\n",
      "(\"'\", 39, '0b100111', '0x27')\n",
      "('(', 40, '0b101000', '0x28')\n",
      "(')', 41, '0b101001', '0x29')\n",
      "('*', 42, '0b101010', '0x2a')\n",
      "('+', 43, '0b101011', '0x2b')\n",
      "(',', 44, '0b101100', '0x2c')\n",
      "('-', 45, '0b101101', '0x2d')\n",
      "('.', 46, '0b101110', '0x2e')\n",
      "('/', 47, '0b101111', '0x2f')\n",
      "('0', 48, '0b110000', '0x30')\n",
      "('1', 49, '0b110001', '0x31')\n",
      "('2', 50, '0b110010', '0x32')\n",
      "('3', 51, '0b110011', '0x33')\n",
      "('4', 52, '0b110100', '0x34')\n",
      "('5', 53, '0b110101', '0x35')\n",
      "('6', 54, '0b110110', '0x36')\n",
      "('7', 55, '0b110111', '0x37')\n",
      "('8', 56, '0b111000', '0x38')\n",
      "('9', 57, '0b111001', '0x39')\n",
      "(':', 58, '0b111010', '0x3a')\n",
      "(';', 59, '0b111011', '0x3b')\n",
      "('<', 60, '0b111100', '0x3c')\n",
      "('=', 61, '0b111101', '0x3d')\n",
      "('>', 62, '0b111110', '0x3e')\n",
      "('?', 63, '0b111111', '0x3f')\n",
      "('@', 64, '0b1000000', '0x40')\n",
      "('A', 65, '0b1000001', '0x41')\n",
      "('B', 66, '0b1000010', '0x42')\n",
      "('C', 67, '0b1000011', '0x43')\n",
      "('D', 68, '0b1000100', '0x44')\n",
      "('E', 69, '0b1000101', '0x45')\n",
      "('F', 70, '0b1000110', '0x46')\n",
      "('G', 71, '0b1000111', '0x47')\n",
      "('H', 72, '0b1001000', '0x48')\n",
      "('I', 73, '0b1001001', '0x49')\n",
      "('J', 74, '0b1001010', '0x4a')\n",
      "('K', 75, '0b1001011', '0x4b')\n",
      "('L', 76, '0b1001100', '0x4c')\n",
      "('M', 77, '0b1001101', '0x4d')\n",
      "('N', 78, '0b1001110', '0x4e')\n",
      "('O', 79, '0b1001111', '0x4f')\n",
      "('P', 80, '0b1010000', '0x50')\n",
      "('Q', 81, '0b1010001', '0x51')\n",
      "('R', 82, '0b1010010', '0x52')\n",
      "('S', 83, '0b1010011', '0x53')\n",
      "('T', 84, '0b1010100', '0x54')\n",
      "('U', 85, '0b1010101', '0x55')\n",
      "('V', 86, '0b1010110', '0x56')\n",
      "('W', 87, '0b1010111', '0x57')\n",
      "('X', 88, '0b1011000', '0x58')\n",
      "('Y', 89, '0b1011001', '0x59')\n",
      "('Z', 90, '0b1011010', '0x5a')\n",
      "('[', 91, '0b1011011', '0x5b')\n",
      "('\\\\', 92, '0b1011100', '0x5c')\n",
      "(']', 93, '0b1011101', '0x5d')\n",
      "('^', 94, '0b1011110', '0x5e')\n",
      "('_', 95, '0b1011111', '0x5f')\n",
      "('`', 96, '0b1100000', '0x60')\n",
      "('a', 97, '0b1100001', '0x61')\n",
      "('b', 98, '0b1100010', '0x62')\n",
      "('c', 99, '0b1100011', '0x63')\n",
      "('d', 100, '0b1100100', '0x64')\n",
      "('e', 101, '0b1100101', '0x65')\n",
      "('f', 102, '0b1100110', '0x66')\n",
      "('g', 103, '0b1100111', '0x67')\n",
      "('h', 104, '0b1101000', '0x68')\n",
      "('i', 105, '0b1101001', '0x69')\n",
      "('j', 106, '0b1101010', '0x6a')\n",
      "('k', 107, '0b1101011', '0x6b')\n",
      "('l', 108, '0b1101100', '0x6c')\n",
      "('m', 109, '0b1101101', '0x6d')\n",
      "('n', 110, '0b1101110', '0x6e')\n",
      "('o', 111, '0b1101111', '0x6f')\n",
      "('p', 112, '0b1110000', '0x70')\n",
      "('q', 113, '0b1110001', '0x71')\n",
      "('r', 114, '0b1110010', '0x72')\n",
      "('s', 115, '0b1110011', '0x73')\n",
      "('t', 116, '0b1110100', '0x74')\n",
      "('u', 117, '0b1110101', '0x75')\n",
      "('v', 118, '0b1110110', '0x76')\n",
      "('w', 119, '0b1110111', '0x77')\n",
      "('x', 120, '0b1111000', '0x78')\n",
      "('y', 121, '0b1111001', '0x79')\n",
      "('z', 122, '0b1111010', '0x7a')\n",
      "('{', 123, '0b1111011', '0x7b')\n",
      "('|', 124, '0b1111100', '0x7c')\n",
      "('}', 125, '0b1111101', '0x7d')\n",
      "('~', 126, '0b1111110', '0x7e')\n",
      "('\\x7f', 127, '0b1111111', '0x7f')\n"
     ]
    }
   ],
   "source": [
    "for k in range(128):\n",
    "    print(code(chr(k)))"
   ]
  },
  {
   "cell_type": "markdown",
   "metadata": {},
   "source": [
    "<h3 class='fa fa-code' style=\"color: tomato\"> A faire vous même n°6 :</h3>\n",
    "\n",
    "**Ecrire** une fonction `minuscule()` qui prend en argument une lettre majuscule et renvoie la lettre minuscule correspondante."
   ]
  },
  {
   "cell_type": "code",
   "execution_count": null,
   "metadata": {},
   "outputs": [],
   "source": [
    "def minuscule(lettre):\n",
    "    "
   ]
  },
  {
   "cell_type": "markdown",
   "metadata": {},
   "source": [
    "## L'art ASCII :\n",
    "\n",
    "***\n",
    "> De [l’art ASCII](https://fr.wikipedia.org/wiki/Art_ASCII) (prononcé [aski:]) consiste à créer des images uniquement à l'aide des lettres et caractères spéciaux contenus dans l'American Standard Code for Information Interchange [ASCII](https://fr.wikipedia.org/wiki/American_Standard_Code_for_Information_Interchange) \n",
    ">\n",
    "> C'est l'ancêtre des [émoticônes](https://fr.wikipedia.org/wiki/Émoticône)...  ;-)\n",
    "\n",
    "<img src=\"https://ericecmorlaix.github.io/img/aSki.jpg\" alt=\"dessin skieur\" width=40%>\n",
    "<center>Art ASCII ou art à ski ?</center>\n",
    "\n",
    "\n",
    "> A voir également : [la webcam de Micode en ASCII art](https://youtu.be/DBnStqiLB-Q)\n",
    "\n",
    "***\n",
    "\n",
    "Les caractères peuvent être saisis directement par leur code ASCII en utilisant la notation ``\\xhh`` où ``hh`` est le code hexadécimal du caractère."
   ]
  },
  {
   "cell_type": "code",
   "execution_count": 14,
   "metadata": {},
   "outputs": [
    {
     "name": "stdout",
     "output_type": "stream",
     "text": [
      "      \\|||/\n",
      "      (0 0)\n",
      ".~ooO~~(_)~~~~~~.\n",
      "|               |\n",
      "|  L'art ASCII  |\n",
      "|               |\n",
      "'~~~~~~~~~~~ooO~'\n",
      "     |__|__|\n",
      "      || ||\n",
      "     ooO Ooo\n",
      "\n"
     ]
    }
   ],
   "source": [
    "S = '\\x20' * 6 + '\\x5c' + '\\x7c' * 3 + '\\x2f' + \"\\n\"\n",
    "S += '\\x20' * 6 + '(0 0)' + \"\\n\"\n",
    "S += '\\x2e\\x7e\\x6f\\x6f\\x4f\\x7e\\x7e(\\x5f)' + '\\x7e' * 6 + '\\x2e' + \"\\n\"\n",
    "\n",
    "for i in range (0,3):\n",
    "    if i == 1 :\n",
    "        S += '\\x7c  L\\'art ASCII  \\x7c' + \"\\n\"\n",
    "    else :\n",
    "        S += '\\x7c' + '\\x20' * 15 + '\\x7c' + \"\\n\"\n",
    "    \n",
    "S += \"\\x27\" + '\\x7e' * 11 + \"\\x6f\\x6f\\x4f\\x7e\\x27\" + \"\\n\"\n",
    "\n",
    "S += '\\x20' * 5 + '\\x7c' + '\\x5f' * 2 + '\\x7c' + '\\x5f' * 2 + '\\x7c' + \"\\n\"\n",
    "S += '\\x20' * 6 + '\\x7c' * 2 + '\\x20' + '\\x7c' * 2 + \"\\n\"\n",
    "S += '\\x20' * 5 + '\\x6f' * 2 + '\\x4f\\x20\\x4f' + '\\x6f'*2 + \"\\n\"\n",
    "\n",
    "print(S)"
   ]
  },
  {
   "cell_type": "markdown",
   "metadata": {},
   "source": [
    "<h3 class='fa fa-rocket' style=\"color: tomato\"> Prolongement :</h3>\n",
    "\n",
    "**Développer** votre avatar en Art ASCII pour signer les entêtes de vos programmes et les docstrings de vos fonctions..."
   ]
  },
  {
   "cell_type": "code",
   "execution_count": null,
   "metadata": {},
   "outputs": [],
   "source": []
  },
  {
   "cell_type": "markdown",
   "metadata": {},
   "source": [
    "## Vers l'UTF8 :\n",
    "\n",
    "<center>\n",
    "<figure>\n",
    "<img src=\"https://www.apprendre-en-ligne.net/bloginfo/images/humour/geek_martine-ecrit-en-utf-8.jpg\" alt=\"geek_martine-ecrit-en-utf-8.jpg\" width = \"40%\">\n",
    "<figcaption>source = <a href=\"https://www.apprendre-en-ligne.net\"> https://www.apprendre-en-ligne.net</a></figcaption>\n",
    "</figure>\n",
    "</center>\n",
    "\n",
    "La nécessité de représenter des textes comportant des caractères non présents dans la table ASCII tels ceux de l'alphabet latin utilisés en français comme le 'à', le 'é' ou le 'ç' impose l'utilisation d'un autre codage que l'ASCII.\n",
    "\n",
    "Plusieurs propositions de codage coexistent.\n",
    "\n",
    "Afin de faciliter les choses, ces propositions sont des extensions du codage ASCII :\n",
    "\n",
    "- le codage des caractères présents dans la table ASCII est conservé ;\n",
    "- le principe du codage de chacun des caractères sur un octet est conservé.\n",
    "\n",
    "Mais les 8 bits de l'octet vont être utilisés. Cela permet de coder $2^8 = 256$ caractères, soit 128 caractères supplémentaires.\n",
    "\n",
    "L'ISO, organisation internationale de normalisation, propose de son côté plusieurs variantes de codages adaptées aux différentes langues. La plus utilisée concerne les langues européennes occidentales. Il s'agit de l'**ISO-8859-1**, aussi nommé **ISO-Latin1**.\n",
    "\n",
    "Microsoft propose le codage dit **Windows-1252** (encore appelé ANSI, bien que cela puisse paraître abusif, l'ANSI, American National Standards Institute, n'ayant jamais validé cette table !).\n",
    "\n",
    "Ce codage ne diffère de l'ISO-8859-1 que pour quelques caractères tels le signe euro, €, la ligature o-e, œ, ou certains guillemets qui utilisent des codes réservés par ISO-Latin-1 pour des caractères de contrôle.\n",
    "\n",
    "Et les autres langues ?\n",
    "À l'évidence, 256 caractères ne suffisent pas pour représenter les lettres de tous les alphabets utilisés (pensons au russe, à l'hébreu, au chinois, ou encore au japonais, etc...), c'est pour celà qu'un nouveau standard a été introduit au début des années 1990 : **Unicode**.\n",
    "\n",
    "La table [**Unicode**](https://fr.wikipedia.org/wiki/Unicode) comporte la définition de près de cent cinquante mille caractères et a pour ambition de référencer tous les caractères existant au monde. Aussi, pour ne pas augmenter trop considérablement la taille des fichiers, on n'utilise pas directement la table Unicode pour coder les caractères dans la machine...\n",
    "\n",
    "Unicode accepte plusieurs systèmes de codage : UTF-8, UTF-16, UTF-32. Le codage le plus couramment utilisé, notamment sur le Web, se nomme **UTF-8**. Son principe est le suivant : une première série de caractères sont codés sur un octet. D'autres caractères sont codés sur deux octets... \n",
    "\n",
    "Les 128 premiers caractères de la table UTF-8 sont compatibles avec le codage ASCII. Ainsi le codage UTF-8 d'un texte ne comportant que des caractères présents dans la table ASCII sera le même que le codage ASCII de ce texte.\n",
    "\n",
    "Ce ne sera pas vrai pour un texte ISO-Latin-1.\n",
    "\n",
    "Il importe donc, quand on veut décoder un texte, de savoir quel est le codage utilisé sous peine de décoder improprement les caractères.\n",
    "\n",
    "**C'est pourquoi en NSI, on utilisera un encodage en UTF-8...**"
   ]
  },
  {
   "cell_type": "code",
   "execution_count": 15,
   "metadata": {},
   "outputs": [
    {
     "name": "stdout",
     "output_type": "stream",
     "text": [
      "Help on built-in function chr in module builtins:\n",
      "\n",
      "chr(i, /)\n",
      "    Return a Unicode string of one character with ordinal i; 0 <= i <= 0x10ffff.\n",
      "\n"
     ]
    }
   ],
   "source": [
    "help(chr)"
   ]
  },
  {
   "cell_type": "code",
   "execution_count": 16,
   "metadata": {},
   "outputs": [
    {
     "name": "stdout",
     "output_type": "stream",
     "text": [
      "Help on built-in function ord in module builtins:\n",
      "\n",
      "ord(c, /)\n",
      "    Return the Unicode code point for a one-character string.\n",
      "\n"
     ]
    }
   ],
   "source": [
    "help(ord)"
   ]
  },
  {
   "cell_type": "markdown",
   "metadata": {},
   "source": [
    "<h3 class='fa fa-graduation-cap' style=\"color: MediumSeaGreen\"> Exercice d'application n°1 :</h3>\n",
    "\n",
    "1. **Rechercher** avec un programme les codes numériques des lettres é, è, ê, à, â, ï, ç et ù.\n",
    "2. Même question pour les majuscules accentuées."
   ]
  },
  {
   "cell_type": "code",
   "execution_count": 35,
   "metadata": {},
   "outputs": [
    {
     "name": "stdout",
     "output_type": "stream",
     "text": [
      "À | Á | Â | Ã | Ä | Å | Æ | Ç | È | É | Ê | Ë | Ì | Í | Î | Ï | Ð | Ñ | Ò | Ó | Ô | Õ | Ö | × | Ø | Ù | Ú | Û | Ü | Ý | Þ | ß | à | á | â | ã | ä | å | æ | ç | è | é | ê | ë | ì | í | î | ï | ð | ñ | ò | ó | ô | õ | ö | ÷ | ø | ù | \n",
      "Bravo !\n"
     ]
    }
   ],
   "source": [
    "def lettre_utf(a,b):\n",
    "    message=\"\"\n",
    "    for k in range(a+1,b):\n",
    "        message = message + chr(k) + \" | \"\n",
    "    return message\n",
    "        \n",
    "print(lettre_utf(191,250))\n",
    "\n",
    "print(chr(0b01000010),chr(0b01110010),chr(0b01100001),chr(0b01110110),chr(0b01101111),chr(0b00100000),chr(0b00100001),sep=\"\")"
   ]
  },
  {
   "cell_type": "code",
   "execution_count": 31,
   "metadata": {},
   "outputs": [
    {
     "data": {
      "text/plain": [
       "226"
      ]
     },
     "execution_count": 31,
     "metadata": {},
     "output_type": "execute_result"
    }
   ],
   "source": [
    "ord(\"â\")"
   ]
  },
  {
   "cell_type": "markdown",
   "metadata": {},
   "source": [
    "3. **Écrire** une fonction qui prend en paramètres deux entiers et qui affiche toutes les lettres dont les codes numériques sont compris entre ces deux entiers.\n",
    "4. Sauriez vous décoder cette exclamation en Binaire : `01000010011100100110000101110110011011110010000000100001`\n",
    "5. Peut-on coder cette phrase avec la table ASCII : \"un âne est passé par là\" (justifier la réponse)"
   ]
  },
  {
   "cell_type": "markdown",
   "metadata": {},
   "source": [
    "On ne peut pas coder cette phrase avec la table ASCII puisqu'on ne peut pas écrire les caractères avec accents mais on le peut avec UTF-8."
   ]
  },
  {
   "cell_type": "markdown",
   "metadata": {},
   "source": [
    "<h3 class='fa fa-graduation-cap' style=\"color: MediumSeaGreen\"> Exercice d'application n°2 :</h3>\n",
    "\n",
    "*Extrait du livre [Hatier Prépabac 1<sup>ère</sup> NSI](https://www.editions-hatier.fr/livre/nsi-1re-generale-numerique-et-sciences-informatiques-prepabac-9782401052307) de Céline ADOBET, Guillaume CONNAN, Gérard ROZSAVOLGYL, Laurent SIGNAC.*\n",
    "\n",
    "En UTF-8, le codage des caractères coïncide avec l'ASCII pour les 128 premiers caractères et les autres caractères sont représentés par plusieurs octets.\n",
    "\n",
    "La série d'octets suivants, donnés en hexadécimal, a été relevée dans un fichier codé en UTF-8.\n",
    "<center><pre>43 6F 64 C3 A9 20 65 6E 20 55 54 46 2D 38</pre></center>"
   ]
  },
  {
   "cell_type": "code",
   "execution_count": 8,
   "metadata": {},
   "outputs": [
    {
     "name": "stdout",
     "output_type": "stream",
     "text": [
      "Cod쎩 en UTF-8\n"
     ]
    }
   ],
   "source": [
    "print(chr(0x43),chr(0x6F),chr(0x64),chr(0xC3A9),chr(0x20),chr(0x65),chr(0x6E),chr(0x20),chr(0x55),chr(0x54),chr(0x46),chr(0x2D),chr(0x38),sep=\"\")"
   ]
  },
  {
   "cell_type": "markdown",
   "metadata": {},
   "source": [
    "Il contient uniquement des caractères de la table ASCII à l'exeption d'un \" é \".\n",
    "\n",
    "1. Quelle est la séquence d'octets qui représente le \" é \", et qu'est-ce qui est écrit dans le fichier ?\n",
    "\n",
    "2. Si le fichier avait été interprété en latin 1 (table ci-dessous), qu'est-ce qui se serait affiché ?\n",
    "\n",
    "<center>\n",
    "<figure>\n",
    "<table class=\"wikitable\" style=\"border-collapse:collapse;line-height:1.4;text-align:center\">\n",
    "\n",
    "<tbody><tr>\n",
    "<th colspan=\"17\" style=\"background-color:#FFCCBB\">ISO/CEI 8859-1\n",
    "</th></tr>\n",
    "<tr>\n",
    "<th>&#160;\n",
    "</th>\n",
    "<th style=\"width:2.5em\">0</th>\n",
    "<th style=\"width:2.5em\">1</th>\n",
    "<th style=\"width:2.5em\">2</th>\n",
    "<th style=\"width:2.5em\">3\n",
    "</th>\n",
    "<th style=\"width:2.5em\">4</th>\n",
    "<th style=\"width:2.5em\">5</th>\n",
    "<th style=\"width:2.5em\">6</th>\n",
    "<th style=\"width:2.5em\">7\n",
    "</th>\n",
    "<th style=\"width:2.5em\">8</th>\n",
    "<th style=\"width:2.5em\">9</th>\n",
    "<th style=\"width:2.5em\">A</th>\n",
    "<th style=\"width:2.5em\">B\n",
    "</th>\n",
    "<th style=\"width:2.5em\">C</th>\n",
    "<th style=\"width:2.5em\">D</th>\n",
    "<th style=\"width:2.5em\">E</th>\n",
    "<th style=\"width:2.5em\">F\n",
    "</th></tr>\n",
    "<tr>\n",
    "<th>0\n",
    "</th>\n",
    "<td rowspan=\"2\" colspan=\"16\" style=\"background:#DDDDDD\"><i>positions inutilisées</i>\n",
    "</td></tr>\n",
    "<tr>\n",
    "<th>1\n",
    "</th></tr>\n",
    "<tr>\n",
    "<th>2\n",
    "</th>\n",
    "<td><small style=\"border:1px dotted;padding:0 0.3em;color:#AAAAAA;font-size:87%\">SP</small></td>\n",
    "<td>!</td>\n",
    "<td>\"</td>\n",
    "<td>#</td>\n",
    "<td>$</td>\n",
    "<td>%</td>\n",
    "<td>&amp;</td>\n",
    "<td>'</td>\n",
    "<td>(</td>\n",
    "<td>)</td>\n",
    "<td>*</td>\n",
    "<td>+</td>\n",
    "<td>,</td>\n",
    "<td>-</td>\n",
    "<td>.</td>\n",
    "<td>/\n",
    "</td></tr>\n",
    "<tr>\n",
    "<th>3\n",
    "</th>\n",
    "<td>0</td>\n",
    "<td>1</td>\n",
    "<td>2</td>\n",
    "<td>3</td>\n",
    "<td>4</td>\n",
    "<td>5</td>\n",
    "<td>6</td>\n",
    "<td>7</td>\n",
    "<td>8</td>\n",
    "<td>9</td>\n",
    "<td>:</td>\n",
    "<td>;</td>\n",
    "<td>&lt;</td>\n",
    "<td>=</td>\n",
    "<td>&gt;</td>\n",
    "<td>?\n",
    "</td></tr>\n",
    "<tr>\n",
    "<th>4\n",
    "</th>\n",
    "<td>@</td>\n",
    "<td>A</td>\n",
    "<td>B</td>\n",
    "<td>C</td>\n",
    "<td>D</td>\n",
    "<td>E</td>\n",
    "<td>F</td>\n",
    "<td>G</td>\n",
    "<td>H</td>\n",
    "<td>I</td>\n",
    "<td>J</td>\n",
    "<td>K</td>\n",
    "<td>L</td>\n",
    "<td>M</td>\n",
    "<td>N</td>\n",
    "<td>O\n",
    "</td></tr>\n",
    "<tr>\n",
    "<th>5\n",
    "</th>\n",
    "<td>P</td>\n",
    "<td>Q</td>\n",
    "<td>R</td>\n",
    "<td>S</td>\n",
    "<td>T</td>\n",
    "<td>U</td>\n",
    "<td>V</td>\n",
    "<td>W</td>\n",
    "<td>X</td>\n",
    "<td>Y</td>\n",
    "<td>Z</td>\n",
    "<td>[</td>\n",
    "<td>\\</td>\n",
    "<td>]</td>\n",
    "<td>^</td>\n",
    "<td>_\n",
    "</td></tr>\n",
    "<tr>\n",
    "<th>6\n",
    "</th>\n",
    "<td>`</td>\n",
    "<td>a</td>\n",
    "<td>b</td>\n",
    "<td>c</td>\n",
    "<td>d</td>\n",
    "<td>e</td>\n",
    "<td>f</td>\n",
    "<td>g</td>\n",
    "<td>h</td>\n",
    "<td>i</td>\n",
    "<td>j</td>\n",
    "<td>k</td>\n",
    "<td>l</td>\n",
    "<td>m</td>\n",
    "<td>n</td>\n",
    "<td>o\n",
    "</td></tr>\n",
    "<tr>\n",
    "<th>7\n",
    "</th>\n",
    "<td>p</td>\n",
    "<td>q</td>\n",
    "<td>r</td>\n",
    "<td>s</td>\n",
    "<td>t</td>\n",
    "<td>u</td>\n",
    "<td>v</td>\n",
    "<td>w</td>\n",
    "<td>x</td>\n",
    "<td>y</td>\n",
    "<td>z</td>\n",
    "<td>{</td>\n",
    "<td>|</td>\n",
    "<td>}</td>\n",
    "<td>~</td>\n",
    "<td style=\"border-bottom:none;background:#DDDDDD\">\n",
    "</td></tr>\n",
    "<tr>\n",
    "<th>8\n",
    "</th>\n",
    "<td rowspan=\"2\" colspan=\"16\" style=\"background:#DDDDDD;text-align:center\"><i>positions inutilisées</i>\n",
    "</td></tr>\n",
    "<tr>\n",
    "<th>9\n",
    "</th></tr>\n",
    "<tr>\n",
    "<th>A\n",
    "</th>\n",
    "<td><span style=\"border:1px dotted;padding:0 0.3em;color:#AAAAAA;font-size:87%\">NBSP</span></td>\n",
    "<td>¡</td>\n",
    "<td>¢</td>\n",
    "<td>£</td>\n",
    "<td>¤</td>\n",
    "<td>¥</td>\n",
    "<td>¦</td>\n",
    "<td>§</td>\n",
    "<td>¨</td>\n",
    "<td>©</td>\n",
    "<td>ª</td>\n",
    "<td>«</td>\n",
    "<td>¬</td>\n",
    "<td><span style=\"border:1px dotted;padding:0 0.3em;color:#AAAAAA\">-</span></td>\n",
    "<td>®</td>\n",
    "<td>¯\n",
    "</td></tr>\n",
    "<tr>\n",
    "<th>B\n",
    "</th>\n",
    "<td>°</td>\n",
    "<td>±</td>\n",
    "<td>²</td>\n",
    "<td>³</td>\n",
    "<td>´</td>\n",
    "<td>µ</td>\n",
    "<td>¶</td>\n",
    "<td>·</td>\n",
    "<td>¸</td>\n",
    "<td>¹</td>\n",
    "<td>º</td>\n",
    "<td>»</td>\n",
    "<td>¼</td>\n",
    "<td>½</td>\n",
    "<td>¾</td>\n",
    "<td>¿\n",
    "</td></tr>\n",
    "<tr>\n",
    "<th>C\n",
    "</th>\n",
    "<td>À</td>\n",
    "<td>Á</td>\n",
    "<td>Â</td>\n",
    "<td>Ã</td>\n",
    "<td>Ä</td>\n",
    "<td>Å</td>\n",
    "<td>Æ</td>\n",
    "<td>Ç</td>\n",
    "<td>È</td>\n",
    "<td>É</td>\n",
    "<td>Ê</td>\n",
    "<td>Ë</td>\n",
    "<td>Ì</td>\n",
    "<td>Í</td>\n",
    "<td>Î</td>\n",
    "<td>Ï\n",
    "</td></tr>\n",
    "<tr>\n",
    "<th>D\n",
    "</th>\n",
    "<td>Ð</td>\n",
    "<td>Ñ</td>\n",
    "<td>Ò</td>\n",
    "<td>Ó</td>\n",
    "<td>Ô</td>\n",
    "<td>Õ</td>\n",
    "<td>Ö</td>\n",
    "<td>×</td>\n",
    "<td>Ø</td>\n",
    "<td>Ù</td>\n",
    "<td>Ú</td>\n",
    "<td>Û</td>\n",
    "<td>Ü</td>\n",
    "<td>Ý</td>\n",
    "<td>Þ</td>\n",
    "<td>ß\n",
    "</td></tr>\n",
    "<tr>\n",
    "<th>E\n",
    "</th>\n",
    "<td>à</td>\n",
    "<td>á</td>\n",
    "<td>â</td>\n",
    "<td>ã</td>\n",
    "<td>ä</td>\n",
    "<td>å</td>\n",
    "<td>æ</td>\n",
    "<td>ç</td>\n",
    "<td>è</td>\n",
    "<td>é</td>\n",
    "<td>ê</td>\n",
    "<td>ë</td>\n",
    "<td>ì</td>\n",
    "<td>í</td>\n",
    "<td>î</td>\n",
    "<td>ï\n",
    "</td></tr>\n",
    "<tr>\n",
    "<th>F\n",
    "</th>\n",
    "<td>ð</td>\n",
    "<td>ñ</td>\n",
    "<td>ò</td>\n",
    "<td>ó</td>\n",
    "<td>ô</td>\n",
    "<td>õ</td>\n",
    "<td>ö</td>\n",
    "<td>÷</td>\n",
    "<td>ø</td>\n",
    "<td>ù</td>\n",
    "<td>ú</td>\n",
    "<td>û</td>\n",
    "<td>ü</td>\n",
    "<td>ý</td>\n",
    "<td>þ</td>\n",
    "<td>ÿ\n",
    "</td></tr></tbody></table>\n",
    "<figcaption><a href=\"https://fr.wikipedia.org/wiki/ISO/CEI_8859-1\">source = wikipedia ISO/CEI_8859-1</a></figcaption>\n",
    "</figure>\n",
    "</center>\n",
    "\n",
    "Demander une correction à [Martine](https://www.apprendre-en-ligne.net/bloginfo/index.php/2009/01/21/151-martine-ecrit-en-utf-8) et/ou vérifier votre réponse à l'aide de la fonction Python suivante :"
   ]
  },
  {
   "cell_type": "code",
   "execution_count": 9,
   "metadata": {},
   "outputs": [],
   "source": [
    "def code_decode(lettre):\n",
    "    a = lettre.encode('utf8')\n",
    "    b = a.decode('latin_1')\n",
    "    return b"
   ]
  },
  {
   "cell_type": "code",
   "execution_count": null,
   "metadata": {},
   "outputs": [],
   "source": [
    "code_decode('é')"
   ]
  },
  {
   "cell_type": "markdown",
   "metadata": {},
   "source": [
    "****\n",
    "## Références aux programmes :\n",
    "\n",
    "<style type=\"text/css\">\n",
    ".tg  {border-collapse:collapse;border-spacing:0;}\n",
    ".tg td{font-family:Arial, sans-serif;font-size:14px;padding:10px 5px;border-style:solid;border-width:1px;overflow:hidden;word-break:normal;border-color:black;}\n",
    ".tg th{font-family:Arial, sans-serif;font-size:14px;font-weight:normal;padding:10px 5px;border-style:solid;border-width:1px;overflow:hidden;word-break:normal;border-color:black;}\n",
    ".tg .tg-cv16{font-weight:bold;background-color:#dae8fc;border-color:inherit;text-align:center}\n",
    ".tg .tg-xldj{border-color:inherit;text-align:left}\n",
    "</style>\n",
    "<table class=\"tg\">\n",
    "  <tr>\n",
    "    <th class=\"tg-cv16\">Compétences développées</th>\n",
    "    <th class=\"tg-cv16\">Capacités attendues</th>\n",
    "    <th class=\"tg-cv16\">Commentaires</th>\n",
    "  </tr>\n",
    "  <tr>\n",
    "    <td class=\"tg-xldj\">Représentation d’un texte en machine.<br><br>Exemples des encodages ASCII, ISO-8859-1, Unicode</td>\n",
    "    <td class=\"tg-xldj\">Identifier l’intérêt des différents systèmes d’encodage.<br><br>Convertir un fichier texte dans différents formats d’encodage.</td>\n",
    "    <td class=\"tg-xldj\">Aucune connaissance précise des normes d’encodage n’est exigible.</td>\n",
    "  </tr>\n",
    "</table>"
   ]
  },
  {
   "cell_type": "markdown",
   "metadata": {},
   "source": [
    "<a rel=\"license\" href=\"http://creativecommons.org/licenses/by-sa/4.0/\"><img alt=\"Licence Creative Commons\" style=\"border-width:0\" src=\"https://i.creativecommons.org/l/by-sa/4.0/88x31.png\" /></a><br />Ce document, inspiré des travaux de David ROCHE, Stephan VAN ZUIJLEN, et d'autres ressources listées plus haut, est mis à disposition selon les termes de la <a rel=\"license\" href=\"http://creativecommons.org/licenses/by-sa/4.0/\">Licence Creative Commons Attribution -  Partage dans les Mêmes Conditions 4.0 International</a>.\n",
    "\n",
    "Pour toute question, suggestion ou commentaire : <a href=\"mailto:eric.madec@ecmorlaix.fr\">eric.madec@ecmorlaix.fr</a>"
   ]
  },
  {
   "cell_type": "code",
   "execution_count": null,
   "metadata": {},
   "outputs": [],
   "source": []
  }
 ],
 "metadata": {
  "kernelspec": {
   "display_name": "Python 3.10.7 64-bit",
   "language": "python",
   "name": "python3"
  },
  "language_info": {
   "codemirror_mode": {
    "name": "ipython",
    "version": 3
   },
   "file_extension": ".py",
   "mimetype": "text/x-python",
   "name": "python",
   "nbconvert_exporter": "python",
   "pygments_lexer": "ipython3",
   "version": "3.10.7"
  },
  "toc": {
   "base_numbering": 1,
   "nav_menu": {},
   "number_sections": true,
   "sideBar": true,
   "skip_h1_title": false,
   "title_cell": "Table of Contents",
   "title_sidebar": "Contents",
   "toc_cell": false,
   "toc_position": {},
   "toc_section_display": true,
   "toc_window_display": false
  },
  "varInspector": {
   "cols": {
    "lenName": 16,
    "lenType": 16,
    "lenVar": 40
   },
   "kernels_config": {
    "python": {
     "delete_cmd_postfix": "",
     "delete_cmd_prefix": "del ",
     "library": "var_list.py",
     "varRefreshCmd": "print(var_dic_list())"
    },
    "r": {
     "delete_cmd_postfix": ") ",
     "delete_cmd_prefix": "rm(",
     "library": "var_list.r",
     "varRefreshCmd": "cat(var_dic_list()) "
    }
   },
   "types_to_exclude": [
    "module",
    "function",
    "builtin_function_or_method",
    "instance",
    "_Feature"
   ],
   "window_display": false
  },
  "vscode": {
   "interpreter": {
    "hash": "64ae21ee98cd2819759ae8f1351a2318f24a930180cc2089820c6cf2e3aa9781"
   }
  }
 },
 "nbformat": 4,
 "nbformat_minor": 2
}
