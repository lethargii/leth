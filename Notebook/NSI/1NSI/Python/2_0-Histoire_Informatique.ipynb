{
 "cells": [
  {
   "cell_type": "markdown",
   "metadata": {},
   "source": [
    "# Histoire_Informatique"
   ]
  },
  {
   "cell_type": "markdown",
   "metadata": {},
   "source": [
    "## Personnages clés de l'informatique\n",
    "- Ada Loveface\n",
    "- Alan Turing\n",
    "- Grace Hopper\n",
    "- Mr Algorithme/Al Khwarizmi\n",
    "- Abu Jafar\n",
    "- Charles Babbage\n",
    "- Alan Turing\n",
    "- Claude Shannon\n",
    "- Andreï Nikolaïevitch Kolmogorov\n",
    "- Rose Dieng-kuntz\n",
    "\n",
    "## Mots clés de l'informatique\n",
    "- Numérique\n",
    "- L'algorithmique, science de l'organisation des opérations\n",
    "- Science informatique\n",
    "- Technologies\n",
    "- Mathématiques\n",
    "- Calculs\n",
    "- Problèmes\n",
    "- Langage machine\n",
    "- Langages de programmation en anglais\n",
    "- Programmes\n",
    "- Logiciels\n",
    "- Compileur\n",
    "- Système\n",
    "- Ordinateur\n",
    "- Machine analytique\n",
    "- Mécanisation\n",
    "- Automatisation\n",
    "- Information\n",
    "- Message\n",
    "- Bit, 0 ou 1\n",
    "- Métadonnées\n",
    "- Web\n",
    "- Bug informatique"
   ]
  },
  {
   "cell_type": "markdown",
   "metadata": {},
   "source": [
    "Le monde a été transformé par l'arrivée de l'informatique. \n",
    "3 pionniers de l'onformatiques : Ada Loveface, Alan Turing et Grace Hopper. \n",
    "Mr Algorithme a créé l'algorithmique.\n",
    "Penser c'est la noblesse de l'esprit et c'est difficilement explicable. Calculer est beaucoup plus simple et systématique, on peut le mécaniser. Il faut résoudre un problème précis en suivant un mode d'emploi en vue d'une application visée. L'algorithmique est la science de l'organisation des opérations à effectuer. Elle travaille sur des opérations abstraites. Pour qu'un algorithme puisse être utilisé il doit être écrit sous la forme d'un programme avec un langage de programmation. Le but de l'informatique est qu'un ordinateur puisse faire tout seulun calcul. On doit à Abu Jafar les chiffres arabes et le zéro. Lovelace a fortement enrichi les maths et a permis à Charles Babbage de créer les plans d'un premier ordinateur \"la machine analytique\" qui était pleinement fonctionnel. Ada a permis aux algorithmes d'être mis dans des programmes. Une machine mécanique permet de faire des calculs complexes mais elle ne peut pas se modifier d'elle même contrairement à l'ordinateur. Alan Turing a créé la science informatique. Pendant la 2nde guerre mondiale les nazis utilisaient une machine appelée Enigma. Un papillon de nuit avait bloqué une machine en anglais un \"bug\" a bloqué la machine d'où le bug informatique. Hopper voulait que les programmes soient ecrits en anglais elle a donc créé un compileur pour traduire le langage machine en anglais. Les premiers ordinateurs apparaissent en 1940. Quand Grace est morte les ordinateurs entraient dans les foyers. Claude Shannon a  défini la quantité d'information de manière mathématique avec la théorie des probabilités d'Andreï Nikolaïevitch Kolmogorov. L'information est une matière abstraite qui se mesure. Un message a une quantité d'information définie mesuré avec le bit 0 ou 1, oui ou non. Rose Dieng-kuntz a aidé à créer le web sémentique qui désigne un ensemble de technologies visant à rendre accessible le web à tous les programmes-logiciels grâce à un système de métadonnées. Toute chose a un reflet numérique qui permet de mémoriser l'information, de la transmettre, de la reproduire à l'infini et de la manipuler grâce à des algorithmes. Avant il y avait des machines à écrire des claviers et des imprimantes pour écrire un texte. Les téléphones étaient reliés au mur avec un fil et tu ne peux pas joindre les gens si ils ne sont pas chez eux. Avant il y avait une seule télé avec une seule chaine. Toutes les connaissances étaient sur papier. Les ordinateurs étaient rares et chers."
   ]
  },
  {
   "cell_type": "code",
   "execution_count": null,
   "metadata": {},
   "outputs": [],
   "source": []
  }
 ],
 "metadata": {
  "kernelspec": {
   "display_name": "Python 3",
   "language": "python",
   "name": "python3"
  },
  "language_info": {
   "codemirror_mode": {
    "name": "ipython",
    "version": 3
   },
   "file_extension": ".py",
   "mimetype": "text/x-python",
   "name": "python",
   "nbconvert_exporter": "python",
   "pygments_lexer": "ipython3",
   "version": "3.9.2+"
  }
 },
 "nbformat": 4,
 "nbformat_minor": 2
}
