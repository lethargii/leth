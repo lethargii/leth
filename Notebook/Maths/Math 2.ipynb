{
 "cells": [
  {
   "cell_type": "code",
   "execution_count": 9,
   "metadata": {},
   "outputs": [],
   "source": [
    "mot = \"DIVISIBILITE\"\n",
    "cle = \"MATH\"\n",
    "mot_code = \"\"\n",
    "for i in range(len(mot)):\n",
    "    code_cle = ord(cle[i%len(cle)]) -65\n",
    "    code_mot = ord(mot[i]) -65\n",
    "    code_mot_code = (code_mot + code_cle)%26 + 65\n",
    "    mot_code += chr(code_mot_code)"
   ]
  },
  {
   "cell_type": "code",
   "execution_count": 11,
   "metadata": {},
   "outputs": [],
   "source": [
    "mot = \"ECBLZTBMUQNL\"\n",
    "cle = \"MATH\"\n",
    "mot_decode = \"\"\n",
    "for i in range(len(mot)):\n",
    "    code_cle = ord(cle[i%len(cle)]) -65\n",
    "    code_mot = ord(mot[i]) -65\n",
    "    code_mot_decode = (code_mot - code_cle+26)%26 + 65\n",
    "    mot_decode += chr(code_mot_decode)"
   ]
  },
  {
   "cell_type": "code",
   "execution_count": 10,
   "metadata": {},
   "outputs": [
    {
     "data": {
      "text/plain": [
       "'PIOPEIUPXIML'"
      ]
     },
     "execution_count": 10,
     "metadata": {},
     "output_type": "execute_result"
    }
   ],
   "source": [
    "mot_code"
   ]
  },
  {
   "cell_type": "code",
   "execution_count": 12,
   "metadata": {},
   "outputs": [
    {
     "data": {
      "text/plain": [
       "'SCIENTIFIQUE'"
      ]
     },
     "execution_count": 12,
     "metadata": {},
     "output_type": "execute_result"
    }
   ],
   "source": [
    "mot_decode"
   ]
  },
  {
   "cell_type": "code",
   "execution_count": 15,
   "metadata": {},
   "outputs": [],
   "source": [
    "def algo_2013(a,b):\n",
    "    c = 0\n",
    "    while a>=b:\n",
    "        c += 1\n",
    "        a -= b\n",
    "    return a,c"
   ]
  },
  {
   "cell_type": "code",
   "execution_count": 16,
   "metadata": {},
   "outputs": [
    {
     "data": {
      "text/plain": [
       "(1, 3)"
      ]
     },
     "execution_count": 16,
     "metadata": {},
     "output_type": "execute_result"
    }
   ],
   "source": [
    "algo_2013(13,4)"
   ]
  },
  {
   "cell_type": "code",
   "execution_count": 20,
   "metadata": {},
   "outputs": [],
   "source": [
    "def codage(lettre):\n",
    "    m = ord(lettre)-65\n",
    "    p = algo_2013(9*m+5,26)[0] + 65\n",
    "    return chr(p)"
   ]
  },
  {
   "cell_type": "code",
   "execution_count": 21,
   "metadata": {},
   "outputs": [
    {
     "data": {
      "text/plain": [
       "'D'"
      ]
     },
     "execution_count": 21,
     "metadata": {},
     "output_type": "execute_result"
    }
   ],
   "source": [
    "codage(\"U\")"
   ]
  },
  {
   "cell_type": "code",
   "execution_count": null,
   "metadata": {},
   "outputs": [],
   "source": [
    "m = input()\n",
    "p = 9*m"
   ]
  },
  {
   "cell_type": "code",
   "execution_count": 2,
   "metadata": {},
   "outputs": [
    {
     "name": "stdout",
     "output_type": "stream",
     "text": [
      "[[0, 1, 2, 3, 4, 5, 6, 7, 8, 9, 10, 11, 12, 13, 14, 15, 16, 17, 18, 19, 20, 21, 22, 23, 24, 25], [0, 9, 18, 1, 10, 19, 2, 11, 20, 3, 12, 21, 4, 13, 22, 5, 14, 23, 6, 15, 24, 7, 16, 25, 8, 17]]\n"
     ]
    }
   ],
   "source": [
    "mod =[[],[]]\n",
    "for i in range(26):\n",
    "    mod[0].append(i"
   ]
  },
  {
   "cell_type": "code",
   "execution_count": 1,
   "metadata": {},
   "outputs": [],
   "source": [
    "from math import exp\n",
    "\n",
    "def solution(precision):\n",
    "    reponse = 0\n",
    "    while exp(reponse) < 2:\n",
    "        reponse += precision\n",
    "    return reponse"
   ]
  },
  {
   "cell_type": "code",
   "execution_count": 4,
   "metadata": {
    "scrolled": true
   },
   "outputs": [
    {
     "data": {
      "text/plain": [
       "0.69319999999994"
      ]
     },
     "execution_count": 4,
     "metadata": {},
     "output_type": "execute_result"
    }
   ],
   "source": [
    "solution(0.0000000000000000000001)"
   ]
  },
  {
   "cell_type": "code",
   "execution_count": 2,
   "metadata": {},
   "outputs": [
    {
     "name": "stdout",
     "output_type": "stream",
     "text": [
      "-0.0\n",
      "-0.012408395411347035\n",
      "-0.006901852926388832\n",
      "-0.004872676103686517\n",
      "-0.0037988017664086623\n",
      "-0.003128526961566421\n",
      "-0.002668010944831845\n",
      "-0.002330992265339807\n",
      "-0.002073056638054795\n",
      "-0.0018689302095740796\n",
      "-0.0017031380066824444\n",
      "-0.0015656580935967022\n",
      "-0.001449705282617816\n",
      "-0.0013505170420249914\n",
      "-0.0012646490894125406\n",
      "-0.001189546943603471\n",
      "-0.0011232748172541088\n",
      "-0.001064338205224957\n",
      "-0.0010115643774310727\n",
      "-0.0009640198226720082\n"
     ]
    }
   ],
   "source": [
    "from numpy import log as ln\n",
    "\n",
    "for n in range(1,10000,500):\n",
    "    print(-ln(n)/n)"
   ]
  }
 ],
 "metadata": {
  "kernelspec": {
   "display_name": "Python 3 (ipykernel)",
   "language": "python",
   "name": "python3"
  },
  "language_info": {
   "codemirror_mode": {
    "name": "ipython",
    "version": 3
   },
   "file_extension": ".py",
   "mimetype": "text/x-python",
   "name": "python",
   "nbconvert_exporter": "python",
   "pygments_lexer": "ipython3",
   "version": "3.11.0"
  }
 },
 "nbformat": 4,
 "nbformat_minor": 2
}
