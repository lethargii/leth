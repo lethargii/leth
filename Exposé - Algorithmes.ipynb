{
 "cells": [
  {
   "attachments": {},
   "cell_type": "markdown",
   "metadata": {},
   "source": [
    "# Algorithmes"
   ]
  },
  {
   "attachments": {},
   "cell_type": "markdown",
   "metadata": {},
   "source": [
    "exercice 2 n°6  "
   ]
  },
  {
   "cell_type": "code",
   "execution_count": null,
   "metadata": {},
   "outputs": [],
   "source": [
    "from math import sqrt   # import de la fonction racine carrée\n",
    "def distance(point1, point2):\n",
    "    \"\"\" Calcule et renvoie la distance entre deux points. \"\"\"\n",
    "    return sqrt((point1[0]-point2[0])**2 + (point1[1]-point2[1])**2)\n",
    "\n",
    "def plus_courte_distance(tab, depart):\n",
    "    \"\"\" Renvoie le point du tableau tab se trouvant a la plus\n",
    "    courte distance du point depart.\"\"\"\n",
    "    point = tab[0]\n",
    "    min_dist = distance(tab[0], depart)\n",
    "    for i in range (1, len(tab)):\n",
    "        if distance(tab[i], depart) < min_dist:\n",
    "            point = tab[i]\n",
    "            min_dist = distance(point, depart)\n",
    "    return point"
   ]
  },
  {
   "attachments": {},
   "cell_type": "markdown",
   "metadata": {},
   "source": [
    "exercice 2 n°9  "
   ]
  },
  {
   "attachments": {},
   "cell_type": "markdown",
   "metadata": {},
   "source": [
    "exercice 2 n°12  "
   ]
  },
  {
   "cell_type": "code",
   "execution_count": 22,
   "metadata": {},
   "outputs": [],
   "source": [
    "def empaqueter(liste_masses, c):\n",
    "    n = len(liste_masses)\n",
    "    nb_boites = 0\n",
    "    boites = [0]*n\n",
    "    for masse in liste_masses :\n",
    "        i=0\n",
    "        while i <= nb_boites and boites[i] + masse > c:\n",
    "                i += 1\n",
    "        if i == nb_boites + 1:\n",
    "                nb_boites += 1\n",
    "        boites[i] = boites[i] + masse\n",
    "    return nb_boites + 1"
   ]
  },
  {
   "attachments": {},
   "cell_type": "markdown",
   "metadata": {},
   "source": [
    "exercice 2 n°13  "
   ]
  },
  {
   "cell_type": "code",
   "execution_count": 3,
   "metadata": {},
   "outputs": [],
   "source": [
    "pieces = [1, 2, 5, 10, 20, 50, 100, 200]\n",
    "\n",
    "def rendu_monnaie(somme_due, somme_versee):\n",
    "    rendu = []\n",
    "    a_rendre = somme_versee - somme_due\n",
    "    i = len(pieces) - 1\n",
    "    while a_rendre > 0 :\n",
    "        if pieces[i] <= a_rendre:\n",
    "            rendu.append(pieces[i])\n",
    "            a_rendre = a_rendre - pieces[i]\n",
    "        else:\n",
    "            i = i - 1\n",
    "    return rendu"
   ]
  },
  {
   "attachments": {},
   "cell_type": "markdown",
   "metadata": {},
   "source": [
    "exercice 1 n°19  "
   ]
  },
  {
   "attachments": {},
   "cell_type": "markdown",
   "metadata": {},
   "source": [
    "exercice 2 n°28  "
   ]
  },
  {
   "cell_type": "markdown",
   "metadata": {},
   "source": [
    "exercice 2 n°41  "
   ]
  },
  {
   "attachments": {},
   "cell_type": "markdown",
   "metadata": {},
   "source": [
    "parcours des boucles (indice, while, récursif...)\n",
    "algos de parcours imbriquées de listes de listes (exos sur les images)\n",
    "arbres binaires algos de recherche"
   ]
  },
  {
   "attachments": {},
   "cell_type": "markdown",
   "metadata": {},
   "source": [
    "à part : opérateurs logiques"
   ]
  },
  {
   "attachments": {},
   "cell_type": "markdown",
   "metadata": {},
   "source": [
    "## Diviser pour régner"
   ]
  },
  {
   "attachments": {},
   "cell_type": "markdown",
   "metadata": {},
   "source": [
    "En informatique, diviser pour régner est une méthode d'algorithmique. Elle consiste en 3 étapes :\n",
    "- Diviser : On divise le problème en plusieurs sous-problèmes.\n",
    "- Régner : On résoud les sous-problèmes.\n",
    "- Combiner : On résoud le problème à partir des solutions des sous-problèmes.\n",
    "\n",
    "Cette technique permet souvent de créer des algorithmes efficaces (Dichotomie, tri).  \n",
    "Les algorithmes utilisant la technique du diviser pour régner se prêtent nauturellement à l'utilisation"
   ]
  },
  {
   "cell_type": "code",
   "execution_count": null,
   "metadata": {},
   "outputs": [],
   "source": [
    "valeurs = [100,50,20,10,5,2,1]\n",
    "\n",
    "def rendu_glouton(a_rendre, rang):\n",
    "    if a_rendre == 0:\n",
    "        return []\n",
    "    v = valeurs[rang]\n",
    "    if v <= a_rendre:\n",
    "        return [v] + rendu_glouton(a_rendre - v, rang)\n",
    "    else :\n",
    "        return rendu_glouton(a_rendre, rang+1)"
   ]
  },
  {
   "attachments": {},
   "cell_type": "markdown",
   "metadata": {},
   "source": [
    "## Dichotomie"
   ]
  },
  {
   "attachments": {},
   "cell_type": "markdown",
   "metadata": {},
   "source": [
    "La recherche dichotomique est un algorithme de recherche d'un élément dans un tableau trié. Cet algorithme consiste à regarder l'élément au milieu du tableau, si la valeur est celle recherchée le problème est résolu, sinon on recommence avec la moitié du tableau où la valeur est possiblement."
   ]
  },
  {
   "cell_type": "code",
   "execution_count": null,
   "metadata": {},
   "outputs": [],
   "source": [
    "def chercher(tab, n, i, j):\n",
    "    if i < 0 or j > len(tab):\n",
    "        return None\n",
    "    elif i > j:\n",
    "        return None\n",
    "    m = (i + j) // 2\n",
    "    if tab[m] < n:\n",
    "        return chercher(tab, n, m+1, j)\n",
    "    elif tab[m] > n:\n",
    "        return chercher(tab, n, i, m-1)\n",
    "    else:\n",
    "        return m"
   ]
  },
  {
   "cell_type": "code",
   "execution_count": 3,
   "metadata": {},
   "outputs": [],
   "source": [
    "def recherche(tab:list, n:int):\n",
    "    ''' Fonction qui prend en entrée un tableau de type list et qui effectue une recherche dichomique du nombre entier n de type int\n",
    "    La fonction doit renvoyer un indice correspondant au nombre cherché SI il apparait dans la liste. \n",
    "    Si il n'apparait pas, la fonction renvoie -1\n",
    "    '''\n",
    "    indice_debut = 0\n",
    "    indice_fin = len(tab) - 1\n",
    "    while indice_debut <= indice_fin:\n",
    "        indice_milieu = (indice_debut + indice_fin ) // 2\n",
    "        if tab[indice_milieu] == n:\n",
    "            return indice_milieu\n",
    "        elif tab[indice_milieu] < n:\n",
    "            indice_debut = indice_milieu + 1\n",
    "        else:\n",
    "            indice_fin = indice_milieu - 1\n",
    "    return -1"
   ]
  },
  {
   "cell_type": "code",
   "execution_count": null,
   "metadata": {},
   "outputs": [],
   "source": [
    "def dichotomie(tab, x):\n",
    "    \"\"\"\n",
    "    tab : tableau trié dans l’ordre croissant\n",
    "    x : nombre entier\n",
    "    La fonction renvoie True si tab contient x et False sinon\n",
    "    \"\"\"\n",
    "\n",
    "    # cas du tableau vide\n",
    "    if tab == []:\n",
    "        return False, 1\n",
    " \n",
    "    # cas où x n'est pas compris entre les valeurs extrêmes\n",
    "    if (x < tab[0]) or (x > tab[-1]):\n",
    "        return False, 2\n",
    "\n",
    "    debut = 0\n",
    "    fin = len(tab) - 1\n",
    "    while debut <= fin:\n",
    "        m = (debut + fin) // 2\n",
    "        if x == tab[m]:\n",
    "            return True\n",
    "        if x > tab[m]:\n",
    "            debut = m + 1\n",
    "        else:\n",
    "            fin = fin - 1\n",
    "    return False"
   ]
  },
  {
   "attachments": {},
   "cell_type": "markdown",
   "metadata": {},
   "source": [
    "## Parcours de listes avec des boucles"
   ]
  },
  {
   "attachments": {},
   "cell_type": "markdown",
   "metadata": {},
   "source": [
    "Une chose indispensable est de pouvoir parcours des listes grâce au boucle. Il existe plusieurs méthodes pour parcourir des listes"
   ]
  },
  {
   "cell_type": "code",
   "execution_count": 29,
   "metadata": {},
   "outputs": [
    {
     "name": "stdout",
     "output_type": "stream",
     "text": [
      "1\n",
      "2\n",
      "3\n",
      "4\n",
      "1\n",
      "2\n",
      "3\n",
      "4\n",
      "1\n",
      "2\n",
      "3\n",
      "4\n"
     ]
    }
   ],
   "source": [
    "liste = [1, 2, 3, 4]\n",
    "for i in range(len(liste)):\n",
    "    print(liste[i])\n",
    "for element in liste:\n",
    "    print(element)\n",
    "def parcours_liste_recursivite(liste, i = 0):\n",
    "    if i == len(liste):\n",
    "        return None\n",
    "    else:\n",
    "        print(liste[i])\n",
    "        parcours_liste_recursivite(liste, i + 1)\n",
    "parcours_liste_recursivite(liste)"
   ]
  },
  {
   "attachments": {},
   "cell_type": "markdown",
   "metadata": {},
   "source": [
    "## Parcours de listes de listes"
   ]
  },
  {
   "cell_type": "markdown",
   "metadata": {},
   "source": []
  },
  {
   "cell_type": "code",
   "execution_count": null,
   "metadata": {},
   "outputs": [],
   "source": []
  },
  {
   "attachments": {},
   "cell_type": "markdown",
   "metadata": {},
   "source": [
    "## Parcours des arbres de recherche"
   ]
  },
  {
   "cell_type": "markdown",
   "metadata": {},
   "source": []
  },
  {
   "cell_type": "code",
   "execution_count": null,
   "metadata": {},
   "outputs": [],
   "source": [
    "class Arbre:\n",
    "    def __init__(self, data):\n",
    "        self.data = data\n",
    "        self.left = None\n",
    "        self.right = None\n",
    "\n",
    "    def set_left(self, sousarbre):\n",
    "        self.left = sousarbre\n",
    "\n",
    "    def set_right(self, sousarbre):\n",
    "        self.right = sousarbre  \n",
    "\n",
    "    def get_left(self):\n",
    "        return self.left\n",
    "\n",
    "    def get_right(self):\n",
    "        return self.right\n",
    "\n",
    "    def get_data(self):\n",
    "        return self.data"
   ]
  },
  {
   "cell_type": "code",
   "execution_count": null,
   "metadata": {},
   "outputs": [],
   "source": [
    "def prefixe(arbre):\n",
    "    if arbre is None :\n",
    "        return 0\n",
    "    print(arbre.data, end = '-')\n",
    "    prefixe(arbre.left)\n",
    "    prefixe(arbre.right)"
   ]
  },
  {
   "attachments": {},
   "cell_type": "markdown",
   "metadata": {},
   "source": [
    "Le père est traité avant les fils avec le parcours préfixe."
   ]
  },
  {
   "cell_type": "code",
   "execution_count": null,
   "metadata": {},
   "outputs": [],
   "source": [
    "def infixe(arbre):\n",
    "    if arbre is None :\n",
    "        return 0\n",
    "    infixe(arbre.left)\n",
    "    print(arbre.data, end = '-')\n",
    "    infixe(arbre.right)"
   ]
  },
  {
   "attachments": {},
   "cell_type": "markdown",
   "metadata": {},
   "source": [
    "Le père est traité entre les fils avec le parcours préfixe."
   ]
  },
  {
   "cell_type": "code",
   "execution_count": null,
   "metadata": {},
   "outputs": [],
   "source": [
    "def postfixe(arbre):\n",
    "    if arbre is None :\n",
    "        return 0\n",
    "    postfixe(arbre.left)\n",
    "    postfixe(arbre.right)\n",
    "    print(arbre.data, end = '-')"
   ]
  },
  {
   "attachments": {},
   "cell_type": "markdown",
   "metadata": {},
   "source": [
    "Le père est traité après les fils avec le parcours préfixe."
   ]
  },
  {
   "cell_type": "code",
   "execution_count": null,
   "metadata": {},
   "outputs": [],
   "source": [
    "from queue import Queue\n",
    "\n",
    "def BFS(arbre):        \n",
    "    file = Queue()\n",
    "    file.put(arbre)\n",
    "    sol = []\n",
    "    while file.empty() is False :\n",
    "        a = file.get()\n",
    "        if a is not None :\n",
    "            sol.append(a.get_data())\n",
    "            file.put(a.get_left())\n",
    "            file.put(a.get_right())\n",
    "    return sol"
   ]
  },
  {
   "attachments": {},
   "cell_type": "markdown",
   "metadata": {},
   "source": [
    "L'arbre est parcouru de haut en bas et de gauche à droite avec le parcours en largeur."
   ]
  },
  {
   "attachments": {},
   "cell_type": "markdown",
   "metadata": {},
   "source": [
    "## A part : Opérateurs logiques"
   ]
  },
  {
   "attachments": {},
   "cell_type": "markdown",
   "metadata": {},
   "source": [
    "Les opérateurs booléens permettent de traduire des raisonnements logiques pour former des algorithmes."
   ]
  },
  {
   "attachments": {},
   "cell_type": "markdown",
   "metadata": {},
   "source": [
    "### AND"
   ]
  },
  {
   "attachments": {},
   "cell_type": "markdown",
   "metadata": {},
   "source": [
    "L'opérateur and retourne True si a et b sont vrais."
   ]
  },
  {
   "cell_type": "code",
   "execution_count": 22,
   "metadata": {},
   "outputs": [],
   "source": [
    "a = True\n",
    "b = True"
   ]
  },
  {
   "cell_type": "code",
   "execution_count": 23,
   "metadata": {},
   "outputs": [
    {
     "data": {
      "text/plain": [
       "True"
      ]
     },
     "execution_count": 23,
     "metadata": {},
     "output_type": "execute_result"
    }
   ],
   "source": [
    "a and b"
   ]
  },
  {
   "cell_type": "code",
   "execution_count": 24,
   "metadata": {},
   "outputs": [
    {
     "data": {
      "text/plain": [
       "True"
      ]
     },
     "execution_count": 24,
     "metadata": {},
     "output_type": "execute_result"
    }
   ],
   "source": [
    "a & b"
   ]
  },
  {
   "attachments": {},
   "cell_type": "markdown",
   "metadata": {},
   "source": [
    "### OR"
   ]
  },
  {
   "attachments": {},
   "cell_type": "markdown",
   "metadata": {},
   "source": [
    "L'opérateur or retourne True si au moins a ou b est vrai."
   ]
  },
  {
   "cell_type": "code",
   "execution_count": 26,
   "metadata": {},
   "outputs": [
    {
     "data": {
      "text/plain": [
       "True"
      ]
     },
     "execution_count": 26,
     "metadata": {},
     "output_type": "execute_result"
    }
   ],
   "source": [
    "a or b"
   ]
  },
  {
   "cell_type": "code",
   "execution_count": 28,
   "metadata": {},
   "outputs": [
    {
     "data": {
      "text/plain": [
       "True"
      ]
     },
     "execution_count": 28,
     "metadata": {},
     "output_type": "execute_result"
    }
   ],
   "source": [
    "a | b"
   ]
  },
  {
   "attachments": {},
   "cell_type": "markdown",
   "metadata": {},
   "source": [
    "### NOT"
   ]
  },
  {
   "attachments": {},
   "cell_type": "markdown",
   "metadata": {},
   "source": [
    "L'opérateur not retourne True si a n'est pas vrai."
   ]
  },
  {
   "cell_type": "code",
   "execution_count": null,
   "metadata": {},
   "outputs": [],
   "source": [
    "not a"
   ]
  },
  {
   "attachments": {},
   "cell_type": "markdown",
   "metadata": {},
   "source": [
    "### XOR"
   ]
  },
  {
   "attachments": {},
   "cell_type": "markdown",
   "metadata": {},
   "source": [
    "L'opérateur xor retourne True si seulement a ou seulement b est vrai."
   ]
  },
  {
   "cell_type": "code",
   "execution_count": 18,
   "metadata": {},
   "outputs": [
    {
     "data": {
      "text/plain": [
       "False"
      ]
     },
     "execution_count": 18,
     "metadata": {},
     "output_type": "execute_result"
    }
   ],
   "source": [
    "a ^ b"
   ]
  },
  {
   "cell_type": "code",
   "execution_count": 19,
   "metadata": {},
   "outputs": [
    {
     "data": {
      "text/plain": [
       "False"
      ]
     },
     "execution_count": 19,
     "metadata": {},
     "output_type": "execute_result"
    }
   ],
   "source": [
    "((not a) and b) or (a and (not b))"
   ]
  },
  {
   "attachments": {},
   "cell_type": "markdown",
   "metadata": {},
   "source": [
    "source : [fr.wikipedia.org](fr.wikipedia.org)"
   ]
  }
 ],
 "metadata": {
  "kernelspec": {
   "display_name": "Python 3",
   "language": "python",
   "name": "python3"
  },
  "language_info": {
   "codemirror_mode": {
    "name": "ipython",
    "version": 3
   },
   "file_extension": ".py",
   "mimetype": "text/x-python",
   "name": "python",
   "nbconvert_exporter": "python",
   "pygments_lexer": "ipython3",
   "version": "3.8.16"
  },
  "orig_nbformat": 4
 },
 "nbformat": 4,
 "nbformat_minor": 2
}
