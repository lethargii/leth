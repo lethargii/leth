{
 "cells": [
  {
   "cell_type": "markdown",
   "metadata": {},
   "source": [
    "# Terminal"
   ]
  },
  {
   "cell_type": "markdown",
   "metadata": {},
   "source": [
    "# Un Bloc Note pour débuter en ligne de commande"
   ]
  },
  {
   "cell_type": "markdown",
   "metadata": {},
   "source": [
    "## Présentation :\n",
    "\n",
    "L'objectif de ce document est de vous faire découvrir par la pratique ***les supers pouvoirs de la ligne de commande*** (ce qui impliquent...).\n",
    "\n",
    "Ainsi, vous saurez dialoguer avec le sytème d'exploitation, l'[OS](https://fr.wikipedia.org/wiki/Syst%C3%A8me_d%27exploitation), de votre machine, sans recourir à une interface graphique, en mode console textuelle comme au temps de premiers ordinateurs. Mais figurez-vous que ceci n'appartient pas qu'à l'ère des \"ordinosaures\", bien au contraire...\n",
    "\n",
    "Pour débuter vous allez mener les activités suivantes dans vos environnements usuels : \n",
    "- sur votre iPad, installer les applications `a-Shell mini` et `iSH Shell` depuis le self-service et les démarrer ;\n",
    "- sur le serveur jupyterhub accessible au lycée à l'adresse [10.1.3.50](http://10.1.3.50/hub/login), se connecter puis cliquer sur le bouton `Nouveau` en haut à droite de la page d'accueil puis choisir `Terminal` ;\n",
    "- sur un PC du labo de SI, dans `Cortana` rechercher l'application `Ubuntu` et la démarrer ;\n",
    "    \n",
    "Cela à pour effet d'ouvrir une fenêtre qui émule un **Terminal** sur votre écran ;\n",
    "    \n",
    "Le caractère **`$`** s'appelle un **prompt**, c'est-à-dire une invitation à entrer au clavier une commande système dans le Terminal.\n",
    "uname\n",
    "Le programme qui interprète les instructions de commandes système est appelé **shell**\n",
    "\n",
    "> Il existe une grande variété de shells comme [sh](https://fr.wikipedia.org/wiki/Bourne_shell), [bash](https://fr.wikipedia.org/wiki/Bourne-Again_shell), [dash](https://fr.wikipedia.org/wiki/Debian_Almquist_shell), [ksh](https://fr.wikipedia.org/wiki/Korn_shell), [csh](https://fr.wikipedia.org/wiki/C_shell)..., pour les systèmes de type [UNIX](https://fr.wikipedia.org/wiki/Unix) ; \n",
    "> \n",
    "> - Notre serveur JupyterHub est installé sur une distribution Ubuntu Server, c'est un système d'exploitation de type [GNU](https://fr.wikipedia.org/wiki/GNU)/[Linux](https://fr.wikipedia.org/wiki/Noyau_Linux), aussi, le shell par défaut est donc le bash.\n",
    ">\n",
    "> - Les instructions de commandes de [a-Shell mini](https://apps.apple.com/fr/app/a-shell-mini/id1543537943?l=en#?platform=ipad) sont un portage spécifique de commandes Unix pour iOS et sont volontairement réduites (mais extensibles). Le système d'exploitation installé sur votre iPad se nomme [Darwin](https://fr.wikipedia.org/wiki/Darwin_(informatique)),  aussi [a-Shell](https://github.com/holzschu/a-shell) utilise la version [BSD](https://fr.wikipedia.org/wiki/Berkeley_Software_Distribution) : il y a donc des petites différences dans les options et le comportement des commandes par rapport au bash du projet GNU...\n",
    "\n",
    "Malgré quelques légères variations d'un OS à l'autre, les instructions de commandes pour les systèmes de type [UNIX](https://fr.wikipedia.org/wiki/Unix) sont restées les mêmes depuis les années 1960 et elles fonctionnent aussi bien sous Linux et Mac OS X que maintenant sous Windows 10 avec [PowerShell](https://fr.wikipedia.org/wiki/Windows_PowerShell) et [Windows Subsystem for Linux, WSL](https://fr.wikipedia.org/wiki/Windows_Subsystem_for_Linux). Ainsi donc, **l'apprentissage que vous allez faire ici est portable et sera très certainement durable**...\n",
    "\n",
    "Les instructions de commandes système s'écrivent donc dans un terminal après une invite et ont la forme suivante :\n",
    "\n",
    "**`nom_de_la_commande -option(s) attribut(s)`**\n",
    "\n",
    "Par exemple, depuis le serveur du lycée, on peut utiliser de telles commandes :\n",
    "- pour télécharger un fichier disponible sur le web `wget URL_du_fichier` ;\n",
    "- ou pour cloner un dépot GitHub `git clone URL_du_depot.git`.\n",
    "\n",
    "<h3 class='fa fa-graduation-cap' style=\"color: MediumSeaGreen\"> A faire vous même n°1 : </h3>\n",
    "\n",
    "- Pour connaitre votre OS, **saisir** successivement sur iPad, PC et serveur, les instructions :\n",
    "    - `uname` qui renvoie le nom du système d'exploitation de la machine ;\n",
    "    - `uname -a` qui complète avec d'autres informations concernant la version de l'OS et le hardware de la machine...\n",
    "\n",
    "    et **relever** les différences :\n",
    "\n",
    "    Sur iPad on a l'OS Darwin, sur PC on a l'OS Linux (GNU/Linux) et sur le serveur on a l'OS Linux (distribution Ubuntu)."
   ]
  },
  {
   "cell_type": "markdown",
   "metadata": {},
   "source": [
    "***\n",
    "\n",
    "## Avertissement, trucs à connaître :\n",
    "\n",
    "- **auto-complétion** : après avoir tapé les premiers caractères, il est possible d'appuyer sur la touche `Tab` qui permet d'ajouter la suite de la commande, du nom du répertoire ou du fichier. Cela évite les erreurs de frappe et est très appréciable pour éviter de saisir le nom de fichier parfois long et complexe comme le nom de certain paquet. Peut être utilisé plusieurs fois si plusieurs noms ont une partie commune. Attention, c'est sensible à la casse !\n",
    "\n",
    "\n",
    "- **historique de commande** : les flèches haut et bas permettent de rappeler des anciennes commandes ; Pour la petite histoire, c'est Bill GATES qui a codé ces touches UNIX quand il était étudiant...\n",
    "\n",
    "\n",
    "- Sur iPad, Nicolas Holzschuch, le développeur de a-Shell mini, a ajouté, comme dans `iSH Shell`, un bandeau en bas de l'application avec des bouton qui assurent, entre autres, les fonctions d'**auto-complétion** et d'**historique de commande**.\n",
    "\n",
    "<img src=\"https://ish.app/assets/iphone-keyboard.webp\" alt=\"IHM d'iSH\" width=60%>\n",
    "\n",
    "<img src=\"https://ericecmorlaix.github.io/img/OS-aShell.png\" alt=\"OS-aShell.png\" width=80%>\n",
    "\n",
    "> Nicolas Holzschuch est Directeur de recherche à l’INRIA de Grenoble-Rhône-Alpes : https://maverick.inria.fr/Members/Nicolas.Holzschuch/, c'est également lui qui développe l'application Carnets.\n",
    "\n",
    "\n",
    "***"
   ]
  },
  {
   "cell_type": "markdown",
   "metadata": {},
   "source": [
    "## Les commandes de bases à découvrir :\n",
    "\n",
    "<h3 class='fa fa-graduation-cap' style=\"color: MediumSeaGreen\"> A faire vous même n°2 : </h3>\n",
    "\n",
    "Pour aller plus avant, la suite de ce notebook présente d'autres commmandes de base à expérimenter dans un terminal...\n",
    "\n",
    "\n",
    "A mesure que vous explorez ce bloc-note et que vous pratiquez la ligne de commande, compléter le tableau suivant pour établir votre synthèse des principales instructions à retenir :\n",
    "\n",
    "|  **Commande**  |  **Option** |  **Paramètre** |  **Action**                                                  |\n",
    "|:--------------:|:-----------:|:--------------:|:------------------------------------------------------------:|\n",
    "| uname          |     -a      |                | renvoie le nom de l'OS + d'autres informations               |\n",
    "| pwd            |             |                | renvoie l'endroit où on se trouve dans l'aborescence         |\n",
    "| whoami         |             |                | renvoie le nom de l'utilisateur                              |\n",
    "| mkdir          |             |    nomdudossier| crée un dossier                                              |\n",
    "| touch          |             |      nomdufichier       |      crée un fichier                                |\n",
    "| echo           |             |        message     |  affiche le message                                      |\n",
    "| cat           |             |        nomdufichier        |   affiche le contenu d'un fichier                 |\n",
    "| less       |             |   nomdufichier             |   ouvre un fichier                                   |\n",
    "| cowsay           |             |      message          |            fait dire un message à une vache         |\n",
    "| mv           |             |        nomdufichier chemindudossier        |        change un fichier de place  |\n",
    "| cp |        |nomdufichier chemindudossier |              copie un fichier                                    |\n",
    "| ls          | -a -l -al      |        *       |   affiche les fichiers et dossiers du directoire             |\n",
    "| cd          |             |        nomdurépertoire       |         change de répertoire                      |\n",
    "| rm           |      -rf --help      |       nomdufichier         |       supprime un fichier                 |\n",
    "| man           |             |    nomdelacommande        |   affiche la documentation/l'aide pour une commande|\n",
    "| help          |             |                |       affiche l'aide générale                                 |\n",
    "| curl       |   --head |  adressedufichierweb  | affiche le contenu d'un fichier sur le web                   |\n",
    "| clear          |             |                |           efface l'affichage du terminal                     |\n",
    "| zip          |             |  nomdesfichiers              |                  zippe des fichiers              |\n",
    "| unzip          |             |  nomdelarchive              |                dezippe des fichiers             |\n",
    "| grep          |             | textecherché fichier    |     permet de trouver du texte dans un fichier       |\n",
    "| find          |             | nomdufichier               |   recherche un fichier dans les dossiers          |\n",
    "| date          |             |                |       affiche la date                                         |\n"
   ]
  },
  {
   "cell_type": "markdown",
   "metadata": {},
   "source": [
    "#### Afficher le dossier courant, pwd = present working directory :"
   ]
  },
  {
   "cell_type": "code",
   "execution_count": null,
   "metadata": {},
   "outputs": [],
   "source": [
    "pwd"
   ]
  },
  {
   "cell_type": "markdown",
   "metadata": {},
   "source": [
    "Cette instruction permet de répondre à la question : où suis-je dans l'arborescence des dossiers ?\n",
    "\n",
    "> Sur le serveur du lycée, le texte `jupyter-pnom@r610b:~` indique que vous êtes connecté sur la machine `r610b` sous le nom d'utilisateur `jupyter-pnom` et que le dossier de travail actuel est le dossier `~`, c'est-à-dire votre dossier personnel sur le serveur `/home/jupyter-pnom`.\n",
    "\n",
    "> Le symbole `~` est donc un raccourci pour désigner le dossier personnel de l'utilisateur ; de même les symboles `.` et `..` désignent respectivement le dossier courant et le dossier parent.\n",
    "\n",
    "> Sur votre iPad, l'application a-Shell mini, comme chaque application, a son propre dossier `~`, tel que `private/var/mobile/Containers/Data/Application/1C49F07A-C30F-45E7-ADFD-8C350D68641A`, et par défaut à l'ouverture d'une fenêtre de terminal a-Shell, le dossier courant est `~/Documents`\n",
    "\n",
    "#### Deviner ce que renvoie l'instruction suivante, whoami = ... :"
   ]
  },
  {
   "cell_type": "code",
   "execution_count": null,
   "metadata": {},
   "outputs": [],
   "source": [
    "whoami"
   ]
  },
  {
   "cell_type": "markdown",
   "metadata": {},
   "source": [
    "Cette instruction permet de répondre à la question : Quel est mon nom d'utilisateur ?\n",
    "\n",
    "#### Créer un dossier, mkdir = make directory :\n",
    "\n",
    "> Au fur et à mesure que vous exécutérez les instructions de commande suivantes, observez leur effet sur le serveur JupyterHub dans l'onglet `Home Page` et sur votre iPad avec l'application Fichiers dans le dossier a-Shell mini et ajouter vos propres commentaires d'observation..."
   ]
  },
  {
   "cell_type": "code",
   "execution_count": 5,
   "metadata": {},
   "outputs": [],
   "source": [
    "mkdir monDossier"
   ]
  },
  {
   "cell_type": "markdown",
   "metadata": {},
   "source": [
    "#### Créer un fichier vide au format markdown :"
   ]
  },
  {
   "cell_type": "code",
   "execution_count": 6,
   "metadata": {},
   "outputs": [
    {
     "ename": "SyntaxError",
     "evalue": "invalid syntax (3693827620.py, line 1)",
     "output_type": "error",
     "traceback": [
      "\u001b[0;36m  Input \u001b[0;32mIn [6]\u001b[0;36m\u001b[0m\n\u001b[0;31m    touch monFichierMarkdown.md\u001b[0m\n\u001b[0m          ^\u001b[0m\n\u001b[0;31mSyntaxError\u001b[0m\u001b[0;31m:\u001b[0m invalid syntax\n"
     ]
    }
   ],
   "source": [
    "touch monFichierMarkdown.md"
   ]
  },
  {
   "cell_type": "markdown",
   "metadata": {},
   "source": [
    "> Si le fichier existe déjà, la commande `touch` actualise le *timestamp* (l'horadatage) d'accès au fichier.\n",
    "\n",
    "#### Créer un fichier au format texte en y intégrant du contenu par redirection du flux :"
   ]
  },
  {
   "cell_type": "code",
   "execution_count": 3,
   "metadata": {},
   "outputs": [
    {
     "ename": "SyntaxError",
     "evalue": "invalid syntax (2158701514.py, line 1)",
     "output_type": "error",
     "traceback": [
      "\u001b[0;36m  Input \u001b[0;32mIn [3]\u001b[0;36m\u001b[0m\n\u001b[0;31m    echo \"Salut le monde\" > monFichierTexte.txt\u001b[0m\n\u001b[0m         ^\u001b[0m\n\u001b[0;31mSyntaxError\u001b[0m\u001b[0;31m:\u001b[0m invalid syntax\n"
     ]
    }
   ],
   "source": [
    "echo \"Salut le monde\" > monFichierTexte.txt"
   ]
  },
  {
   "cell_type": "markdown",
   "metadata": {},
   "source": [
    "> `echo` est équivalent à un `print()` en python ; ainsi `echo \"Salut le monde\"` affiche en console le message `Salut le monde`.\n",
    "\n",
    "> Le symbole `>` fait une redirection du flux ; ainsi, avec la commande `echo \"Salut le monde\" > monFichierTexte.txt`, la valeur renvoyée par `echo \"Salut le monde\"` est inscrite dans le fichier `monFichierTexte.txt` qui est créé s'il n'existe pas préalablement."
   ]
  },
  {
   "cell_type": "markdown",
   "metadata": {},
   "source": [
    "#### Afficher le contenu d'un fichier :"
   ]
  },
  {
   "cell_type": "code",
   "execution_count": 1,
   "metadata": {},
   "outputs": [
    {
     "name": "stdout",
     "output_type": "stream",
     "text": [
      "cat: monFichierTexte.txt: No such file or directory\r\n"
     ]
    }
   ],
   "source": [
    "cat monFichierTexte.txt"
   ]
  },
  {
   "cell_type": "markdown",
   "metadata": {},
   "source": [
    "> `cat` est la contraction en anglais de *catenate* c'est à dire concaténer..."
   ]
  },
  {
   "cell_type": "code",
   "execution_count": 2,
   "metadata": {},
   "outputs": [
    {
     "ename": "FileNotFoundError",
     "evalue": "[Errno 2] No such file or directory: 'monFichierTexte.txt # touche \"Q\" pour quitter l\\'affichage et revenir au prompt'",
     "output_type": "error",
     "traceback": [
      "\u001b[0;31m---------------------------------------------------------------------------\u001b[0m",
      "\u001b[0;31mFileNotFoundError\u001b[0m                         Traceback (most recent call last)",
      "Input \u001b[0;32mIn [2]\u001b[0m, in \u001b[0;36m<module>\u001b[0;34m\u001b[0m\n\u001b[0;32m----> 1\u001b[0m \u001b[43mget_ipython\u001b[49m\u001b[43m(\u001b[49m\u001b[43m)\u001b[49m\u001b[38;5;241;43m.\u001b[39;49m\u001b[43mrun_line_magic\u001b[49m\u001b[43m(\u001b[49m\u001b[38;5;124;43m'\u001b[39;49m\u001b[38;5;124;43mless\u001b[39;49m\u001b[38;5;124;43m'\u001b[39;49m\u001b[43m,\u001b[49m\u001b[43m \u001b[49m\u001b[38;5;124;43m'\u001b[39;49m\u001b[38;5;124;43mmonFichierTexte.txt # touche \u001b[39;49m\u001b[38;5;124;43m\"\u001b[39;49m\u001b[38;5;124;43mQ\u001b[39;49m\u001b[38;5;124;43m\"\u001b[39;49m\u001b[38;5;124;43m pour quitter l\u001b[39;49m\u001b[38;5;130;43;01m\\'\u001b[39;49;00m\u001b[38;5;124;43maffichage et revenir au prompt\u001b[39;49m\u001b[38;5;124;43m'\u001b[39;49m\u001b[43m)\u001b[49m\n",
      "File \u001b[0;32m/opt/tljh/user/lib/python3.9/site-packages/IPython/core/interactiveshell.py:2204\u001b[0m, in \u001b[0;36mInteractiveShell.run_line_magic\u001b[0;34m(self, magic_name, line, _stack_depth)\u001b[0m\n\u001b[1;32m   2202\u001b[0m     kwargs[\u001b[38;5;124m'\u001b[39m\u001b[38;5;124mlocal_ns\u001b[39m\u001b[38;5;124m'\u001b[39m] \u001b[38;5;241m=\u001b[39m \u001b[38;5;28mself\u001b[39m\u001b[38;5;241m.\u001b[39mget_local_scope(stack_depth)\n\u001b[1;32m   2203\u001b[0m \u001b[38;5;28;01mwith\u001b[39;00m \u001b[38;5;28mself\u001b[39m\u001b[38;5;241m.\u001b[39mbuiltin_trap:\n\u001b[0;32m-> 2204\u001b[0m     result \u001b[38;5;241m=\u001b[39m \u001b[43mfn\u001b[49m\u001b[43m(\u001b[49m\u001b[38;5;241;43m*\u001b[39;49m\u001b[43margs\u001b[49m\u001b[43m,\u001b[49m\u001b[43m \u001b[49m\u001b[38;5;241;43m*\u001b[39;49m\u001b[38;5;241;43m*\u001b[39;49m\u001b[43mkwargs\u001b[49m\u001b[43m)\u001b[49m\n\u001b[1;32m   2205\u001b[0m \u001b[38;5;28;01mreturn\u001b[39;00m result\n",
      "File \u001b[0;32m/opt/tljh/user/lib/python3.9/site-packages/ipykernel/zmqshell.py:338\u001b[0m, in \u001b[0;36mKernelMagics.less\u001b[0;34m(self, arg_s)\u001b[0m\n\u001b[1;32m    336\u001b[0m     cont \u001b[38;5;241m=\u001b[39m \u001b[38;5;28mself\u001b[39m\u001b[38;5;241m.\u001b[39mshell\u001b[38;5;241m.\u001b[39mpycolorize(openpy\u001b[38;5;241m.\u001b[39mread_py_file(arg_s, skip_encoding_cookie\u001b[38;5;241m=\u001b[39m\u001b[38;5;28;01mFalse\u001b[39;00m))\n\u001b[1;32m    337\u001b[0m \u001b[38;5;28;01melse\u001b[39;00m:\n\u001b[0;32m--> 338\u001b[0m     cont \u001b[38;5;241m=\u001b[39m \u001b[38;5;28;43mopen\u001b[39;49m\u001b[43m(\u001b[49m\u001b[43marg_s\u001b[49m\u001b[43m)\u001b[49m\u001b[38;5;241m.\u001b[39mread()\n\u001b[1;32m    339\u001b[0m page\u001b[38;5;241m.\u001b[39mpage(cont)\n",
      "\u001b[0;31mFileNotFoundError\u001b[0m: [Errno 2] No such file or directory: 'monFichierTexte.txt # touche \"Q\" pour quitter l\\'affichage et revenir au prompt'"
     ]
    }
   ],
   "source": [
    "less monFichierTexte.txt # touche \"Q\" pour quitter l'affichage et revenir au prompt"
   ]
  },
  {
   "cell_type": "markdown",
   "metadata": {},
   "source": [
    "> **Observer** et **expliquer** ce que produisent les instruction suivantes :\n",
    "> ```bash\n",
    "cat monFichierTexte.txt > monAutreFichierTexte.txt\n",
    "cat monAutreFichierTexte.txt\n",
    "```\n",
    "> ...\n",
    "\n",
    "\n",
    "> **Observer** et **expliquer** la différence entre les deux séquences d'instructions suivantes :\n",
    "> ```bash\n",
    "echo \"Hello world\" > monFichierTexte.txt\n",
    "cat monFichierTexte.txt\n",
    "```\n",
    "> et :\n",
    "> ```bash\n",
    "echo \"Demat d'an holl\" >> monFichierTexte.txt\n",
    "cat monFichierTexte.txt\n",
    "```\n",
    "> ...\n",
    "\n",
    "\n",
    "> **Observer** et **expliquer** ce que produit l'instruction suivante :\n",
    "> ```bash\n",
    "cat monAutreFichierTexte.txt monFichierTexte.txt > monFichierMarkdown.md\n",
    "cat monFichierMarkdown.md\n",
    "```\n",
    "> ...\n",
    "\n",
    "\n",
    "#### Afficher avec la commande cowsay = ... :"
   ]
  },
  {
   "cell_type": "code",
   "execution_count": null,
   "metadata": {},
   "outputs": [],
   "source": [
    "cowsay 'Bonjour'"
   ]
  },
  {
   "cell_type": "markdown",
   "metadata": {},
   "source": [
    "> Décrire ce que produit l'instruction `cowsay` : ....\n",
    "\n",
    "> **Observer** ce que produit l'instruction suivante sachant que le symbole `|`, *pipe* en Anglais, permet de relier le flux de sortie d'une commande au flux d'entrée d'une autre : ...\n",
    "> ```bash\n",
    "cat monAutreFichierTexte.txt | cowsay -p -T 'U '\n",
    "```\n",
    "> ...\n",
    "\n",
    "> **Expliquer** alors ce que produit l'instruction suivante en précisant que permet le symbole `;` :\n",
    "> ```bash\n",
    "cat monFichierMarkdown.md | cowsay > monFichierTexte.txt ; less monFichierTexte.txt\n",
    "```\n",
    "> ...\n",
    "\n",
    "#### Déplacer un fichier, un dossier, mv = move :"
   ]
  },
  {
   "cell_type": "code",
   "execution_count": 1,
   "metadata": {},
   "outputs": [
    {
     "name": "stdout",
     "output_type": "stream",
     "text": [
      "mv: cannot stat 'monFichierTexte.txt': No such file or directory\r\n"
     ]
    }
   ],
   "source": [
    "mv monFichierTexte.txt /home/jupyter-pnom/monDossier/ # Sur le serveur, remplacer \"pnom\" par votre nom d'utilisateur"
   ]
  },
  {
   "cell_type": "code",
   "execution_count": null,
   "metadata": {},
   "outputs": [],
   "source": [
    "mv monFichierTexte.txt monDossier/ # Sur iPad"
   ]
  },
  {
   "cell_type": "markdown",
   "metadata": {},
   "source": [
    "> - Commentez pour la destination s'il s'agit d'un chemin absolu ou relatif ;\n",
    "> - Pensez à rafraichir l'affichage dans Fichiers sur iPad comme dans l'onglet `Home Page` sur le serveur.\n",
    "\n",
    "> Remarque : `mv monFichierTexte.txt monDossier/toto.txt`permet de déplacer le fichier tout en le renommant.\n",
    "\n",
    "#### Copier dans un autre dossier, cp = copy :"
   ]
  },
  {
   "cell_type": "code",
   "execution_count": null,
   "metadata": {},
   "outputs": [],
   "source": [
    "cp monFichierMarkdown.md monDossier/ # Sur le serveur"
   ]
  },
  {
   "cell_type": "code",
   "execution_count": null,
   "metadata": {},
   "outputs": [],
   "source": [
    "cp monFichierMarkdown.md ~/Documents/monDossier/ # Sur iPad"
   ]
  },
  {
   "cell_type": "markdown",
   "metadata": {},
   "source": [
    "#### Changer de dossier courant, cd = change directory :"
   ]
  },
  {
   "cell_type": "code",
   "execution_count": null,
   "metadata": {},
   "outputs": [],
   "source": [
    "cd monDossier"
   ]
  },
  {
   "cell_type": "markdown",
   "metadata": {},
   "source": [
    "> Quelle commande permet de vérifier ce changement ?\n",
    ">\n",
    "> ..."
   ]
  },
  {
   "cell_type": "code",
   "execution_count": null,
   "metadata": {},
   "outputs": [],
   "source": [
    "     # pour vérifier..."
   ]
  },
  {
   "cell_type": "markdown",
   "metadata": {},
   "source": [
    "#### Copier et renommer un fichier :"
   ]
  },
  {
   "cell_type": "code",
   "execution_count": null,
   "metadata": {},
   "outputs": [],
   "source": [
    "cp monFichierTexte.txt monFichierTexteBis.txt"
   ]
  },
  {
   "cell_type": "markdown",
   "metadata": {},
   "source": [
    "#### Lister le contenu d'un dossier"
   ]
  },
  {
   "cell_type": "code",
   "execution_count": null,
   "metadata": {},
   "outputs": [],
   "source": [
    "ls"
   ]
  },
  {
   "cell_type": "code",
   "execution_count": null,
   "metadata": {},
   "outputs": [],
   "source": [
    "ls -a"
   ]
  },
  {
   "cell_type": "code",
   "execution_count": null,
   "metadata": {},
   "outputs": [],
   "source": [
    "ls -l"
   ]
  },
  {
   "cell_type": "code",
   "execution_count": null,
   "metadata": {},
   "outputs": [],
   "source": [
    "ls -al"
   ]
  },
  {
   "cell_type": "code",
   "execution_count": null,
   "metadata": {},
   "outputs": [],
   "source": [
    "ls .."
   ]
  },
  {
   "cell_type": "markdown",
   "metadata": {},
   "source": [
    "#### Aller au dossier racine"
   ]
  },
  {
   "cell_type": "code",
   "execution_count": null,
   "metadata": {},
   "outputs": [],
   "source": [
    "cd /"
   ]
  },
  {
   "cell_type": "code",
   "execution_count": null,
   "metadata": {},
   "outputs": [],
   "source": [
    "ls *"
   ]
  },
  {
   "cell_type": "markdown",
   "metadata": {},
   "source": [
    "#### Revenir au dossier utilisateur par défaut"
   ]
  },
  {
   "cell_type": "code",
   "execution_count": null,
   "metadata": {},
   "outputs": [],
   "source": [
    "cd"
   ]
  },
  {
   "cell_type": "code",
   "execution_count": null,
   "metadata": {},
   "outputs": [],
   "source": [
    "ls *"
   ]
  },
  {
   "cell_type": "markdown",
   "metadata": {},
   "source": [
    "#### Effacer l'affichage du  terminal"
   ]
  },
  {
   "cell_type": "code",
   "execution_count": null,
   "metadata": {},
   "outputs": [],
   "source": [
    "clear"
   ]
  },
  {
   "cell_type": "markdown",
   "metadata": {},
   "source": [
    "####  Supprimer un fichier, rm = remove : ( ATTENTION ! C'est sans retour...)"
   ]
  },
  {
   "cell_type": "code",
   "execution_count": null,
   "metadata": {},
   "outputs": [],
   "source": [
    "rm monFichierMarkdown.md"
   ]
  },
  {
   "cell_type": "markdown",
   "metadata": {},
   "source": [
    "####  Supprimer un dossier et tout son contenu : ( ATTENTION ! C'est radical et sans retour...)\n",
    "\n",
    "> `rmdir` permet de supprimer un dossier seulement s'il est vide"
   ]
  },
  {
   "cell_type": "code",
   "execution_count": null,
   "metadata": {},
   "outputs": [],
   "source": [
    "rm -rf monDossier"
   ]
  },
  {
   "cell_type": "markdown",
   "metadata": {},
   "source": [
    "### Aide et Documentation :\n",
    "\n",
    "#### Pour avoir de l'aide sur une commande :"
   ]
  },
  {
   "cell_type": "code",
   "execution_count": null,
   "metadata": {},
   "outputs": [],
   "source": [
    "rm --help"
   ]
  },
  {
   "cell_type": "markdown",
   "metadata": {},
   "source": [
    "##### ou"
   ]
  },
  {
   "cell_type": "code",
   "execution_count": null,
   "metadata": {},
   "outputs": [],
   "source": [
    "man rm # touche \"Q\" pour quitterhelp"
   ]
  },
  {
   "cell_type": "markdown",
   "metadata": {},
   "source": [
    "#### Pour obtenir l'aide général :"
   ]
  },
  {
   "cell_type": "code",
   "execution_count": null,
   "metadata": {},
   "outputs": [],
   "source": [
    "help"
   ]
  },
  {
   "cell_type": "markdown",
   "metadata": {},
   "source": [
    "### Visualiser le code ou télécharger un fichier disponible sur le web :\n",
    "\n",
    "> La commande `wget` n'est pas disponible dans a-Shell. Nous allons utiliser ici la commande [`curl`](https://fr.wikipedia.org/wiki/CURL) qui est plus commune :\n",
    "#### Afficher la météo :"
   ]
  },
  {
   "cell_type": "code",
   "execution_count": null,
   "metadata": {},
   "outputs": [],
   "source": [
    "curl wttr.in/morlaix"
   ]
  },
  {
   "cell_type": "markdown",
   "metadata": {},
   "source": [
    "#### Afficher l'entête d'une page web :"
   ]
  },
  {
   "cell_type": "code",
   "execution_count": null,
   "metadata": {},
   "outputs": [],
   "source": [
    "curl --head http://api.si.lycee.ecmorlaix.fr/APprentissageHtmlCss/"
   ]
  },
  {
   "cell_type": "markdown",
   "metadata": {},
   "source": [
    "#### Copier le code d'une page web dans un fichier dans le dossier courant : "
   ]
  },
  {
   "cell_type": "code",
   "execution_count": null,
   "metadata": {},
   "outputs": [],
   "source": [
    "curl http://api.si.lycee.ecmorlaix.fr/APprentissageHtmlCss/ > maPage.html"
   ]
  },
  {
   "cell_type": "markdown",
   "metadata": {},
   "source": [
    "#### Télécharger un fichier du web dans le dossier courant :"
   ]
  },
  {
   "cell_type": "code",
   "execution_count": null,
   "metadata": {},
   "outputs": [],
   "source": [
    "curl -O http://api.si.lycee.ecmorlaix.fr/APprentissageHtmlCss/zip/hyperliens.zip"
   ]
  },
  {
   "cell_type": "markdown",
   "metadata": {},
   "source": [
    "#### Télécharger un fichier du web dans le dossier courant en le renommant :"
   ]
  },
  {
   "cell_type": "code",
   "execution_count": null,
   "metadata": {},
   "outputs": [],
   "source": [
    "curl -o monNotebookTerminal.ipynb https://raw.githubusercontent.com/ericECmorlaix/1NSI_2021-2022/main/docs/ipycanvas-Le_BN_pour_dessiner.ipynb "
   ]
  },
  {
   "cell_type": "markdown",
   "metadata": {},
   "source": [
    "### Dézipper un fichier :"
   ]
  },
  {
   "cell_type": "markdown",
   "metadata": {},
   "source": [
    "> Sur iPad, la commande `unzip` n'est pas disponible de base dans a-Shell mini mais il est possible de l'y ajouter comme d'autres commandes à partir de la page https://github.com/holzschu/a-Shell-commands.\n",
    ">\n",
    "> Pour ce faire il faut créer un dossier nommé `bin` dans le dossier `~/Documents/` ; Puis télécharger et déplacer le fichier correspondant à la commande souhaitée dans le dossier `~/Documents/bin`.\n",
    ">\n",
    "> Il est alors possible de l'utiliser comme sur le serveur :"
   ]
  },
  {
   "cell_type": "code",
   "execution_count": null,
   "metadata": {},
   "outputs": [],
   "source": [
    "unzip hyperliens.zip"
   ]
  },
  {
   "cell_type": "markdown",
   "metadata": {},
   "source": [
    "### Zipper des fichiers :"
   ]
  },
  {
   "cell_type": "markdown",
   "metadata": {},
   "source": [
    "> Sur iPad, il faut préalablement ajouter la commande `zip` dans le dossier `~/Documents/bin`"
   ]
  },
  {
   "cell_type": "code",
   "execution_count": null,
   "metadata": {},
   "outputs": [],
   "source": [
    "zip -r monZip.zip monDossier # Compresse tout le contenu de monDossier dans un fichier monZip.zip"
   ]
  },
  {
   "cell_type": "markdown",
   "metadata": {},
   "source": [
    "<h3 class='fa fa-graduation-cap' style=\"color: darkorange\"> A faire vous même n°3 : </h3>\n",
    "    \n",
    "Renseigner vous avec le manuel et l'aide quant aux options des commandes `date` et `cowsay` pour créer un fichier contenant :\n",
    "\n",
    "```code\n",
    " ___________________________\n",
    "< Nous sommes le 06/01/2021 >\n",
    " ---------------------------\n",
    "      \\                    / \\  //\\\n",
    "       \\    |\\___/|      /   \\//  \\\\\n",
    "            /0  0  \\__  /    //  | \\ \\\n",
    "           /     /  \\/_/    //   |  \\  \\\n",
    "           @_^_@'/   \\/_   //    |   \\   \\\n",
    "           //_^_/     \\/_ //     |    \\    \\\n",
    "        ( //) |        \\///      |     \\     \\\n",
    "      ( / /) _|_ /   )  //       |      \\     _\\\n",
    "    ( // /) '/,_ _ _/  ( ; -.    |    _ _\\.-~        .-~~~^-.\n",
    "  (( / / )) ,-{        _      `-.|.-~-.           .~         `.\n",
    " (( // / ))  '/\\      /                 ~-. _ .-~      .-~^-.  \\\n",
    " (( /// ))      `.   {            }                   /      \\  \\\n",
    "  (( / ))     .----~-.\\        \\-'                 .~         \\  `. \\^-.\n",
    "             ///.----..>        \\             _ -~             `.  ^-`  ^-_\n",
    "               ///-._ _ _ _ _ _ _}^ - - - - ~                     ~-- ,.-~\n",
    "                                                                  /.-~\n",
    "```\n"
   ]
  },
  {
   "cell_type": "code",
   "execution_count": null,
   "metadata": {},
   "outputs": [],
   "source": [
    "cowsay -f dragon Nous sommes le $(date +%d/%m/%Y) > dragonsympa.txt"
   ]
  },
  {
   "cell_type": "markdown",
   "metadata": {},
   "source": [
    "<h3 class='fa fa-graduation-cap' style=\"color: darkorange\"> A faire vous même n°4 : </h3>\n",
    "\n",
    "Pour vous entrainer en ligne de commande, résolvez ce jeu de piste  : http://luffah.xyz/bidules/Terminus/\n",
    "\n",
    "> **compléter** votre tableau des commandes utilisées et **réaliser** un plan au fur et à mesure de votre quête..."
   ]
  },
  {
   "cell_type": "markdown",
   "metadata": {},
   "source": [
    "### Rechercher :"
   ]
  },
  {
   "cell_type": "markdown",
   "metadata": {},
   "source": [
    "***\n",
    ">Pour de nombreuses commandes, il est souvent utile de faire appel à des méta-caractères :\n",
    "- Il y a évidemment le caractère `*` qui remplace un ou plusieurs caractères (ou même aucun !) ;\n",
    "- Il y a aussi `?` pour ne remplacer qu'un caractère ;\n",
    "- Si vous avez besoin d'un caractère qui est aussi un méta-caractère, utilisez `\\` (anti-slash) devant. Cela évite au caractère d' être interprété par le shell. Il l'affiche seulement.\n",
    "***\n",
    "\n",
    "##### `find` :"
   ]
  },
  {
   "cell_type": "code",
   "execution_count": 1,
   "metadata": {},
   "outputs": [
    {
     "ename": "SyntaxError",
     "evalue": "invalid syntax (1437732106.py, line 1)",
     "output_type": "error",
     "traceback": [
      "\u001b[0;36m  Input \u001b[0;32mIn [1]\u001b[0;36m\u001b[0m\n\u001b[0;31m    find */*.ipynb\u001b[0m\n\u001b[0m          ^\u001b[0m\n\u001b[0;31mSyntaxError\u001b[0m\u001b[0;31m:\u001b[0m invalid syntax\n"
     ]
    }
   ],
   "source": [
    "find */*.ipynb"
   ]
  },
  {
   "cell_type": "markdown",
   "metadata": {},
   "source": [
    "##### `grep` :\n",
    "\n",
    "Rechercher ce que permet **grep**. Voici un exemple simple :"
   ]
  },
  {
   "cell_type": "code",
   "execution_count": null,
   "metadata": {},
   "outputs": [],
   "source": [
    "curl -O https://www.gutenberg.org/files/2650/2650-0.txt"
   ]
  },
  {
   "cell_type": "code",
   "execution_count": null,
   "metadata": {},
   "outputs": [],
   "source": [
    "grep Title 2650-0.txt "
   ]
  },
  {
   "cell_type": "code",
   "execution_count": null,
   "metadata": {},
   "outputs": [],
   "source": [
    "grep Author 2650-0.txt"
   ]
  },
  {
   "cell_type": "code",
   "execution_count": null,
   "metadata": {},
   "outputs": [],
   "source": [
    "grep -n  madeleine 2650-0.txt "
   ]
  },
  {
   "cell_type": "markdown",
   "metadata": {},
   "source": [
    "****\n",
    "## Références aux programmes :\n",
    "\n",
    "### Architectures matérielles et systèmes d’exploitation\n",
    "\n",
    "|Contenus|Capacités attendues|Commentaires|\n",
    "|--------|-------------------|------------|\n",
    "|Systèmes d’exploitation.|Identifier les fonctions d’un système d’exploitation.<br/>Utiliser les commandes de base en ligne de commande.<br/>Gérer les droits et permissions d’accès aux fichiers.|Les différences entre systèmes d’exploitation libres et propriétaires sont évoquées.<br/>Les élèves utilisent un système d’exploitation libre.<br/>Il ne s’agit pas d’une étude théorique des systèmes d’exploitation.|\n",
    "\n",
    "****"
   ]
  },
  {
   "cell_type": "markdown",
   "metadata": {},
   "source": [
    "## Ecrire des scripts"
   ]
  },
  {
   "cell_type": "markdown",
   "metadata": {},
   "source": [
    "> A noter qu'on peut également écrire des commandes système dans et les exécuter depuis une cellule de code ipython mais dans ce cas il faut les faire précéder d'un `!`."
   ]
  },
  {
   "cell_type": "code",
   "execution_count": null,
   "metadata": {},
   "outputs": [],
   "source": [
    "# Code à tester dans un notebook sur le serveur ou dans l'interpréteur ipython d'a-Shell mini sur votre iPad\n",
    "def Lister_le_contenu_de_ce_dossier():\n",
    "    liste_du_contenu = !ls\n",
    "    return liste_du_contenu\n",
    "\n",
    "Lister_le_contenu_de_ce_dossier()"
   ]
  },
  {
   "cell_type": "markdown",
   "metadata": {},
   "source": [
    "## Ressources :\n",
    "\n",
    "### Pour conforter et aller plus loin en ligne de commande :\n",
    "\n",
    "- Une application sympathique à faire sur une Raspberry Pi : https://projects.raspberrypi.org/en/projects/pacman-terminal\n",
    "\n",
    "- https://openclassrooms.com/fr/courses/43538-reprenez-le-controle-a-laide-de-linux/37813-la-console-ca-se-mange\n",
    "\n",
    "- https://doc.ubuntu-fr.org/tutoriel/console_ligne_de_commande\n",
    "\n",
    "- https://doc.ubuntu-fr.org/commande_shell\n",
    "\n",
    "- https://linux.goffinet.org/administration/le-shell/la-ligne-de-commande/\n",
    "\n",
    "- http://jp.barralis.com/linux-man/\n",
    "\n",
    "- http://marionpatrick.free.fr/man_html/html/tuto_shell.html\n",
    "\n",
    "- http://linuxcommand.org/index.php\n",
    "\n",
    "### Pour tester en ligne :\n",
    "\n",
    "- http://weblinux.univ-reunion.fr\n",
    "- https://itsfoss.com/online-linux-terminals/\n",
    "- https://www.onworks.net/\n",
    "\n",
    "### Sur Windows 10, installer WSL, les instructions se trouvent ici : \n",
    "- https://docs.microsoft.com/fr-fr/windows/wsl/install-win10#manual-installation-steps\n",
    "- https://doc.ubuntu-fr.org/wsl\n",
    "- https://docs.microsoft.com/fr-fr/windows/terminal/\n",
    "- https://devblogs.microsoft.com/commandline/\n",
    "- https://devblogs.microsoft.com/commandline/getting-started-with-windows-terminal/\n",
    "- https://searchitoperations.techtarget.com/tip/On-Windows-PowerShell-vs-Bash-comparison-gets-interesting"
   ]
  },
  {
   "cell_type": "markdown",
   "metadata": {},
   "source": [
    "<a rel=\"license\" href=\"http://creativecommons.org/licenses/by-sa/4.0/\"><img alt=\"Licence Creative Commons\" style=\"border-width:0\" src=\"https://i.creativecommons.org/l/by-sa/4.0/88x31.png\" /></a><br />Ce document est mis à disposition selon les termes de la <a rel=\"license\" href=\"http://creativecommons.org/licenses/by-sa/4.0/\">Licence Creative Commons Attribution -  Partage dans les Mêmes Conditions 4.0 International</a>.\n",
    "\n",
    "Pour toute question, suggestion ou commentaire : <a href=\"mailto:eric.madec@ecmorlaix.fr\">eric.madec@ecmorlaix.fr</a>"
   ]
  },
  {
   "cell_type": "code",
   "execution_count": null,
   "metadata": {},
   "outputs": [],
   "source": []
  }
 ],
 "metadata": {
  "kernelspec": {
   "display_name": "Python 3.10.7 64-bit",
   "language": "python",
   "name": "python3"
  },
  "language_info": {
   "codemirror_mode": {
    "name": "ipython",
    "version": 3
   },
   "file_extension": ".py",
   "mimetype": "text/x-python",
   "name": "python",
   "nbconvert_exporter": "python",
   "pygments_lexer": "ipython3",
   "version": "3.10.7"
  },
  "toc": {
   "base_numbering": 1,
   "nav_menu": {},
   "number_sections": true,
   "sideBar": true,
   "skip_h1_title": false,
   "title_cell": "Table of Contents",
   "title_sidebar": "Contents",
   "toc_cell": false,
   "toc_position": {},
   "toc_section_display": true,
   "toc_window_display": false
  },
  "varInspector": {
   "cols": {
    "lenName": 16,
    "lenType": 16,
    "lenVar": 40
   },
   "kernels_config": {
    "python": {
     "delete_cmd_postfix": "",
     "delete_cmd_prefix": "del ",
     "library": "var_list.py",
     "varRefreshCmd": "print(var_dic_list())"
    },
    "r": {
     "delete_cmd_postfix": ") ",
     "delete_cmd_prefix": "rm(",
     "library": "var_list.r",
     "varRefreshCmd": "cat(var_dic_list()) "
    }
   },
   "types_to_exclude": [
    "module",
    "function",
    "builtin_function_or_method",
    "instance",
    "_Feature"
   ],
   "window_display": false
  },
  "vscode": {
   "interpreter": {
    "hash": "64ae21ee98cd2819759ae8f1351a2318f24a930180cc2089820c6cf2e3aa9781"
   }
  }
 },
 "nbformat": 4,
 "nbformat_minor": 2
}
