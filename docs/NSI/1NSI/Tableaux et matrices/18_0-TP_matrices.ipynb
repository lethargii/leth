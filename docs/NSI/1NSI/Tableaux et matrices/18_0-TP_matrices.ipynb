{
 "cells": [
  {
   "cell_type": "markdown",
   "metadata": {},
   "source": [
    "# Matrices"
   ]
  },
  {
   "cell_type": "markdown",
   "metadata": {},
   "source": [
    "# Construction, traitement et affichage de matrices"
   ]
  },
  {
   "cell_type": "markdown",
   "metadata": {},
   "source": [
    "## Définition :\n",
    "\n",
    "En mathématiques, une matrice $\\textbf{M}(m \\times n)$ est un tableau de nombres possédant $m$ lignes et $n$ colonnes. Chaque élément de ce tableau est repéré par deux indices i et j tel que :\n",
    "\n",
    "<img src=\"https://upload.wikimedia.org/wikipedia/commons/thumb/d/d1/Matrice.svg/495px-Matrice.svg.png\" width=\"50%\">\n",
    "<center><em>Source<a href= \"https://fr.wikipedia.org/wiki/Matrice_(math%C3%A9matiques)\"> wikipédia</a><em></center>"
   ]
  },
  {
   "cell_type": "markdown",
   "metadata": {},
   "source": [
    "## Création de matrices au format de l'afficheur d'un BBC micro:bit :\n",
    "\n",
    "On peut représenter les 25 LEDs de l'écran d'un BBC micro:bit par une matrice carrée (5x5) pour laquelle chaque élément peut prendre une valeur entière comprise entre 0 et 9. Cette valeur représente la luminosité de la LED correspondante.\n",
    "\n",
    "Par exemple, l'affichage d'un \"smiley happy\" :\n",
    "\n",
    "\n",
    "<img src=\"https://ericecmorlaix.github.io/img/bbc_happy.png\" width=\"25%\">\n",
    "<center><em>Image du simulateur <a href= \"http://jython.tobiaskohn.ch/\">TigerJython</a><em></center>\n",
    "\n",
    "correspond à la matrice :\n",
    "$$joyeux =\\begin{pmatrix}\n",
    "& 0 & 0 & 0 & 0 & 0 & \\\\\n",
    "& 0 & 9 & 0 & 9 & 0 & \\\\\n",
    "& 0 & 0 & 0 & 0 & 0 & \\\\\n",
    "& 9 & 0 & 0 & 0 & 9 & \\\\\n",
    "& 0 & 9 & 9 & 9 & 0 & \\\\\n",
    "\\end{pmatrix}$$\n",
    "\n",
    "et au tableau définit en Python tel que :"
   ]
  },
  {
   "cell_type": "code",
   "execution_count": 3,
   "metadata": {},
   "outputs": [
    {
     "data": {
      "text/plain": [
       "[[0, 0, 0, 0, 0],\n",
       " [0, 9, 0, 9, 0],\n",
       " [0, 0, 0, 0, 0],\n",
       " [9, 0, 0, 0, 9],\n",
       " [0, 9, 9, 9, 0]]"
      ]
     },
     "execution_count": 3,
     "metadata": {},
     "output_type": "execute_result"
    }
   ],
   "source": [
    "joyeux = [[0, 0, 0, 0, 0],\n",
    "          [0, 9, 0, 9, 0],\n",
    "          [0, 0, 0, 0, 0],\n",
    "          [9, 0, 0, 0, 9],\n",
    "          [0, 9, 9, 9, 0]]\n",
    "joyeux"
   ]
  },
  {
   "cell_type": "markdown",
   "metadata": {},
   "source": [
    "<h3 class='fa fa-code' style=\"color: MediumSeaGreen\"> A coder vous même :</h3>\n",
    "\n",
    "Définir le tableau pour l'affichage d'un \"smiley sad\" :"
   ]
  },
  {
   "cell_type": "code",
   "execution_count": 4,
   "metadata": {},
   "outputs": [
    {
     "data": {
      "text/plain": [
       "[[0, 0, 0, 0, 0],\n",
       " [0, 9, 0, 9, 0],\n",
       " [0, 0, 0, 0, 0],\n",
       " [0, 9, 9, 9, 0],\n",
       " [9, 0, 0, 0, 9]]"
      ]
     },
     "execution_count": 4,
     "metadata": {},
     "output_type": "execute_result"
    }
   ],
   "source": [
    "triste = [[0, 0, 0, 0, 0],\n",
    "          [0, 9, 0, 9, 0],\n",
    "          [0, 0, 0, 0, 0],\n",
    "          [0, 9, 9, 9, 0],\n",
    "          [9, 0, 0, 0, 9]]\n",
    "triste"
   ]
  },
  {
   "cell_type": "markdown",
   "metadata": {},
   "source": [
    "## Afficher une matrice :\n",
    "\n",
    "### Affichage en $\\LaTeX{}$ dans ce notebook jupyter :\n",
    "\n",
    "La fonction `print()` génère un affichage en ligne d'un tableau et non pas un format matricielle, lignes/colonnes :"
   ]
  },
  {
   "cell_type": "code",
   "execution_count": 4,
   "metadata": {},
   "outputs": [
    {
     "name": "stdout",
     "output_type": "stream",
     "text": [
      "[[0, 0, 0, 0, 0], [0, 9, 0, 9, 0], [0, 0, 0, 0, 0], [9, 0, 0, 0, 9], [0, 9, 9, 9, 0]]\n"
     ]
    }
   ],
   "source": [
    "print(joyeux)"
   ]
  },
  {
   "cell_type": "markdown",
   "metadata": {},
   "source": [
    "Pour afficher comme il se doit nos matrices dans ce document, nous allons définir une fonction basée sur la fonction `Latex()` du module `IPython.display`\n",
    "\n",
    "<h3 class='fa fa-cogs' style=\"color: darkorange\"> A faire vous même :</h3>\n",
    "\n",
    "Essayer la fonction suivante avec les matrices `joyeux` puis `triste`."
   ]
  },
  {
   "cell_type": "code",
   "execution_count": 6,
   "metadata": {},
   "outputs": [],
   "source": [
    "from IPython.display import Latex\n",
    "\n",
    "def affiche_latex(matrice) :\n",
    "    '''\n",
    "    ################################################\n",
    "    #                                              #\n",
    "    #   Prend en entrée un tableau et le ressort   #\n",
    "    #   en LaTex                                   #\n",
    "    ################################################\n",
    "    \n",
    "    '''\n",
    "    \n",
    "    S = '$$\\\\begin{pmatrix}'\n",
    "    for i in range(len(matrice)) :\n",
    "        S += '&'\n",
    "        for j in range(len(matrice[i])) :\n",
    "            S += f' {matrice[i][j]} &'\n",
    "        S +=\" \\\\\\\\\"\n",
    "    S +='\\\\end{pmatrix}$$'\n",
    "    return Latex(S)"
   ]
  },
  {
   "cell_type": "code",
   "execution_count": 5,
   "metadata": {},
   "outputs": [
    {
     "data": {
      "text/latex": [
       "$$\\begin{pmatrix}& 0 & 0 & 0 & 0 & 0 & \\\\& 0 & 9 & 0 & 9 & 0 & \\\\& 0 & 0 & 0 & 0 & 0 & \\\\& 9 & 0 & 0 & 0 & 9 & \\\\& 0 & 9 & 9 & 9 & 0 & \\\\\\end{pmatrix}$$"
      ],
      "text/plain": [
       "<IPython.core.display.Latex object>"
      ]
     },
     "execution_count": 5,
     "metadata": {},
     "output_type": "execute_result"
    }
   ],
   "source": [
    "affiche_latex(joyeux)"
   ]
  },
  {
   "cell_type": "code",
   "execution_count": 6,
   "metadata": {},
   "outputs": [
    {
     "data": {
      "text/latex": [
       "$$\\begin{pmatrix}& 0 & 0 & 0 & 0 & 0 & \\\\& 0 & 9 & 0 & 9 & 0 & \\\\& 0 & 0 & 0 & 0 & 0 & \\\\& 0 & 9 & 9 & 9 & 0 & \\\\& 9 & 0 & 0 & 0 & 9 & \\\\\\end{pmatrix}$$"
      ],
      "text/plain": [
       "<IPython.core.display.Latex object>"
      ]
     },
     "execution_count": 6,
     "metadata": {},
     "output_type": "execute_result"
    }
   ],
   "source": [
    "affiche_latex(triste)"
   ]
  },
  {
   "cell_type": "markdown",
   "metadata": {},
   "source": [
    "Que fait la fonction `affiche_latex()`? Rédiger une docstring pour cette fonction..."
   ]
  },
  {
   "cell_type": "code",
   "execution_count": 7,
   "metadata": {},
   "outputs": [
    {
     "name": "stdout",
     "output_type": "stream",
     "text": [
      "Help on function affiche_latex in module __main__:\n",
      "\n",
      "affiche_latex(matrice)\n",
      "    ################################################\n",
      "    #                                              #\n",
      "    #   Documentation de la fonction ...........   #\n",
      "    #                                              #\n",
      "    ################################################\n",
      "\n"
     ]
    }
   ],
   "source": [
    "help(affiche_latex)"
   ]
  },
  {
   "cell_type": "markdown",
   "metadata": {},
   "source": [
    "### Affichage sur l'écran d'un BBC micro:bit :\n",
    "\n",
    ">La fonction: `display.set_pixel(x,y,n)` permet d’allumer la LED de la colonne `x` (nombre entier entre 0 et 4) et de la ligne `y` (nombre entier entre 0 et 4) avec un niveau d'intensité lumineuse `n` (nombre entier entre 0 et 9).\n",
    ">\n",
    ">Exemple: `display.set_pixel(1,2,7)` allume la LED située à la colonne 1 de la ligne 2 au niveau d'intensité lumineuse 7.\n",
    ">\n",
    ">[Guide pour matrice à LED](https://microbit.org/guide/hardware/leds/)"
   ]
  },
  {
   "cell_type": "markdown",
   "metadata": {},
   "source": [
    "<h3 class='fa fa-code' style=\"color: darkorange\"> A coder vous même :</h3>\n",
    "\n",
    "Dans le programme suivant, définir une fonction `affiche_microbit(matrice)` qui :\n",
    "   - prend en paramètre une matrice (5x5) dont les éléments sont des nombres entiers compris entre 0 et 9 ;\n",
    "   - parcourt cette matrice par ligne et par colonne avec deux boucles `for` imbriquées ;\n",
    "   - lit la valeur de chaque élément et l'affecte au pixel (LED) correspondant sur l'écran du BBC micro:bit. \n",
    "\n",
    "Tester votre programme sur simulateur et sur BBC micro:bit pour les matrices `joyeux` et `triste`."
   ]
  },
  {
   "cell_type": "code",
   "execution_count": null,
   "metadata": {},
   "outputs": [],
   "source": [
    "from microbit import *\n",
    "\n",
    "joyeux = [[0, 0, 0, 0, 0],\n",
    "          [0, 9, 0, 9, 0],\n",
    "          [0, 0, 0, 0, 0],\n",
    "          [9, 0, 0, 0, 9],\n",
    "          [0, 9, 9, 9, 0]]\n",
    "\n",
    "\n",
    "\n",
    "def affiche_microbit(matrice) :\n",
    "    '''\n",
    "    ################################################\n",
    "    #                                              #\n",
    "    #  Prend en entrée une matrice et la fait      #\n",
    "    #    apparaitre sur une carte BBC microbit     #\n",
    "    ################################################\n",
    "    \n",
    "    '''\n",
    "    for i in range(len(matrice)):\n",
    "        for j in range(len(matrice[i])):\n",
    "            display.set_pixel(j, i, matrice[i][j])\n",
    "            \n",
    "\n",
    "affiche_microbit(joyeux)"
   ]
  },
  {
   "cell_type": "markdown",
   "metadata": {},
   "source": [
    "<h3 class='fa fa-rocket' style=\"color: tomato\"> Prolongement :</h3>\n",
    "\n",
    "1. Modifier le programme pour afficher alternativement les images `joyeux` puis `triste` ;\n",
    "\n",
    "2. Redéfinir une fonction `affiche_microbit(matrice)` utilisant la classe `Image` et la fonction `display.show()` :"
   ]
  },
  {
   "cell_type": "code",
   "execution_count": null,
   "metadata": {},
   "outputs": [],
   "source": [
    "from microbit import *\n",
    "\n",
    "joyeux = [[0, 0, 0, 0, 0],\n",
    "          [0, 9, 0, 9, 0],\n",
    "          [0, 0, 0, 0, 0],\n",
    "          [9, 0, 0, 0, 9],\n",
    "          [0, 9, 9, 9, 0]]\n",
    "\n",
    "triste = [[0, 0, 0, 0, 0],\n",
    "          [0, 9, 0, 9, 0],\n",
    "          [0, 0, 0, 0, 0],\n",
    "          [0, 9, 9, 9, 0],\n",
    "          [9, 0, 0, 0, 9]]\n",
    "\n",
    "def affiche_microbit(matrice) :\n",
    "    '''\n",
    "    ################################################\n",
    "    #                                              #\n",
    "    #   Documentation de la fonction ...........   #\n",
    "    #                                              #\n",
    "    ################################################\n",
    "    \n",
    "    '''\n",
    "    for i in range(len(matrice)):\n",
    "        for j in range(len(matrice[i])):\n",
    "            display.set_pixel(j, i, matrice[i][j])\n",
    "            \n",
    "\n",
    "while True:\n",
    "    affiche_microbit(joyeux)\n",
    "    sleep(1000)\n",
    "    affiche_microbit(triste)\n",
    "    sleep(1000)"
   ]
  },
  {
   "cell_type": "code",
   "execution_count": null,
   "metadata": {},
   "outputs": [],
   "source": [
    "from microbit import *\n",
    "\n",
    "joyeux = [[0, 0, 0, 0, 0],\n",
    "          [0, 9, 0, 9, 0],\n",
    "          [0, 0, 0, 0, 0],\n",
    "          [9, 0, 0, 0, 9],\n",
    "          [0, 9, 9, 9, 0]]\n",
    "\n",
    "\n",
    "\n",
    "def affiche_microbit(matrice) :\n",
    "    '''\n",
    "    ################################################\n",
    "    #                                              #\n",
    "    #   Documentation de la fonction ...........   #\n",
    "    #                                              #\n",
    "    ################################################\n",
    "    \n",
    "    '''\n",
    "    matricemicrobit=''\n",
    "    for i in range(len(matrice)):\n",
    "        for j in range(len(matrice[i])):\n",
    "            matricemicrobit+=str(matrice[i][j])\n",
    "        matricemicrobit+=':'\n",
    "    \n",
    "    display.show(Image(matricemicrobit))\n",
    "\n",
    "affiche_microbit(joyeux)"
   ]
  },
  {
   "cell_type": "code",
   "execution_count": 3,
   "metadata": {},
   "outputs": [
    {
     "data": {
      "text/plain": [
       "'00000:09090:00000:90009:09990:'"
      ]
     },
     "execution_count": 3,
     "metadata": {},
     "output_type": "execute_result"
    }
   ],
   "source": [
    "\n",
    "\n",
    "joyeux = [[0, 0, 0, 0, 0],\n",
    "          [0, 9, 0, 9, 0],\n",
    "          [0, 0, 0, 0, 0],\n",
    "          [9, 0, 0, 0, 9],\n",
    "          [0, 9, 9, 9, 0]]\n",
    "\n",
    "\n",
    "\n",
    "def affiche_microbit(matrice) :\n",
    "    '''\n",
    "    ################################################\n",
    "    #                                              #\n",
    "    #   Documentation de la fonction ...........   #\n",
    "    #                                              #\n",
    "    ################################################\n",
    "    \n",
    "    '''\n",
    "    matricemicrobit=''\n",
    "    for i in range(len(matrice)):\n",
    "        for j in range(len(matrice[i])):\n",
    "            matricemicrobit+=str(matrice[i][j])\n",
    "        matricemicrobit+=':'\n",
    "    return matricemicrobit\n",
    "\n",
    "affiche_microbit(joyeux)"
   ]
  },
  {
   "cell_type": "code",
   "execution_count": null,
   "metadata": {},
   "outputs": [],
   "source": [
    "monImage = Image('33333:36663:36963:36663:33333:')\n",
    "display.show(monImage)"
   ]
  },
  {
   "cell_type": "markdown",
   "metadata": {},
   "source": [
    "### Affichage sur une grille IPythonBlocks dans ce notebook jupyter :\n",
    "\n",
    "Instructions de base pour l'utilisation du module [IPythonBlocks](http://www.ipythonblocks.org/) :"
   ]
  },
  {
   "cell_type": "code",
   "execution_count": 1,
   "metadata": {},
   "outputs": [
    {
     "data": {
      "text/html": [
       "<style type=\"text/css\">table.blockgrid {border: none;} .blockgrid tr {border: none;} .blockgrid td {padding: 0px;} #blocks00212a38-4453-49e0-b7e7-4b5432565b11 td {border: 1px solid white;}</style><table id=\"blocks00212a38-4453-49e0-b7e7-4b5432565b11\" class=\"blockgrid\"><tbody><tr><td title=\"Index: [0, 0]&#10;Color: (0, 0, 0)\" style=\"width: 30px; height: 30px;background-color: rgb(0, 0, 0);\"></td><td title=\"Index: [0, 1]&#10;Color: (0, 0, 0)\" style=\"width: 30px; height: 30px;background-color: rgb(0, 0, 0);\"></td><td title=\"Index: [0, 2]&#10;Color: (0, 0, 0)\" style=\"width: 30px; height: 30px;background-color: rgb(0, 0, 0);\"></td><td title=\"Index: [0, 3]&#10;Color: (0, 0, 0)\" style=\"width: 30px; height: 30px;background-color: rgb(0, 0, 0);\"></td><td title=\"Index: [0, 4]&#10;Color: (0, 0, 0)\" style=\"width: 30px; height: 30px;background-color: rgb(0, 0, 0);\"></td><td title=\"Index: [0, 5]&#10;Color: (0, 0, 0)\" style=\"width: 30px; height: 30px;background-color: rgb(0, 0, 0);\"></td><td title=\"Index: [0, 6]&#10;Color: (0, 0, 0)\" style=\"width: 30px; height: 30px;background-color: rgb(0, 0, 0);\"></td><td title=\"Index: [0, 7]&#10;Color: (0, 0, 0)\" style=\"width: 30px; height: 30px;background-color: rgb(0, 0, 0);\"></td></tr><tr><td title=\"Index: [1, 0]&#10;Color: (0, 0, 0)\" style=\"width: 30px; height: 30px;background-color: rgb(0, 0, 0);\"></td><td title=\"Index: [1, 1]&#10;Color: (0, 0, 0)\" style=\"width: 30px; height: 30px;background-color: rgb(0, 0, 0);\"></td><td title=\"Index: [1, 2]&#10;Color: (0, 0, 0)\" style=\"width: 30px; height: 30px;background-color: rgb(0, 0, 0);\"></td><td title=\"Index: [1, 3]&#10;Color: (0, 0, 0)\" style=\"width: 30px; height: 30px;background-color: rgb(0, 0, 0);\"></td><td title=\"Index: [1, 4]&#10;Color: (0, 0, 0)\" style=\"width: 30px; height: 30px;background-color: rgb(0, 0, 0);\"></td><td title=\"Index: [1, 5]&#10;Color: (0, 0, 0)\" style=\"width: 30px; height: 30px;background-color: rgb(0, 0, 0);\"></td><td title=\"Index: [1, 6]&#10;Color: (0, 0, 0)\" style=\"width: 30px; height: 30px;background-color: rgb(0, 0, 0);\"></td><td title=\"Index: [1, 7]&#10;Color: (0, 0, 0)\" style=\"width: 30px; height: 30px;background-color: rgb(0, 0, 0);\"></td></tr><tr><td title=\"Index: [2, 0]&#10;Color: (0, 0, 0)\" style=\"width: 30px; height: 30px;background-color: rgb(0, 0, 0);\"></td><td title=\"Index: [2, 1]&#10;Color: (0, 0, 0)\" style=\"width: 30px; height: 30px;background-color: rgb(0, 0, 0);\"></td><td title=\"Index: [2, 2]&#10;Color: (0, 0, 0)\" style=\"width: 30px; height: 30px;background-color: rgb(0, 0, 0);\"></td><td title=\"Index: [2, 3]&#10;Color: (255, 0, 0)\" style=\"width: 30px; height: 30px;background-color: rgb(255, 0, 0);\"></td><td title=\"Index: [2, 4]&#10;Color: (0, 0, 0)\" style=\"width: 30px; height: 30px;background-color: rgb(0, 0, 0);\"></td><td title=\"Index: [2, 5]&#10;Color: (0, 0, 0)\" style=\"width: 30px; height: 30px;background-color: rgb(0, 0, 0);\"></td><td title=\"Index: [2, 6]&#10;Color: (0, 0, 0)\" style=\"width: 30px; height: 30px;background-color: rgb(0, 0, 0);\"></td><td title=\"Index: [2, 7]&#10;Color: (0, 0, 0)\" style=\"width: 30px; height: 30px;background-color: rgb(0, 0, 0);\"></td></tr><tr><td title=\"Index: [3, 0]&#10;Color: (0, 0, 0)\" style=\"width: 30px; height: 30px;background-color: rgb(0, 0, 0);\"></td><td title=\"Index: [3, 1]&#10;Color: (0, 0, 0)\" style=\"width: 30px; height: 30px;background-color: rgb(0, 0, 0);\"></td><td title=\"Index: [3, 2]&#10;Color: (0, 0, 0)\" style=\"width: 30px; height: 30px;background-color: rgb(0, 0, 0);\"></td><td title=\"Index: [3, 3]&#10;Color: (0, 0, 0)\" style=\"width: 30px; height: 30px;background-color: rgb(0, 0, 0);\"></td><td title=\"Index: [3, 4]&#10;Color: (0, 0, 0)\" style=\"width: 30px; height: 30px;background-color: rgb(0, 0, 0);\"></td><td title=\"Index: [3, 5]&#10;Color: (0, 0, 0)\" style=\"width: 30px; height: 30px;background-color: rgb(0, 0, 0);\"></td><td title=\"Index: [3, 6]&#10;Color: (0, 0, 0)\" style=\"width: 30px; height: 30px;background-color: rgb(0, 0, 0);\"></td><td title=\"Index: [3, 7]&#10;Color: (0, 0, 0)\" style=\"width: 30px; height: 30px;background-color: rgb(0, 0, 0);\"></td></tr><tr><td title=\"Index: [4, 0]&#10;Color: (0, 0, 0)\" style=\"width: 30px; height: 30px;background-color: rgb(0, 0, 0);\"></td><td title=\"Index: [4, 1]&#10;Color: (0, 0, 0)\" style=\"width: 30px; height: 30px;background-color: rgb(0, 0, 0);\"></td><td title=\"Index: [4, 2]&#10;Color: (0, 0, 0)\" style=\"width: 30px; height: 30px;background-color: rgb(0, 0, 0);\"></td><td title=\"Index: [4, 3]&#10;Color: (0, 0, 0)\" style=\"width: 30px; height: 30px;background-color: rgb(0, 0, 0);\"></td><td title=\"Index: [4, 4]&#10;Color: (0, 0, 0)\" style=\"width: 30px; height: 30px;background-color: rgb(0, 0, 0);\"></td><td title=\"Index: [4, 5]&#10;Color: (0, 0, 0)\" style=\"width: 30px; height: 30px;background-color: rgb(0, 0, 0);\"></td><td title=\"Index: [4, 6]&#10;Color: (0, 0, 0)\" style=\"width: 30px; height: 30px;background-color: rgb(0, 0, 0);\"></td><td title=\"Index: [4, 7]&#10;Color: (0, 0, 0)\" style=\"width: 30px; height: 30px;background-color: rgb(0, 0, 0);\"></td></tr></tbody></table>"
      ],
      "text/plain": [
       "<ipythonblocks.ipythonblocks.BlockGrid at 0x7fc2a01683d0>"
      ]
     },
     "execution_count": 1,
     "metadata": {},
     "output_type": "execute_result"
    }
   ],
   "source": [
    "# On importe la fonction BlockGrid() du module ipythonblocks\n",
    "from ipythonblocks import BlockGrid\n",
    "# On crée un objet maGrille, une instance de BlockGrid\n",
    "maGrille = BlockGrid(8,5, fill=(0, 0, 0), block_size=30)\n",
    "# On accède à chaque case de la grille par ces index [i,j] pour modifier sa couleur (rouge, vert, bleu)\n",
    "maGrille[2,3]=(255, 0, 0)\n",
    "# On affiche notre grille\n",
    "maGrille"
   ]
  },
  {
   "cell_type": "markdown",
   "metadata": {},
   "source": [
    "<h3 class='fa fa-code' style=\"color: darkorange\"> A coder vous même :</h3>\n",
    "\n",
    "Dans le programme suivant, définir une fonction `affiche_ipythonblocks(matrice)` qui :\n",
    "   - prend en paramètre une matrice (5x5) dont les éléments sont des nombres entiers compris entre 0 et 9 ;\n",
    "   - parcourt cette matrice par ligne et par colonne avec deux boucles `for` imbriquées ;\n",
    "   - lit la valeur de chaque élément et l'adapte à la couleur de la case correspondante dans une grille ipythonblocks (5x5). \n",
    "\n",
    "Tester votre programme dans ce notebook pour les matrices `joyeux` et `triste`."
   ]
  },
  {
   "cell_type": "code",
   "execution_count": 8,
   "metadata": {},
   "outputs": [],
   "source": [
    "from ipythonblocks import BlockGrid\n",
    "\n",
    "def affiche_ipythonblocks(matrice) :\n",
    "    '''\n",
    "    ################################################\n",
    "    #                                              #\n",
    "    #  Prend en entrée une matrice et la ressort   #\n",
    "    #    dans une grille ipythonblocks             #\n",
    "    ################################################\n",
    "    \n",
    "    '''\n",
    "    maGrille = BlockGrid(5,5, fill=(0, 0, 0), block_size=30)\n",
    "    for i in range(len(matrice)):\n",
    "        for j in range(len(matrice[i])):\n",
    "            if matrice[i][j]==9:\n",
    "                maGrille[i,j]=(matrice[i][j]*255/9, 0, 0)\n",
    "            \n",
    "    return maGrille"
   ]
  },
  {
   "cell_type": "code",
   "execution_count": 11,
   "metadata": {},
   "outputs": [],
   "source": [
    "from ipythonblocks import BlockGrid\n",
    "\n",
    "def affiche_ipythonblocks(matrice) :\n",
    "    '''\n",
    "    ################################################\n",
    "    #                                              #\n",
    "    #  Prend en entrée une matrice et la ressort   #\n",
    "    #    dans une grille ipythonblocks             #\n",
    "    ################################################\n",
    "    \n",
    "    '''\n",
    "    maGrille = BlockGrid(5,5, fill=(0, 0, 0), block_size=30)\n",
    "    for i in range(len(matrice)):\n",
    "        for j in range(len(matrice[i])):\n",
    "            maGrille[i,j]=(matrice[i][j]*255//9, 0, 0)\n",
    "            \n",
    "    return maGrille"
   ]
  },
  {
   "cell_type": "code",
   "execution_count": 10,
   "metadata": {},
   "outputs": [
    {
     "data": {
      "text/html": [
       "<style type=\"text/css\">table.blockgrid {border: none;} .blockgrid tr {border: none;} .blockgrid td {padding: 0px;} #blocksb8f9fa28-e6e1-42c4-ba9d-c693193757dd td {border: 1px solid white;}</style><table id=\"blocksb8f9fa28-e6e1-42c4-ba9d-c693193757dd\" class=\"blockgrid\"><tbody><tr><td title=\"Index: [0, 0]&#10;Color: (0, 0, 0)\" style=\"width: 30px; height: 30px;background-color: rgb(0, 0, 0);\"></td><td title=\"Index: [0, 1]&#10;Color: (0, 0, 0)\" style=\"width: 30px; height: 30px;background-color: rgb(0, 0, 0);\"></td><td title=\"Index: [0, 2]&#10;Color: (0, 0, 0)\" style=\"width: 30px; height: 30px;background-color: rgb(0, 0, 0);\"></td><td title=\"Index: [0, 3]&#10;Color: (0, 0, 0)\" style=\"width: 30px; height: 30px;background-color: rgb(0, 0, 0);\"></td><td title=\"Index: [0, 4]&#10;Color: (0, 0, 0)\" style=\"width: 30px; height: 30px;background-color: rgb(0, 0, 0);\"></td></tr><tr><td title=\"Index: [1, 0]&#10;Color: (0, 0, 0)\" style=\"width: 30px; height: 30px;background-color: rgb(0, 0, 0);\"></td><td title=\"Index: [1, 1]&#10;Color: (255, 0, 0)\" style=\"width: 30px; height: 30px;background-color: rgb(255, 0, 0);\"></td><td title=\"Index: [1, 2]&#10;Color: (0, 0, 0)\" style=\"width: 30px; height: 30px;background-color: rgb(0, 0, 0);\"></td><td title=\"Index: [1, 3]&#10;Color: (255, 0, 0)\" style=\"width: 30px; height: 30px;background-color: rgb(255, 0, 0);\"></td><td title=\"Index: [1, 4]&#10;Color: (0, 0, 0)\" style=\"width: 30px; height: 30px;background-color: rgb(0, 0, 0);\"></td></tr><tr><td title=\"Index: [2, 0]&#10;Color: (0, 0, 0)\" style=\"width: 30px; height: 30px;background-color: rgb(0, 0, 0);\"></td><td title=\"Index: [2, 1]&#10;Color: (0, 0, 0)\" style=\"width: 30px; height: 30px;background-color: rgb(0, 0, 0);\"></td><td title=\"Index: [2, 2]&#10;Color: (0, 0, 0)\" style=\"width: 30px; height: 30px;background-color: rgb(0, 0, 0);\"></td><td title=\"Index: [2, 3]&#10;Color: (0, 0, 0)\" style=\"width: 30px; height: 30px;background-color: rgb(0, 0, 0);\"></td><td title=\"Index: [2, 4]&#10;Color: (0, 0, 0)\" style=\"width: 30px; height: 30px;background-color: rgb(0, 0, 0);\"></td></tr><tr><td title=\"Index: [3, 0]&#10;Color: (255, 0, 0)\" style=\"width: 30px; height: 30px;background-color: rgb(255, 0, 0);\"></td><td title=\"Index: [3, 1]&#10;Color: (0, 0, 0)\" style=\"width: 30px; height: 30px;background-color: rgb(0, 0, 0);\"></td><td title=\"Index: [3, 2]&#10;Color: (0, 0, 0)\" style=\"width: 30px; height: 30px;background-color: rgb(0, 0, 0);\"></td><td title=\"Index: [3, 3]&#10;Color: (0, 0, 0)\" style=\"width: 30px; height: 30px;background-color: rgb(0, 0, 0);\"></td><td title=\"Index: [3, 4]&#10;Color: (255, 0, 0)\" style=\"width: 30px; height: 30px;background-color: rgb(255, 0, 0);\"></td></tr><tr><td title=\"Index: [4, 0]&#10;Color: (0, 0, 0)\" style=\"width: 30px; height: 30px;background-color: rgb(0, 0, 0);\"></td><td title=\"Index: [4, 1]&#10;Color: (255, 0, 0)\" style=\"width: 30px; height: 30px;background-color: rgb(255, 0, 0);\"></td><td title=\"Index: [4, 2]&#10;Color: (255, 0, 0)\" style=\"width: 30px; height: 30px;background-color: rgb(255, 0, 0);\"></td><td title=\"Index: [4, 3]&#10;Color: (255, 0, 0)\" style=\"width: 30px; height: 30px;background-color: rgb(255, 0, 0);\"></td><td title=\"Index: [4, 4]&#10;Color: (0, 0, 0)\" style=\"width: 30px; height: 30px;background-color: rgb(0, 0, 0);\"></td></tr></tbody></table>"
      ],
      "text/plain": [
       "<ipythonblocks.ipythonblocks.BlockGrid at 0x117ecb760>"
      ]
     },
     "execution_count": 10,
     "metadata": {},
     "output_type": "execute_result"
    }
   ],
   "source": [
    "affiche_ipythonblocks(joyeux)"
   ]
  },
  {
   "cell_type": "code",
   "execution_count": 7,
   "metadata": {},
   "outputs": [
    {
     "data": {
      "text/html": [
       "<style type=\"text/css\">table.blockgrid {border: none;} .blockgrid tr {border: none;} .blockgrid td {padding: 0px;} #blocksb2b32291-845c-414c-9bdc-5347e1003477 td {border: 1px solid white;}</style><table id=\"blocksb2b32291-845c-414c-9bdc-5347e1003477\" class=\"blockgrid\"><tbody><tr><td title=\"Index: [0, 0]&#10;Color: (0, 0, 0)\" style=\"width: 30px; height: 30px;background-color: rgb(0, 0, 0);\"></td><td title=\"Index: [0, 1]&#10;Color: (0, 0, 0)\" style=\"width: 30px; height: 30px;background-color: rgb(0, 0, 0);\"></td><td title=\"Index: [0, 2]&#10;Color: (0, 0, 0)\" style=\"width: 30px; height: 30px;background-color: rgb(0, 0, 0);\"></td><td title=\"Index: [0, 3]&#10;Color: (0, 0, 0)\" style=\"width: 30px; height: 30px;background-color: rgb(0, 0, 0);\"></td><td title=\"Index: [0, 4]&#10;Color: (0, 0, 0)\" style=\"width: 30px; height: 30px;background-color: rgb(0, 0, 0);\"></td></tr><tr><td title=\"Index: [1, 0]&#10;Color: (0, 0, 0)\" style=\"width: 30px; height: 30px;background-color: rgb(0, 0, 0);\"></td><td title=\"Index: [1, 1]&#10;Color: (255, 0, 0)\" style=\"width: 30px; height: 30px;background-color: rgb(255, 0, 0);\"></td><td title=\"Index: [1, 2]&#10;Color: (0, 0, 0)\" style=\"width: 30px; height: 30px;background-color: rgb(0, 0, 0);\"></td><td title=\"Index: [1, 3]&#10;Color: (255, 0, 0)\" style=\"width: 30px; height: 30px;background-color: rgb(255, 0, 0);\"></td><td title=\"Index: [1, 4]&#10;Color: (0, 0, 0)\" style=\"width: 30px; height: 30px;background-color: rgb(0, 0, 0);\"></td></tr><tr><td title=\"Index: [2, 0]&#10;Color: (0, 0, 0)\" style=\"width: 30px; height: 30px;background-color: rgb(0, 0, 0);\"></td><td title=\"Index: [2, 1]&#10;Color: (0, 0, 0)\" style=\"width: 30px; height: 30px;background-color: rgb(0, 0, 0);\"></td><td title=\"Index: [2, 2]&#10;Color: (0, 0, 0)\" style=\"width: 30px; height: 30px;background-color: rgb(0, 0, 0);\"></td><td title=\"Index: [2, 3]&#10;Color: (0, 0, 0)\" style=\"width: 30px; height: 30px;background-color: rgb(0, 0, 0);\"></td><td title=\"Index: [2, 4]&#10;Color: (0, 0, 0)\" style=\"width: 30px; height: 30px;background-color: rgb(0, 0, 0);\"></td></tr><tr><td title=\"Index: [3, 0]&#10;Color: (0, 0, 0)\" style=\"width: 30px; height: 30px;background-color: rgb(0, 0, 0);\"></td><td title=\"Index: [3, 1]&#10;Color: (255, 0, 0)\" style=\"width: 30px; height: 30px;background-color: rgb(255, 0, 0);\"></td><td title=\"Index: [3, 2]&#10;Color: (255, 0, 0)\" style=\"width: 30px; height: 30px;background-color: rgb(255, 0, 0);\"></td><td title=\"Index: [3, 3]&#10;Color: (255, 0, 0)\" style=\"width: 30px; height: 30px;background-color: rgb(255, 0, 0);\"></td><td title=\"Index: [3, 4]&#10;Color: (0, 0, 0)\" style=\"width: 30px; height: 30px;background-color: rgb(0, 0, 0);\"></td></tr><tr><td title=\"Index: [4, 0]&#10;Color: (255, 0, 0)\" style=\"width: 30px; height: 30px;background-color: rgb(255, 0, 0);\"></td><td title=\"Index: [4, 1]&#10;Color: (0, 0, 0)\" style=\"width: 30px; height: 30px;background-color: rgb(0, 0, 0);\"></td><td title=\"Index: [4, 2]&#10;Color: (0, 0, 0)\" style=\"width: 30px; height: 30px;background-color: rgb(0, 0, 0);\"></td><td title=\"Index: [4, 3]&#10;Color: (0, 0, 0)\" style=\"width: 30px; height: 30px;background-color: rgb(0, 0, 0);\"></td><td title=\"Index: [4, 4]&#10;Color: (255, 0, 0)\" style=\"width: 30px; height: 30px;background-color: rgb(255, 0, 0);\"></td></tr></tbody></table>"
      ],
      "text/plain": [
       "<ipythonblocks.ipythonblocks.BlockGrid at 0x117f41910>"
      ]
     },
     "execution_count": 7,
     "metadata": {},
     "output_type": "execute_result"
    }
   ],
   "source": [
    "affiche_ipythonblocks(triste)"
   ]
  },
  {
   "cell_type": "markdown",
   "metadata": {},
   "source": [
    "## Création de matrices par compréhension :\n",
    "\n",
    "Déclarer une matrice élément par élément peux être fastidieux.\n",
    "\n",
    "La compréhension de liste va nous permettre d'automatiser cette tâche.\n",
    "\n",
    "<h3 class='fa fa-code' style=\"color: darkorange\"> A programmer vous même :</h3>\n",
    "\n",
    "En vous inspirant de l'exemple suivant :"
   ]
  },
  {
   "cell_type": "code",
   "execution_count": 16,
   "metadata": {},
   "outputs": [
    {
     "data": {
      "text/plain": [
       "[[0, 0, 0, 0, 0],\n",
       " [0, 0, 0, 0, 0],\n",
       " [9, 9, 9, 9, 9],\n",
       " [0, 0, 0, 0, 0],\n",
       " [0, 0, 0, 0, 0]]"
      ]
     },
     "execution_count": 16,
     "metadata": {},
     "output_type": "execute_result"
    }
   ],
   "source": [
    "moins = [[0 if i != 2 else 9 for j in range(5)] for i in range(5)]\n",
    "moins"
   ]
  },
  {
   "cell_type": "code",
   "execution_count": 7,
   "metadata": {},
   "outputs": [
    {
     "data": {
      "text/latex": [
       "$$\\begin{pmatrix}& 0 & 0 & 0 & 0 & 0 & \\\\& 0 & 0 & 0 & 0 & 0 & \\\\& 9 & 9 & 9 & 9 & 9 & \\\\& 0 & 0 & 0 & 0 & 0 & \\\\& 0 & 0 & 0 & 0 & 0 & \\\\\\end{pmatrix}$$"
      ],
      "text/plain": [
       "<IPython.core.display.Latex object>"
      ]
     },
     "execution_count": 7,
     "metadata": {},
     "output_type": "execute_result"
    }
   ],
   "source": [
    "affiche_latex(moins)"
   ]
  },
  {
   "cell_type": "code",
   "execution_count": 10,
   "metadata": {},
   "outputs": [
    {
     "data": {
      "text/html": [
       "<style type=\"text/css\">table.blockgrid {border: none;} .blockgrid tr {border: none;} .blockgrid td {padding: 0px;} #blocksa2343dd2-c37e-43e9-bd25-d1c42a4083b6 td {border: 1px solid white;}</style><table id=\"blocksa2343dd2-c37e-43e9-bd25-d1c42a4083b6\" class=\"blockgrid\"><tbody><tr><td title=\"Index: [0, 0]&#10;Color: (0, 0, 0)\" style=\"width: 30px; height: 30px;background-color: rgb(0, 0, 0);\"></td><td title=\"Index: [0, 1]&#10;Color: (0, 0, 0)\" style=\"width: 30px; height: 30px;background-color: rgb(0, 0, 0);\"></td><td title=\"Index: [0, 2]&#10;Color: (0, 0, 0)\" style=\"width: 30px; height: 30px;background-color: rgb(0, 0, 0);\"></td><td title=\"Index: [0, 3]&#10;Color: (0, 0, 0)\" style=\"width: 30px; height: 30px;background-color: rgb(0, 0, 0);\"></td><td title=\"Index: [0, 4]&#10;Color: (0, 0, 0)\" style=\"width: 30px; height: 30px;background-color: rgb(0, 0, 0);\"></td></tr><tr><td title=\"Index: [1, 0]&#10;Color: (0, 0, 0)\" style=\"width: 30px; height: 30px;background-color: rgb(0, 0, 0);\"></td><td title=\"Index: [1, 1]&#10;Color: (0, 0, 0)\" style=\"width: 30px; height: 30px;background-color: rgb(0, 0, 0);\"></td><td title=\"Index: [1, 2]&#10;Color: (0, 0, 0)\" style=\"width: 30px; height: 30px;background-color: rgb(0, 0, 0);\"></td><td title=\"Index: [1, 3]&#10;Color: (0, 0, 0)\" style=\"width: 30px; height: 30px;background-color: rgb(0, 0, 0);\"></td><td title=\"Index: [1, 4]&#10;Color: (0, 0, 0)\" style=\"width: 30px; height: 30px;background-color: rgb(0, 0, 0);\"></td></tr><tr><td title=\"Index: [2, 0]&#10;Color: (255, 0, 0)\" style=\"width: 30px; height: 30px;background-color: rgb(255, 0, 0);\"></td><td title=\"Index: [2, 1]&#10;Color: (255, 0, 0)\" style=\"width: 30px; height: 30px;background-color: rgb(255, 0, 0);\"></td><td title=\"Index: [2, 2]&#10;Color: (255, 0, 0)\" style=\"width: 30px; height: 30px;background-color: rgb(255, 0, 0);\"></td><td title=\"Index: [2, 3]&#10;Color: (255, 0, 0)\" style=\"width: 30px; height: 30px;background-color: rgb(255, 0, 0);\"></td><td title=\"Index: [2, 4]&#10;Color: (255, 0, 0)\" style=\"width: 30px; height: 30px;background-color: rgb(255, 0, 0);\"></td></tr><tr><td title=\"Index: [3, 0]&#10;Color: (0, 0, 0)\" style=\"width: 30px; height: 30px;background-color: rgb(0, 0, 0);\"></td><td title=\"Index: [3, 1]&#10;Color: (0, 0, 0)\" style=\"width: 30px; height: 30px;background-color: rgb(0, 0, 0);\"></td><td title=\"Index: [3, 2]&#10;Color: (0, 0, 0)\" style=\"width: 30px; height: 30px;background-color: rgb(0, 0, 0);\"></td><td title=\"Index: [3, 3]&#10;Color: (0, 0, 0)\" style=\"width: 30px; height: 30px;background-color: rgb(0, 0, 0);\"></td><td title=\"Index: [3, 4]&#10;Color: (0, 0, 0)\" style=\"width: 30px; height: 30px;background-color: rgb(0, 0, 0);\"></td></tr><tr><td title=\"Index: [4, 0]&#10;Color: (0, 0, 0)\" style=\"width: 30px; height: 30px;background-color: rgb(0, 0, 0);\"></td><td title=\"Index: [4, 1]&#10;Color: (0, 0, 0)\" style=\"width: 30px; height: 30px;background-color: rgb(0, 0, 0);\"></td><td title=\"Index: [4, 2]&#10;Color: (0, 0, 0)\" style=\"width: 30px; height: 30px;background-color: rgb(0, 0, 0);\"></td><td title=\"Index: [4, 3]&#10;Color: (0, 0, 0)\" style=\"width: 30px; height: 30px;background-color: rgb(0, 0, 0);\"></td><td title=\"Index: [4, 4]&#10;Color: (0, 0, 0)\" style=\"width: 30px; height: 30px;background-color: rgb(0, 0, 0);\"></td></tr></tbody></table>"
      ],
      "text/plain": [
       "<ipythonblocks.ipythonblocks.BlockGrid at 0x7f2b04128d50>"
      ]
     },
     "execution_count": 10,
     "metadata": {},
     "output_type": "execute_result"
    }
   ],
   "source": [
    "affiche_ipythonblocks(moins)"
   ]
  },
  {
   "cell_type": "markdown",
   "metadata": {},
   "source": [
    "Proposer des solutions pour générer par compréhension les matrices telles que :\n",
    "\n",
    "$$plein\\_feux = \\begin{pmatrix}\n",
    "& 9 & 9 & 9 & 9 & 9 & \\\\\n",
    "& 9 & 9 & 9 & 9 & 9 & \\\\\n",
    "& 9 & 9 & 9 & 9 & 9 & \\\\\n",
    "& 9 & 9 & 9 & 9 & 9 & \\\\\n",
    "& 9 & 9 & 9 & 9 & 9 & \\\\\n",
    "\\end{pmatrix}$$"
   ]
  },
  {
   "cell_type": "code",
   "execution_count": 11,
   "metadata": {},
   "outputs": [],
   "source": [
    "plein_feux = [[9 for j in range(5)] for i in range(5)]"
   ]
  },
  {
   "cell_type": "code",
   "execution_count": 12,
   "metadata": {},
   "outputs": [
    {
     "data": {
      "text/latex": [
       "$$\\begin{pmatrix}& 9 & 9 & 9 & 9 & 9 & \\\\& 9 & 9 & 9 & 9 & 9 & \\\\& 9 & 9 & 9 & 9 & 9 & \\\\& 9 & 9 & 9 & 9 & 9 & \\\\& 9 & 9 & 9 & 9 & 9 & \\\\\\end{pmatrix}$$"
      ],
      "text/plain": [
       "<IPython.core.display.Latex object>"
      ]
     },
     "execution_count": 12,
     "metadata": {},
     "output_type": "execute_result"
    }
   ],
   "source": [
    "affiche_latex(plein_feux)"
   ]
  },
  {
   "cell_type": "code",
   "execution_count": 13,
   "metadata": {},
   "outputs": [
    {
     "data": {
      "text/html": [
       "<style type=\"text/css\">table.blockgrid {border: none;} .blockgrid tr {border: none;} .blockgrid td {padding: 0px;} #blocks7dd791cd-20cf-400d-9e16-14c7489d9ee3 td {border: 1px solid white;}</style><table id=\"blocks7dd791cd-20cf-400d-9e16-14c7489d9ee3\" class=\"blockgrid\"><tbody><tr><td title=\"Index: [0, 0]&#10;Color: (255, 0, 0)\" style=\"width: 30px; height: 30px;background-color: rgb(255, 0, 0);\"></td><td title=\"Index: [0, 1]&#10;Color: (255, 0, 0)\" style=\"width: 30px; height: 30px;background-color: rgb(255, 0, 0);\"></td><td title=\"Index: [0, 2]&#10;Color: (255, 0, 0)\" style=\"width: 30px; height: 30px;background-color: rgb(255, 0, 0);\"></td><td title=\"Index: [0, 3]&#10;Color: (255, 0, 0)\" style=\"width: 30px; height: 30px;background-color: rgb(255, 0, 0);\"></td><td title=\"Index: [0, 4]&#10;Color: (255, 0, 0)\" style=\"width: 30px; height: 30px;background-color: rgb(255, 0, 0);\"></td></tr><tr><td title=\"Index: [1, 0]&#10;Color: (255, 0, 0)\" style=\"width: 30px; height: 30px;background-color: rgb(255, 0, 0);\"></td><td title=\"Index: [1, 1]&#10;Color: (255, 0, 0)\" style=\"width: 30px; height: 30px;background-color: rgb(255, 0, 0);\"></td><td title=\"Index: [1, 2]&#10;Color: (255, 0, 0)\" style=\"width: 30px; height: 30px;background-color: rgb(255, 0, 0);\"></td><td title=\"Index: [1, 3]&#10;Color: (255, 0, 0)\" style=\"width: 30px; height: 30px;background-color: rgb(255, 0, 0);\"></td><td title=\"Index: [1, 4]&#10;Color: (255, 0, 0)\" style=\"width: 30px; height: 30px;background-color: rgb(255, 0, 0);\"></td></tr><tr><td title=\"Index: [2, 0]&#10;Color: (255, 0, 0)\" style=\"width: 30px; height: 30px;background-color: rgb(255, 0, 0);\"></td><td title=\"Index: [2, 1]&#10;Color: (255, 0, 0)\" style=\"width: 30px; height: 30px;background-color: rgb(255, 0, 0);\"></td><td title=\"Index: [2, 2]&#10;Color: (255, 0, 0)\" style=\"width: 30px; height: 30px;background-color: rgb(255, 0, 0);\"></td><td title=\"Index: [2, 3]&#10;Color: (255, 0, 0)\" style=\"width: 30px; height: 30px;background-color: rgb(255, 0, 0);\"></td><td title=\"Index: [2, 4]&#10;Color: (255, 0, 0)\" style=\"width: 30px; height: 30px;background-color: rgb(255, 0, 0);\"></td></tr><tr><td title=\"Index: [3, 0]&#10;Color: (255, 0, 0)\" style=\"width: 30px; height: 30px;background-color: rgb(255, 0, 0);\"></td><td title=\"Index: [3, 1]&#10;Color: (255, 0, 0)\" style=\"width: 30px; height: 30px;background-color: rgb(255, 0, 0);\"></td><td title=\"Index: [3, 2]&#10;Color: (255, 0, 0)\" style=\"width: 30px; height: 30px;background-color: rgb(255, 0, 0);\"></td><td title=\"Index: [3, 3]&#10;Color: (255, 0, 0)\" style=\"width: 30px; height: 30px;background-color: rgb(255, 0, 0);\"></td><td title=\"Index: [3, 4]&#10;Color: (255, 0, 0)\" style=\"width: 30px; height: 30px;background-color: rgb(255, 0, 0);\"></td></tr><tr><td title=\"Index: [4, 0]&#10;Color: (255, 0, 0)\" style=\"width: 30px; height: 30px;background-color: rgb(255, 0, 0);\"></td><td title=\"Index: [4, 1]&#10;Color: (255, 0, 0)\" style=\"width: 30px; height: 30px;background-color: rgb(255, 0, 0);\"></td><td title=\"Index: [4, 2]&#10;Color: (255, 0, 0)\" style=\"width: 30px; height: 30px;background-color: rgb(255, 0, 0);\"></td><td title=\"Index: [4, 3]&#10;Color: (255, 0, 0)\" style=\"width: 30px; height: 30px;background-color: rgb(255, 0, 0);\"></td><td title=\"Index: [4, 4]&#10;Color: (255, 0, 0)\" style=\"width: 30px; height: 30px;background-color: rgb(255, 0, 0);\"></td></tr></tbody></table>"
      ],
      "text/plain": [
       "<ipythonblocks.ipythonblocks.BlockGrid at 0x7f2b0406ee50>"
      ]
     },
     "execution_count": 13,
     "metadata": {},
     "output_type": "execute_result"
    }
   ],
   "source": [
    "affiche_ipythonblocks(plein_feux)"
   ]
  },
  {
   "cell_type": "markdown",
   "metadata": {},
   "source": [
    "****\n",
    "$$plus = \\begin{pmatrix}\n",
    "& 0 & 0 & 9 & 0 & 0 & \\\\\n",
    "& 0 & 0 & 9 & 0 & 0 & \\\\\n",
    "& 9 & 9 & 9 & 9 & 9 & \\\\\n",
    "& 0 & 0 & 9 & 0 & 0 & \\\\\n",
    "& 0 & 0 & 9 & 0 & 0 & \\\\\n",
    "\\end{pmatrix}$$"
   ]
  },
  {
   "cell_type": "code",
   "execution_count": 12,
   "metadata": {},
   "outputs": [],
   "source": [
    "plus = [[9 if i == 2 or j == 2 else 0 for j in range(5)] for i in range(5)]"
   ]
  },
  {
   "cell_type": "code",
   "execution_count": 15,
   "metadata": {},
   "outputs": [
    {
     "data": {
      "text/latex": [
       "$$\\begin{pmatrix}& 0 & 0 & 9 & 0 & 0 & \\\\& 0 & 0 & 9 & 0 & 0 & \\\\& 9 & 9 & 9 & 9 & 9 & \\\\& 0 & 0 & 9 & 0 & 0 & \\\\& 0 & 0 & 9 & 0 & 0 & \\\\\\end{pmatrix}$$"
      ],
      "text/plain": [
       "<IPython.core.display.Latex object>"
      ]
     },
     "execution_count": 15,
     "metadata": {},
     "output_type": "execute_result"
    }
   ],
   "source": [
    "affiche_latex(plus)"
   ]
  },
  {
   "cell_type": "code",
   "execution_count": 13,
   "metadata": {},
   "outputs": [
    {
     "data": {
      "text/html": [
       "<style type=\"text/css\">table.blockgrid {border: none;} .blockgrid tr {border: none;} .blockgrid td {padding: 0px;} #blocks4eb9c13a-d739-4eec-9941-8b356e5c8586 td {border: 1px solid white;}</style><table id=\"blocks4eb9c13a-d739-4eec-9941-8b356e5c8586\" class=\"blockgrid\"><tbody><tr><td title=\"Index: [0, 0]&#10;Color: (0, 0, 0)\" style=\"width: 30px; height: 30px;background-color: rgb(0, 0, 0);\"></td><td title=\"Index: [0, 1]&#10;Color: (0, 0, 0)\" style=\"width: 30px; height: 30px;background-color: rgb(0, 0, 0);\"></td><td title=\"Index: [0, 2]&#10;Color: (255, 0, 0)\" style=\"width: 30px; height: 30px;background-color: rgb(255, 0, 0);\"></td><td title=\"Index: [0, 3]&#10;Color: (0, 0, 0)\" style=\"width: 30px; height: 30px;background-color: rgb(0, 0, 0);\"></td><td title=\"Index: [0, 4]&#10;Color: (0, 0, 0)\" style=\"width: 30px; height: 30px;background-color: rgb(0, 0, 0);\"></td></tr><tr><td title=\"Index: [1, 0]&#10;Color: (0, 0, 0)\" style=\"width: 30px; height: 30px;background-color: rgb(0, 0, 0);\"></td><td title=\"Index: [1, 1]&#10;Color: (0, 0, 0)\" style=\"width: 30px; height: 30px;background-color: rgb(0, 0, 0);\"></td><td title=\"Index: [1, 2]&#10;Color: (255, 0, 0)\" style=\"width: 30px; height: 30px;background-color: rgb(255, 0, 0);\"></td><td title=\"Index: [1, 3]&#10;Color: (0, 0, 0)\" style=\"width: 30px; height: 30px;background-color: rgb(0, 0, 0);\"></td><td title=\"Index: [1, 4]&#10;Color: (0, 0, 0)\" style=\"width: 30px; height: 30px;background-color: rgb(0, 0, 0);\"></td></tr><tr><td title=\"Index: [2, 0]&#10;Color: (255, 0, 0)\" style=\"width: 30px; height: 30px;background-color: rgb(255, 0, 0);\"></td><td title=\"Index: [2, 1]&#10;Color: (255, 0, 0)\" style=\"width: 30px; height: 30px;background-color: rgb(255, 0, 0);\"></td><td title=\"Index: [2, 2]&#10;Color: (255, 0, 0)\" style=\"width: 30px; height: 30px;background-color: rgb(255, 0, 0);\"></td><td title=\"Index: [2, 3]&#10;Color: (255, 0, 0)\" style=\"width: 30px; height: 30px;background-color: rgb(255, 0, 0);\"></td><td title=\"Index: [2, 4]&#10;Color: (255, 0, 0)\" style=\"width: 30px; height: 30px;background-color: rgb(255, 0, 0);\"></td></tr><tr><td title=\"Index: [3, 0]&#10;Color: (0, 0, 0)\" style=\"width: 30px; height: 30px;background-color: rgb(0, 0, 0);\"></td><td title=\"Index: [3, 1]&#10;Color: (0, 0, 0)\" style=\"width: 30px; height: 30px;background-color: rgb(0, 0, 0);\"></td><td title=\"Index: [3, 2]&#10;Color: (255, 0, 0)\" style=\"width: 30px; height: 30px;background-color: rgb(255, 0, 0);\"></td><td title=\"Index: [3, 3]&#10;Color: (0, 0, 0)\" style=\"width: 30px; height: 30px;background-color: rgb(0, 0, 0);\"></td><td title=\"Index: [3, 4]&#10;Color: (0, 0, 0)\" style=\"width: 30px; height: 30px;background-color: rgb(0, 0, 0);\"></td></tr><tr><td title=\"Index: [4, 0]&#10;Color: (0, 0, 0)\" style=\"width: 30px; height: 30px;background-color: rgb(0, 0, 0);\"></td><td title=\"Index: [4, 1]&#10;Color: (0, 0, 0)\" style=\"width: 30px; height: 30px;background-color: rgb(0, 0, 0);\"></td><td title=\"Index: [4, 2]&#10;Color: (255, 0, 0)\" style=\"width: 30px; height: 30px;background-color: rgb(255, 0, 0);\"></td><td title=\"Index: [4, 3]&#10;Color: (0, 0, 0)\" style=\"width: 30px; height: 30px;background-color: rgb(0, 0, 0);\"></td><td title=\"Index: [4, 4]&#10;Color: (0, 0, 0)\" style=\"width: 30px; height: 30px;background-color: rgb(0, 0, 0);\"></td></tr></tbody></table>"
      ],
      "text/plain": [
       "<ipythonblocks.ipythonblocks.BlockGrid at 0x11d91ac40>"
      ]
     },
     "execution_count": 13,
     "metadata": {},
     "output_type": "execute_result"
    }
   ],
   "source": [
    "affiche_ipythonblocks(plus)"
   ]
  },
  {
   "cell_type": "markdown",
   "metadata": {},
   "source": [
    "$$fois = \\begin{pmatrix}\n",
    "& 9 & 0 & 0 & 0 & 9 & \\\\\n",
    "& 0 & 9 & 0 & 9 & 0 & \\\\\n",
    "& 0 & 0 & 9 & 0 & 0 & \\\\\n",
    "& 0 & 9 & 0 & 9 & 0 & \\\\\n",
    "& 9 & 0 & 0 & 0 & 9 & \\\\\n",
    "\\end{pmatrix}$$"
   ]
  },
  {
   "cell_type": "code",
   "execution_count": 2,
   "metadata": {},
   "outputs": [],
   "source": [
    "fois = [[9 if i-j == 0 or i+j == 4 else 0 for j in range(5)] for i in range(5)]"
   ]
  },
  {
   "cell_type": "code",
   "execution_count": 19,
   "metadata": {},
   "outputs": [
    {
     "data": {
      "text/latex": [
       "$$\\begin{pmatrix}& 9 & 0 & 0 & 0 & 9 & \\\\& 0 & 9 & 0 & 9 & 0 & \\\\& 0 & 0 & 9 & 0 & 0 & \\\\& 0 & 9 & 0 & 9 & 0 & \\\\& 9 & 0 & 0 & 0 & 9 & \\\\\\end{pmatrix}$$"
      ],
      "text/plain": [
       "<IPython.core.display.Latex object>"
      ]
     },
     "execution_count": 19,
     "metadata": {},
     "output_type": "execute_result"
    }
   ],
   "source": [
    "affiche_latex(fois)"
   ]
  },
  {
   "cell_type": "code",
   "execution_count": 3,
   "metadata": {},
   "outputs": [
    {
     "ename": "NameError",
     "evalue": "name 'affiche_ipythonblocks' is not defined",
     "output_type": "error",
     "traceback": [
      "\u001b[0;31m---------------------------------------------------------------------------\u001b[0m",
      "\u001b[0;31mNameError\u001b[0m                                 Traceback (most recent call last)",
      "\u001b[0;32m~/tmp/ipykernel_34693/3618635948.py\u001b[0m in \u001b[0;36m<module>\u001b[0;34m\u001b[0m\n\u001b[0;32m----> 1\u001b[0;31m \u001b[0maffiche_ipythonblocks\u001b[0m\u001b[0;34m(\u001b[0m\u001b[0mfois\u001b[0m\u001b[0;34m)\u001b[0m\u001b[0;34m\u001b[0m\u001b[0;34m\u001b[0m\u001b[0m\n\u001b[0m",
      "\u001b[0;31mNameError\u001b[0m: name 'affiche_ipythonblocks' is not defined"
     ]
    }
   ],
   "source": [
    "affiche_ipythonblocks(fois)"
   ]
  },
  {
   "cell_type": "markdown",
   "metadata": {},
   "source": [
    "$$ degrade\\_Est = \\begin{pmatrix}\n",
    "& 1 & 3 & 5 & 7 & 9 & \\\\\n",
    "& 1 & 3 & 5 & 7 & 9 & \\\\\n",
    "& 1 & 3 & 5 & 7 & 9 & \\\\\n",
    "& 1 & 3 & 5 & 7 & 9 & \\\\\n",
    "& 1 & 3 & 5 & 7 & 9 & \\\\\n",
    "\\end{pmatrix}$$"
   ]
  },
  {
   "cell_type": "code",
   "execution_count": 14,
   "metadata": {},
   "outputs": [],
   "source": [
    "degrade_Est = [[1+j*2 for j in range(5)] for i in range(5)]"
   ]
  },
  {
   "cell_type": "code",
   "execution_count": 21,
   "metadata": {},
   "outputs": [
    {
     "data": {
      "text/latex": [
       "$$\\begin{pmatrix}& 1 & 3 & 5 & 7 & 9 & \\\\& 1 & 3 & 5 & 7 & 9 & \\\\& 1 & 3 & 5 & 7 & 9 & \\\\& 1 & 3 & 5 & 7 & 9 & \\\\& 1 & 3 & 5 & 7 & 9 & \\\\\\end{pmatrix}$$"
      ],
      "text/plain": [
       "<IPython.core.display.Latex object>"
      ]
     },
     "execution_count": 21,
     "metadata": {},
     "output_type": "execute_result"
    }
   ],
   "source": [
    "affiche_latex(degrade_Est)"
   ]
  },
  {
   "cell_type": "code",
   "execution_count": 15,
   "metadata": {},
   "outputs": [
    {
     "data": {
      "text/html": [
       "<style type=\"text/css\">table.blockgrid {border: none;} .blockgrid tr {border: none;} .blockgrid td {padding: 0px;} #blocksf3b30276-d9f7-4add-abf4-65d387c36534 td {border: 1px solid white;}</style><table id=\"blocksf3b30276-d9f7-4add-abf4-65d387c36534\" class=\"blockgrid\"><tbody><tr><td title=\"Index: [0, 0]&#10;Color: (0, 0, 0)\" style=\"width: 30px; height: 30px;background-color: rgb(0, 0, 0);\"></td><td title=\"Index: [0, 1]&#10;Color: (0, 0, 0)\" style=\"width: 30px; height: 30px;background-color: rgb(0, 0, 0);\"></td><td title=\"Index: [0, 2]&#10;Color: (0, 0, 0)\" style=\"width: 30px; height: 30px;background-color: rgb(0, 0, 0);\"></td><td title=\"Index: [0, 3]&#10;Color: (0, 0, 0)\" style=\"width: 30px; height: 30px;background-color: rgb(0, 0, 0);\"></td><td title=\"Index: [0, 4]&#10;Color: (255, 0, 0)\" style=\"width: 30px; height: 30px;background-color: rgb(255, 0, 0);\"></td></tr><tr><td title=\"Index: [1, 0]&#10;Color: (0, 0, 0)\" style=\"width: 30px; height: 30px;background-color: rgb(0, 0, 0);\"></td><td title=\"Index: [1, 1]&#10;Color: (0, 0, 0)\" style=\"width: 30px; height: 30px;background-color: rgb(0, 0, 0);\"></td><td title=\"Index: [1, 2]&#10;Color: (0, 0, 0)\" style=\"width: 30px; height: 30px;background-color: rgb(0, 0, 0);\"></td><td title=\"Index: [1, 3]&#10;Color: (0, 0, 0)\" style=\"width: 30px; height: 30px;background-color: rgb(0, 0, 0);\"></td><td title=\"Index: [1, 4]&#10;Color: (255, 0, 0)\" style=\"width: 30px; height: 30px;background-color: rgb(255, 0, 0);\"></td></tr><tr><td title=\"Index: [2, 0]&#10;Color: (0, 0, 0)\" style=\"width: 30px; height: 30px;background-color: rgb(0, 0, 0);\"></td><td title=\"Index: [2, 1]&#10;Color: (0, 0, 0)\" style=\"width: 30px; height: 30px;background-color: rgb(0, 0, 0);\"></td><td title=\"Index: [2, 2]&#10;Color: (0, 0, 0)\" style=\"width: 30px; height: 30px;background-color: rgb(0, 0, 0);\"></td><td title=\"Index: [2, 3]&#10;Color: (0, 0, 0)\" style=\"width: 30px; height: 30px;background-color: rgb(0, 0, 0);\"></td><td title=\"Index: [2, 4]&#10;Color: (255, 0, 0)\" style=\"width: 30px; height: 30px;background-color: rgb(255, 0, 0);\"></td></tr><tr><td title=\"Index: [3, 0]&#10;Color: (0, 0, 0)\" style=\"width: 30px; height: 30px;background-color: rgb(0, 0, 0);\"></td><td title=\"Index: [3, 1]&#10;Color: (0, 0, 0)\" style=\"width: 30px; height: 30px;background-color: rgb(0, 0, 0);\"></td><td title=\"Index: [3, 2]&#10;Color: (0, 0, 0)\" style=\"width: 30px; height: 30px;background-color: rgb(0, 0, 0);\"></td><td title=\"Index: [3, 3]&#10;Color: (0, 0, 0)\" style=\"width: 30px; height: 30px;background-color: rgb(0, 0, 0);\"></td><td title=\"Index: [3, 4]&#10;Color: (255, 0, 0)\" style=\"width: 30px; height: 30px;background-color: rgb(255, 0, 0);\"></td></tr><tr><td title=\"Index: [4, 0]&#10;Color: (0, 0, 0)\" style=\"width: 30px; height: 30px;background-color: rgb(0, 0, 0);\"></td><td title=\"Index: [4, 1]&#10;Color: (0, 0, 0)\" style=\"width: 30px; height: 30px;background-color: rgb(0, 0, 0);\"></td><td title=\"Index: [4, 2]&#10;Color: (0, 0, 0)\" style=\"width: 30px; height: 30px;background-color: rgb(0, 0, 0);\"></td><td title=\"Index: [4, 3]&#10;Color: (0, 0, 0)\" style=\"width: 30px; height: 30px;background-color: rgb(0, 0, 0);\"></td><td title=\"Index: [4, 4]&#10;Color: (255, 0, 0)\" style=\"width: 30px; height: 30px;background-color: rgb(255, 0, 0);\"></td></tr></tbody></table>"
      ],
      "text/plain": [
       "<ipythonblocks.ipythonblocks.BlockGrid at 0x11d91a490>"
      ]
     },
     "execution_count": 15,
     "metadata": {},
     "output_type": "execute_result"
    }
   ],
   "source": [
    "affiche_ipythonblocks(degrade_Est)"
   ]
  },
  {
   "cell_type": "markdown",
   "metadata": {},
   "source": [
    "$$ degrade\\_Sud\\_Est = \\begin{pmatrix}\n",
    "& 1 & 2 & 3 & 4 & 5 & \\\\\n",
    "& 2 & 3 & 4 & 5 & 6 & \\\\\n",
    "& 3 & 4 & 5 & 6 & 7 & \\\\\n",
    "& 4 & 5 & 6 & 7 & 8 & \\\\\n",
    "& 5 & 6 & 7 & 8 & 9 & \\\\\n",
    "\\end{pmatrix}$$"
   ]
  },
  {
   "cell_type": "code",
   "execution_count": 12,
   "metadata": {},
   "outputs": [],
   "source": [
    "degrade_Sud_Est = [[1+j+i for j in range(5)] for i in range(5)]"
   ]
  },
  {
   "cell_type": "code",
   "execution_count": 23,
   "metadata": {},
   "outputs": [
    {
     "data": {
      "text/latex": [
       "$$\\begin{pmatrix}& 1 & 2 & 3 & 4 & 5 & \\\\& 2 & 3 & 4 & 5 & 6 & \\\\& 3 & 4 & 5 & 6 & 7 & \\\\& 4 & 5 & 6 & 7 & 8 & \\\\& 5 & 6 & 7 & 8 & 9 & \\\\\\end{pmatrix}$$"
      ],
      "text/plain": [
       "<IPython.core.display.Latex object>"
      ]
     },
     "execution_count": 23,
     "metadata": {},
     "output_type": "execute_result"
    }
   ],
   "source": [
    "affiche_latex(degrade_Sud_Est)"
   ]
  },
  {
   "cell_type": "code",
   "execution_count": 13,
   "metadata": {},
   "outputs": [
    {
     "data": {
      "text/html": [
       "<style type=\"text/css\">table.blockgrid {border: none;} .blockgrid tr {border: none;} .blockgrid td {padding: 0px;} #blocksb4fcac9e-50f7-4fb5-bcd6-4117ee11e818 td {border: 1px solid white;}</style><table id=\"blocksb4fcac9e-50f7-4fb5-bcd6-4117ee11e818\" class=\"blockgrid\"><tbody><tr><td title=\"Index: [0, 0]&#10;Color: (28, 0, 0)\" style=\"width: 30px; height: 30px;background-color: rgb(28, 0, 0);\"></td><td title=\"Index: [0, 1]&#10;Color: (56, 0, 0)\" style=\"width: 30px; height: 30px;background-color: rgb(56, 0, 0);\"></td><td title=\"Index: [0, 2]&#10;Color: (85, 0, 0)\" style=\"width: 30px; height: 30px;background-color: rgb(85, 0, 0);\"></td><td title=\"Index: [0, 3]&#10;Color: (113, 0, 0)\" style=\"width: 30px; height: 30px;background-color: rgb(113, 0, 0);\"></td><td title=\"Index: [0, 4]&#10;Color: (141, 0, 0)\" style=\"width: 30px; height: 30px;background-color: rgb(141, 0, 0);\"></td></tr><tr><td title=\"Index: [1, 0]&#10;Color: (56, 0, 0)\" style=\"width: 30px; height: 30px;background-color: rgb(56, 0, 0);\"></td><td title=\"Index: [1, 1]&#10;Color: (85, 0, 0)\" style=\"width: 30px; height: 30px;background-color: rgb(85, 0, 0);\"></td><td title=\"Index: [1, 2]&#10;Color: (113, 0, 0)\" style=\"width: 30px; height: 30px;background-color: rgb(113, 0, 0);\"></td><td title=\"Index: [1, 3]&#10;Color: (141, 0, 0)\" style=\"width: 30px; height: 30px;background-color: rgb(141, 0, 0);\"></td><td title=\"Index: [1, 4]&#10;Color: (170, 0, 0)\" style=\"width: 30px; height: 30px;background-color: rgb(170, 0, 0);\"></td></tr><tr><td title=\"Index: [2, 0]&#10;Color: (85, 0, 0)\" style=\"width: 30px; height: 30px;background-color: rgb(85, 0, 0);\"></td><td title=\"Index: [2, 1]&#10;Color: (113, 0, 0)\" style=\"width: 30px; height: 30px;background-color: rgb(113, 0, 0);\"></td><td title=\"Index: [2, 2]&#10;Color: (141, 0, 0)\" style=\"width: 30px; height: 30px;background-color: rgb(141, 0, 0);\"></td><td title=\"Index: [2, 3]&#10;Color: (170, 0, 0)\" style=\"width: 30px; height: 30px;background-color: rgb(170, 0, 0);\"></td><td title=\"Index: [2, 4]&#10;Color: (198, 0, 0)\" style=\"width: 30px; height: 30px;background-color: rgb(198, 0, 0);\"></td></tr><tr><td title=\"Index: [3, 0]&#10;Color: (113, 0, 0)\" style=\"width: 30px; height: 30px;background-color: rgb(113, 0, 0);\"></td><td title=\"Index: [3, 1]&#10;Color: (141, 0, 0)\" style=\"width: 30px; height: 30px;background-color: rgb(141, 0, 0);\"></td><td title=\"Index: [3, 2]&#10;Color: (170, 0, 0)\" style=\"width: 30px; height: 30px;background-color: rgb(170, 0, 0);\"></td><td title=\"Index: [3, 3]&#10;Color: (198, 0, 0)\" style=\"width: 30px; height: 30px;background-color: rgb(198, 0, 0);\"></td><td title=\"Index: [3, 4]&#10;Color: (226, 0, 0)\" style=\"width: 30px; height: 30px;background-color: rgb(226, 0, 0);\"></td></tr><tr><td title=\"Index: [4, 0]&#10;Color: (141, 0, 0)\" style=\"width: 30px; height: 30px;background-color: rgb(141, 0, 0);\"></td><td title=\"Index: [4, 1]&#10;Color: (170, 0, 0)\" style=\"width: 30px; height: 30px;background-color: rgb(170, 0, 0);\"></td><td title=\"Index: [4, 2]&#10;Color: (198, 0, 0)\" style=\"width: 30px; height: 30px;background-color: rgb(198, 0, 0);\"></td><td title=\"Index: [4, 3]&#10;Color: (226, 0, 0)\" style=\"width: 30px; height: 30px;background-color: rgb(226, 0, 0);\"></td><td title=\"Index: [4, 4]&#10;Color: (255, 0, 0)\" style=\"width: 30px; height: 30px;background-color: rgb(255, 0, 0);\"></td></tr></tbody></table>"
      ],
      "text/plain": [
       "<ipythonblocks.ipythonblocks.BlockGrid at 0x119ab3880>"
      ]
     },
     "execution_count": 13,
     "metadata": {},
     "output_type": "execute_result"
    }
   ],
   "source": [
    "affiche_ipythonblocks(degrade_Sud_Est)"
   ]
  },
  {
   "cell_type": "markdown",
   "metadata": {},
   "source": [
    "<h3 class='fa fa-rocket' style=\"color: tomato\"> Prolongement :</h3>\n",
    "\n",
    "Imaginer d'autres matrices (5x5) et les afficher dans ce notebook..."
   ]
  },
  {
   "cell_type": "code",
   "execution_count": null,
   "metadata": {},
   "outputs": [],
   "source": [
    "autre = []"
   ]
  },
  {
   "cell_type": "markdown",
   "metadata": {},
   "source": [
    "## Quelques opérations sur les matrices\n",
    "\n",
    "### Addition ou Soustraction de matrices :\n",
    "L'addition (ou la soustraction) de deux matrices de même dimension `mat_A` et `mat_B` est égale à la matrice dont chaque coefficient est obtenu en additionnant (ou en soustrayant) les coefficients de la matrice `mat_A` au coefficient correspondant de la matrice `mat_B`.\n",
    "\n",
    "Exemple :\n",
    "\n",
    "$$ \\begin{pmatrix}\n",
    "1 & 2 & 0 \\\\\n",
    "4 & 3 & -1 \\\\\n",
    "\\end{pmatrix} + \\begin{pmatrix}\n",
    "5 & 2 & 3 \\\\\n",
    "1 & 3 & 4 \\\\\n",
    "\\end{pmatrix} =\\begin{pmatrix}\n",
    "6 & 4 & 3 \\\\\n",
    "5 & 6 & 3 \\\\\n",
    "\\end{pmatrix}$$\n",
    "\n",
    "<h3 class='fa fa-cogs' style=\"color: darkorange\"> A faire vous même :</h3>\n",
    "\n",
    "Vérifier cet exemple et documenter la fonction `addition(mat_A, mat_B)` du script suivant :"
   ]
  },
  {
   "cell_type": "code",
   "execution_count": 24,
   "metadata": {},
   "outputs": [
    {
     "data": {
      "text/latex": [
       "$$\\begin{pmatrix}& 6 & 4 & 3 & \\\\& 5 & 6 & 3 & \\\\\\end{pmatrix}$$"
      ],
      "text/plain": [
       "<IPython.core.display.Latex object>"
      ]
     },
     "execution_count": 24,
     "metadata": {},
     "output_type": "execute_result"
    }
   ],
   "source": [
    "def addition(mat_A, mat_B) :\n",
    "    '''\n",
    "    ################################################\n",
    "    #                                              #\n",
    "    #   Prend en entrée 2 matrices   #\n",
    "    #                                              #\n",
    "    ################################################\n",
    "    \n",
    "    '''    \n",
    "    return [[(mat_A[i][j] + mat_B[i][j]) for j in range(len(mat_A[0]))] for i in range(len(mat_A))]\n",
    "\n",
    "affiche_latex(addition([[1, 2, 0],[4, 3, -1]],[[5, 2, 3],[1, 3, 4]]))"
   ]
  },
  {
   "cell_type": "markdown",
   "metadata": {},
   "source": [
    "<h3 class='fa fa-code' style=\"color: darkorange\"> A programmer vous même :</h3>\n",
    "\n",
    "- Définir une fonction de soustraction de matrice ;\n",
    "- Afficher les matrices résultantes des opérations :\n",
    "    - `plein_feux - joyeux`\n",
    "    - `plein_feux - fois`\n",
    "    - `plein_feux - degrade_Est`\n",
    "    - `plein_feux - degrade_Sud_Est`\n",
    "    \n",
    "- Comparer les images résultantes avec les images retranchées..."
   ]
  },
  {
   "cell_type": "code",
   "execution_count": 27,
   "metadata": {},
   "outputs": [],
   "source": [
    "def soustraction(mat_A, mat_B) :\n",
    "    '''\n",
    "    ################################################\n",
    "    #                                              #\n",
    "    #   Documentation de la fonction ...........   #\n",
    "    #                                              #\n",
    "    ################################################\n",
    "    \n",
    "    '''\n",
    "    return [[(mat_A[i][j] - mat_B[i][j]) for j in range(len(mat_A[0]))] for i in range(len(mat_A))]"
   ]
  },
  {
   "cell_type": "code",
   "execution_count": 37,
   "metadata": {},
   "outputs": [
    {
     "data": {
      "text/latex": [
       "$$\\begin{pmatrix}& 8 & 7 & 6 & 5 & 4 & \\\\& 7 & 6 & 5 & 4 & 3 & \\\\& 6 & 5 & 4 & 3 & 2 & \\\\& 5 & 4 & 3 & 2 & 1 & \\\\& 4 & 3 & 2 & 1 & 0 & \\\\\\end{pmatrix}$$"
      ],
      "text/plain": [
       "<IPython.core.display.Latex object>"
      ]
     },
     "execution_count": 37,
     "metadata": {},
     "output_type": "execute_result"
    }
   ],
   "source": [
    "affiche_latex(soustraction(plein_feux, degrade_Sud_Est))"
   ]
  },
  {
   "cell_type": "code",
   "execution_count": 38,
   "metadata": {},
   "outputs": [
    {
     "data": {
      "text/html": [
       "<style type=\"text/css\">table.blockgrid {border: none;} .blockgrid tr {border: none;} .blockgrid td {padding: 0px;} #blocks204e2a8b-1b8a-443d-ad75-96751d2ef514 td {border: 1px solid white;}</style><table id=\"blocks204e2a8b-1b8a-443d-ad75-96751d2ef514\" class=\"blockgrid\"><tbody><tr><td title=\"Index: [0, 0]&#10;Color: (0, 0, 0)\" style=\"width: 30px; height: 30px;background-color: rgb(0, 0, 0);\"></td><td title=\"Index: [0, 1]&#10;Color: (0, 0, 0)\" style=\"width: 30px; height: 30px;background-color: rgb(0, 0, 0);\"></td><td title=\"Index: [0, 2]&#10;Color: (0, 0, 0)\" style=\"width: 30px; height: 30px;background-color: rgb(0, 0, 0);\"></td><td title=\"Index: [0, 3]&#10;Color: (0, 0, 0)\" style=\"width: 30px; height: 30px;background-color: rgb(0, 0, 0);\"></td><td title=\"Index: [0, 4]&#10;Color: (0, 0, 0)\" style=\"width: 30px; height: 30px;background-color: rgb(0, 0, 0);\"></td></tr><tr><td title=\"Index: [1, 0]&#10;Color: (0, 0, 0)\" style=\"width: 30px; height: 30px;background-color: rgb(0, 0, 0);\"></td><td title=\"Index: [1, 1]&#10;Color: (0, 0, 0)\" style=\"width: 30px; height: 30px;background-color: rgb(0, 0, 0);\"></td><td title=\"Index: [1, 2]&#10;Color: (0, 0, 0)\" style=\"width: 30px; height: 30px;background-color: rgb(0, 0, 0);\"></td><td title=\"Index: [1, 3]&#10;Color: (0, 0, 0)\" style=\"width: 30px; height: 30px;background-color: rgb(0, 0, 0);\"></td><td title=\"Index: [1, 4]&#10;Color: (0, 0, 0)\" style=\"width: 30px; height: 30px;background-color: rgb(0, 0, 0);\"></td></tr><tr><td title=\"Index: [2, 0]&#10;Color: (0, 0, 0)\" style=\"width: 30px; height: 30px;background-color: rgb(0, 0, 0);\"></td><td title=\"Index: [2, 1]&#10;Color: (0, 0, 0)\" style=\"width: 30px; height: 30px;background-color: rgb(0, 0, 0);\"></td><td title=\"Index: [2, 2]&#10;Color: (0, 0, 0)\" style=\"width: 30px; height: 30px;background-color: rgb(0, 0, 0);\"></td><td title=\"Index: [2, 3]&#10;Color: (0, 0, 0)\" style=\"width: 30px; height: 30px;background-color: rgb(0, 0, 0);\"></td><td title=\"Index: [2, 4]&#10;Color: (0, 0, 0)\" style=\"width: 30px; height: 30px;background-color: rgb(0, 0, 0);\"></td></tr><tr><td title=\"Index: [3, 0]&#10;Color: (0, 0, 0)\" style=\"width: 30px; height: 30px;background-color: rgb(0, 0, 0);\"></td><td title=\"Index: [3, 1]&#10;Color: (0, 0, 0)\" style=\"width: 30px; height: 30px;background-color: rgb(0, 0, 0);\"></td><td title=\"Index: [3, 2]&#10;Color: (0, 0, 0)\" style=\"width: 30px; height: 30px;background-color: rgb(0, 0, 0);\"></td><td title=\"Index: [3, 3]&#10;Color: (0, 0, 0)\" style=\"width: 30px; height: 30px;background-color: rgb(0, 0, 0);\"></td><td title=\"Index: [3, 4]&#10;Color: (0, 0, 0)\" style=\"width: 30px; height: 30px;background-color: rgb(0, 0, 0);\"></td></tr><tr><td title=\"Index: [4, 0]&#10;Color: (0, 0, 0)\" style=\"width: 30px; height: 30px;background-color: rgb(0, 0, 0);\"></td><td title=\"Index: [4, 1]&#10;Color: (0, 0, 0)\" style=\"width: 30px; height: 30px;background-color: rgb(0, 0, 0);\"></td><td title=\"Index: [4, 2]&#10;Color: (0, 0, 0)\" style=\"width: 30px; height: 30px;background-color: rgb(0, 0, 0);\"></td><td title=\"Index: [4, 3]&#10;Color: (0, 0, 0)\" style=\"width: 30px; height: 30px;background-color: rgb(0, 0, 0);\"></td><td title=\"Index: [4, 4]&#10;Color: (0, 0, 0)\" style=\"width: 30px; height: 30px;background-color: rgb(0, 0, 0);\"></td></tr></tbody></table>"
      ],
      "text/plain": [
       "<ipythonblocks.ipythonblocks.BlockGrid at 0x7f2b04015910>"
      ]
     },
     "execution_count": 38,
     "metadata": {},
     "output_type": "execute_result"
    }
   ],
   "source": [
    "affiche_ipythonblocks(soustraction(plein_feux, degrade_Sud_Est))"
   ]
  },
  {
   "cell_type": "markdown",
   "metadata": {},
   "source": [
    "### Transposition d'une matrice :\n",
    "\n",
    "La transposée $^tM$ d'une matrice $M(m\\times n)$ est la matrice $(n\\times m)$ obtenue en échangeant les lignes et les colonnes de la matrice $M$.\n",
    "\n",
    "Exemple :\n",
    "\n",
    "Pour : \n",
    "$M=\\begin{pmatrix}\n",
    "1 & 2 & 0 \\\\\n",
    "4 & 3 & -1 \\\\\n",
    "\\end{pmatrix}$\n",
    "\n",
    "Alors : \n",
    "$^tM=\\begin{pmatrix}\n",
    "1 & 4  \\\\\n",
    "2 & 3  \\\\\n",
    "0 &-1 \n",
    "\\end{pmatrix}$\n",
    "\n",
    "<h3 class='fa fa-code' style=\"color: darkorange\"> A coder vous même :</h3>\n",
    "\n",
    "Définir une fonction `transpose(matrice)` qui :\n",
    "   - prend en paramètre une matrice (mxn) dont les éléments sont des nombres entiers ;\n",
    "   - renvoie la matrice transposée (nxm). \n",
    "\n",
    "Appliquer votre fonction pour calculer les tranposées des matrices (5x5) précédentes..."
   ]
  },
  {
   "cell_type": "code",
   "execution_count": 17,
   "metadata": {},
   "outputs": [],
   "source": [
    "def transpose(matrice) :\n",
    "    '''\n",
    "    ################################################\n",
    "    #                                              #\n",
    "    #   Documentation de la fonction ...........   #\n",
    "    #                                              #\n",
    "    ################################################\n",
    "    \n",
    "    '''\n",
    "    return [[matrice[j][i] for j in range(5)] for i in range(5)]"
   ]
  },
  {
   "cell_type": "code",
   "execution_count": 18,
   "metadata": {},
   "outputs": [
    {
     "data": {
      "text/plain": [
       "[[0, 0, 9, 0, 0],\n",
       " [0, 0, 9, 0, 0],\n",
       " [0, 0, 9, 0, 0],\n",
       " [0, 0, 9, 0, 0],\n",
       " [0, 0, 9, 0, 0]]"
      ]
     },
     "execution_count": 18,
     "metadata": {},
     "output_type": "execute_result"
    }
   ],
   "source": [
    "transpose(moins)"
   ]
  },
  {
   "cell_type": "markdown",
   "metadata": {},
   "source": [
    "## Un peu d'animation :\n",
    "\n",
    "### Sur un BBC micro:bit :\n",
    "\n",
    "<h3 class='fa fa-cogs' style=\"color: darkorange\"> A faire vous même :</h3>\n",
    "\n",
    "- Compléter le programme suivant en y intégrant vos développements précédents puis le tester sur simulateur et sur BBC micro:bit ;\n",
    "- Expliquer le calcul `k % len(ecrans)`\n",
    "On prend le reste de la division entière de k par la longueur de la liste ecrans."
   ]
  },
  {
   "cell_type": "code",
   "execution_count": 45,
   "metadata": {},
   "outputs": [
    {
     "ename": "SyntaxError",
     "evalue": "import * only allowed at module level (<ipython-input-45-c68c14e89c57>, line 2)",
     "output_type": "error",
     "traceback": [
      "\u001b[0;36m  File \u001b[0;32m\"<ipython-input-45-c68c14e89c57>\"\u001b[0;36m, line \u001b[0;32m2\u001b[0m\n\u001b[0;31m    \u001b[0m\n\u001b[0m    ^\u001b[0m\n\u001b[0;31mSyntaxError\u001b[0m\u001b[0;31m:\u001b[0m import * only allowed at module level\n"
     ]
    }
   ],
   "source": [
    "from microbit import *\n",
    "\n",
    "plein_feux = [[9 for j in range(5)] for i in range(5)]\n",
    "plus = [[9 if i == 2 or j == 2 else 0 for j in range(5)] for i in range(5)]\n",
    "fois = [[9 if i-j == 0 or i+j == 4 else 0 for j in range(5)] for i in range(5)]\n",
    "\n",
    "\n",
    "def affiche_microbit(matrice) :\n",
    "    from microbit import *\n",
    "\n",
    "joyeux = [[0, 0, 0, 0, 0],\n",
    "          [0, 9, 0, 9, 0],\n",
    "          [0, 0, 0, 0, 0],\n",
    "          [9, 0, 0, 0, 9],\n",
    "          [0, 9, 9, 9, 0]]\n",
    "\n",
    "\n",
    "\n",
    "def affiche_microbit(matrice) :\n",
    "    '''\n",
    "    ################################################\n",
    "    #                                              #\n",
    "    #   Documentation de la fonction ...........   #\n",
    "    #                                              #\n",
    "    ################################################\n",
    "    \n",
    "    '''\n",
    "    matricemicrobit=''\n",
    "    for i in range(len(matrice)):\n",
    "        for j in range(len(matrice[i])):\n",
    "            matricemicrobit+=str(matrice[i][j])\n",
    "        matricemicrobit+=':'\n",
    "    \n",
    "    display.show(Image(matricemicrobit))\n",
    "            \n",
    "def soustraction(mat_A, mat_B) :\n",
    "    return [[(mat_A[i][j] - mat_B[i][j]) for j in range(len(mat_A[0]))] for i in range(len(mat_A))]\n",
    "\n",
    "\n",
    "ecrans = [plein_feux,\n",
    "          soustraction(plein_feux, plus),\n",
    "          plus,\n",
    "          soustraction(plein_feux, plein_feux),\n",
    "          fois,\n",
    "          soustraction(plein_feux, fois)]            \n",
    "            \n",
    "k = 0\n",
    " \n",
    "while k < 100 :\n",
    "    affiche_microbit(ecrans[k % len(ecrans)])\n",
    "    sleep(500)\n",
    "    k+=1"
   ]
  },
  {
   "cell_type": "markdown",
   "metadata": {},
   "source": [
    "### Avec IpythonBlocks dans ce notebook :\n",
    "\n",
    "La fonction `flash()` d'une instance de BlockGrid permet un affichage animé selon le paramètre de temps `display_time` :"
   ]
  },
  {
   "cell_type": "code",
   "execution_count": 46,
   "metadata": {},
   "outputs": [
    {
     "data": {
      "text/html": [
       "<style type=\"text/css\">table.blockgrid {border: none;} .blockgrid tr {border: none;} .blockgrid td {padding: 0px;} #blocks1a570d06-793e-4819-b56c-caab115625cb td {border: 1px solid white;}</style><table id=\"blocks1a570d06-793e-4819-b56c-caab115625cb\" class=\"blockgrid\"><tbody><tr><td title=\"Index: [0, 0]&#10;Color: (0, 0, 0)\" style=\"width: 30px; height: 30px;background-color: rgb(0, 0, 0);\"></td><td title=\"Index: [0, 1]&#10;Color: (0, 0, 0)\" style=\"width: 30px; height: 30px;background-color: rgb(0, 0, 0);\"></td><td title=\"Index: [0, 2]&#10;Color: (0, 0, 0)\" style=\"width: 30px; height: 30px;background-color: rgb(0, 0, 0);\"></td><td title=\"Index: [0, 3]&#10;Color: (0, 0, 0)\" style=\"width: 30px; height: 30px;background-color: rgb(0, 0, 0);\"></td><td title=\"Index: [0, 4]&#10;Color: (0, 0, 0)\" style=\"width: 30px; height: 30px;background-color: rgb(0, 0, 0);\"></td></tr><tr><td title=\"Index: [1, 0]&#10;Color: (0, 0, 0)\" style=\"width: 30px; height: 30px;background-color: rgb(0, 0, 0);\"></td><td title=\"Index: [1, 1]&#10;Color: (0, 0, 0)\" style=\"width: 30px; height: 30px;background-color: rgb(0, 0, 0);\"></td><td title=\"Index: [1, 2]&#10;Color: (0, 0, 0)\" style=\"width: 30px; height: 30px;background-color: rgb(0, 0, 0);\"></td><td title=\"Index: [1, 3]&#10;Color: (0, 0, 0)\" style=\"width: 30px; height: 30px;background-color: rgb(0, 0, 0);\"></td><td title=\"Index: [1, 4]&#10;Color: (0, 0, 0)\" style=\"width: 30px; height: 30px;background-color: rgb(0, 0, 0);\"></td></tr><tr><td title=\"Index: [2, 0]&#10;Color: (0, 0, 0)\" style=\"width: 30px; height: 30px;background-color: rgb(0, 0, 0);\"></td><td title=\"Index: [2, 1]&#10;Color: (0, 0, 0)\" style=\"width: 30px; height: 30px;background-color: rgb(0, 0, 0);\"></td><td title=\"Index: [2, 2]&#10;Color: (0, 0, 0)\" style=\"width: 30px; height: 30px;background-color: rgb(0, 0, 0);\"></td><td title=\"Index: [2, 3]&#10;Color: (0, 0, 0)\" style=\"width: 30px; height: 30px;background-color: rgb(0, 0, 0);\"></td><td title=\"Index: [2, 4]&#10;Color: (0, 0, 0)\" style=\"width: 30px; height: 30px;background-color: rgb(0, 0, 0);\"></td></tr><tr><td title=\"Index: [3, 0]&#10;Color: (0, 0, 0)\" style=\"width: 30px; height: 30px;background-color: rgb(0, 0, 0);\"></td><td title=\"Index: [3, 1]&#10;Color: (0, 0, 0)\" style=\"width: 30px; height: 30px;background-color: rgb(0, 0, 0);\"></td><td title=\"Index: [3, 2]&#10;Color: (0, 0, 0)\" style=\"width: 30px; height: 30px;background-color: rgb(0, 0, 0);\"></td><td title=\"Index: [3, 3]&#10;Color: (0, 0, 0)\" style=\"width: 30px; height: 30px;background-color: rgb(0, 0, 0);\"></td><td title=\"Index: [3, 4]&#10;Color: (0, 0, 0)\" style=\"width: 30px; height: 30px;background-color: rgb(0, 0, 0);\"></td></tr><tr><td title=\"Index: [4, 0]&#10;Color: (0, 0, 0)\" style=\"width: 30px; height: 30px;background-color: rgb(0, 0, 0);\"></td><td title=\"Index: [4, 1]&#10;Color: (0, 0, 0)\" style=\"width: 30px; height: 30px;background-color: rgb(0, 0, 0);\"></td><td title=\"Index: [4, 2]&#10;Color: (0, 0, 0)\" style=\"width: 30px; height: 30px;background-color: rgb(0, 0, 0);\"></td><td title=\"Index: [4, 3]&#10;Color: (0, 0, 0)\" style=\"width: 30px; height: 30px;background-color: rgb(0, 0, 0);\"></td><td title=\"Index: [4, 4]&#10;Color: (0, 0, 0)\" style=\"width: 30px; height: 30px;background-color: rgb(0, 0, 0);\"></td></tr></tbody></table>"
      ],
      "text/plain": [
       "<IPython.core.display.HTML object>"
      ]
     },
     "metadata": {},
     "output_type": "display_data"
    }
   ],
   "source": [
    "from ipythonblocks import BlockGrid\n",
    "\n",
    "ecrans = [plein_feux,\n",
    "          soustraction(plein_feux, plus),\n",
    "          plus,\n",
    "          soustraction(plein_feux, plein_feux),\n",
    "          fois,\n",
    "          soustraction(plein_feux, fois)]            \n",
    "            \n",
    "k = 0\n",
    " \n",
    "while k < 100 :\n",
    "    affiche_ipythonblocks(ecrans[k % len(ecrans)]).flash(display_time=0.5)\n",
    "    k+=1"
   ]
  },
  {
   "cell_type": "markdown",
   "metadata": {},
   "source": [
    "## Affichage avec ipycanvas dans ce notebook jupyter :\n",
    "\n",
    "Reproduire aves le module ipycanvas un affichage similaire à celui obtenu avec IPythonBlocks :"
   ]
  },
  {
   "cell_type": "code",
   "execution_count": null,
   "metadata": {},
   "outputs": [],
   "source": [
    "from ipythonblocks import BlockGrid\n",
    "\n",
    "def affiche_ipythonblocks(matrice) :\n",
    "    '''\n",
    "    ################################################\n",
    "    #                                              #\n",
    "    #  Prend en entrée une matrice et la ressort   #\n",
    "    #    dans une grille ipythonblocks             #\n",
    "    ################################################\n",
    "    \n",
    "    '''\n",
    "    maGrille = BlockGrid(5,5, fill=(0, 0, 0), block_size=30)\n",
    "    for i in range(len(matrice)):\n",
    "        for j in range(len(matrice[i])):\n",
    "            maGrille[i,j]=(matrice[i][j]*255//9, 0, 0)\n",
    "            \n",
    "    return maGrille"
   ]
  },
  {
   "cell_type": "code",
   "execution_count": 8,
   "metadata": {},
   "outputs": [],
   "source": [
    "from ipycanvas import Canvas\n",
    "def affiche_ipycanvas(matrice) :\n",
    "    maGrille = Canvas(width=30*len(matrice[0]), height=30*len(matrice))\n",
    "    for i in range(len(matrice)):\n",
    "        for j in range(len(matrice[i])):\n",
    "            maGrille.fill_style = f\"rgb({matrice[i][j]*255//9}, 0, 0)\"\n",
    "            maGrille.fill_rect(j*30, i*30, 30, 30)\n",
    "            \n",
    "            \n",
    "    return maGrille"
   ]
  },
  {
   "cell_type": "code",
   "execution_count": 9,
   "metadata": {},
   "outputs": [
    {
     "data": {
      "application/vnd.jupyter.widget-view+json": {
       "model_id": "999edade683e4273bb3895d4eedc2177",
       "version_major": 2,
       "version_minor": 0
      },
      "text/plain": [
       "Canvas(height=150, width=150)"
      ]
     },
     "metadata": {},
     "output_type": "display_data"
    }
   ],
   "source": [
    "affiche_ipycanvas(joyeux)"
   ]
  },
  {
   "cell_type": "markdown",
   "metadata": {},
   "source": [
    "<h3 class='fa fa-rocket' style=\"color: tomato\"> Prolongement :</h3>\n",
    "\n",
    "Imaginer d'autres animations...\n",
    "\n",
    "Développer de nouvelles matrices...\n",
    "\n",
    "Développer de nouvelles opérations sur des matrices...\n",
    "\n",
    "Développer d'autres fonctions d'affichage :\n",
    "    - Dans un notebook avec des fonctions Ipython.display comme HTML, SVG, \n",
    "    - Pour d'autres matrices à LEDs :\n",
    "        - Matrice 8x8 pour BBC microbit\n",
    "        - SenseHat sur RaspberryPi\n",
    "        - Anneau pour BBC microbit\n",
    "        - Anneau de CPX\n",
    "        - Anneau d'Halocode     \n"
   ]
  },
  {
   "cell_type": "markdown",
   "metadata": {},
   "source": [
    "****\n",
    "## Références aux programmes :\n",
    "\n",
    "<style type=\"text/css\">\n",
    ".tg  {border-collapse:collapse;border-spacing:0;}\n",
    ".tg td{font-family:Arial, sans-serif;font-size:14px;padding:10px 5px;border-style:solid;border-width:1px;overflow:hidden;word-break:normal;border-color:black;}\n",
    ".tg th{font-family:Arial, sans-serif;font-size:14px;font-weight:normal;padding:10px 5px;border-style:solid;border-width:1px;overflow:hidden;word-break:normal;border-color:black;}\n",
    ".tg .tg-cv16{font-weight:bold;background-color:#dae8fc;border-color:inherit;text-align:center}\n",
    ".tg .tg-xldj{border-color:inherit;text-align:left}\n",
    "</style>\n",
    "<table class=\"tg\">\n",
    "  <tr>\n",
    "    <th class=\"tg-cv16\">Contenus</th>\n",
    "    <th class=\"tg-cv16\">Capacités attendues</th>\n",
    "    <th class=\"tg-cv16\">Commentaires</th>\n",
    "  </tr>\n",
    "  \n",
    "  <tr>\n",
    "    <td class=\"tg-xldj\">Tableau indexé,<br> tableau donné en compréhension</td>\n",
    "    <td class=\"tg-xldj\">Lire et modifier les éléments d’un tableau grâce à leurs index.<br> Construire un tableau par compréhension.<br> Utiliser des tableaux de tableaux pour représenter des matrices : notation a [i] [j].<br>Itérer sur les éléments d’un tableau.\n",
    "</td>\n",
    "    <td class=\"tg-xldj\">Seuls les tableaux dont les éléments sont du même type sont présentés.<br> Aucune connaissance des\n",
    "tranches (slices) n’est exigible. <br> L’aspect dynamique des tableaux de Python n’est pas évoqué.<br> Python identifie listes et tableaux. <br>Il n’est pas fait référence aux tableaux de la bibliothèque NumPy.\n",
    "</td>\n",
    "  </tr>\n",
    " \n",
    "</table>\n",
    "<br>\n",
    "<br>\n",
    "<table class=\"tg\">\n",
    "  <tr>\n",
    "    <th class=\"tg-cv16\">Contenus</th>\n",
    "    <th class=\"tg-cv16\">Capacités attendues</th>\n",
    "    <th class=\"tg-cv16\">Commentaires</th>\n",
    "  </tr>\n",
    "  <tr>\n",
    "    <td class=\"tg-xldj\">Spécification.</td>\n",
    "    <td class=\"tg-xldj\">Prototyper une fonction.<br>Décrire les préconditions sur les arguments.<br>Décrire des postconditions sur les résultats.</td>\n",
    "    <td class=\"tg-xldj\">Des assertions peuvent être utilisées pour garantir des préconditions ou des postconditions.</td>\n",
    "  </tr>\n",
    "  <tr>\n",
    "    <td class=\"tg-xldj\">Mise au point de programmes</td>\n",
    "    <td class=\"tg-xldj\">Utiliser des jeux de tests.</td>\n",
    "    <td class=\"tg-xldj\">L’importance de la qualité et du nombre des tests est mise en évidence.<br>Le succès d’un jeu de tests ne garantit pas la correction d’un programme.</td>\n",
    "  </tr>\n",
    "  <tr>\n",
    "    <td class=\"tg-xldj\">Utilisation de bibliothèques</td>\n",
    "    <td class=\"tg-xldj\">Utiliser la documentation d’une bibliothèque.</td>\n",
    "    <td class=\"tg-xldj\">Aucune connaissance exhaustive d’une bibliothèque particulière n’est exigible.</td>\n",
    "  </tr>  \n",
    "</table>"
   ]
  },
  {
   "cell_type": "markdown",
   "metadata": {},
   "source": [
    "<a rel=\"license\" href=\"http://creativecommons.org/licenses/by-sa/4.0/\"><img alt=\"Licence Creative Commons\" style=\"border-width:0\" src=\"https://i.creativecommons.org/l/by-sa/4.0/88x31.png\" /></a><br />Ce document est mis à disposition selon les termes de la <a rel=\"license\" href=\"http://creativecommons.org/licenses/by-sa/4.0/\">Licence Creative Commons Attribution -  Partage dans les Mêmes Conditions 4.0 International</a>.\n",
    "\n",
    "Pour toute question, suggestion ou commentaire : <a href=\"mailto:eric.madec@ecmorlaix.fr\">eric.madec@ecmorlaix.fr</a>"
   ]
  }
 ],
 "metadata": {
  "kernelspec": {
   "display_name": "Python 3.10.7 64-bit",
   "language": "python",
   "name": "python3"
  },
  "language_info": {
   "codemirror_mode": {
    "name": "ipython",
    "version": 3
   },
   "file_extension": ".py",
   "mimetype": "text/x-python",
   "name": "python",
   "nbconvert_exporter": "python",
   "pygments_lexer": "ipython3",
   "version": "3.8.16"
  },
  "varInspector": {
   "cols": {
    "lenName": 16,
    "lenType": 16,
    "lenVar": 40
   },
   "kernels_config": {
    "python": {
     "delete_cmd_postfix": "",
     "delete_cmd_prefix": "del ",
     "library": "var_list.py",
     "varRefreshCmd": "print(var_dic_list())"
    },
    "r": {
     "delete_cmd_postfix": ") ",
     "delete_cmd_prefix": "rm(",
     "library": "var_list.r",
     "varRefreshCmd": "cat(var_dic_list()) "
    }
   },
   "types_to_exclude": [
    "module",
    "function",
    "builtin_function_or_method",
    "instance",
    "_Feature"
   ],
   "window_display": false
  },
  "vscode": {
   "interpreter": {
    "hash": "64ae21ee98cd2819759ae8f1351a2318f24a930180cc2089820c6cf2e3aa9781"
   }
  }
 },
 "nbformat": 4,
 "nbformat_minor": 2
}
