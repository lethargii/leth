{
 "cells": [
  {
   "cell_type": "markdown",
   "metadata": {},
   "source": [
    "# Langage_Python"
   ]
  },
  {
   "cell_type": "code",
   "execution_count": 6,
   "metadata": {},
   "outputs": [
    {
     "name": "stdout",
     "output_type": "stream",
     "text": [
      "Hello World!\n",
      "CoucouCoucou"
     ]
    }
   ],
   "source": [
    "#on utilise print() pour afficher un mot, des phrases...\n",
    "print(\"Hello World!\")\n",
    "#on peut utiliser print(\"\", end=\"\") pour changer la fin de la phrase et empecher le \n",
    "#retour à la ligne\n",
    "print(\"Coucou\", end=\"\")\n",
    "print(\"Coucou\", end=\"\")"
   ]
  },
  {
   "cell_type": "code",
   "execution_count": null,
   "metadata": {},
   "outputs": [],
   "source": []
  },
  {
   "cell_type": "code",
   "execution_count": 1,
   "metadata": {},
   "outputs": [
    {
     "ename": "NameError",
     "evalue": "name 'haut' is not defined",
     "output_type": "error",
     "traceback": [
      "\u001b[0;31m---------------------------------------------------------------------------\u001b[0m",
      "\u001b[0;31mNameError\u001b[0m                                 Traceback (most recent call last)",
      "\u001b[0;32m<ipython-input-1-1189855b914e>\u001b[0m in \u001b[0;36m<module>\u001b[0;34m\u001b[0m\n\u001b[1;32m      3\u001b[0m \u001b[0;31m#la librairie robot a plusieurs commandes comme haut() gauche() droite() bas() ramasser()\u001b[0m\u001b[0;34m\u001b[0m\u001b[0;34m\u001b[0m\u001b[0;34m\u001b[0m\u001b[0m\n\u001b[1;32m      4\u001b[0m \u001b[0;31m#deposer()\u001b[0m\u001b[0;34m\u001b[0m\u001b[0;34m\u001b[0m\u001b[0;34m\u001b[0m\u001b[0m\n\u001b[0;32m----> 5\u001b[0;31m \u001b[0mhaut\u001b[0m\u001b[0;34m(\u001b[0m\u001b[0;34m)\u001b[0m\u001b[0;34m\u001b[0m\u001b[0;34m\u001b[0m\u001b[0m\n\u001b[0m",
      "\u001b[0;31mNameError\u001b[0m: name 'haut' is not defined"
     ]
    }
   ],
   "source": [
    "#pour importer une librairie on utilise from \"nom de la librairie\" import *\n",
    "from robot import *\n",
    "#la librairie robot a plusieurs commandes comme haut() gauche() droite() bas() ramasser()\n",
    "#deposer()\n",
    "haut()"
   ]
  },
  {
   "cell_type": "code",
   "execution_count": 5,
   "metadata": {},
   "outputs": [
    {
     "name": "stdout",
     "output_type": "stream",
     "text": [
      "Bonjour\n",
      "Bonjour\n",
      "Bonjour\n",
      "Bonjour\n",
      "Bonjour\n"
     ]
    }
   ],
   "source": [
    "\"\"\"pour répéter une même commande plusieurs fois on utilise for loop in\n",
    "range(\"nombre de fois que l'on doit répéter l'accion\"): et on met la commande que\n",
    "l'on veut répéter en dessous de la loupe en indentant avec 3 espaces\"\"\"\n",
    "for loop in range(5):\n",
    "    print(\"Bonjour\")"
   ]
  },
  {
   "cell_type": "code",
   "execution_count": 1,
   "metadata": {},
   "outputs": [
    {
     "data": {
      "text/plain": [
       "'ou on peut utiliser `` pour afficher de\\ntrès\\ntrès\\ntrès\\nlong commentaires de plusieurs lignes'"
      ]
     },
     "execution_count": 1,
     "metadata": {},
     "output_type": "execute_result"
    }
   ],
   "source": [
    "#pour faire un commentaire on utilise #\n",
    "\"\"\"ou on peut utiliser \"\"\"\n",
    "#\"\"\" \"\"\" \n",
    "\"\"\"pour afficher de\n",
    "très\n",
    "très\n",
    "très\n",
    "long commentaires de plusieurs lignes\"\"\""
   ]
  },
  {
   "cell_type": "code",
   "execution_count": 11,
   "metadata": {},
   "outputs": [
    {
     "name": "stdout",
     "output_type": "stream",
     "text": [
      "112\n",
      "42.0\n"
     ]
    }
   ],
   "source": [
    "#pour afficher un nombre on utilise print()\n",
    "print(112)\n",
    "#on peut faire des calculs dans print() comme print(2+2) print(3*3) print(2-1) print(6/2)\n",
    "print(6*(14/2))"
   ]
  },
  {
   "cell_type": "code",
   "execution_count": 14,
   "metadata": {},
   "outputs": [
    {
     "name": "stdout",
     "output_type": "stream",
     "text": [
      "4;6;8;"
     ]
    }
   ],
   "source": [
    "#en programmation on utilise souvent des variables on peut y insérer un nombre ou un mot\n",
    "a=2\n",
    "for loop in range(3) :\n",
    "    a=a+2\n",
    "    print(a, end=\";\")"
   ]
  },
  {
   "cell_type": "code",
   "execution_count": null,
   "metadata": {},
   "outputs": [],
   "source": [
    "def rectangle(x,y,z):\n",
    "    for i in range(x):\n",
    "        print(z*y)\n",
    "\n",
    "ligne=int(input())\n",
    "colonne=int(input())\n",
    "lettre = str(input())\n",
    "\n",
    "rectangle(ligne,colonne,lettre)"
   ]
  }
 ],
 "metadata": {
  "kernelspec": {
   "display_name": "Python 3.10.7 64-bit",
   "language": "python",
   "name": "python3"
  },
  "language_info": {
   "codemirror_mode": {
    "name": "ipython",
    "version": 3
   },
   "file_extension": ".py",
   "mimetype": "text/x-python",
   "name": "python",
   "nbconvert_exporter": "python",
   "pygments_lexer": "ipython3",
   "version": "3.10.7"
  },
  "vscode": {
   "interpreter": {
    "hash": "64ae21ee98cd2819759ae8f1351a2318f24a930180cc2089820c6cf2e3aa9781"
   }
  }
 },
 "nbformat": 4,
 "nbformat_minor": 2
}
