{
 "cells": [
  {
   "attachments": {},
   "cell_type": "markdown",
   "metadata": {},
   "source": [
    "## 1. Quelles sont les anomalies dans le schéma précédent ?"
   ]
  },
  {
   "attachments": {},
   "cell_type": "markdown",
   "metadata": {},
   "source": [
    "Les types de données ne sont pas définis pour chaque attribut."
   ]
  },
  {
   "attachments": {},
   "cell_type": "markdown",
   "metadata": {},
   "source": [
    "## 2. Clés et contraintes"
   ]
  },
  {
   "attachments": {},
   "cell_type": "markdown",
   "metadata": {},
   "source": [
    "a. Proposer une clé primaire pour la table Emprunt.  \n",
    "Emprunt_ID"
   ]
  },
  {
   "attachments": {},
   "cell_type": "markdown",
   "metadata": {},
   "source": [
    "b. Expliquer l’intérêt de la requête suivante :  \n",
    "ALTER TABLE Emprunt  \n",
    "ADD CONSTRAINT CHK_Emprunt_Date CHECK (DateEmprunt <= DateRetourReel)  \n",
    "Elle permet de vérifier que la date d'emprunt est bien plus petite ou égale à la date de retour réel."
   ]
  },
  {
   "attachments": {},
   "cell_type": "markdown",
   "metadata": {},
   "source": [
    "c. Quelles sont les conséquences de la requête suivante ?  \n",
    "ALTER TABLE Emprunt  \n",
    "CONSTRAINT FK_Emprunt_Abonne  \n",
    "FOREIGN KEY(Abonne_ID) REFERENCES Abonne(Abonne_ID)  \n",
    "Abonne_ID dans le tableau Emprunt renverra à Abonne_ID du tableau Abonne.\n"
   ]
  },
  {
   "attachments": {},
   "cell_type": "markdown",
   "metadata": {},
   "source": [
    "d. Pourquoi l’ajout de la contrainte suivante serait-elle une mauvaise idée ?  \n",
    "ALTER TABLE Emprunt  \n",
    "MODIFY DateRetourReel DATE NOT NULL;  \n",
    "Cet ajout serait une mauvaise idée car un livre peut ne pas être encore rendu et ne pas encore avoir de date de retour réel."
   ]
  },
  {
   "attachments": {},
   "cell_type": "markdown",
   "metadata": {},
   "source": [
    "## 3. Exprimer les requêtes suivantes en SQL."
   ]
  },
  {
   "attachments": {},
   "cell_type": "markdown",
   "metadata": {},
   "source": [
    "### a. Quels sont les noms et prénoms des abonnés habitant Bayonne ?  \n",
    "SELECT Nom, Prenom FROM Abonne WHERE Ville = \"Bayonne\"  \n",
    "### b. Quels sont les noms et prénoms des abonnés habitant dans les Pyrénées Atlantiques ?  \n",
    "SELECT Nom, Prenom FROM Abonne WHERE LEFT(CodePostal, 2) = \"64\"  \n",
    "### c. Quels sont les identifiants des abonnés ayant rendu un livre en retard ?  \n",
    "SELECT Emprunt.Abonne_ID FROM Emprunt JOIN Abonne ON Emprunt.Abonne_ID = Abonne.Abonne_ID WHERE DateRetourPrevu < DateRetourReel GROUP BY Emprunt.Abonne_ID  \n",
    "### d. Quels sont les noms des abonnés ayant rendu un livre en retard ?  \n",
    "SELECT Abonne.Nom FROM Emprunt JOIN Abonne ON Emprunt.Abonne_ID = Abonne.Abonne_ID WHERE DateRetourPrevu < DateRetourReel GROUP BY Abonne.Nom  \n",
    "### e. Quels sont les titres des livres actuellement empruntés ?  \n",
    "SELECT Livre.Titre FROM Emprunt JOIN Livre ON Emprunt.Livre_ID = Livre.Livre_ID WHERE DateRetourReel IS NULL  \n",
    "### f. Quels sont les noms des gens ayant emprunté le livre Papillon ?  \n",
    "SELECT Abonne.Nom FROM Emprunt JOIN Livre ON Emprunt.Livre_ID = Livre.Livre_ID JOIN Abonne ON Emprunt.Abonne_ID = Abonne.Abonne_ID WHERE Livre.Titre = \"Papillon\"\n",
    "### g. Quels sont les abonnés n’ayant jamais emprunté de livres ?  \n",
    "SELECT Abonne.Nom FROM Abonne JOIN Emprunt ON Emprunt.Abonne_ID = Abonne.Abonne_ID WHERE Emprunt.Abonne_ID IS NULL\n",
    "### h. Quelles sont les noms des personnes n'ayant jamais rendu de livre en retard ?  \n",
    "SELECT Abonne.Nom "
   ]
  },
  {
   "attachments": {},
   "cell_type": "markdown",
   "metadata": {},
   "source": [
    "### i. Quelles sont les noms des personnes ayant toujours rendu en retard les livres qu'elles ont empruntés ?  \n",
    "SELECT Abonne.Nom \n",
    "### j. Quels sont les noms et prénoms des bayonnais ayant rendu un livre en retard ?  \n",
    "SELECT Abonne.Nom? Abonne.Prenom FROM Emprunt JOIN Abonne ON Emprunt.Abonne_ID = Abonne.Abonne_ID WHERE DateRetourPrevu < DateRetourReel AND Ville = \"Bayonne\" GROUP BY Abonne.Nom\n",
    "### k. Quel est l’abonné le plus âgé ?  \n",
    "SELECT Nom, Prenom FROM Abonne WHERE MIN(DateNaissance) = DateNaissance\n",
    "### l. Quel est le retard maximal des abonnés ayant rendu un livre en retard ?  \n",
    "SELECT MAX(TIMEDIFF(DateRetourReel, DateRetourPrevu)) FROM Emprunt\n",
    "### m. Quel est l’identifiant de l’abonné ayant rendu un livre avec le plus de retard ?  \n",
    "SELECT Abonne_ID FROM Emprunt WHERE MAX(TIMEDIFF(DateRetourReel, DateRetourPrevu)) = TIMEDIFF(DateRetourReel, DateRetourPrevu)\n",
    "### n. Quel est le retard moyen ?  \n",
    "SELECT AVG(TIMEDIFF(DateRetourReel, DateRetourPrevu)) FROM Emprunt WHERE TIMEDIFF(DateRetourReel, DateRetourPrevu) > 0\n",
    "### o. Quels sont les noms des abonnés commençant par les lettres A à H ?  \n",
    "SELECT Nom FROM Abonne WHERE LEFT(Nom, 1) BETWEEN \"A\" AND \"H\"\n",
    "### p. Combien de fois a été emprunté le livre Papillon ?  \n",
    "SELECT COUNT(*) FROM Emprunt JOIN Livre ON Emprunt.Livre_ID = Livre.Livre_ID WHERE Livre.Titre = \"Papillon\"  "
   ]
  },
  {
   "attachments": {},
   "cell_type": "markdown",
   "metadata": {},
   "source": [
    "## 4. Modification de la table"
   ]
  },
  {
   "attachments": {},
   "cell_type": "markdown",
   "metadata": {},
   "source": [
    "### a. Quelle requête permet de rajouter l’emprunt du livre d’identifiant 4252 par l’abonné d’identifiant 803 le 2 novembre 2020 sachant que les emprunts sont pour une durée de trois semaines ?  \n",
    "INSERT INTO Emprunt VALUES 803, 4252, 2020-11-02, 2020-11-23\n",
    "### b. Quelle requête permet de mettre à jour la nouvelle adresse de l’abonné Jean DUPONT qui va habiter 11 rue Lormand, 64100 Bayonne ?  \n",
    "UPDATE Abonne SET Adresse = \"11 rue Lormand\", Ville = \"Bayonne\", CodePostal = 64100 WHERE Nom = \"DUPONT\" AND Prenom = \"Jean\"\n",
    "### L’abonné Jon ETCHEGARAY quitte la bibliothèque.  \n",
    "\n",
    "### c. Quelle requête permet de vérifier qu’il n’a pas d’emprunt en cours ?  \n",
    "sELECT Emprunt.Abonne_ID, Emprunt.Livre_ID FROM Emprunt JOIN Abonne ON Emprunt.Abonne_ID = Abonne.Abonne_ID JOIN Livre ON Emprunt.Livre_ID = Livre.Livre_ID WHERE DateRetourReel IS NULL\n",
    "### d. Quelle requête permet d’effacer ses emprunts ?  \n",
    "DELETE FROM Emprunt JOIN Abonne ON Emprunt.Abonne_ID = Abonne.Abonne_ID WHERE Nom = \"ETCHEGARAY\" AND Prenom = \"Jon\"\n",
    "### e. Quelle requête permet de l’effacer de la table Abonne ?  \n",
    "DELETE FROM Abonne WHERE Prenom = \"Jon\" AND Nom = \"ETCHEGARAY\""
   ]
  },
  {
   "attachments": {},
   "cell_type": "markdown",
   "metadata": {},
   "source": [
    "## 5. Recherche d’anomalies"
   ]
  },
  {
   "attachments": {},
   "cell_type": "markdown",
   "metadata": {},
   "source": [
    "### Quelle requête permet de renvoyer la liste des emprunts dont l’abonné ou le livre n’est pas enregistré dans la base de données ?  \n",
    "SELECT Emprunt.Abonne_ID, Emprunt.Livre_ID FROM Emprunt JOIN Abonne ON Emprunt.Abonne_ID = Abonne.Abonne_ID JOIN Livre ON Emprunt.Livre_ID = Livre.Livre_ID WHERE Abonne.Abonne_ID IS NULL OR Livre.Livre_ID IS NULL"
   ]
  }
 ],
 "metadata": {
  "kernelspec": {
   "display_name": "Python 3",
   "language": "python",
   "name": "python3"
  },
  "language_info": {
   "codemirror_mode": {
    "name": "ipython",
    "version": 3
   },
   "file_extension": ".py",
   "mimetype": "text/x-python",
   "name": "python",
   "nbconvert_exporter": "python",
   "pygments_lexer": "ipython3",
   "version": "3.8.13 (default, Dec 30 2022, 16:12:50) \n[GCC 9.4.0]"
  },
  "orig_nbformat": 4,
  "vscode": {
   "interpreter": {
    "hash": "9ac03a0a6051494cc606d484d27d20fce22fb7b4d169f583271e11d5ba46a56e"
   }
  }
 },
 "nbformat": 4,
 "nbformat_minor": 2
}
