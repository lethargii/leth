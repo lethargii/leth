{
 "cells": [
  {
   "cell_type": "markdown",
   "metadata": {},
   "source": [
    "# Devoir surveillé n°2 – Partie pratique C\n",
    "\n",
    "\n",
    "## Consignes\n",
    "\n",
    "Vous devez enregister ce fichier sous le nom `ds2C-nom-prenom.ipynb`\n",
    "\n",
    "De plus vous devez compléter votre fichier `ds2-nom-prenom.py` avec le code de toutes les fonctions définies ici et dans les parties A et B y compris le code d'implémentation pour les piles que vous aurez utilisé afin de pouvoir l'importer pour la suite du développement de ce projet.\n",
    "\n",
    "À la fin de la séance, transmettez vos fichiers par mail à l'adresse `eric.madec@ecmorlaix.fr`\n",
    "\n",
    "Respectez bien le nom des fonctions pour faciliter la relecture du code.\n",
    "\n",
    "Vous pouvez rajouter des commentaires lorsque vous pensez que c’est nécessaire.\n",
    "\n",
    "De même, essayez de choisir des variables dont le nom est compréhensible, si c’est pertinent.\n",
    "\n",
    "\n",
    "# Les tours de Hanoï\n",
    "\n",
    "Les tours seront modélisées par une liste de 3 piles.\n",
    "\n",
    "Pour les piles, vous avez le choix entre deux implémentations données :\n",
    "- Dans la première, une pile est une liste Python.\n",
    "- Dans la deuxième, on définit une classe Pile qui utilise également une liste Python.\n",
    "\n",
    "Vous devez manipuler une pile uniquement avec les fonctions ou méthodes fournies.\n",
    "\n",
    "Pour pouvoir les utiliser dans ce notebook il vous faut les importer depuis votre module `ds2-nom-prenom.py` tout comme les fonctions que vous avez définies dans les parties A et B."
   ]
  },
  {
   "cell_type": "code",
   "execution_count": 3,
   "metadata": {},
   "outputs": [],
   "source": [
    "from ds2_SevaultWolber_Lucien import *"
   ]
  },
  {
   "cell_type": "code",
   "execution_count": 2,
   "metadata": {},
   "outputs": [
    {
     "name": "stdout",
     "output_type": "stream",
     "text": [
      "Collecting ipycanvas\n",
      "  Using cached ipycanvas-0.13.1-py2.py3-none-any.whl (255 kB)\n",
      "Collecting pillow>=6.0\n",
      "  Using cached Pillow-9.3.0-cp38-cp38-manylinux_2_28_x86_64.whl (3.3 MB)\n",
      "Collecting numpy\n",
      "  Using cached numpy-1.23.5-cp38-cp38-manylinux_2_17_x86_64.manylinux2014_x86_64.whl (17.1 MB)\n",
      "Collecting ipywidgets<9,>=7.6.0\n",
      "  Using cached ipywidgets-8.0.2-py3-none-any.whl (134 kB)\n",
      "Collecting jupyterlab-widgets~=3.0\n",
      "  Using cached jupyterlab_widgets-3.0.3-py3-none-any.whl (384 kB)\n",
      "Requirement already satisfied: ipykernel>=4.5.1 in /home/gitpod/.pyenv/versions/3.8.13/lib/python3.8/site-packages (from ipywidgets<9,>=7.6.0->ipycanvas) (6.16.0)\n",
      "Requirement already satisfied: ipython>=6.1.0 in /home/gitpod/.pyenv/versions/3.8.13/lib/python3.8/site-packages (from ipywidgets<9,>=7.6.0->ipycanvas) (8.5.0)\n",
      "Requirement already satisfied: traitlets>=4.3.1 in /home/gitpod/.pyenv/versions/3.8.13/lib/python3.8/site-packages (from ipywidgets<9,>=7.6.0->ipycanvas) (5.4.0)\n",
      "Collecting widgetsnbextension~=4.0\n",
      "  Using cached widgetsnbextension-4.0.3-py3-none-any.whl (2.0 MB)\n",
      "Requirement already satisfied: matplotlib-inline>=0.1 in /home/gitpod/.pyenv/versions/3.8.13/lib/python3.8/site-packages (from ipykernel>=4.5.1->ipywidgets<9,>=7.6.0->ipycanvas) (0.1.6)\n",
      "Requirement already satisfied: tornado>=6.1 in /home/gitpod/.pyenv/versions/3.8.13/lib/python3.8/site-packages (from ipykernel>=4.5.1->ipywidgets<9,>=7.6.0->ipycanvas) (6.2)\n",
      "Requirement already satisfied: psutil in /home/gitpod/.pyenv/versions/3.8.13/lib/python3.8/site-packages (from ipykernel>=4.5.1->ipywidgets<9,>=7.6.0->ipycanvas) (5.9.2)\n",
      "Requirement already satisfied: nest-asyncio in /home/gitpod/.pyenv/versions/3.8.13/lib/python3.8/site-packages (from ipykernel>=4.5.1->ipywidgets<9,>=7.6.0->ipycanvas) (1.5.6)\n",
      "Requirement already satisfied: jupyter-client>=6.1.12 in /home/gitpod/.pyenv/versions/3.8.13/lib/python3.8/site-packages (from ipykernel>=4.5.1->ipywidgets<9,>=7.6.0->ipycanvas) (7.3.5)\n",
      "Requirement already satisfied: pyzmq>=17 in /home/gitpod/.pyenv/versions/3.8.13/lib/python3.8/site-packages (from ipykernel>=4.5.1->ipywidgets<9,>=7.6.0->ipycanvas) (24.0.1)\n",
      "Requirement already satisfied: packaging in /home/gitpod/.pyenv/versions/3.8.13/lib/python3.8/site-packages (from ipykernel>=4.5.1->ipywidgets<9,>=7.6.0->ipycanvas) (21.3)\n",
      "Requirement already satisfied: debugpy>=1.0 in /home/gitpod/.pyenv/versions/3.8.13/lib/python3.8/site-packages (from ipykernel>=4.5.1->ipywidgets<9,>=7.6.0->ipycanvas) (1.6.3)\n",
      "Requirement already satisfied: pexpect>4.3 in /home/gitpod/.pyenv/versions/3.8.13/lib/python3.8/site-packages (from ipython>=6.1.0->ipywidgets<9,>=7.6.0->ipycanvas) (4.8.0)\n",
      "Requirement already satisfied: jedi>=0.16 in /home/gitpod/.pyenv/versions/3.8.13/lib/python3.8/site-packages (from ipython>=6.1.0->ipywidgets<9,>=7.6.0->ipycanvas) (0.18.1)\n",
      "Requirement already satisfied: prompt-toolkit<3.1.0,>3.0.1 in /home/gitpod/.pyenv/versions/3.8.13/lib/python3.8/site-packages (from ipython>=6.1.0->ipywidgets<9,>=7.6.0->ipycanvas) (3.0.31)\n",
      "Requirement already satisfied: pickleshare in /home/gitpod/.pyenv/versions/3.8.13/lib/python3.8/site-packages (from ipython>=6.1.0->ipywidgets<9,>=7.6.0->ipycanvas) (0.7.5)\n",
      "Requirement already satisfied: decorator in /home/gitpod/.pyenv/versions/3.8.13/lib/python3.8/site-packages (from ipython>=6.1.0->ipywidgets<9,>=7.6.0->ipycanvas) (5.1.1)\n",
      "Requirement already satisfied: pygments>=2.4.0 in /home/gitpod/.pyenv/versions/3.8.13/lib/python3.8/site-packages (from ipython>=6.1.0->ipywidgets<9,>=7.6.0->ipycanvas) (2.13.0)\n",
      "Requirement already satisfied: backcall in /home/gitpod/.pyenv/versions/3.8.13/lib/python3.8/site-packages (from ipython>=6.1.0->ipywidgets<9,>=7.6.0->ipycanvas) (0.2.0)\n",
      "Requirement already satisfied: stack-data in /home/gitpod/.pyenv/versions/3.8.13/lib/python3.8/site-packages (from ipython>=6.1.0->ipywidgets<9,>=7.6.0->ipycanvas) (0.5.1)\n",
      "Requirement already satisfied: parso<0.9.0,>=0.8.0 in /home/gitpod/.pyenv/versions/3.8.13/lib/python3.8/site-packages (from jedi>=0.16->ipython>=6.1.0->ipywidgets<9,>=7.6.0->ipycanvas) (0.8.3)\n",
      "Requirement already satisfied: jupyter-core>=4.9.2 in /home/gitpod/.pyenv/versions/3.8.13/lib/python3.8/site-packages (from jupyter-client>=6.1.12->ipykernel>=4.5.1->ipywidgets<9,>=7.6.0->ipycanvas) (4.11.1)\n",
      "Requirement already satisfied: python-dateutil>=2.8.2 in /home/gitpod/.pyenv/versions/3.8.13/lib/python3.8/site-packages (from jupyter-client>=6.1.12->ipykernel>=4.5.1->ipywidgets<9,>=7.6.0->ipycanvas) (2.8.2)\n",
      "Requirement already satisfied: entrypoints in /home/gitpod/.pyenv/versions/3.8.13/lib/python3.8/site-packages (from jupyter-client>=6.1.12->ipykernel>=4.5.1->ipywidgets<9,>=7.6.0->ipycanvas) (0.4)\n",
      "Requirement already satisfied: ptyprocess>=0.5 in /home/gitpod/.pyenv/versions/3.8.13/lib/python3.8/site-packages (from pexpect>4.3->ipython>=6.1.0->ipywidgets<9,>=7.6.0->ipycanvas) (0.7.0)\n",
      "Requirement already satisfied: wcwidth in /home/gitpod/.pyenv/versions/3.8.13/lib/python3.8/site-packages (from prompt-toolkit<3.1.0,>3.0.1->ipython>=6.1.0->ipywidgets<9,>=7.6.0->ipycanvas) (0.2.5)\n",
      "Requirement already satisfied: pyparsing!=3.0.5,>=2.0.2 in /home/gitpod/.pyenv/versions/3.8.13/lib/python3.8/site-packages (from packaging->ipykernel>=4.5.1->ipywidgets<9,>=7.6.0->ipycanvas) (3.0.9)\n",
      "Requirement already satisfied: executing in /home/gitpod/.pyenv/versions/3.8.13/lib/python3.8/site-packages (from stack-data->ipython>=6.1.0->ipywidgets<9,>=7.6.0->ipycanvas) (1.1.0)\n",
      "Requirement already satisfied: pure-eval in /home/gitpod/.pyenv/versions/3.8.13/lib/python3.8/site-packages (from stack-data->ipython>=6.1.0->ipywidgets<9,>=7.6.0->ipycanvas) (0.2.2)\n",
      "Requirement already satisfied: asttokens in /home/gitpod/.pyenv/versions/3.8.13/lib/python3.8/site-packages (from stack-data->ipython>=6.1.0->ipywidgets<9,>=7.6.0->ipycanvas) (2.0.8)\n",
      "Requirement already satisfied: six>=1.5 in /home/gitpod/.pyenv/versions/3.8.13/lib/python3.8/site-packages (from python-dateutil>=2.8.2->jupyter-client>=6.1.12->ipykernel>=4.5.1->ipywidgets<9,>=7.6.0->ipycanvas) (1.16.0)\n",
      "Installing collected packages: widgetsnbextension, pillow, numpy, jupyterlab-widgets, ipywidgets, ipycanvas\n",
      "Successfully installed ipycanvas-0.13.1 ipywidgets-8.0.2 jupyterlab-widgets-3.0.3 numpy-1.23.5 pillow-9.3.0 widgetsnbextension-4.0.3\n",
      "Note: you may need to restart the kernel to use updated packages.\n"
     ]
    }
   ],
   "source": [
    "pip install ipycanvas"
   ]
  },
  {
   "cell_type": "markdown",
   "metadata": {},
   "source": [
    "# Affichage :\n",
    "\n",
    "<img src=\"https://ericecmorlaix.github.io/img/ds2_hanoi-02.png\" alt=\"ds2_hanoi-02.png\" width=30% align='right' >\n",
    "\n",
    "Nous allons maintenant ajouter un affichage permettant de mieux visualiser l’état des tours.\n",
    "\n",
    "Pour cela nous allons passer par un tableau à 2 dimensions montrant le contenu de chaque pile.\n",
    "\n",
    "Ainsi le tableau ci-dessous correspond à la situation ci-contre :\n",
    "```python\n",
    "tab = [[5, 2, 0, 0, 0],\n",
    "       [4, 3, 1, 0, 0],\n",
    "       [0, 0, 0, 0, 0]]\n",
    "```\n",
    "\n",
    "Le tableau est composé de 3 tableaux de n valeurs, où n est le nombre de disques, et lorsqu’il n’y a pas de disques, la valeur est 0.\n",
    "\n",
    "## Exercice 7 :\n",
    "\n",
    "Écrire une fonction `pile_vers_tableau(pile, n)` qui renvoie le tableau de taille n correspondant à pile.\n",
    "\n",
    "Il ne faut pas utiliser le fait que les piles sont représentées par des listes. Il faut au contraire dépiler la pile, en empilant les valeurs sur une autre pile, puis la réempiler, tout en notant les valeurs dans le tableau, afin qu’elle retrouve son état initial. La deuxième pile n’est pas obligée de contenir des valeurs dans l’ordre décroissant.\n",
    "\n",
    "<img src=\"https://ericecmorlaix.github.io/img/ds2_hanoi-03.png\" alt=\"ds2_hanoi-03.png\" width=70% >\n",
    "\n",
    "> Pour rappel, pour créer un tableau rempli de n 0, il faut faire `[0]*n`.\n"
   ]
  },
  {
   "cell_type": "code",
   "execution_count": 4,
   "metadata": {},
   "outputs": [],
   "source": [
    "def pile_vers_tableau(pile, n):\n",
    "    '''\n",
    "    \n",
    "    '''\n",
    "    tableau = [0]*n\n",
    "    tmp = creer_pile()\n",
    "    i = 0\n",
    "    while not est_vide(pile):\n",
    "        empiler(tmp,depiler(pile))\n",
    "    while not est_vide(tmp):\n",
    "        valeur = depiler(tmp)\n",
    "        tableau[i] = valeur\n",
    "        empiler(pile, valeur)\n",
    "        i += 1\n",
    "    return tableau\n",
    "    "
   ]
  },
  {
   "cell_type": "code",
   "execution_count": 5,
   "metadata": {},
   "outputs": [],
   "source": [
    "def pile_vers_tableau_poo(pile, n):\n",
    "    '''\n",
    "    \n",
    "    '''\n",
    "    tableau = [0]*n\n",
    "    tmp = Pile()\n",
    "    i = 0\n",
    "    while not pile.est_vide():\n",
    "        tmp.empiler(pile.depiler())\n",
    "    while not tmp.est_vide():\n",
    "        valeur = tmp.depiler()\n",
    "        tableau[i] = valeur\n",
    "        pile.empiler(valeur)\n",
    "        i += 1\n",
    "    return tableau"
   ]
  },
  {
   "cell_type": "markdown",
   "metadata": {},
   "source": [
    "Tester votre fonction `pile_vers_tableau(pile, n)` ci-dessous de sorte que :\n",
    "\n",
    "```python \n",
    "# Première implémentation pour les piles\n",
    ">>> pile = creer_pile()\n",
    ">>> empiler(pile, 4)\n",
    ">>> empiler(pile, 3)\n",
    ">>> empiler(pile, 1)\n",
    ">>> pile_vers_tableau(pile, 5)\n",
    "[4, 3, 1, 0, 0]\n",
    "```\n",
    "```python \n",
    "# Deuxième implémentation pour les piles\n",
    ">>> pile = Pile()\n",
    ">>> pile.empiler(4)\n",
    ">>> pile.empiler(3)\n",
    ">>> pile.empiler(1)\n",
    ">>> pile_vers_tableau(pile, 5)\n",
    "[4, 3, 1, 0, 0]\n",
    "```"
   ]
  },
  {
   "cell_type": "code",
   "execution_count": 6,
   "metadata": {},
   "outputs": [
    {
     "data": {
      "text/plain": [
       "[4, 3, 1, 0, 0]"
      ]
     },
     "execution_count": 6,
     "metadata": {},
     "output_type": "execute_result"
    }
   ],
   "source": [
    "pile = creer_pile()\n",
    "empiler(pile, 4)\n",
    "empiler(pile, 3)\n",
    "empiler(pile, 1)\n",
    "pile_vers_tableau(pile, 5)"
   ]
  },
  {
   "cell_type": "code",
   "execution_count": 7,
   "metadata": {},
   "outputs": [
    {
     "data": {
      "text/plain": [
       "[4, 3, 1, 0, 0]"
      ]
     },
     "execution_count": 7,
     "metadata": {},
     "output_type": "execute_result"
    }
   ],
   "source": [
    "pile = Pile()\n",
    "pile.empiler(4)\n",
    "pile.empiler(3)\n",
    "pile.empiler(1)\n",
    "pile_vers_tableau_poo(pile, 5)"
   ]
  },
  {
   "cell_type": "markdown",
   "metadata": {},
   "source": [
    "## Exercice 8 :\n",
    "\n",
    "Écrire une fonction tours_vers_matrice(tours, n) qui renvoie le tableau à deux dimensions correspondant aux tours."
   ]
  },
  {
   "cell_type": "code",
   "execution_count": 8,
   "metadata": {},
   "outputs": [],
   "source": [
    "def tours_vers_matrice(tours, n) :\n",
    "    matrice = []\n",
    "    for tour in tours:\n",
    "        matrice.append(pile_vers_tableau(tour, n))\n",
    "    return matrice"
   ]
  },
  {
   "cell_type": "code",
   "execution_count": 9,
   "metadata": {},
   "outputs": [],
   "source": [
    "def tours_vers_matrice_poo(tours, n) :\n",
    "    matrice = []\n",
    "    for tour in tours:\n",
    "        matrice.append(pile_vers_tableau_poo(tour, n))\n",
    "    return matrice"
   ]
  },
  {
   "cell_type": "markdown",
   "metadata": {},
   "source": [
    "Tester votre fonction `tours_vers_matrice(tours, n)` ci-dessous de sorte que :\n",
    "\n",
    "```python \n",
    ">>> tours = [[5, 4, 3], [1], [2]]\n",
    ">>> tours_vers_matrice(tours, 5)\n",
    "[[5, 4, 3, 0, 0], [1, 0, 0, 0, 0], [2, 0, 0, 0, 0]]\n",
    "```"
   ]
  },
  {
   "cell_type": "code",
   "execution_count": 10,
   "metadata": {},
   "outputs": [
    {
     "data": {
      "text/plain": [
       "[[5, 4, 3, 0, 0], [1, 0, 0, 0, 0], [2, 0, 0, 0, 0]]"
      ]
     },
     "execution_count": 10,
     "metadata": {},
     "output_type": "execute_result"
    }
   ],
   "source": [
    "tours = [[5, 4, 3], [1], [2]]\n",
    "tours_vers_matrice(tours, 5)"
   ]
  },
  {
   "cell_type": "code",
   "execution_count": 11,
   "metadata": {},
   "outputs": [
    {
     "data": {
      "text/plain": [
       "[[5, 4, 3, 0, 0], [1, 0, 0, 0, 0], [2, 0, 0, 0, 0]]"
      ]
     },
     "execution_count": 11,
     "metadata": {},
     "output_type": "execute_result"
    }
   ],
   "source": [
    "tours = creation_tours_poo_1(5)\n",
    "deplacer_poo(tours,0,1)\n",
    "deplacer_poo(tours,0,2)\n",
    "tours_vers_matrice_poo(tours, 5)"
   ]
  },
  {
   "cell_type": "markdown",
   "metadata": {},
   "source": [
    "## Exercice 9 :\n",
    "\n",
    "Écrire une fonction `affichage_matrice(matrice, n)` qui affiche l’état des 3 piles.\n",
    "\n",
    "Il y a un espace avant chaque colonne.\n",
    "\n",
    "Les `0` sont remplacés par des `|` et les autres nombres sont affichés.\n",
    "\n",
    "Vous pouvez vous inspirer de la structure du code ci-dessous :"
   ]
  },
  {
   "cell_type": "code",
   "execution_count": 6,
   "metadata": {},
   "outputs": [
    {
     "ename": "SyntaxError",
     "evalue": "invalid syntax (1441435684.py, line 7)",
     "output_type": "error",
     "traceback": [
      "\u001b[0;36m  Cell \u001b[0;32mIn [6], line 7\u001b[0;36m\u001b[0m\n\u001b[0;31m    quelque chose avec matrice[i][j]\u001b[0m\n\u001b[0m            ^\u001b[0m\n\u001b[0;31mSyntaxError\u001b[0m\u001b[0;31m:\u001b[0m invalid syntax\n"
     ]
    }
   ],
   "source": [
    "def affichage_matrice(matrice, n) :\n",
    "\n",
    "    for j in range(n-1, -1, -1): # parcours de droite à gauche des sous-tableaux\n",
    "        ...\n",
    "        for i in range(3): # parcours de haut en bas des tableaux\n",
    "            ...\n",
    "            quelque chose avec matrice[i][j]\n",
    "            ...\n",
    "        ..."
   ]
  },
  {
   "cell_type": "code",
   "execution_count": 12,
   "metadata": {},
   "outputs": [],
   "source": [
    "def affichage_matrice(matrice, n):\n",
    "    for i in range(n):\n",
    "        for liste in matrice:\n",
    "            if liste[n-i-1] == 0:\n",
    "                caractere = \"|\"\n",
    "            else:\n",
    "                caractere = liste[n-i-1]\n",
    "            print(\" \" , caractere, end = \"\", sep = \"\")\n",
    "        print()"
   ]
  },
  {
   "cell_type": "markdown",
   "metadata": {},
   "source": [
    "Tester votre fonction `affichage_matrice(matrice, n)` ci-dessous de sorte que :\n",
    "\n",
    "``` \n",
    ">>> matrice = [[5, 4, 3, 0, 0], [1, 0, 0, 0, 0], [2, 0, 0, 0, 0]]\n",
    ">>> affichage_matrice(matrice, 5)\n",
    " | | |\n",
    " | | |\n",
    " 3 | |\n",
    " 4 | |\n",
    " 5 1 2\n",
    "```"
   ]
  },
  {
   "cell_type": "code",
   "execution_count": 13,
   "metadata": {},
   "outputs": [
    {
     "name": "stdout",
     "output_type": "stream",
     "text": [
      " | | |\n",
      " | | |\n",
      " 3 | |\n",
      " 4 | |\n",
      " 5 1 2\n"
     ]
    }
   ],
   "source": [
    "matrice = [[5, 4, 3, 0, 0], [1, 0, 0, 0, 0], [2, 0, 0, 0, 0]]\n",
    "affichage_matrice(matrice, 5)"
   ]
  },
  {
   "cell_type": "markdown",
   "metadata": {},
   "source": [
    "## Exercice 10 :\n",
    "\n",
    "Écrire une foncion `affichage_tours(tours, n)` qui affiche le contenu des tours sur un socle à la base du jeu.\n",
    "\n",
    "Le socle est une ligne de `=` dépassant de chaque coté des piles."
   ]
  },
  {
   "cell_type": "code",
   "execution_count": 14,
   "metadata": {},
   "outputs": [],
   "source": [
    "def affichage_tours(tours, n) :\n",
    "    matrice = tours_vers_matrice(tours, n)\n",
    "    affichage_matrice(matrice, n)\n",
    "    print(7*\"=\")"
   ]
  },
  {
   "cell_type": "markdown",
   "metadata": {},
   "source": [
    "Tester votre fonction `affichage_tours(tours, n)` ci-dessous de sorte que :\n",
    "\n",
    "``` \n",
    ">>> tours = [[5, 4, 3], [1], [2]]\n",
    ">>> afichage_tours(tours, n)\n",
    " | | |\n",
    " | | |\n",
    " 3 | |\n",
    " 4 | |\n",
    " 5 1 2\n",
    "=======\n",
    "```"
   ]
  },
  {
   "cell_type": "code",
   "execution_count": 15,
   "metadata": {},
   "outputs": [
    {
     "name": "stdout",
     "output_type": "stream",
     "text": [
      " | | |\n",
      " | | |\n",
      " 3 | |\n",
      " 4 | |\n",
      " 5 1 2\n",
      "=======\n"
     ]
    }
   ],
   "source": [
    "tours = [[5, 4, 3], [1], [2]]\n",
    "affichage_tours(tours, 5)"
   ]
  },
  {
   "cell_type": "markdown",
   "metadata": {},
   "source": [
    "## Exercice 11 : \n",
    "\n",
    "En rajoutant des affichages aux bons endroits dans la fonction `resoudre()`, afficher les différentes étapes par lesquelles passent les tours.\n",
    "\n",
    "L’état initial ne doit pas être affiché par `resoudre()`.\n",
    "\n",
    "Il faudra rajouter un paramètre à `resoudre` indiquant le nombre total de disques dans le jeu.\n",
    "\n",
    "Vous pouvez par exemple utiliser : `resoudre(tours, n_disques, n, origine, cible, interm)`, la valeur `n_disques` ne diminuant pas lors des appels récursifs."
   ]
  },
  {
   "cell_type": "code",
   "execution_count": 16,
   "metadata": {},
   "outputs": [],
   "source": [
    "def resoudre(tours, n_disques, n, origine, cible, interm):\n",
    "    if n==1:\n",
    "        deplacer(tours, origine, cible)\n",
    "        affichage_tours(tours, n_disques)\n",
    "    else:\n",
    "        resoudre(tours, n_disques, n-1, origine, interm, cible)\n",
    "        deplacer(tours, origine, cible)\n",
    "        affichage_tours(tours, n_disques)\n",
    "        resoudre(tours, n_disques, n-1, interm, cible, origine)"
   ]
  },
  {
   "cell_type": "markdown",
   "metadata": {},
   "source": [
    "Tester votre nouvelle fonction `resoudre(tours, n_disques, n, origine, cible, interm)` ci-dessous de sorte que :\n",
    "\n",
    "``` \n",
    ">>> resoudre(creation_tours(2), 2, 2, 0, 2, 1)\n",
    " | | |\n",
    " 2 1 |\n",
    "=======\n",
    " | | |\n",
    " | 1 2\n",
    "=======\n",
    " | | 1\n",
    " | | 2\n",
    "=======\n",
    "```"
   ]
  },
  {
   "cell_type": "code",
   "execution_count": 17,
   "metadata": {},
   "outputs": [
    {
     "name": "stdout",
     "output_type": "stream",
     "text": [
      " | | |\n",
      " 2 1 |\n",
      "=======\n",
      " | | |\n",
      " | 1 2\n",
      "=======\n",
      " | | 1\n",
      " | | 2\n",
      "=======\n"
     ]
    }
   ],
   "source": [
    "resoudre(creation_tours_1(2), 2, 2, 0, 2, 1)"
   ]
  },
  {
   "cell_type": "markdown",
   "metadata": {},
   "source": [
    "## Exercice 12 :\n",
    "\n",
    "Modifier l’affichage pour avoir quelque chose de plus visuel.\n",
    "\n",
    "L’idée est de représenter le disque k par une chaîne de 2k+ 1 symboles '='.\n",
    "\n",
    "Chaque pile occupe 2n+ 1 colonnes, donc la colonne centrale correspond à la tige, représentée par '|' s’il n’y a pas de disque sur la ligne affichée.\n",
    "\n",
    "Écrire la fonction `affichage_complexe(matrice, n)` qui réalise l’affichage suivant :\n",
    "\n",
    "```\n",
    ">>> affichage_complexe([[5, 4, 3, 2, 1], [0, 0, 0, 0, 0], [0, 0, 0, 0, 0]],5)\n",
    "    ===         |          |     \n",
    "   =====        |          |     \n",
    "  =======       |          |     \n",
    " =========      |          |     \n",
    "===========     |          |     \n",
    "\n",
    ">>> affichage_complexe([[5, 4, 0, 0, 0], [3, 2, 0, 0, 0], [1, 0, 0, 0, 0]],5)\n",
    "     |          |          |     \n",
    "     |          |          |     \n",
    "     |          |          |     \n",
    " =========    =====        |     \n",
    "===========  =======      === \n",
    "```"
   ]
  },
  {
   "cell_type": "code",
   "execution_count": 18,
   "metadata": {},
   "outputs": [],
   "source": [
    "def affichage_complexe(tours, n):\n",
    "    matrice = tours_vers_matrice(tours,n)\n",
    "    for i in range(n):\n",
    "        for liste in matrice:\n",
    "            if liste[n-i-1] == 0:\n",
    "                caractere = \"|\"\n",
    "            else:\n",
    "                caractere = (liste[n-i-1]*2+1)*\"=\"\n",
    "            print(\" \"*(n-liste[n-i-1]) , caractere, \" \"*(n-liste[n-i-1]), end = \"\", sep = \"\")\n",
    "        print()\n",
    "    print(3*(2*n+1)*\"_\")"
   ]
  },
  {
   "cell_type": "code",
   "execution_count": 19,
   "metadata": {},
   "outputs": [
    {
     "name": "stdout",
     "output_type": "stream",
     "text": [
      "     |          |          |     \n",
      "     |          |          |     \n",
      "  =======       |          |     \n",
      " =========      |          |     \n",
      "===========    ===       =====   \n",
      "_________________________________\n"
     ]
    }
   ],
   "source": [
    "tours = [[5, 4, 3], [1], [2]]\n",
    "affichage_complexe(tours, 5)"
   ]
  },
  {
   "cell_type": "code",
   "execution_count": 20,
   "metadata": {},
   "outputs": [],
   "source": [
    "def resoudre(tours, n_disques, n, origine, cible, interm):\n",
    "    if n==1:\n",
    "        deplacer(tours, origine, cible)\n",
    "        affichage_complexe(tours, n_disques)\n",
    "    else:\n",
    "        resoudre(tours, n_disques, n-1, origine, interm, cible)\n",
    "        deplacer(tours, origine, cible)\n",
    "        affichage_complexe(tours, n_disques)\n",
    "        resoudre(tours, n_disques, n-1, interm, cible, origine)"
   ]
  },
  {
   "cell_type": "code",
   "execution_count": 21,
   "metadata": {},
   "outputs": [
    {
     "name": "stdout",
     "output_type": "stream",
     "text": [
      "  |    |    |  \n",
      "===== ===   |  \n",
      "_______________\n",
      "  |    |    |  \n",
      "  |   === =====\n",
      "_______________\n",
      "  |    |   === \n",
      "  |    |  =====\n",
      "_______________\n"
     ]
    }
   ],
   "source": [
    "resoudre(creation_tours_1(2), 2, 2, 0, 2, 1)"
   ]
  },
  {
   "cell_type": "markdown",
   "metadata": {},
   "source": [
    "Reprendre les exercices 10 et 11 avec cet affichage...\n",
    "\n",
    "## Exercice 13 :\n",
    "\n",
    "Pour améliorer encore l'affichage, rendez le définitivement plus visuel à l'aide du module `ipycanvas`..."
   ]
  },
  {
   "cell_type": "code",
   "execution_count": 4,
   "metadata": {},
   "outputs": [],
   "source": [
    "from ipycanvas import Canvas\n",
    "def affichage_canvas(tours, n) :\n",
    "    matrice = tours_vers_matrice(tours,n)\n",
    "    hanoi = Canvas(width = 30*(n*2+1), height = 50*n)\n",
    "    hanoi.line_width = 10\n",
    "    hanoi.fill_style = \"red\"\n",
    "    for i in range(3):\n",
    "        hanoi.fill_rect(((1+2*i)*hanoi.width/6)-5, 0, 10, hanoi.height)\n",
    "    hanoi.fill_style = \"black\"\n",
    "    for i in range(n):\n",
    "        for j in range(3):\n",
    "            if matrice[j][i] != 0:\n",
    "                hauteur = 40\n",
    "                largeur = 10*(matrice[j][i]*2)\n",
    "                hanoi.fill_rect((j*2+1)*hanoi.width/6 - largeur/2, hanoi.height - i*50 - hauteur, largeur, hauteur)\n",
    "    display(hanoi)\n",
    "    "
   ]
  },
  {
   "cell_type": "code",
   "execution_count": 5,
   "metadata": {},
   "outputs": [
    {
     "data": {
      "application/vnd.jupyter.widget-view+json": {
       "model_id": "8c5b2fdd677c49769acc919b3be38b3c",
       "version_major": 2,
       "version_minor": 0
      },
      "text/plain": [
       "Canvas(height=250, width=330)"
      ]
     },
     "metadata": {},
     "output_type": "display_data"
    }
   ],
   "source": [
    "affichage_canvas([[5, 4, 3,2,1], [1], []],5)"
   ]
  },
  {
   "cell_type": "code",
   "execution_count": 6,
   "metadata": {},
   "outputs": [],
   "source": [
    "from ipycanvas import Canvas\n",
    "def affichage_canvas(tours, n) :\n",
    "    matrice = tours_vers_matrice(tours,n)\n",
    "    hanoi = Canvas(width = 30*(n*2+1), height = 20*n)\n",
    "    hanoi.line_width = 10\n",
    "    hanoi.fill_style = \"brown\"\n",
    "    for i in range(3):\n",
    "        hanoi.fill_rect(((1+2*i)*hanoi.width/6)-5, 0, 10, hanoi.height)\n",
    "    hanoi.fill_style = \"black\"\n",
    "    couleurs = [\"gray\", \"blue\", \"red\", \"yellow\", \"green\", \"orange\", \"purple\", \"pink\"]\n",
    "    for i in range(n):\n",
    "        hanoi.fill_style = couleurs[i%7]\n",
    "        for j in range(3):\n",
    "            if matrice[j][i] != 0:\n",
    "                hauteur = 16\n",
    "                largeur = 10*(matrice[j][i]*2)\n",
    "                hanoi.fill_rect((j*2+1)*hanoi.width/6 - largeur/2, hanoi.height - i*16 - hauteur, largeur, hauteur)\n",
    "    display(hanoi)\n",
    "    "
   ]
  },
  {
   "cell_type": "code",
   "execution_count": 7,
   "metadata": {},
   "outputs": [
    {
     "data": {
      "application/vnd.jupyter.widget-view+json": {
       "model_id": "93564552b5bf41b3aeaf229eb5c897fd",
       "version_major": 2,
       "version_minor": 0
      },
      "text/plain": [
       "Canvas(height=100, width=330)"
      ]
     },
     "metadata": {},
     "output_type": "display_data"
    }
   ],
   "source": [
    "affichage_canvas([[5, 4, 3, 2, 1], [1], []],5)"
   ]
  },
  {
   "cell_type": "code",
   "execution_count": 8,
   "metadata": {},
   "outputs": [],
   "source": [
    "def resoudre(tours, n_disques, n, origine, cible, interm):\n",
    "    if n==1:\n",
    "        deplacer(tours, origine, cible)\n",
    "        affichage_canvas(tours, n_disques)\n",
    "    else:\n",
    "        resoudre(tours, n_disques, n-1, origine, interm, cible)\n",
    "        deplacer(tours, origine, cible)\n",
    "        affichage_canvas(tours, n_disques)\n",
    "        resoudre(tours, n_disques, n-1, interm, cible, origine)"
   ]
  },
  {
   "cell_type": "code",
   "execution_count": 9,
   "metadata": {},
   "outputs": [
    {
     "data": {
      "application/vnd.jupyter.widget-view+json": {
       "model_id": "47adbc91bc764111993dfe9027f0b52a",
       "version_major": 2,
       "version_minor": 0
      },
      "text/plain": [
       "Canvas(height=60, width=210)"
      ]
     },
     "metadata": {},
     "output_type": "display_data"
    },
    {
     "data": {
      "application/vnd.jupyter.widget-view+json": {
       "model_id": "d57cea38efd24be19f06373eccf5c8bd",
       "version_major": 2,
       "version_minor": 0
      },
      "text/plain": [
       "Canvas(height=60, width=210)"
      ]
     },
     "metadata": {},
     "output_type": "display_data"
    },
    {
     "data": {
      "application/vnd.jupyter.widget-view+json": {
       "model_id": "63fe0d4cecaa4948b798fe2bcaa1edca",
       "version_major": 2,
       "version_minor": 0
      },
      "text/plain": [
       "Canvas(height=60, width=210)"
      ]
     },
     "metadata": {},
     "output_type": "display_data"
    },
    {
     "data": {
      "application/vnd.jupyter.widget-view+json": {
       "model_id": "1699fd6da8a644409f0d09d2fe4b0744",
       "version_major": 2,
       "version_minor": 0
      },
      "text/plain": [
       "Canvas(height=60, width=210)"
      ]
     },
     "metadata": {},
     "output_type": "display_data"
    },
    {
     "data": {
      "application/vnd.jupyter.widget-view+json": {
       "model_id": "06b15ca36a0c40e282e08be7761fff05",
       "version_major": 2,
       "version_minor": 0
      },
      "text/plain": [
       "Canvas(height=60, width=210)"
      ]
     },
     "metadata": {},
     "output_type": "display_data"
    },
    {
     "data": {
      "application/vnd.jupyter.widget-view+json": {
       "model_id": "71e8e2b1c3fd45ffaa78a3a53dd1a9d4",
       "version_major": 2,
       "version_minor": 0
      },
      "text/plain": [
       "Canvas(height=60, width=210)"
      ]
     },
     "metadata": {},
     "output_type": "display_data"
    },
    {
     "data": {
      "application/vnd.jupyter.widget-view+json": {
       "model_id": "c10828b1df1f4a4c9815210e546d659a",
       "version_major": 2,
       "version_minor": 0
      },
      "text/plain": [
       "Canvas(height=60, width=210)"
      ]
     },
     "metadata": {},
     "output_type": "display_data"
    }
   ],
   "source": [
    "resoudre(creation_tours_1(3), 3, 3, 0, 2, 1)"
   ]
  },
  {
   "cell_type": "markdown",
   "metadata": {},
   "source": [
    "## Consignes, rappels :\n",
    "\n",
    "Vous devez enregister ce fichier sous le nom `ds2C-nom-prenom.ipynb`\n",
    "\n",
    "De plus vous devez compléter votre fichier `ds2-nom-prenom.py` avec le code de toutes les fonctions définies ici et dans les parties A et B, y compris le code d'implémentation pour les piles que vous avez utilisé afin de pouvoir l'importer pour la suite du développement de ce projet.\n",
    "\n",
    "À la fin de la séance, transmettez vos fichiers par mail à l'adresse `eric.madec@ecmorlaix.fr`\n",
    "\n",
    "Respectez bien le nom des fonctions pour faciliter la relecture du code.\n",
    "\n",
    "Vous pouvez rajouter des commentaires lorsque vous pensez que c’est nécessaire.\n",
    "\n",
    "De même, essayez de choisir des variables dont le nom est compréhensible, si c’est pertinent."
   ]
  }
 ],
 "metadata": {
  "kernelspec": {
   "display_name": "Python 3",
   "language": "python",
   "name": "python3"
  },
  "language_info": {
   "codemirror_mode": {
    "name": "ipython",
    "version": 3
   },
   "file_extension": ".py",
   "mimetype": "text/x-python",
   "name": "python",
   "nbconvert_exporter": "python",
   "pygments_lexer": "ipython3",
   "version": "3.8.13"
  },
  "toc": {
   "base_numbering": 1,
   "nav_menu": {},
   "number_sections": true,
   "sideBar": true,
   "skip_h1_title": false,
   "title_cell": "Table of Contents",
   "title_sidebar": "Contents",
   "toc_cell": false,
   "toc_position": {},
   "toc_section_display": true,
   "toc_window_display": false
  },
  "varInspector": {
   "cols": {
    "lenName": 16,
    "lenType": 16,
    "lenVar": 40
   },
   "kernels_config": {
    "python": {
     "delete_cmd_postfix": "",
     "delete_cmd_prefix": "del ",
     "library": "var_list.py",
     "varRefreshCmd": "print(var_dic_list())"
    },
    "r": {
     "delete_cmd_postfix": ") ",
     "delete_cmd_prefix": "rm(",
     "library": "var_list.r",
     "varRefreshCmd": "cat(var_dic_list()) "
    }
   },
   "types_to_exclude": [
    "module",
    "function",
    "builtin_function_or_method",
    "instance",
    "_Feature"
   ],
   "window_display": false
  },
  "vscode": {
   "interpreter": {
    "hash": "9ac03a0a6051494cc606d484d27d20fce22fb7b4d169f583271e11d5ba46a56e"
   }
  }
 },
 "nbformat": 4,
 "nbformat_minor": 4
}
