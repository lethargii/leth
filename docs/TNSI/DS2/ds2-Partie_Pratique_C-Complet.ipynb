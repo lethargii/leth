{
 "cells": [
  {
   "cell_type": "markdown",
   "metadata": {},
   "source": [
    "# Devoir surveillé n°2 – Partie pratique C\n",
    "\n",
    "\n",
    "## Consignes\n",
    "\n",
    "Vous devez enregister ce fichier sous le nom `ds2C-nom-prenom.ipynb`\n",
    "\n",
    "De plus vous devez compléter votre fichier `ds2-nom-prenom.py` avec le code de toutes les fonctions définies ici et dans les parties A et B y compris le code d'implémentation pour les piles que vous aurez utilisé afin de pouvoir l'importer pour la suite du développement de ce projet.\n",
    "\n",
    "À la fin de la séance, transmettez vos fichiers par mail à l'adresse `eric.madec@ecmorlaix.fr`\n",
    "\n",
    "Respectez bien le nom des fonctions pour faciliter la relecture du code.\n",
    "\n",
    "Vous pouvez rajouter des commentaires lorsque vous pensez que c’est nécessaire.\n",
    "\n",
    "De même, essayez de choisir des variables dont le nom est compréhensible, si c’est pertinent.\n",
    "\n",
    "\n",
    "# Les tours de Hanoï\n",
    "\n",
    "Les tours seront modélisées par une liste de 3 piles.\n",
    "\n",
    "Pour les piles, vous avez le choix entre deux implémentations données :\n",
    "- Dans la première, une pile est une liste Python.\n",
    "- Dans la deuxième, on définit une classe Pile qui utilise également une liste Python.\n",
    "\n",
    "Vous devez manipuler une pile uniquement avec les fonctions ou méthodes fournies.\n",
    "\n",
    "Pour pouvoir les utiliser dans ce notebook il vous faut les importer depuis votre module `ds2-nom-prenom.py` tout comme les fonctions que vous avez définies dans les parties A et B."
   ]
  },
  {
   "cell_type": "code",
   "execution_count": null,
   "metadata": {},
   "outputs": [],
   "source": [
    "from ds2_nom_prenom import *"
   ]
  },
  {
   "cell_type": "markdown",
   "metadata": {},
   "source": [
    "# Affichage :\n",
    "\n",
    "<img src=\"https://ericecmorlaix.github.io/img/ds2_hanoi-02.png\" alt=\"ds2_hanoi-02.png\" width=30% align='right' >\n",
    "\n",
    "Nous allons maintenant ajouter un affichage permettant de mieux visualiser l’état des tours.\n",
    "\n",
    "Pour cela nous allons passer par un tableau à 2 dimensions montrant le contenu de chaque pile.\n",
    "\n",
    "Ainsi le tableau ci-dessous correspond à la situation ci-contre :\n",
    "```python\n",
    "tab = [[5, 2, 0, 0, 0],\n",
    "       [4, 3, 1, 0, 0],\n",
    "       [0, 0, 0, 0, 0]]\n",
    "```\n",
    "\n",
    "Le tableau est composé de 3 tableaux de n valeurs, où n est le nombre de disques, et lorsqu’il n’y a pas de disques, la valeur est 0.\n",
    "\n",
    "## Exercice 7 :\n",
    "\n",
    "Écrire une fonction `pile_vers_tableau(pile, n)` qui renvoie le tableau de taille n correspondant à pile.\n",
    "\n",
    "Il ne faut pas utiliser le fait que les piles sont représentées par des listes. Il faut au contraire dépiler la pile, en empilant les valeurs sur une autre pile, puis la réempiler, tout en notant les valeurs dans le tableau, afin qu’elle retrouve son état initial. La deuxième pile n’est pas obligée de contenir des valeurs dans l’ordre décroissant.\n",
    "\n",
    "<img src=\"https://ericecmorlaix.github.io/img/ds2_hanoi-03.png\" alt=\"ds2_hanoi-03.png\" width=70% >\n",
    "\n",
    "> Pour rappel, pour créer un tableau rempli de n 0, il faut faire `[0]*n`.\n"
   ]
  },
  {
   "cell_type": "code",
   "execution_count": null,
   "metadata": {},
   "outputs": [],
   "source": [
    "def pile_vers_tableau(pile, n):\n",
    "    '''\n",
    "    \n",
    "    '''\n",
    "    \n",
    "    "
   ]
  },
  {
   "cell_type": "markdown",
   "metadata": {},
   "source": [
    "Tester votre fonction `pile_vers_tableau(pile, n)` ci-dessous de sorte que :\n",
    "\n",
    "```python \n",
    "# Première implémentation pour les piles\n",
    ">>> pile = creer_pile()\n",
    ">>> empiler(pile, 4)\n",
    ">>> empiler(pile, 3)\n",
    ">>> empiler(pile, 1)\n",
    ">>> pile_vers_tableau(pile, 5)\n",
    "[4, 3, 1, 0, 0]\n",
    "```\n",
    "```python \n",
    "# Deuxième implémentation pour les piles\n",
    ">>> pile = Pile()\n",
    ">>> pile.empiler(4)\n",
    ">>> pile.empiler(3)\n",
    ">>> pile.empiler(1)\n",
    ">>> pile_vers_tableau(pile, 5)\n",
    "[4, 3, 1, 0, 0]\n",
    "```"
   ]
  },
  {
   "cell_type": "code",
   "execution_count": null,
   "metadata": {},
   "outputs": [],
   "source": [
    "def pile_vers_tableau(pile, n):\n",
    "    tab = [0] * n\n",
    "    p2 = creer_pile()\n",
    "    while not est_vide(pile):\n",
    "        empiler(p2, depiler(pile))\n",
    "    i = 0\n",
    "    while not est_vide(p2):\n",
    "        v = depiler(p2)\n",
    "        tab[i] = v\n",
    "        empiler(pile, v)\n",
    "        i += 1\n",
    "    return tab"
   ]
  },
  {
   "cell_type": "code",
   "execution_count": null,
   "metadata": {},
   "outputs": [],
   "source": [
    "pile = creer_pile()"
   ]
  },
  {
   "cell_type": "code",
   "execution_count": null,
   "metadata": {},
   "outputs": [],
   "source": [
    "empiler(pile, 4)"
   ]
  },
  {
   "cell_type": "code",
   "execution_count": null,
   "metadata": {},
   "outputs": [],
   "source": [
    "empiler(pile, 3)"
   ]
  },
  {
   "cell_type": "code",
   "execution_count": null,
   "metadata": {},
   "outputs": [],
   "source": [
    "empiler(pile, 1)"
   ]
  },
  {
   "cell_type": "code",
   "execution_count": null,
   "metadata": {},
   "outputs": [],
   "source": [
    "pile_vers_tableau(pile, 5)"
   ]
  },
  {
   "cell_type": "code",
   "execution_count": null,
   "metadata": {},
   "outputs": [],
   "source": [
    "def pile_vers_tableau(pile, n):\n",
    "    tab = [0] * n\n",
    "    p2 = Pile()\n",
    "    while not pile.est_vide():\n",
    "        p2.empiler(pile.depiler())\n",
    "    i = 0\n",
    "    while not p2.est_vide():\n",
    "        v = p2.depiler()\n",
    "        tab[i] = v\n",
    "        pile.empiler(v)\n",
    "        i += 1\n",
    "    return tab"
   ]
  },
  {
   "cell_type": "markdown",
   "metadata": {},
   "source": [
    "## Exercice 8 :\n",
    "\n",
    "Écrire une fonction tours_vers_matrice(tours, n) qui renvoie le tableau à deux dimensions correspondant aux tours."
   ]
  },
  {
   "cell_type": "code",
   "execution_count": null,
   "metadata": {},
   "outputs": [],
   "source": [
    "def tours_vers_matrice(tours, n) :\n",
    "       \n",
    "    \n",
    "    \n",
    "    "
   ]
  },
  {
   "cell_type": "markdown",
   "metadata": {},
   "source": [
    "Tester votre fonction `tours_vers_matrice(tours, n)` ci-dessous de sorte que :\n",
    "\n",
    "```python \n",
    ">>> tours = [[5, 4, 3], [1], [2]]\n",
    ">>> tours_vers_matrice(tours, 5)\n",
    "[[5, 4, 3, 0, 0], [1, 0, 0, 0, 0], [2, 0, 0, 0, 0]]\n",
    "```"
   ]
  },
  {
   "cell_type": "code",
   "execution_count": null,
   "metadata": {},
   "outputs": [],
   "source": [
    "def tours_vers_matrice(tours, n):\n",
    "    return [pile_vers_tableau(tours[i], n) for i in range(3)]"
   ]
  },
  {
   "cell_type": "code",
   "execution_count": null,
   "metadata": {},
   "outputs": [],
   "source": [
    "tours = [[5, 4, 3], [1], [2]]"
   ]
  },
  {
   "cell_type": "code",
   "execution_count": null,
   "metadata": {},
   "outputs": [],
   "source": [
    "tours_vers_matrice(tours, 5)"
   ]
  },
  {
   "cell_type": "markdown",
   "metadata": {},
   "source": [
    "## Exercice 9 :\n",
    "\n",
    "Écrire une fonction `affichage_matrice(matrice, n)` qui affiche l’état des 3 piles.\n",
    "\n",
    "Il y a un espace avant chaque colonne.\n",
    "\n",
    "Les `0` sont remplacés par des `|` et les autres nombres sont affichés.\n",
    "\n",
    "Vous pouvez vous inspirer de la structure du code ci-dessous :"
   ]
  },
  {
   "cell_type": "code",
   "execution_count": null,
   "metadata": {},
   "outputs": [],
   "source": [
    "def affichage_matrice(matrice, n) :\n",
    "\n",
    "    for j in range(n-1, -1, -1): # parcours de droite à gauche des sous-tableaux\n",
    "        ...\n",
    "        for i in range(3): # parcours de haut en bas des tableaux\n",
    "            ...\n",
    "            quelque chose avec matrice[i][j]\n",
    "            ...\n",
    "        ...\n",
    "    \n",
    "\n",
    "    \n",
    "    \n",
    "    \n",
    "    "
   ]
  },
  {
   "cell_type": "markdown",
   "metadata": {},
   "source": [
    "Tester votre fonction `affichage_matrice(matrice, n)` ci-dessous de sorte que :\n",
    "\n",
    "``` \n",
    ">>> matrice = [[5, 4, 3, 0, 0], [1, 0, 0, 0, 0], [2, 0, 0, 0, 0]]\n",
    ">>> affichage_matrice(matrice, 5)\n",
    " | | |\n",
    " | | |\n",
    " 3 | |\n",
    " 4 | |\n",
    " 5 1 2\n",
    "```"
   ]
  },
  {
   "cell_type": "code",
   "execution_count": null,
   "metadata": {},
   "outputs": [],
   "source": [
    "def affichage_matrice(matrice, n):\n",
    "    for j in range(n-1, -1, -1): # parcours de droite à gauche des sous-tableaux\n",
    "        ligne = ''\n",
    "        for i in range(3): # parcours de haut en bas des tableaux\n",
    "            ligne += ' '\n",
    "            if matrice[i][j] == 0:\n",
    "                ligne += '|'\n",
    "            else:\n",
    "                ligne += str(matrice[i][j])\n",
    "        print(ligne)\n",
    "    "
   ]
  },
  {
   "cell_type": "code",
   "execution_count": null,
   "metadata": {},
   "outputs": [],
   "source": [
    "affichage_matrice(tours_vers_matrice(tours, 5), 5)"
   ]
  },
  {
   "cell_type": "markdown",
   "metadata": {},
   "source": [
    "## Exercice 10 :\n",
    "\n",
    "Écrire une foncion `affichage_tours(tours, n)` qui affiche le contenu des tours sur un socle à la base du jeu.\n",
    "\n",
    "Le socle est une ligne de `=` dépassant de chaque coté des piles."
   ]
  },
  {
   "cell_type": "code",
   "execution_count": null,
   "metadata": {},
   "outputs": [],
   "source": [
    "def affichage_tours(tours, n) :\n",
    "    "
   ]
  },
  {
   "cell_type": "markdown",
   "metadata": {},
   "source": [
    "Tester votre fonction `affichage_tours(tours, n)` ci-dessous de sorte que :\n",
    "\n",
    "``` \n",
    ">>> tours = [[5, 4, 3], [1], [2]]\n",
    ">>> afichage_tours(tours, n)\n",
    " | | |\n",
    " | | |\n",
    " 3 | |\n",
    " 4 | |\n",
    " 5 1 2\n",
    "=======\n",
    "```"
   ]
  },
  {
   "cell_type": "code",
   "execution_count": null,
   "metadata": {},
   "outputs": [],
   "source": [
    "def affichage_tours(tours, n) :\n",
    "    affichage_matrice(tours_vers_matrice(tours, n), n)\n",
    "    print(\"=\" * 7)"
   ]
  },
  {
   "cell_type": "code",
   "execution_count": null,
   "metadata": {},
   "outputs": [],
   "source": [
    "tours = [[5, 4, 3], [1], [2]]"
   ]
  },
  {
   "cell_type": "code",
   "execution_count": null,
   "metadata": {},
   "outputs": [],
   "source": [
    "affichage_tours(tours, 5)"
   ]
  },
  {
   "cell_type": "markdown",
   "metadata": {},
   "source": [
    "## Exercice 11 : \n",
    "\n",
    "En rajoutant des affichages aux bons endroits dans la fonction `resoudre()`, afficher les différentes étapes par lesquelles passent les tours.\n",
    "\n",
    "L’état initial ne doit pas être affiché par `resoudre()`.\n",
    "\n",
    "Il faudra rajouter un paramètre à `resoudre` indiquant le nombre total de disques dans le jeu.\n",
    "\n",
    "Vous pouvez par exemple utiliser : `resoudre(tours, n_disques, n, origine, cible, interm)`, la valeur `n_disques` ne diminuant pas lors des appels récursifs."
   ]
  },
  {
   "cell_type": "code",
   "execution_count": null,
   "metadata": {},
   "outputs": [],
   "source": [
    "def resoudre(tours, n_disques, n, origine, cible, interm):\n"
   ]
  },
  {
   "cell_type": "code",
   "execution_count": null,
   "metadata": {},
   "outputs": [],
   "source": [
    "def resoudre(tours, n_disques, n, origine, cible, interm):\n",
    "    if n == 1:\n",
    "        deplacer(tours, origine, cible)\n",
    "        affichage_tours(tours, n_disques)\n",
    "    else:\n",
    "        resoudre(tours, n_disques, n-1, origine, interm, cible)\n",
    "        deplacer(tours, origine, cible)\n",
    "        affichage_tours(tours, n_disques)\n",
    "        resoudre(tours, n_disques, n-1, interm, cible, origine)"
   ]
  },
  {
   "cell_type": "code",
   "execution_count": null,
   "metadata": {},
   "outputs": [],
   "source": [
    "resoudre(creation_tours(2), 2, 2, 0, 2, 1)"
   ]
  },
  {
   "cell_type": "markdown",
   "metadata": {},
   "source": [
    "## Exercice 12 :\n",
    "\n",
    "Modifier l’affichage pour avoir quelque chose de plus visuel.\n",
    "\n",
    "L’idée est de représenter le disque k par une chaîne de 2k+ 1 symboles '='.\n",
    "\n",
    "Chaque pile occupe 2n+ 1 colonnes, donc la colonne centrale correspond à la tige, représentée par '|' s’il n’y a pas de disque sur la ligne affichée.\n",
    "\n",
    "Écrire la fonction `affichage_complexe(matrice, n)` qui réalise l’affichage suivant :\n",
    "\n",
    "```\n",
    ">>> affichage_complexe([[5, 4, 3, 2, 1], [0, 0, 0, 0, 0], [0, 0, 0, 0, 0]],5)\n",
    "    ===         |          |     \n",
    "   =====        |          |     \n",
    "  =======       |          |     \n",
    " =========      |          |     \n",
    "===========     |          |     \n",
    "\n",
    ">>> affichage_complexe([[5, 4, 0, 0, 0], [3, 2, 0, 0, 0], [1, 0, 0, 0, 0]],5)\n",
    "     |          |          |     \n",
    "     |          |          |     \n",
    "     |          |          |     \n",
    " =========    =====        |     \n",
    "===========  =======      === \n",
    "```"
   ]
  },
  {
   "cell_type": "code",
   "execution_count": null,
   "metadata": {},
   "outputs": [],
   "source": [
    "def affichage_complexe(matrice, n):\n"
   ]
  },
  {
   "cell_type": "code",
   "execution_count": null,
   "metadata": {},
   "outputs": [],
   "source": [
    "def affichage_complexe(matrice, n):\n",
    "    for j in range(n-1, -1, -1): # parcours de droite à gauche des sous-tableaux\n",
    "        ligne = ''\n",
    "        for i in range(3): # parcours de haut en bas des tableaux\n",
    "            if matrice[i][j] == 0:\n",
    "                ligne += ' '*n + '|' + ' '*n\n",
    "            else:\n",
    "                k = matrice[i][j]\n",
    "                ligne += ' '*(n-k) + '='*(2*k+1) + ' '*(n-k)\n",
    "        print(ligne)\n",
    "    print(\"#\" * (2 * (len(matrice[0])+1) * len(matrice)))"
   ]
  },
  {
   "cell_type": "code",
   "execution_count": null,
   "metadata": {},
   "outputs": [],
   "source": [
    "affichage_complexe([[5, 4, 3, 2, 1], [0, 0, 0, 0, 0], [0, 0, 0, 0, 0]],5)"
   ]
  },
  {
   "cell_type": "code",
   "execution_count": null,
   "metadata": {},
   "outputs": [],
   "source": [
    "affichage_complexe([[5, 4, 0, 0, 0], [3, 2, 0, 0, 0], [1, 0, 0, 0, 0]],5)"
   ]
  },
  {
   "cell_type": "markdown",
   "metadata": {},
   "source": [
    "Reprendre les exercices 10 et 11 avec cet affichage..."
   ]
  },
  {
   "cell_type": "code",
   "execution_count": null,
   "metadata": {},
   "outputs": [],
   "source": []
  },
  {
   "cell_type": "markdown",
   "metadata": {},
   "source": [
    "## Exercice 13 :\n",
    "\n",
    "Pour améliorer encore l'affichage, rendez le encore plus visuel à l'aide du module `ipycanvas`..."
   ]
  },
  {
   "cell_type": "code",
   "execution_count": null,
   "metadata": {},
   "outputs": [],
   "source": [
    "from ipycanvas import Canvas"
   ]
  },
  {
   "cell_type": "code",
   "execution_count": null,
   "metadata": {},
   "outputs": [],
   "source": [
    "n = 5\n",
    "matrice = [[5, 4, 0, 0, 0], [3, 2, 1, 0, 0], [0, 0, 0, 0, 0]]\n",
    "pas = 20\n",
    "hanoi = Canvas(width = (pas * (1 + n) * 6), height = pas * (n + 1))\n",
    "couleur = {0 : 'black', 1 : 'red', 2 : 'blue', 3 : 'green', 4 : 'orange', 5 : 'purple'}\n",
    "hanoi"
   ]
  },
  {
   "cell_type": "code",
   "execution_count": null,
   "metadata": {},
   "outputs": [],
   "source": [
    "hanoi.clear()\n",
    "\n",
    "for j in range(n-1, -1, -1): # parcours de droite à gauche des sous-tableaux\n",
    "        for i in range(3): # parcours de haut en bas des tableaux\n",
    "            k = matrice[i][j]\n",
    "            hanoi.stroke_style = couleur[k]\n",
    "            if k == 0:\n",
    "                hanoi.line_width = pas/2.5\n",
    "                hanoi.stroke_line(pas*(n + 1)*(i + 1), hanoi.height - (j+2) * pas, pas*(n + 1)*(i + 1), hanoi.height - (j + 1) * pas)\n",
    "            else:\n",
    "                hanoi.line_width = pas\n",
    "                hanoi.stroke_line(pas*(n - k/2 + 1)*(i + 1), hanoi.height - (j + 1.5) * pas, pas*(n + k/2 + 1)*(i + 1), hanoi.height - (j + 1.5) * pas)\n",
    "hanoi.line_width = pas/2.5            \n",
    "hanoi.stroke_line(pas*(n+1)/2, hanoi.height-0.8*pas, pas*(n+1)*3.5, hanoi.height-0.8*pas)\n",
    "          "
   ]
  },
  {
   "cell_type": "code",
   "execution_count": null,
   "metadata": {},
   "outputs": [],
   "source": [
    "def affichage_canvas(matrice, n) :\n",
    "    pas = 10\n",
    "    hanoi = Canvas(width = pas*(1+n)*6, height = pas*(n+1))\n",
    "    couleur = {0:'black', 1:'red', 2:'blue', 3:'green', 4:'orange', 5:'purple', 6:'cyan', 7:'magenta', 8:'yellow', 9:'pink'}\n",
    "    display(hanoi)\n",
    "    \n",
    "    # Affichage d'un élément centrale d'une pile ou d'un disque selon les valeurs de la matrice et les couleurs du dictionnaire\n",
    "    for j in range(n-1, -1, -1): # parcours de droite à gauche des sous-tableaux\n",
    "        for i in range(3): # parcours de haut en bas des tableaux\n",
    "            k = matrice[i][j]\n",
    "            hanoi.stroke_style = couleur[k]\n",
    "            if k == 0:\n",
    "                hanoi.line_width = pas/2.5\n",
    "                hanoi.stroke_line(pas*(n+1)*(i+1), hanoi.height - (j+2) * pas, pas*(n + 1)*(i+1), hanoi.height - (j + 1) * pas)\n",
    "            else:\n",
    "                hanoi.line_width = pas\n",
    "                hanoi.stroke_line(pas*((n+1)*(i+1)-k/2), hanoi.height-(j+1.5)*pas, pas*((n+1)*(i+1)+k/2), hanoi.height-(j+1.5)*pas)\n",
    "    \n",
    "    # Socle\n",
    "    hanoi.stroke_style = couleur[0]\n",
    "    hanoi.line_width = pas/2.5           \n",
    "    hanoi.stroke_line(pas*(n+1)/2, hanoi.height-2*hanoi.line_width, pas*(n+1)*3.5, hanoi.height-2*hanoi.line_width)"
   ]
  },
  {
   "cell_type": "code",
   "execution_count": null,
   "metadata": {},
   "outputs": [],
   "source": [
    "affichage_canvas([[5, 4, 3, 2, 1], [0, 1, 0, 0, 0], [0, 1, 0, 0, 0]],5)"
   ]
  },
  {
   "cell_type": "code",
   "execution_count": null,
   "metadata": {},
   "outputs": [],
   "source": [
    "affichage_canvas([[4, 3, 0, 0, 0], [4, 1, 0, 0, 0], [4, 0, 1, 0, 0]],5)"
   ]
  },
  {
   "cell_type": "code",
   "execution_count": null,
   "metadata": {},
   "outputs": [],
   "source": [
    "def affichage_tours_canvas(tours, n) :\n",
    "    affichage_canvas(tours_vers_matrice(tours, n), n)"
   ]
  },
  {
   "cell_type": "code",
   "execution_count": null,
   "metadata": {},
   "outputs": [],
   "source": [
    "def resoudre_canvas(tours, n_disques, n, origine, cible, interm):\n",
    "    if n == 1:\n",
    "        deplacer(tours, origine, cible)\n",
    "        affichage_tours_canvas(tours, n_disques)\n",
    "    else:\n",
    "        resoudre_canvas(tours, n_disques, n-1, origine, interm, cible)\n",
    "        deplacer(tours, origine, cible)\n",
    "        affichage_tours_canvas(tours, n_disques)\n",
    "        resoudre_canvas(tours, n_disques, n-1, interm, cible, origine)"
   ]
  },
  {
   "cell_type": "code",
   "execution_count": null,
   "metadata": {},
   "outputs": [],
   "source": [
    "resoudre_canvas(creation_tours(4), 4, 4, 0, 2, 1)"
   ]
  },
  {
   "cell_type": "markdown",
   "metadata": {},
   "source": [
    "## Consignes, rappels :\n",
    "\n",
    "Vous devez enregister ce fichier sous le nom `ds2C-nom-prenom.ipynb`\n",
    "\n",
    "De plus vous devez compléter votre fichier `ds2-nom-prenom.py` avec le code de toutes les fonctions définies ici et dans les parties A et B, y compris le code d'implémentation pour les piles que vous avez utilisé afin de pouvoir l'importer pour la suite du développement de ce projet.\n",
    "\n",
    "À la fin de la séance, transmettez vos fichiers par mail à l'adresse `eric.madec@ecmorlaix.fr`\n",
    "\n",
    "Respectez bien le nom des fonctions pour faciliter la relecture du code.\n",
    "\n",
    "Vous pouvez rajouter des commentaires lorsque vous pensez que c’est nécessaire.\n",
    "\n",
    "De même, essayez de choisir des variables dont le nom est compréhensible, si c’est pertinent."
   ]
  },
  {
   "cell_type": "code",
   "execution_count": 31,
   "metadata": {},
   "outputs": [],
   "source": [
    "from ipycanvas import Canvas, hold_canvas\n",
    "\n",
    "\n",
    "# Première implémentation pour les piles\n",
    "def creer_pile():\n",
    "    '''Renvoie une pile vide'''\n",
    "    return []\n",
    "\n",
    "def est_vide(pile):\n",
    "    '''Renvoie un booléen, True si la pile est vide et False sinon'''\n",
    "    return pile == []\n",
    "\n",
    "def empiler(pile, element):\n",
    "    '''Empile element au sommet de pile'''\n",
    "    pile.append(element)\n",
    "    \n",
    "def depiler(pile):\n",
    "    '''Renvoie et enlève la valeur du sommet de pile'''\n",
    "    assert not est_vide(pile), \"Pile vide\"\n",
    "    return pile.pop()\n",
    "\n",
    "# Exercice 1 : valeur du sommet d'une pile\n",
    "def sommet(pile):\n",
    "    ''' Renvoie la valeur au sommet de la pile mais sans la supprimer de la pile '''\n",
    "    if est_vide(pile):\n",
    "        raise IndexError('pile vide')\n",
    "    else:\n",
    "        valeur = depiler(pile)\n",
    "        empiler(pile, valeur)\n",
    "    return valeur\n",
    "\n",
    "# Exercice 2 : constitution d'une pile de n disques\n",
    "def mettre_disques(pile, n):\n",
    "    '''Met des disques de taille n à 1 sur la pile'''\n",
    "    for i in range(n, 0, -1):\n",
    "        empiler(pile, i)\n",
    "\n",
    "# Exercice 3 : création de trois tours, une avec n disques    \n",
    "def creation_tours(n):\n",
    "    ''' Renvoie une liste de 3 piles,\n",
    "    la première correspond à la pile des n disques,\n",
    "    les autres étant vides.'''\n",
    "    p0 = creer_pile()\n",
    "    p1 = creer_pile()\n",
    "    p2 = creer_pile()\n",
    "    mettre_disques(p0, n)\n",
    "    return [p0, p1, p2]\n",
    "\n",
    "\n",
    "# Exercice 4 : déplacement d'un disque selon les règles\n",
    "def deplacer(tours, origine, cible) :\n",
    "    '''\n",
    "    Déplace la valeur au sommet de la pile d’indice origine vers le sommet de la pile d’indice cible.\n",
    "    Si le déplacement n’est pas possible, parce qu’il ne respecte pas les règles du jeu, les piles ne sont pas modifiées.\n",
    "    '''\n",
    "    if not est_vide(tours[origine]) and (est_vide(tours[cible]) or sommet(tours[cible]) > sommet(tours[origine])) :\n",
    "        empiler(tours[cible], depiler(tours[origine]))\n",
    "        \n",
    "# Exercice 5 : résoudre de façon récursive\n",
    "def resoudre(tours, n, origine, cible, interm):\n",
    "    '''\n",
    "    déplace les n premiers disques au sommet de la pile d’indice origine vers la pile d’indice cible,\n",
    "    en utilisant éventuellement la pile d’indice interm comme pile intermédiaire pour les déplacements\n",
    "    '''\n",
    "    if n == 1:\n",
    "        deplacer(tours, origine, cible)\n",
    "    else:\n",
    "        resoudre(tours, n-1, origine, interm, cible)\n",
    "        deplacer(tours, origine, cible)\n",
    "        resoudre(tours, n-1, interm, cible, origine)\n",
    "\n",
    "# Exercice 6 : calcule le nombre de coups nécessaire pour résoubre\n",
    "def nb_etapes(n):\n",
    "    '''\n",
    "    renvoie le nombre d’étapes nécessaires pour déplacer une pile de n disques, avec n > 1.\n",
    "    '''\n",
    "    if n == 1:\n",
    "        return 1\n",
    "    else:\n",
    "        return 2*nb_etapes(n-1) + 1\n",
    "\n",
    "# Exercice 7 : transforme la pile en tableau de taille n     \n",
    "def pile_vers_tableau(pile, n):\n",
    "    '''renvoie le tableau de taille n correspondant à pile.'''\n",
    "    tab = [0] * n\n",
    "    p2 = creer_pile()\n",
    "    while not est_vide(pile):\n",
    "        empiler(p2, depiler(pile))\n",
    "    i = 0\n",
    "    while not est_vide(p2):\n",
    "        v = depiler(p2)\n",
    "        tab[i] = v\n",
    "        empiler(pile, v)\n",
    "        i += 1\n",
    "    return tab\n",
    "\n",
    "# Exercice 8 : transforme les tours en matrice nx3\n",
    "def tours_vers_matrice(tours, n):\n",
    "    ''' renvoie le tableau à deux dimensions correspondant aux tours'''\n",
    "    return [pile_vers_tableau(tours[i], n) for i in range(3)]\n",
    "\n",
    "# Affichage graphique dans un notebook jupyter avec ipycanvas\n",
    "def affichage_canvas(matrice, n) :\n",
    "    ''''''\n",
    "    pas = 10\n",
    "    hanoi = Canvas(width = pas*(1+n)*6, height = pas*(n+1))\n",
    "    couleur = {0:'black', 1:'red', 2:'blue', 3:'green', 4:'orange', 5:'purple', 6:'cyan', 7:'magenta', 8:'yellow', 9:'pink'}\n",
    "    display(hanoi)\n",
    "    \n",
    "    # Affichage d'un élément centrale d'une pile ou d'un disque selon les valeurs de la matrice et les couleurs du dictionnaire\n",
    "    with hold_canvas(hanoi):\n",
    "        for j in range(n-1, -1, -1): # parcours de droite à gauche des sous-tableaux\n",
    "            for i in range(3): # parcours de haut en bas des tableaux\n",
    "                k = matrice[i][j]\n",
    "                hanoi.stroke_style = couleur[k]\n",
    "                if k == 0:\n",
    "                    hanoi.line_width = pas/2.5\n",
    "                    hanoi.stroke_line(pas*(n+1)*(i+1), hanoi.height - (j+2) * pas, pas*(n + 1)*(i+1), hanoi.height - (j + 1) * pas)\n",
    "                else:\n",
    "                    hanoi.line_width = pas\n",
    "                    hanoi.stroke_line(pas*((n+1)*(i+1)-k/2), hanoi.height-(j+1.5)*pas, pas*((n+1)*(i+1)+k/2), hanoi.height-(j+1.5)*pas)\n",
    "    \n",
    "        # Socle\n",
    "        hanoi.stroke_style = couleur[0]\n",
    "        hanoi.line_width = pas/2.5           \n",
    "        hanoi.stroke_line(pas*(n+1)/2, hanoi.height-2*hanoi.line_width, pas*(n+1)*3.5, hanoi.height-2*hanoi.line_width)\n",
    "    \n",
    "    \n",
    "def affichage_tours_canvas(tours, n) :\n",
    "    affichage_canvas(tours_vers_matrice(tours, n), n)\n",
    "\n",
    "    \n",
    "def resoudre_canvas(tours, n_disques, n, origine, cible, interm):\n",
    "    if n == 1:\n",
    "        deplacer(tours, origine, cible)\n",
    "        affichage_tours_canvas(tours, n_disques)\n",
    "    else:\n",
    "        resoudre_canvas(tours, n_disques, n-1, origine, interm, cible)\n",
    "        deplacer(tours, origine, cible)\n",
    "        affichage_tours_canvas(tours, n_disques)\n",
    "        resoudre_canvas(tours, n_disques, n-1, interm, cible, origine)\n",
    "        \n",
    "def hanoi_etapes(n) :\n",
    "    '''affiche les étapes à suivre pour résoudre le problème des tours de Hanoi avec n disques'''\n",
    "    print(f\"Pour résoudre le problème des tours de Hanoi avec {n} disques\")\n",
    "    affichage_canvas(tours_vers_matrice(creation_tours(n), n), n)\n",
    "    print(f\"Il vaut faut suivre les {nb_etapes(n)} étapes suivantes :\")\n",
    "    resoudre_canvas(creation_tours(n), n, n, 0, 2, 1)"
   ]
  },
  {
   "cell_type": "code",
   "execution_count": 32,
   "metadata": {},
   "outputs": [
    {
     "name": "stdout",
     "output_type": "stream",
     "text": [
      "Pour résoudre le problème des tours de Hanoi avec 2 disques\n"
     ]
    },
    {
     "data": {
      "application/vnd.jupyter.widget-view+json": {
       "model_id": "af54118d825c4bbbbb18026f7e8d41d5",
       "version_major": 2,
       "version_minor": 0
      },
      "text/plain": [
       "Canvas(height=30, width=180)"
      ]
     },
     "metadata": {},
     "output_type": "display_data"
    },
    {
     "name": "stdout",
     "output_type": "stream",
     "text": [
      "Il vaut faut suivre les 3 étapes suivantes :\n"
     ]
    },
    {
     "data": {
      "application/vnd.jupyter.widget-view+json": {
       "model_id": "e447b9e3c41d49809f95663ef61a8ca3",
       "version_major": 2,
       "version_minor": 0
      },
      "text/plain": [
       "Canvas(height=30, width=180)"
      ]
     },
     "metadata": {},
     "output_type": "display_data"
    },
    {
     "data": {
      "application/vnd.jupyter.widget-view+json": {
       "model_id": "cc505d0dbe4f44c4bf5b8027ae57e6af",
       "version_major": 2,
       "version_minor": 0
      },
      "text/plain": [
       "Canvas(height=30, width=180)"
      ]
     },
     "metadata": {},
     "output_type": "display_data"
    },
    {
     "data": {
      "application/vnd.jupyter.widget-view+json": {
       "model_id": "6f6b814da0634bdd84bce6865479c2d1",
       "version_major": 2,
       "version_minor": 0
      },
      "text/plain": [
       "Canvas(height=30, width=180)"
      ]
     },
     "metadata": {},
     "output_type": "display_data"
    }
   ],
   "source": [
    "hanoi_etapes(2)"
   ]
  },
  {
   "cell_type": "code",
   "execution_count": 33,
   "metadata": {},
   "outputs": [
    {
     "name": "stdout",
     "output_type": "stream",
     "text": [
      "Pour résoudre le problème des tours de Hanoi avec 3 disques\n"
     ]
    },
    {
     "data": {
      "application/vnd.jupyter.widget-view+json": {
       "model_id": "8fe8c7743625451ba1a275dea47d2316",
       "version_major": 2,
       "version_minor": 0
      },
      "text/plain": [
       "Canvas(height=40, width=240)"
      ]
     },
     "metadata": {},
     "output_type": "display_data"
    },
    {
     "name": "stdout",
     "output_type": "stream",
     "text": [
      "Il vaut faut suivre les 7 étapes suivantes :\n"
     ]
    },
    {
     "data": {
      "application/vnd.jupyter.widget-view+json": {
       "model_id": "99cca4dcc09e4cd19790e343928e63e0",
       "version_major": 2,
       "version_minor": 0
      },
      "text/plain": [
       "Canvas(height=40, width=240)"
      ]
     },
     "metadata": {},
     "output_type": "display_data"
    },
    {
     "data": {
      "application/vnd.jupyter.widget-view+json": {
       "model_id": "e215724e730a4c8582b2e4d87c43ae1f",
       "version_major": 2,
       "version_minor": 0
      },
      "text/plain": [
       "Canvas(height=40, width=240)"
      ]
     },
     "metadata": {},
     "output_type": "display_data"
    },
    {
     "data": {
      "application/vnd.jupyter.widget-view+json": {
       "model_id": "0e2c134bdbc54e95a5cb73b2bc65a052",
       "version_major": 2,
       "version_minor": 0
      },
      "text/plain": [
       "Canvas(height=40, width=240)"
      ]
     },
     "metadata": {},
     "output_type": "display_data"
    },
    {
     "data": {
      "application/vnd.jupyter.widget-view+json": {
       "model_id": "8f181ed187bd4895ab954594c73b7781",
       "version_major": 2,
       "version_minor": 0
      },
      "text/plain": [
       "Canvas(height=40, width=240)"
      ]
     },
     "metadata": {},
     "output_type": "display_data"
    },
    {
     "data": {
      "application/vnd.jupyter.widget-view+json": {
       "model_id": "5fba2415638745fbae4273fbdd170d2f",
       "version_major": 2,
       "version_minor": 0
      },
      "text/plain": [
       "Canvas(height=40, width=240)"
      ]
     },
     "metadata": {},
     "output_type": "display_data"
    },
    {
     "data": {
      "application/vnd.jupyter.widget-view+json": {
       "model_id": "4551e68b205d4e56a2ff6ac0bb813125",
       "version_major": 2,
       "version_minor": 0
      },
      "text/plain": [
       "Canvas(height=40, width=240)"
      ]
     },
     "metadata": {},
     "output_type": "display_data"
    },
    {
     "data": {
      "application/vnd.jupyter.widget-view+json": {
       "model_id": "bcd705910ca745e69bff2fafa19bac64",
       "version_major": 2,
       "version_minor": 0
      },
      "text/plain": [
       "Canvas(height=40, width=240)"
      ]
     },
     "metadata": {},
     "output_type": "display_data"
    }
   ],
   "source": [
    "hanoi_etapes(3)"
   ]
  },
  {
   "cell_type": "code",
   "execution_count": 23,
   "metadata": {},
   "outputs": [
    {
     "name": "stdout",
     "output_type": "stream",
     "text": [
      "Pour résoudre le problème des tours de Hanoi avec 4 disques\n"
     ]
    },
    {
     "data": {
      "application/vnd.jupyter.widget-view+json": {
       "model_id": "9c6a738826b94892a5253eade128b79e",
       "version_major": 2,
       "version_minor": 0
      },
      "text/plain": [
       "Canvas(height=50, width=300)"
      ]
     },
     "metadata": {},
     "output_type": "display_data"
    },
    {
     "name": "stdout",
     "output_type": "stream",
     "text": [
      "Il vaut faut suivre les 15 étapes suivantes :\n"
     ]
    },
    {
     "data": {
      "application/vnd.jupyter.widget-view+json": {
       "model_id": "96d520e89d484c5bbfec514951e24fa5",
       "version_major": 2,
       "version_minor": 0
      },
      "text/plain": [
       "Canvas(height=50, width=300)"
      ]
     },
     "metadata": {},
     "output_type": "display_data"
    },
    {
     "data": {
      "application/vnd.jupyter.widget-view+json": {
       "model_id": "a87a1459c39d43eeae45da60c91f1533",
       "version_major": 2,
       "version_minor": 0
      },
      "text/plain": [
       "Canvas(height=50, width=300)"
      ]
     },
     "metadata": {},
     "output_type": "display_data"
    },
    {
     "data": {
      "application/vnd.jupyter.widget-view+json": {
       "model_id": "b78ffdb184ff405fa6de864094203387",
       "version_major": 2,
       "version_minor": 0
      },
      "text/plain": [
       "Canvas(height=50, width=300)"
      ]
     },
     "metadata": {},
     "output_type": "display_data"
    },
    {
     "data": {
      "application/vnd.jupyter.widget-view+json": {
       "model_id": "a83edc473eca449fb6ee06129c88ceca",
       "version_major": 2,
       "version_minor": 0
      },
      "text/plain": [
       "Canvas(height=50, width=300)"
      ]
     },
     "metadata": {},
     "output_type": "display_data"
    },
    {
     "data": {
      "application/vnd.jupyter.widget-view+json": {
       "model_id": "757ee8a4c5184c6b9f71caff4e01057a",
       "version_major": 2,
       "version_minor": 0
      },
      "text/plain": [
       "Canvas(height=50, width=300)"
      ]
     },
     "metadata": {},
     "output_type": "display_data"
    },
    {
     "data": {
      "application/vnd.jupyter.widget-view+json": {
       "model_id": "02bed8c4cf794a4d94128a0adfcbec6c",
       "version_major": 2,
       "version_minor": 0
      },
      "text/plain": [
       "Canvas(height=50, width=300)"
      ]
     },
     "metadata": {},
     "output_type": "display_data"
    },
    {
     "data": {
      "application/vnd.jupyter.widget-view+json": {
       "model_id": "45b9cd3ac190417d96e27fb731b6ebfd",
       "version_major": 2,
       "version_minor": 0
      },
      "text/plain": [
       "Canvas(height=50, width=300)"
      ]
     },
     "metadata": {},
     "output_type": "display_data"
    },
    {
     "data": {
      "application/vnd.jupyter.widget-view+json": {
       "model_id": "b87e471d0e764b759d67b64544b5b3cc",
       "version_major": 2,
       "version_minor": 0
      },
      "text/plain": [
       "Canvas(height=50, width=300)"
      ]
     },
     "metadata": {},
     "output_type": "display_data"
    },
    {
     "data": {
      "application/vnd.jupyter.widget-view+json": {
       "model_id": "f1f59929684641bf8c7d0c401e7d7aec",
       "version_major": 2,
       "version_minor": 0
      },
      "text/plain": [
       "Canvas(height=50, width=300)"
      ]
     },
     "metadata": {},
     "output_type": "display_data"
    },
    {
     "data": {
      "application/vnd.jupyter.widget-view+json": {
       "model_id": "915adc2fab684e01a195913cb117e42f",
       "version_major": 2,
       "version_minor": 0
      },
      "text/plain": [
       "Canvas(height=50, width=300)"
      ]
     },
     "metadata": {},
     "output_type": "display_data"
    },
    {
     "data": {
      "application/vnd.jupyter.widget-view+json": {
       "model_id": "61c73074295641dc8ef759ba5d58449a",
       "version_major": 2,
       "version_minor": 0
      },
      "text/plain": [
       "Canvas(height=50, width=300)"
      ]
     },
     "metadata": {},
     "output_type": "display_data"
    },
    {
     "data": {
      "application/vnd.jupyter.widget-view+json": {
       "model_id": "6472a9e4a5124788ad8cca5e923483aa",
       "version_major": 2,
       "version_minor": 0
      },
      "text/plain": [
       "Canvas(height=50, width=300)"
      ]
     },
     "metadata": {},
     "output_type": "display_data"
    },
    {
     "data": {
      "application/vnd.jupyter.widget-view+json": {
       "model_id": "a40c6770100748ca937e77e7ba9bd70a",
       "version_major": 2,
       "version_minor": 0
      },
      "text/plain": [
       "Canvas(height=50, width=300)"
      ]
     },
     "metadata": {},
     "output_type": "display_data"
    },
    {
     "data": {
      "application/vnd.jupyter.widget-view+json": {
       "model_id": "5270eaff548c4f0bb3b77281adc61034",
       "version_major": 2,
       "version_minor": 0
      },
      "text/plain": [
       "Canvas(height=50, width=300)"
      ]
     },
     "metadata": {},
     "output_type": "display_data"
    },
    {
     "data": {
      "application/vnd.jupyter.widget-view+json": {
       "model_id": "428b0ce583ee4844b4b669ab52d2e4be",
       "version_major": 2,
       "version_minor": 0
      },
      "text/plain": [
       "Canvas(height=50, width=300)"
      ]
     },
     "metadata": {},
     "output_type": "display_data"
    }
   ],
   "source": [
    "hanoi_etapes(4)"
   ]
  },
  {
   "cell_type": "code",
   "execution_count": 34,
   "metadata": {},
   "outputs": [
    {
     "name": "stdout",
     "output_type": "stream",
     "text": [
      "Pour résoudre le problème des tours de Hanoi avec 5 disques\n"
     ]
    },
    {
     "data": {
      "application/vnd.jupyter.widget-view+json": {
       "model_id": "c452454a3c8041d1972cfecee67b61ea",
       "version_major": 2,
       "version_minor": 0
      },
      "text/plain": [
       "Canvas(height=60, width=360)"
      ]
     },
     "metadata": {},
     "output_type": "display_data"
    },
    {
     "name": "stdout",
     "output_type": "stream",
     "text": [
      "Il vaut faut suivre les 31 étapes suivantes :\n"
     ]
    },
    {
     "data": {
      "application/vnd.jupyter.widget-view+json": {
       "model_id": "98c816b800604e6fa1dfede25486a984",
       "version_major": 2,
       "version_minor": 0
      },
      "text/plain": [
       "Canvas(height=60, width=360)"
      ]
     },
     "metadata": {},
     "output_type": "display_data"
    },
    {
     "data": {
      "application/vnd.jupyter.widget-view+json": {
       "model_id": "152994b650fb4bc69e9bf7bb950b4b87",
       "version_major": 2,
       "version_minor": 0
      },
      "text/plain": [
       "Canvas(height=60, width=360)"
      ]
     },
     "metadata": {},
     "output_type": "display_data"
    },
    {
     "data": {
      "application/vnd.jupyter.widget-view+json": {
       "model_id": "16c21567c41445d799484eab8fd0852f",
       "version_major": 2,
       "version_minor": 0
      },
      "text/plain": [
       "Canvas(height=60, width=360)"
      ]
     },
     "metadata": {},
     "output_type": "display_data"
    },
    {
     "data": {
      "application/vnd.jupyter.widget-view+json": {
       "model_id": "14f49f526dcf46998368bf18cc5a127d",
       "version_major": 2,
       "version_minor": 0
      },
      "text/plain": [
       "Canvas(height=60, width=360)"
      ]
     },
     "metadata": {},
     "output_type": "display_data"
    },
    {
     "data": {
      "application/vnd.jupyter.widget-view+json": {
       "model_id": "f917e5665106418480583876e9d67317",
       "version_major": 2,
       "version_minor": 0
      },
      "text/plain": [
       "Canvas(height=60, width=360)"
      ]
     },
     "metadata": {},
     "output_type": "display_data"
    },
    {
     "data": {
      "application/vnd.jupyter.widget-view+json": {
       "model_id": "f76ce84a4ad04bbfb722be73b3688093",
       "version_major": 2,
       "version_minor": 0
      },
      "text/plain": [
       "Canvas(height=60, width=360)"
      ]
     },
     "metadata": {},
     "output_type": "display_data"
    },
    {
     "data": {
      "application/vnd.jupyter.widget-view+json": {
       "model_id": "496f86940458483eb1e7d9296e9b54c3",
       "version_major": 2,
       "version_minor": 0
      },
      "text/plain": [
       "Canvas(height=60, width=360)"
      ]
     },
     "metadata": {},
     "output_type": "display_data"
    },
    {
     "data": {
      "application/vnd.jupyter.widget-view+json": {
       "model_id": "467cd93e611146cdbeb6dfd8935a40c4",
       "version_major": 2,
       "version_minor": 0
      },
      "text/plain": [
       "Canvas(height=60, width=360)"
      ]
     },
     "metadata": {},
     "output_type": "display_data"
    },
    {
     "data": {
      "application/vnd.jupyter.widget-view+json": {
       "model_id": "a2d682a4b5864cb68c0debb51b65505a",
       "version_major": 2,
       "version_minor": 0
      },
      "text/plain": [
       "Canvas(height=60, width=360)"
      ]
     },
     "metadata": {},
     "output_type": "display_data"
    },
    {
     "data": {
      "application/vnd.jupyter.widget-view+json": {
       "model_id": "2018ae500fb845b8bdbd9291c58980b5",
       "version_major": 2,
       "version_minor": 0
      },
      "text/plain": [
       "Canvas(height=60, width=360)"
      ]
     },
     "metadata": {},
     "output_type": "display_data"
    },
    {
     "data": {
      "application/vnd.jupyter.widget-view+json": {
       "model_id": "f1fbbc9784e94177a787590fb4f07dad",
       "version_major": 2,
       "version_minor": 0
      },
      "text/plain": [
       "Canvas(height=60, width=360)"
      ]
     },
     "metadata": {},
     "output_type": "display_data"
    },
    {
     "data": {
      "application/vnd.jupyter.widget-view+json": {
       "model_id": "3957cde36acd4f4e832e3dc0e2d77565",
       "version_major": 2,
       "version_minor": 0
      },
      "text/plain": [
       "Canvas(height=60, width=360)"
      ]
     },
     "metadata": {},
     "output_type": "display_data"
    },
    {
     "data": {
      "application/vnd.jupyter.widget-view+json": {
       "model_id": "fde873b25bb04a86be508dc80c63b9b0",
       "version_major": 2,
       "version_minor": 0
      },
      "text/plain": [
       "Canvas(height=60, width=360)"
      ]
     },
     "metadata": {},
     "output_type": "display_data"
    },
    {
     "data": {
      "application/vnd.jupyter.widget-view+json": {
       "model_id": "bea19657e1ff4725ab92372ff51baf7f",
       "version_major": 2,
       "version_minor": 0
      },
      "text/plain": [
       "Canvas(height=60, width=360)"
      ]
     },
     "metadata": {},
     "output_type": "display_data"
    },
    {
     "data": {
      "application/vnd.jupyter.widget-view+json": {
       "model_id": "10335885ac3443a5aa0cf9d88c7c6f9c",
       "version_major": 2,
       "version_minor": 0
      },
      "text/plain": [
       "Canvas(height=60, width=360)"
      ]
     },
     "metadata": {},
     "output_type": "display_data"
    },
    {
     "data": {
      "application/vnd.jupyter.widget-view+json": {
       "model_id": "ff5ac06bab0b49b2b53180fc8ee123f8",
       "version_major": 2,
       "version_minor": 0
      },
      "text/plain": [
       "Canvas(height=60, width=360)"
      ]
     },
     "metadata": {},
     "output_type": "display_data"
    },
    {
     "data": {
      "application/vnd.jupyter.widget-view+json": {
       "model_id": "5879be96406943b381a9d3741176406d",
       "version_major": 2,
       "version_minor": 0
      },
      "text/plain": [
       "Canvas(height=60, width=360)"
      ]
     },
     "metadata": {},
     "output_type": "display_data"
    },
    {
     "data": {
      "application/vnd.jupyter.widget-view+json": {
       "model_id": "cbc4eb97130e4bf98c8b56f9233b43c8",
       "version_major": 2,
       "version_minor": 0
      },
      "text/plain": [
       "Canvas(height=60, width=360)"
      ]
     },
     "metadata": {},
     "output_type": "display_data"
    },
    {
     "data": {
      "application/vnd.jupyter.widget-view+json": {
       "model_id": "cad9f017f13b48a2a56dffd3bdb11423",
       "version_major": 2,
       "version_minor": 0
      },
      "text/plain": [
       "Canvas(height=60, width=360)"
      ]
     },
     "metadata": {},
     "output_type": "display_data"
    },
    {
     "data": {
      "application/vnd.jupyter.widget-view+json": {
       "model_id": "4254a1bb7e5844a08d270f1d5f4748b6",
       "version_major": 2,
       "version_minor": 0
      },
      "text/plain": [
       "Canvas(height=60, width=360)"
      ]
     },
     "metadata": {},
     "output_type": "display_data"
    },
    {
     "data": {
      "application/vnd.jupyter.widget-view+json": {
       "model_id": "e6119f0ccdf24ee6a05fb874bb8d783e",
       "version_major": 2,
       "version_minor": 0
      },
      "text/plain": [
       "Canvas(height=60, width=360)"
      ]
     },
     "metadata": {},
     "output_type": "display_data"
    },
    {
     "data": {
      "application/vnd.jupyter.widget-view+json": {
       "model_id": "c414e7449dbd458485bccaafb40eb909",
       "version_major": 2,
       "version_minor": 0
      },
      "text/plain": [
       "Canvas(height=60, width=360)"
      ]
     },
     "metadata": {},
     "output_type": "display_data"
    },
    {
     "data": {
      "application/vnd.jupyter.widget-view+json": {
       "model_id": "9500944b8caa4a5b9e9cf2c7eaac36dc",
       "version_major": 2,
       "version_minor": 0
      },
      "text/plain": [
       "Canvas(height=60, width=360)"
      ]
     },
     "metadata": {},
     "output_type": "display_data"
    },
    {
     "data": {
      "application/vnd.jupyter.widget-view+json": {
       "model_id": "49e4d721ca9546848be3ca3b189c374f",
       "version_major": 2,
       "version_minor": 0
      },
      "text/plain": [
       "Canvas(height=60, width=360)"
      ]
     },
     "metadata": {},
     "output_type": "display_data"
    },
    {
     "data": {
      "application/vnd.jupyter.widget-view+json": {
       "model_id": "6e828394043a42b3a1203f358086ee93",
       "version_major": 2,
       "version_minor": 0
      },
      "text/plain": [
       "Canvas(height=60, width=360)"
      ]
     },
     "metadata": {},
     "output_type": "display_data"
    },
    {
     "data": {
      "application/vnd.jupyter.widget-view+json": {
       "model_id": "9597b8fe51864c61aa4a5795d13777ba",
       "version_major": 2,
       "version_minor": 0
      },
      "text/plain": [
       "Canvas(height=60, width=360)"
      ]
     },
     "metadata": {},
     "output_type": "display_data"
    },
    {
     "data": {
      "application/vnd.jupyter.widget-view+json": {
       "model_id": "8f208de186084137a6cbb5382602dcc3",
       "version_major": 2,
       "version_minor": 0
      },
      "text/plain": [
       "Canvas(height=60, width=360)"
      ]
     },
     "metadata": {},
     "output_type": "display_data"
    },
    {
     "data": {
      "application/vnd.jupyter.widget-view+json": {
       "model_id": "4f5882d46b9f405ca91376398aa20a68",
       "version_major": 2,
       "version_minor": 0
      },
      "text/plain": [
       "Canvas(height=60, width=360)"
      ]
     },
     "metadata": {},
     "output_type": "display_data"
    },
    {
     "data": {
      "application/vnd.jupyter.widget-view+json": {
       "model_id": "ea342f853d1843deaba97e313f9058e8",
       "version_major": 2,
       "version_minor": 0
      },
      "text/plain": [
       "Canvas(height=60, width=360)"
      ]
     },
     "metadata": {},
     "output_type": "display_data"
    },
    {
     "data": {
      "application/vnd.jupyter.widget-view+json": {
       "model_id": "03127bb5a1b64112a03c5a54b747f565",
       "version_major": 2,
       "version_minor": 0
      },
      "text/plain": [
       "Canvas(height=60, width=360)"
      ]
     },
     "metadata": {},
     "output_type": "display_data"
    },
    {
     "data": {
      "application/vnd.jupyter.widget-view+json": {
       "model_id": "0a0505962ee04b7db0bfe279f70a50eb",
       "version_major": 2,
       "version_minor": 0
      },
      "text/plain": [
       "Canvas(height=60, width=360)"
      ]
     },
     "metadata": {},
     "output_type": "display_data"
    }
   ],
   "source": [
    "hanoi_etapes(5)"
   ]
  },
  {
   "cell_type": "code",
   "execution_count": 35,
   "metadata": {},
   "outputs": [
    {
     "name": "stdout",
     "output_type": "stream",
     "text": [
      "Pour résoudre le problème des tours de Hanoi avec 6 disques\n"
     ]
    },
    {
     "data": {
      "application/vnd.jupyter.widget-view+json": {
       "model_id": "72e167249b3e485fa06c7b72f50b97f6",
       "version_major": 2,
       "version_minor": 0
      },
      "text/plain": [
       "Canvas(height=70, width=420)"
      ]
     },
     "metadata": {},
     "output_type": "display_data"
    },
    {
     "name": "stdout",
     "output_type": "stream",
     "text": [
      "Il vaut faut suivre les 63 étapes suivantes :\n"
     ]
    },
    {
     "data": {
      "application/vnd.jupyter.widget-view+json": {
       "model_id": "02027d183a4b4245b55d57ea59bd99a1",
       "version_major": 2,
       "version_minor": 0
      },
      "text/plain": [
       "Canvas(height=70, width=420)"
      ]
     },
     "metadata": {},
     "output_type": "display_data"
    },
    {
     "data": {
      "application/vnd.jupyter.widget-view+json": {
       "model_id": "18b8b81c040b43da997ab13a25c5bdad",
       "version_major": 2,
       "version_minor": 0
      },
      "text/plain": [
       "Canvas(height=70, width=420)"
      ]
     },
     "metadata": {},
     "output_type": "display_data"
    },
    {
     "data": {
      "application/vnd.jupyter.widget-view+json": {
       "model_id": "fc7f25fbf7e7458db70482a0f667a1d1",
       "version_major": 2,
       "version_minor": 0
      },
      "text/plain": [
       "Canvas(height=70, width=420)"
      ]
     },
     "metadata": {},
     "output_type": "display_data"
    },
    {
     "data": {
      "application/vnd.jupyter.widget-view+json": {
       "model_id": "4e8fcce7ecbe42048757e8bfae2a5d09",
       "version_major": 2,
       "version_minor": 0
      },
      "text/plain": [
       "Canvas(height=70, width=420)"
      ]
     },
     "metadata": {},
     "output_type": "display_data"
    },
    {
     "data": {
      "application/vnd.jupyter.widget-view+json": {
       "model_id": "ba228930d3cb4cddbf24118604367320",
       "version_major": 2,
       "version_minor": 0
      },
      "text/plain": [
       "Canvas(height=70, width=420)"
      ]
     },
     "metadata": {},
     "output_type": "display_data"
    },
    {
     "data": {
      "application/vnd.jupyter.widget-view+json": {
       "model_id": "37d8f6ebb5894df493db38eb488b429b",
       "version_major": 2,
       "version_minor": 0
      },
      "text/plain": [
       "Canvas(height=70, width=420)"
      ]
     },
     "metadata": {},
     "output_type": "display_data"
    },
    {
     "data": {
      "application/vnd.jupyter.widget-view+json": {
       "model_id": "d954588caa0e4dd5912067102fba2fcc",
       "version_major": 2,
       "version_minor": 0
      },
      "text/plain": [
       "Canvas(height=70, width=420)"
      ]
     },
     "metadata": {},
     "output_type": "display_data"
    },
    {
     "data": {
      "application/vnd.jupyter.widget-view+json": {
       "model_id": "4b34be0fd723431f95aa4c9fea444082",
       "version_major": 2,
       "version_minor": 0
      },
      "text/plain": [
       "Canvas(height=70, width=420)"
      ]
     },
     "metadata": {},
     "output_type": "display_data"
    },
    {
     "data": {
      "application/vnd.jupyter.widget-view+json": {
       "model_id": "8152840f9b294d119ab194d3cd8f264b",
       "version_major": 2,
       "version_minor": 0
      },
      "text/plain": [
       "Canvas(height=70, width=420)"
      ]
     },
     "metadata": {},
     "output_type": "display_data"
    },
    {
     "data": {
      "application/vnd.jupyter.widget-view+json": {
       "model_id": "66ca0419274341e9af11b39d11fb0b60",
       "version_major": 2,
       "version_minor": 0
      },
      "text/plain": [
       "Canvas(height=70, width=420)"
      ]
     },
     "metadata": {},
     "output_type": "display_data"
    },
    {
     "data": {
      "application/vnd.jupyter.widget-view+json": {
       "model_id": "917aa64a08c34845a69b4cceeb7485dd",
       "version_major": 2,
       "version_minor": 0
      },
      "text/plain": [
       "Canvas(height=70, width=420)"
      ]
     },
     "metadata": {},
     "output_type": "display_data"
    },
    {
     "data": {
      "application/vnd.jupyter.widget-view+json": {
       "model_id": "941595c162994d0bb2d9a9f679b27b29",
       "version_major": 2,
       "version_minor": 0
      },
      "text/plain": [
       "Canvas(height=70, width=420)"
      ]
     },
     "metadata": {},
     "output_type": "display_data"
    },
    {
     "data": {
      "application/vnd.jupyter.widget-view+json": {
       "model_id": "44fc0fa791de446296c25854bfd807bc",
       "version_major": 2,
       "version_minor": 0
      },
      "text/plain": [
       "Canvas(height=70, width=420)"
      ]
     },
     "metadata": {},
     "output_type": "display_data"
    },
    {
     "data": {
      "application/vnd.jupyter.widget-view+json": {
       "model_id": "0800c57d15db4f95b36f206338ce3bbe",
       "version_major": 2,
       "version_minor": 0
      },
      "text/plain": [
       "Canvas(height=70, width=420)"
      ]
     },
     "metadata": {},
     "output_type": "display_data"
    },
    {
     "data": {
      "application/vnd.jupyter.widget-view+json": {
       "model_id": "81a84d5964304ffd9f4580a8049b67d5",
       "version_major": 2,
       "version_minor": 0
      },
      "text/plain": [
       "Canvas(height=70, width=420)"
      ]
     },
     "metadata": {},
     "output_type": "display_data"
    },
    {
     "data": {
      "application/vnd.jupyter.widget-view+json": {
       "model_id": "398eb958ee9b4f7ba2e6e81db15b3c5d",
       "version_major": 2,
       "version_minor": 0
      },
      "text/plain": [
       "Canvas(height=70, width=420)"
      ]
     },
     "metadata": {},
     "output_type": "display_data"
    },
    {
     "data": {
      "application/vnd.jupyter.widget-view+json": {
       "model_id": "4bc57dc508d04b51a6f794925bdbeaee",
       "version_major": 2,
       "version_minor": 0
      },
      "text/plain": [
       "Canvas(height=70, width=420)"
      ]
     },
     "metadata": {},
     "output_type": "display_data"
    },
    {
     "data": {
      "application/vnd.jupyter.widget-view+json": {
       "model_id": "0df2162b24e140ea93822fe39072422a",
       "version_major": 2,
       "version_minor": 0
      },
      "text/plain": [
       "Canvas(height=70, width=420)"
      ]
     },
     "metadata": {},
     "output_type": "display_data"
    },
    {
     "data": {
      "application/vnd.jupyter.widget-view+json": {
       "model_id": "92f4892ce5394c33a38f1fe3f9c05129",
       "version_major": 2,
       "version_minor": 0
      },
      "text/plain": [
       "Canvas(height=70, width=420)"
      ]
     },
     "metadata": {},
     "output_type": "display_data"
    },
    {
     "data": {
      "application/vnd.jupyter.widget-view+json": {
       "model_id": "28b66c4aa10a4d70932b76ef346443b5",
       "version_major": 2,
       "version_minor": 0
      },
      "text/plain": [
       "Canvas(height=70, width=420)"
      ]
     },
     "metadata": {},
     "output_type": "display_data"
    },
    {
     "data": {
      "application/vnd.jupyter.widget-view+json": {
       "model_id": "93a5ea8d25524fc683e385431b7cd681",
       "version_major": 2,
       "version_minor": 0
      },
      "text/plain": [
       "Canvas(height=70, width=420)"
      ]
     },
     "metadata": {},
     "output_type": "display_data"
    },
    {
     "data": {
      "application/vnd.jupyter.widget-view+json": {
       "model_id": "eeeca4cb1df74a749d8ff1df390a4c25",
       "version_major": 2,
       "version_minor": 0
      },
      "text/plain": [
       "Canvas(height=70, width=420)"
      ]
     },
     "metadata": {},
     "output_type": "display_data"
    },
    {
     "data": {
      "application/vnd.jupyter.widget-view+json": {
       "model_id": "3a1d52656d274c6eb9b1dfd3ac22f2a4",
       "version_major": 2,
       "version_minor": 0
      },
      "text/plain": [
       "Canvas(height=70, width=420)"
      ]
     },
     "metadata": {},
     "output_type": "display_data"
    },
    {
     "data": {
      "application/vnd.jupyter.widget-view+json": {
       "model_id": "0562ba71a75d4bb28c275fe6df6b0473",
       "version_major": 2,
       "version_minor": 0
      },
      "text/plain": [
       "Canvas(height=70, width=420)"
      ]
     },
     "metadata": {},
     "output_type": "display_data"
    },
    {
     "data": {
      "application/vnd.jupyter.widget-view+json": {
       "model_id": "7455a7aa1ca54a92aec8c3a4ffe3fd80",
       "version_major": 2,
       "version_minor": 0
      },
      "text/plain": [
       "Canvas(height=70, width=420)"
      ]
     },
     "metadata": {},
     "output_type": "display_data"
    },
    {
     "data": {
      "application/vnd.jupyter.widget-view+json": {
       "model_id": "806a5d911e2e4b6b813226138a0c94ec",
       "version_major": 2,
       "version_minor": 0
      },
      "text/plain": [
       "Canvas(height=70, width=420)"
      ]
     },
     "metadata": {},
     "output_type": "display_data"
    },
    {
     "data": {
      "application/vnd.jupyter.widget-view+json": {
       "model_id": "5132a4804a9d49ceb67b247aade3f88d",
       "version_major": 2,
       "version_minor": 0
      },
      "text/plain": [
       "Canvas(height=70, width=420)"
      ]
     },
     "metadata": {},
     "output_type": "display_data"
    },
    {
     "data": {
      "application/vnd.jupyter.widget-view+json": {
       "model_id": "bffd58eacb76419ca950b7e220de02a6",
       "version_major": 2,
       "version_minor": 0
      },
      "text/plain": [
       "Canvas(height=70, width=420)"
      ]
     },
     "metadata": {},
     "output_type": "display_data"
    },
    {
     "data": {
      "application/vnd.jupyter.widget-view+json": {
       "model_id": "c2e5808566ce4e2180b3ab44dc22205a",
       "version_major": 2,
       "version_minor": 0
      },
      "text/plain": [
       "Canvas(height=70, width=420)"
      ]
     },
     "metadata": {},
     "output_type": "display_data"
    },
    {
     "data": {
      "application/vnd.jupyter.widget-view+json": {
       "model_id": "d96aa046296644c18f585118f1ada709",
       "version_major": 2,
       "version_minor": 0
      },
      "text/plain": [
       "Canvas(height=70, width=420)"
      ]
     },
     "metadata": {},
     "output_type": "display_data"
    },
    {
     "data": {
      "application/vnd.jupyter.widget-view+json": {
       "model_id": "03bd476672f348cea9c2af6d619dbe0d",
       "version_major": 2,
       "version_minor": 0
      },
      "text/plain": [
       "Canvas(height=70, width=420)"
      ]
     },
     "metadata": {},
     "output_type": "display_data"
    },
    {
     "data": {
      "application/vnd.jupyter.widget-view+json": {
       "model_id": "aa5254e602224b6fa92d6241406fc49a",
       "version_major": 2,
       "version_minor": 0
      },
      "text/plain": [
       "Canvas(height=70, width=420)"
      ]
     },
     "metadata": {},
     "output_type": "display_data"
    },
    {
     "data": {
      "application/vnd.jupyter.widget-view+json": {
       "model_id": "6daaacb65e0d400ab7f5f113df4573b6",
       "version_major": 2,
       "version_minor": 0
      },
      "text/plain": [
       "Canvas(height=70, width=420)"
      ]
     },
     "metadata": {},
     "output_type": "display_data"
    },
    {
     "data": {
      "application/vnd.jupyter.widget-view+json": {
       "model_id": "c0f708e2d6b54d9fbfda697b7b1d6fa6",
       "version_major": 2,
       "version_minor": 0
      },
      "text/plain": [
       "Canvas(height=70, width=420)"
      ]
     },
     "metadata": {},
     "output_type": "display_data"
    },
    {
     "data": {
      "application/vnd.jupyter.widget-view+json": {
       "model_id": "0500ed5b8b4e4fa9ac2f1494be3cf00e",
       "version_major": 2,
       "version_minor": 0
      },
      "text/plain": [
       "Canvas(height=70, width=420)"
      ]
     },
     "metadata": {},
     "output_type": "display_data"
    },
    {
     "data": {
      "application/vnd.jupyter.widget-view+json": {
       "model_id": "11d86aa61985449aa733202bb485a72c",
       "version_major": 2,
       "version_minor": 0
      },
      "text/plain": [
       "Canvas(height=70, width=420)"
      ]
     },
     "metadata": {},
     "output_type": "display_data"
    },
    {
     "data": {
      "application/vnd.jupyter.widget-view+json": {
       "model_id": "69225a0188c5439f87cf4029486d9d97",
       "version_major": 2,
       "version_minor": 0
      },
      "text/plain": [
       "Canvas(height=70, width=420)"
      ]
     },
     "metadata": {},
     "output_type": "display_data"
    },
    {
     "data": {
      "application/vnd.jupyter.widget-view+json": {
       "model_id": "7f4ea77a87ba40a09d84f78069f6c2b6",
       "version_major": 2,
       "version_minor": 0
      },
      "text/plain": [
       "Canvas(height=70, width=420)"
      ]
     },
     "metadata": {},
     "output_type": "display_data"
    },
    {
     "data": {
      "application/vnd.jupyter.widget-view+json": {
       "model_id": "48907ddc898a479ba1f4af24dc7cf8ea",
       "version_major": 2,
       "version_minor": 0
      },
      "text/plain": [
       "Canvas(height=70, width=420)"
      ]
     },
     "metadata": {},
     "output_type": "display_data"
    },
    {
     "data": {
      "application/vnd.jupyter.widget-view+json": {
       "model_id": "a2421ee0246d4123a83364d7629411a1",
       "version_major": 2,
       "version_minor": 0
      },
      "text/plain": [
       "Canvas(height=70, width=420)"
      ]
     },
     "metadata": {},
     "output_type": "display_data"
    },
    {
     "data": {
      "application/vnd.jupyter.widget-view+json": {
       "model_id": "a1f9c4c8eff04bf9bc8696ea61cd66c9",
       "version_major": 2,
       "version_minor": 0
      },
      "text/plain": [
       "Canvas(height=70, width=420)"
      ]
     },
     "metadata": {},
     "output_type": "display_data"
    },
    {
     "data": {
      "application/vnd.jupyter.widget-view+json": {
       "model_id": "8c9f0473642848bc95e1b670314cfdfb",
       "version_major": 2,
       "version_minor": 0
      },
      "text/plain": [
       "Canvas(height=70, width=420)"
      ]
     },
     "metadata": {},
     "output_type": "display_data"
    },
    {
     "data": {
      "application/vnd.jupyter.widget-view+json": {
       "model_id": "91cee082783c4db6a4f5f4967a43156f",
       "version_major": 2,
       "version_minor": 0
      },
      "text/plain": [
       "Canvas(height=70, width=420)"
      ]
     },
     "metadata": {},
     "output_type": "display_data"
    },
    {
     "data": {
      "application/vnd.jupyter.widget-view+json": {
       "model_id": "698012de5edf4171a4608d5a72baa78a",
       "version_major": 2,
       "version_minor": 0
      },
      "text/plain": [
       "Canvas(height=70, width=420)"
      ]
     },
     "metadata": {},
     "output_type": "display_data"
    },
    {
     "data": {
      "application/vnd.jupyter.widget-view+json": {
       "model_id": "0460576b437546408473f832deecece3",
       "version_major": 2,
       "version_minor": 0
      },
      "text/plain": [
       "Canvas(height=70, width=420)"
      ]
     },
     "metadata": {},
     "output_type": "display_data"
    },
    {
     "data": {
      "application/vnd.jupyter.widget-view+json": {
       "model_id": "0c27a65c62a54e958b05487e309d068c",
       "version_major": 2,
       "version_minor": 0
      },
      "text/plain": [
       "Canvas(height=70, width=420)"
      ]
     },
     "metadata": {},
     "output_type": "display_data"
    },
    {
     "data": {
      "application/vnd.jupyter.widget-view+json": {
       "model_id": "439da0af594b4dfd80d1101da287e9a5",
       "version_major": 2,
       "version_minor": 0
      },
      "text/plain": [
       "Canvas(height=70, width=420)"
      ]
     },
     "metadata": {},
     "output_type": "display_data"
    },
    {
     "data": {
      "application/vnd.jupyter.widget-view+json": {
       "model_id": "bee06a7b11634149a7f4834cb18b11a1",
       "version_major": 2,
       "version_minor": 0
      },
      "text/plain": [
       "Canvas(height=70, width=420)"
      ]
     },
     "metadata": {},
     "output_type": "display_data"
    },
    {
     "data": {
      "application/vnd.jupyter.widget-view+json": {
       "model_id": "8e2f7c901ede412195aac87b9867fe7b",
       "version_major": 2,
       "version_minor": 0
      },
      "text/plain": [
       "Canvas(height=70, width=420)"
      ]
     },
     "metadata": {},
     "output_type": "display_data"
    },
    {
     "data": {
      "application/vnd.jupyter.widget-view+json": {
       "model_id": "b35ebfe458584556a447a9622c08b074",
       "version_major": 2,
       "version_minor": 0
      },
      "text/plain": [
       "Canvas(height=70, width=420)"
      ]
     },
     "metadata": {},
     "output_type": "display_data"
    },
    {
     "data": {
      "application/vnd.jupyter.widget-view+json": {
       "model_id": "0815ebea094744acb847085ec3f9e22c",
       "version_major": 2,
       "version_minor": 0
      },
      "text/plain": [
       "Canvas(height=70, width=420)"
      ]
     },
     "metadata": {},
     "output_type": "display_data"
    },
    {
     "data": {
      "application/vnd.jupyter.widget-view+json": {
       "model_id": "2d65133d40a84daf849f207d90253984",
       "version_major": 2,
       "version_minor": 0
      },
      "text/plain": [
       "Canvas(height=70, width=420)"
      ]
     },
     "metadata": {},
     "output_type": "display_data"
    },
    {
     "data": {
      "application/vnd.jupyter.widget-view+json": {
       "model_id": "c674aff0b51e4410a1374a001409737a",
       "version_major": 2,
       "version_minor": 0
      },
      "text/plain": [
       "Canvas(height=70, width=420)"
      ]
     },
     "metadata": {},
     "output_type": "display_data"
    },
    {
     "data": {
      "application/vnd.jupyter.widget-view+json": {
       "model_id": "28fd956ffb064fbcb99837f03fc550e4",
       "version_major": 2,
       "version_minor": 0
      },
      "text/plain": [
       "Canvas(height=70, width=420)"
      ]
     },
     "metadata": {},
     "output_type": "display_data"
    },
    {
     "data": {
      "application/vnd.jupyter.widget-view+json": {
       "model_id": "3a20143460cc4cf0a934870bc8f99a04",
       "version_major": 2,
       "version_minor": 0
      },
      "text/plain": [
       "Canvas(height=70, width=420)"
      ]
     },
     "metadata": {},
     "output_type": "display_data"
    },
    {
     "data": {
      "application/vnd.jupyter.widget-view+json": {
       "model_id": "607b9002ae4a4880b18a71c441684456",
       "version_major": 2,
       "version_minor": 0
      },
      "text/plain": [
       "Canvas(height=70, width=420)"
      ]
     },
     "metadata": {},
     "output_type": "display_data"
    },
    {
     "data": {
      "application/vnd.jupyter.widget-view+json": {
       "model_id": "8feb52bfa7424f22becfb44f0cd8c35d",
       "version_major": 2,
       "version_minor": 0
      },
      "text/plain": [
       "Canvas(height=70, width=420)"
      ]
     },
     "metadata": {},
     "output_type": "display_data"
    },
    {
     "data": {
      "application/vnd.jupyter.widget-view+json": {
       "model_id": "3e8b3abc46a34d82b898c20a825b0156",
       "version_major": 2,
       "version_minor": 0
      },
      "text/plain": [
       "Canvas(height=70, width=420)"
      ]
     },
     "metadata": {},
     "output_type": "display_data"
    },
    {
     "data": {
      "application/vnd.jupyter.widget-view+json": {
       "model_id": "8b9602cf19e949ea8f651edbe36f4109",
       "version_major": 2,
       "version_minor": 0
      },
      "text/plain": [
       "Canvas(height=70, width=420)"
      ]
     },
     "metadata": {},
     "output_type": "display_data"
    },
    {
     "data": {
      "application/vnd.jupyter.widget-view+json": {
       "model_id": "5b310c3ad48941b3a632b24c544de659",
       "version_major": 2,
       "version_minor": 0
      },
      "text/plain": [
       "Canvas(height=70, width=420)"
      ]
     },
     "metadata": {},
     "output_type": "display_data"
    },
    {
     "data": {
      "application/vnd.jupyter.widget-view+json": {
       "model_id": "bfa790ef18d6402cbe8299ca0bcc6dad",
       "version_major": 2,
       "version_minor": 0
      },
      "text/plain": [
       "Canvas(height=70, width=420)"
      ]
     },
     "metadata": {},
     "output_type": "display_data"
    },
    {
     "data": {
      "application/vnd.jupyter.widget-view+json": {
       "model_id": "cb7e90e72d90449699fb527bfb9ac322",
       "version_major": 2,
       "version_minor": 0
      },
      "text/plain": [
       "Canvas(height=70, width=420)"
      ]
     },
     "metadata": {},
     "output_type": "display_data"
    },
    {
     "data": {
      "application/vnd.jupyter.widget-view+json": {
       "model_id": "ab9163f5d8604377989290a8fcaa48a6",
       "version_major": 2,
       "version_minor": 0
      },
      "text/plain": [
       "Canvas(height=70, width=420)"
      ]
     },
     "metadata": {},
     "output_type": "display_data"
    }
   ],
   "source": [
    "hanoi_etapes(6)"
   ]
  }
 ],
 "metadata": {
  "kernelspec": {
   "display_name": "Python 3",
   "language": "python",
   "name": "python3"
  },
  "language_info": {
   "codemirror_mode": {
    "name": "ipython",
    "version": 3
   },
   "file_extension": ".py",
   "mimetype": "text/x-python",
   "name": "python",
   "nbconvert_exporter": "python",
   "pygments_lexer": "ipython3",
   "version": "3.8.13 (default, Oct  4 2022, 14:00:32) \n[GCC 9.4.0]"
  },
  "toc": {
   "base_numbering": 1,
   "nav_menu": {},
   "number_sections": true,
   "sideBar": true,
   "skip_h1_title": false,
   "title_cell": "Table of Contents",
   "title_sidebar": "Contents",
   "toc_cell": false,
   "toc_position": {},
   "toc_section_display": true,
   "toc_window_display": false
  },
  "varInspector": {
   "cols": {
    "lenName": 16,
    "lenType": 16,
    "lenVar": 40
   },
   "kernels_config": {
    "python": {
     "delete_cmd_postfix": "",
     "delete_cmd_prefix": "del ",
     "library": "var_list.py",
     "varRefreshCmd": "print(var_dic_list())"
    },
    "r": {
     "delete_cmd_postfix": ") ",
     "delete_cmd_prefix": "rm(",
     "library": "var_list.r",
     "varRefreshCmd": "cat(var_dic_list()) "
    }
   },
   "types_to_exclude": [
    "module",
    "function",
    "builtin_function_or_method",
    "instance",
    "_Feature"
   ],
   "window_display": false
  },
  "vscode": {
   "interpreter": {
    "hash": "9ac03a0a6051494cc606d484d27d20fce22fb7b4d169f583271e11d5ba46a56e"
   }
  }
 },
 "nbformat": 4,
 "nbformat_minor": 4
}
