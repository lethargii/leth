{
 "cells": [
  {
   "attachments": {},
   "cell_type": "markdown",
   "metadata": {},
   "source": [
    "# Sujet n°37"
   ]
  },
  {
   "attachments": {},
   "cell_type": "markdown",
   "metadata": {},
   "source": [
    "## Exercice 1"
   ]
  },
  {
   "cell_type": "code",
   "execution_count": 9,
   "metadata": {},
   "outputs": [],
   "source": [
    "def recherche(elt : int, tab : list) -> int:\n",
    "    \"\"\" ==================================================================================================================\n",
    "        \n",
    "        * Description :\n",
    "            Fonction renvoyant l'indice de la dernière occurence de elt dans tab ou -1 si elt n'est pas dans tab.\n",
    "\n",
    "        * Exemple :\n",
    "            >>> recherche(1, [2, 3, 4])\n",
    "            -1\n",
    "\n",
    "        * Préconditions :\n",
    "            - elt(int) : L'entier recherché dans tab.\n",
    "            - tab(list) : Le tableau dans lequel on recherche elt.\n",
    "\n",
    "        * Postconditions :\n",
    "            (int) : L'indice de la dernière occurence de elt dans tab.\n",
    "\n",
    "        ==================================================================================================================\n",
    "    \"\"\"\n",
    "    assert type(elt) == int, 'elt doit être un entier'\n",
    "    assert type(tab) == list, 'tab doit être un tableau'\n",
    "    indice = -1\n",
    "    for i in range(len(tab)):\n",
    "        if tab[i] == elt:\n",
    "            indice = i\n",
    "    return indice"
   ]
  },
  {
   "cell_type": "code",
   "execution_count": 11,
   "metadata": {},
   "outputs": [
    {
     "ename": "AssertionError",
     "evalue": "elt doit être un entier",
     "output_type": "error",
     "traceback": [
      "\u001b[0;31m---------------------------------------------------------------------------\u001b[0m",
      "\u001b[0;31mAssertionError\u001b[0m                            Traceback (most recent call last)",
      "Cell \u001b[0;32mIn[11], line 1\u001b[0m\n\u001b[0;32m----> 1\u001b[0m recherche(\u001b[39m0.5\u001b[39;49m, [\u001b[39m1\u001b[39;49m, \u001b[39m2\u001b[39;49m, \u001b[39m3\u001b[39;49m])\n",
      "Cell \u001b[0;32mIn[9], line 20\u001b[0m, in \u001b[0;36mrecherche\u001b[0;34m(elt, tab)\u001b[0m\n\u001b[1;32m      1\u001b[0m \u001b[39mdef\u001b[39;00m \u001b[39mrecherche\u001b[39m(elt : \u001b[39mint\u001b[39m, tab : \u001b[39mlist\u001b[39m) \u001b[39m-\u001b[39m\u001b[39m>\u001b[39m \u001b[39mint\u001b[39m:\n\u001b[1;32m      2\u001b[0m     \u001b[39m\"\"\" ==================================================================================================================\u001b[39;00m\n\u001b[1;32m      3\u001b[0m \u001b[39m        \u001b[39;00m\n\u001b[1;32m      4\u001b[0m \u001b[39m        * Description :\u001b[39;00m\n\u001b[0;32m   (...)\u001b[0m\n\u001b[1;32m     18\u001b[0m \u001b[39m        ==================================================================================================================\u001b[39;00m\n\u001b[1;32m     19\u001b[0m \u001b[39m    \"\"\"\u001b[39;00m\n\u001b[0;32m---> 20\u001b[0m     \u001b[39massert\u001b[39;00m \u001b[39mtype\u001b[39m(elt) \u001b[39m==\u001b[39m \u001b[39mint\u001b[39m, \u001b[39m'\u001b[39m\u001b[39melt doit être un entier\u001b[39m\u001b[39m'\u001b[39m\n\u001b[1;32m     21\u001b[0m     \u001b[39massert\u001b[39;00m \u001b[39mtype\u001b[39m(tab) \u001b[39m==\u001b[39m \u001b[39mlist\u001b[39m, \u001b[39m'\u001b[39m\u001b[39mtab doit être un tableau\u001b[39m\u001b[39m'\u001b[39m\n\u001b[1;32m     22\u001b[0m     indice \u001b[39m=\u001b[39m \u001b[39m-\u001b[39m\u001b[39m1\u001b[39m\n",
      "\u001b[0;31mAssertionError\u001b[0m: elt doit être un entier"
     ]
    }
   ],
   "source": [
    "recherche(0.5, [1, 2, 3])"
   ]
  },
  {
   "cell_type": "code",
   "execution_count": 12,
   "metadata": {},
   "outputs": [
    {
     "ename": "AssertionError",
     "evalue": "tab doit être un tableau",
     "output_type": "error",
     "traceback": [
      "\u001b[0;31m---------------------------------------------------------------------------\u001b[0m",
      "\u001b[0;31mAssertionError\u001b[0m                            Traceback (most recent call last)",
      "Cell \u001b[0;32mIn[12], line 1\u001b[0m\n\u001b[0;32m----> 1\u001b[0m recherche(\u001b[39m1\u001b[39;49m, (\u001b[39m1\u001b[39;49m, \u001b[39m2\u001b[39;49m))\n",
      "Cell \u001b[0;32mIn[9], line 21\u001b[0m, in \u001b[0;36mrecherche\u001b[0;34m(elt, tab)\u001b[0m\n\u001b[1;32m      2\u001b[0m \u001b[39m\"\"\" ==================================================================================================================\u001b[39;00m\n\u001b[1;32m      3\u001b[0m \u001b[39m    \u001b[39;00m\n\u001b[1;32m      4\u001b[0m \u001b[39m    * Description :\u001b[39;00m\n\u001b[0;32m   (...)\u001b[0m\n\u001b[1;32m     18\u001b[0m \u001b[39m    ==================================================================================================================\u001b[39;00m\n\u001b[1;32m     19\u001b[0m \u001b[39m\"\"\"\u001b[39;00m\n\u001b[1;32m     20\u001b[0m \u001b[39massert\u001b[39;00m \u001b[39mtype\u001b[39m(elt) \u001b[39m==\u001b[39m \u001b[39mint\u001b[39m, \u001b[39m'\u001b[39m\u001b[39melt doit être un entier\u001b[39m\u001b[39m'\u001b[39m\n\u001b[0;32m---> 21\u001b[0m \u001b[39massert\u001b[39;00m \u001b[39mtype\u001b[39m(tab) \u001b[39m==\u001b[39m \u001b[39mlist\u001b[39m, \u001b[39m'\u001b[39m\u001b[39mtab doit être un tableau\u001b[39m\u001b[39m'\u001b[39m\n\u001b[1;32m     22\u001b[0m indice \u001b[39m=\u001b[39m \u001b[39m-\u001b[39m\u001b[39m1\u001b[39m\n\u001b[1;32m     23\u001b[0m \u001b[39mfor\u001b[39;00m i \u001b[39min\u001b[39;00m \u001b[39mrange\u001b[39m(\u001b[39mlen\u001b[39m(tab)):\n",
      "\u001b[0;31mAssertionError\u001b[0m: tab doit être un tableau"
     ]
    }
   ],
   "source": [
    "recherche(1, (1, 2))"
   ]
  },
  {
   "cell_type": "code",
   "execution_count": 10,
   "metadata": {},
   "outputs": [
    {
     "data": {
      "text/plain": [
       "-1"
      ]
     },
     "execution_count": 10,
     "metadata": {},
     "output_type": "execute_result"
    }
   ],
   "source": [
    "recherche(1, [2, 3, 4])"
   ]
  },
  {
   "cell_type": "code",
   "execution_count": 4,
   "metadata": {},
   "outputs": [
    {
     "data": {
      "text/plain": [
       "2"
      ]
     },
     "execution_count": 4,
     "metadata": {},
     "output_type": "execute_result"
    }
   ],
   "source": [
    "recherche(1, [10, 12, 1, 56])"
   ]
  },
  {
   "cell_type": "code",
   "execution_count": 5,
   "metadata": {},
   "outputs": [
    {
     "data": {
      "text/plain": [
       "0"
      ]
     },
     "execution_count": 5,
     "metadata": {},
     "output_type": "execute_result"
    }
   ],
   "source": [
    "recherche(1, [1, 0, 42, 7])"
   ]
  },
  {
   "cell_type": "code",
   "execution_count": 7,
   "metadata": {},
   "outputs": [
    {
     "data": {
      "text/plain": [
       "2"
      ]
     },
     "execution_count": 7,
     "metadata": {},
     "output_type": "execute_result"
    }
   ],
   "source": [
    "recherche(1, [1, 50, 1])"
   ]
  },
  {
   "cell_type": "code",
   "execution_count": 8,
   "metadata": {},
   "outputs": [
    {
     "data": {
      "text/plain": [
       "5"
      ]
     },
     "execution_count": 8,
     "metadata": {},
     "output_type": "execute_result"
    }
   ],
   "source": [
    "recherche(1, [8, 1, 10, 1, 7, 1, 8])"
   ]
  },
  {
   "attachments": {},
   "cell_type": "markdown",
   "metadata": {},
   "source": [
    "## Exercice 2"
   ]
  },
  {
   "cell_type": "code",
   "execution_count": 28,
   "metadata": {},
   "outputs": [],
   "source": [
    "class AdresseIP:\n",
    "\n",
    "    def __init__(self, adresse):\n",
    "        self.adresse = adresse\n",
    "   \n",
    "    def liste_octet(self):\n",
    "        \"\"\"renvoie une liste de nombres entiers,\n",
    "           la liste des octets de l'adresse IP\"\"\"\n",
    "        return [int(i) for i in self.adresse.split(\".\")] \n",
    "        \n",
    "    def est_reservee(self):\n",
    "        \"\"\"renvoie True si l'adresse IP est une adresse\n",
    "           reservee, False sinon\"\"\"\n",
    "        return self.liste_octet()[-1] == 0 or self.liste_octet()[-1] == 255\n",
    "             \n",
    "    def adresse_suivante(self):\n",
    "        \"\"\"renvoie un objet de AdresseIP avec l'adresse \n",
    "           IP qui suit l'adresse self\n",
    "           si elle existe et False sinon\"\"\"\n",
    "        if self.liste_octet()[-1] < 254:\n",
    "            octet_nouveau = self.liste_octet()[-1] + 1\n",
    "            return AdresseIP('192.168.0.' + str(octet_nouveau))\n",
    "        else:\n",
    "            return False"
   ]
  },
  {
   "cell_type": "code",
   "execution_count": 29,
   "metadata": {},
   "outputs": [],
   "source": [
    "adresse1 = AdresseIP('192.168.0.1')\n",
    "adresse2 = AdresseIP('192.168.0.2')\n",
    "adresse3 = AdresseIP('192.168.0.0')"
   ]
  },
  {
   "cell_type": "code",
   "execution_count": 30,
   "metadata": {},
   "outputs": [
    {
     "data": {
      "text/plain": [
       "False"
      ]
     },
     "execution_count": 30,
     "metadata": {},
     "output_type": "execute_result"
    }
   ],
   "source": [
    "adresse1.est_reservee()"
   ]
  },
  {
   "cell_type": "code",
   "execution_count": 31,
   "metadata": {},
   "outputs": [
    {
     "data": {
      "text/plain": [
       "True"
      ]
     },
     "execution_count": 31,
     "metadata": {},
     "output_type": "execute_result"
    }
   ],
   "source": [
    "adresse3.est_reservee()"
   ]
  },
  {
   "cell_type": "code",
   "execution_count": 32,
   "metadata": {},
   "outputs": [
    {
     "data": {
      "text/plain": [
       "'192.168.0.3'"
      ]
     },
     "execution_count": 32,
     "metadata": {},
     "output_type": "execute_result"
    }
   ],
   "source": [
    "adresse2.adresse_suivante().adresse"
   ]
  },
  {
   "attachments": {},
   "cell_type": "markdown",
   "metadata": {},
   "source": [
    "# Sujet n°38"
   ]
  },
  {
   "attachments": {},
   "cell_type": "markdown",
   "metadata": {},
   "source": [
    "## Exercice 1"
   ]
  },
  {
   "cell_type": "code",
   "execution_count": 34,
   "metadata": {},
   "outputs": [],
   "source": [
    "def correspond(mot : str, mot_a_trous : str) -> bool:\n",
    "    \"\"\" ==================================================================================================================\n",
    "        \n",
    "        * Description :\n",
    "            Fonction renvoyant True si on peut remplacer les '*' dans mot_a_trous pour former le mot et False sinon.\n",
    "\n",
    "        * Exemple :\n",
    "            >>> correspond('INFORMATIQUE', 'INFO*MA*IQUE')\n",
    "            True\n",
    "\n",
    "        * Préconditions :\n",
    "            - mot(str) : La chaîne de caractères que l'on va essayer de former avec mot_a_trous.\n",
    "            - mot_a_trous(str) : La chaîne de caractères que l'on va essayer de compléter pour former mot.\n",
    "\n",
    "        * Postconditions :\n",
    "            (bool) : True si il est possible de former mot avec mot_a_trous et False sinon\n",
    "\n",
    "        ==================================================================================================================\n",
    "    \"\"\"\n",
    "    assert type(mot) == str, 'mot doit être une chaîne de caractères'\n",
    "    assert type(mot_a_trous) == str, 'mot_a_trous doit être une chaîne de caractères'\n",
    "    if len(mot) != len(mot_a_trous):\n",
    "        return False\n",
    "    for i in range(len(mot_a_trous)):\n",
    "        if not (mot_a_trous[i] == mot[i] or mot_a_trous[i] == '*'):\n",
    "            return False\n",
    "    return True"
   ]
  },
  {
   "cell_type": "code",
   "execution_count": 35,
   "metadata": {},
   "outputs": [
    {
     "data": {
      "text/plain": [
       "True"
      ]
     },
     "execution_count": 35,
     "metadata": {},
     "output_type": "execute_result"
    }
   ],
   "source": [
    "correspond('INFORMATIQUE', 'INFO*MA*IQUE')"
   ]
  },
  {
   "cell_type": "code",
   "execution_count": 36,
   "metadata": {},
   "outputs": [
    {
     "data": {
      "text/plain": [
       "False"
      ]
     },
     "execution_count": 36,
     "metadata": {},
     "output_type": "execute_result"
    }
   ],
   "source": [
    "correspond('AUTOMATIQUE', 'INFO*MA*IQUE')"
   ]
  },
  {
   "cell_type": "code",
   "execution_count": 37,
   "metadata": {},
   "outputs": [
    {
     "data": {
      "text/plain": [
       "False"
      ]
     },
     "execution_count": 37,
     "metadata": {},
     "output_type": "execute_result"
    }
   ],
   "source": [
    "correspond('STOP', 'S*')"
   ]
  },
  {
   "cell_type": "code",
   "execution_count": 38,
   "metadata": {},
   "outputs": [
    {
     "data": {
      "text/plain": [
       "True"
      ]
     },
     "execution_count": 38,
     "metadata": {},
     "output_type": "execute_result"
    }
   ],
   "source": [
    "correspond('AUTO', '*UT*')"
   ]
  },
  {
   "attachments": {},
   "cell_type": "markdown",
   "metadata": {},
   "source": [
    "## Exercice 2"
   ]
  },
  {
   "cell_type": "code",
   "execution_count": 19,
   "metadata": {},
   "outputs": [],
   "source": [
    "def est_cyclique(plan):\n",
    "    '''\n",
    "    Prend en paramètre un dictionnaire `plan` correspondant à un plan d'envoi de messages (ici entre les personnes A, B, C, D, E, F).\n",
    "    Renvoie True si le plan d'envoi de messages est cyclique et False sinon.\n",
    "    '''\n",
    "    expediteur = 'A'\n",
    "    destinataire = plan[expediteur]\n",
    "    nb_destinaires = 1\n",
    "    \n",
    "    while destinataire != expediteur:\n",
    "        destinataire = plan[destinataire]\n",
    "        nb_destinaires += 1\n",
    "\n",
    "    return nb_destinaires == len(plan)"
   ]
  },
  {
   "cell_type": "code",
   "execution_count": 24,
   "metadata": {},
   "outputs": [
    {
     "data": {
      "text/plain": [
       "False"
      ]
     },
     "execution_count": 24,
     "metadata": {},
     "output_type": "execute_result"
    }
   ],
   "source": [
    "est_cyclique({'A':'E', 'F':'A', 'C':'D', 'E':'B', 'B':'F', 'D':'C'})"
   ]
  },
  {
   "cell_type": "code",
   "execution_count": 25,
   "metadata": {},
   "outputs": [
    {
     "data": {
      "text/plain": [
       "True"
      ]
     },
     "execution_count": 25,
     "metadata": {},
     "output_type": "execute_result"
    }
   ],
   "source": [
    "est_cyclique({'A':'E', 'F':'C', 'C':'D', 'E':'B', 'B':'F', 'D':'A'})"
   ]
  },
  {
   "cell_type": "code",
   "execution_count": 26,
   "metadata": {},
   "outputs": [
    {
     "data": {
      "text/plain": [
       "True"
      ]
     },
     "execution_count": 26,
     "metadata": {},
     "output_type": "execute_result"
    }
   ],
   "source": [
    "est_cyclique({'A':'B', 'F':'C', 'C':'D', 'E':'A', 'B':'F', 'D':'E'})"
   ]
  },
  {
   "cell_type": "code",
   "execution_count": 27,
   "metadata": {},
   "outputs": [
    {
     "data": {
      "text/plain": [
       "False"
      ]
     },
     "execution_count": 27,
     "metadata": {},
     "output_type": "execute_result"
    }
   ],
   "source": [
    "est_cyclique({'A':'B', 'F':'A', 'C':'D', 'E':'C', 'B':'F', 'D':'E'})"
   ]
  },
  {
   "attachments": {},
   "cell_type": "markdown",
   "metadata": {},
   "source": [
    "# Sujet n°39"
   ]
  },
  {
   "attachments": {},
   "cell_type": "markdown",
   "metadata": {},
   "source": [
    "## Exercice 1"
   ]
  },
  {
   "cell_type": "code",
   "execution_count": 12,
   "metadata": {},
   "outputs": [],
   "source": [
    "def fibonacci(n):\n",
    "    '''\n",
    "        * Définition :\n",
    "            Prend en paramètre un entier n strictement positif et renvoie le terme d'indice n de la suite de fibonacci.\n",
    "\n",
    "        * Exemple :\n",
    "            >>>fibonacci(25)\n",
    "            75025\n",
    "\n",
    "        * Postconditions :\n",
    "            n(int) : Le rang du terme de la suite de fibonacci que l'on veut obtenir.\n",
    "\n",
    "        * Postconditions :\n",
    "            (int) : Le terme de la suite de fibonacci de rang n.\n",
    "    '''\n",
    "    assert type(n) == int and n >= 1, \"n doit être un entier strictement positif\"\n",
    "    if n==1 or n==2:\n",
    "        return 1\n",
    "    else:\n",
    "        return fibonacci(n-1) + fibonacci(n-2)"
   ]
  },
  {
   "cell_type": "code",
   "execution_count": 6,
   "metadata": {},
   "outputs": [
    {
     "data": {
      "text/plain": [
       "1"
      ]
     },
     "execution_count": 6,
     "metadata": {},
     "output_type": "execute_result"
    }
   ],
   "source": [
    "fibonacci(1)"
   ]
  },
  {
   "cell_type": "code",
   "execution_count": 7,
   "metadata": {},
   "outputs": [
    {
     "data": {
      "text/plain": [
       "1"
      ]
     },
     "execution_count": 7,
     "metadata": {},
     "output_type": "execute_result"
    }
   ],
   "source": [
    "fibonacci(2)"
   ]
  },
  {
   "cell_type": "code",
   "execution_count": 8,
   "metadata": {},
   "outputs": [
    {
     "data": {
      "text/plain": [
       "75025"
      ]
     },
     "execution_count": 8,
     "metadata": {},
     "output_type": "execute_result"
    }
   ],
   "source": [
    "fibonacci(25)"
   ]
  },
  {
   "cell_type": "code",
   "execution_count": 13,
   "metadata": {},
   "outputs": [
    {
     "ename": "KeyboardInterrupt",
     "evalue": "",
     "output_type": "error",
     "traceback": [
      "\u001b[0;31m---------------------------------------------------------------------------\u001b[0m",
      "\u001b[0;31mKeyboardInterrupt\u001b[0m                         Traceback (most recent call last)",
      "Cell \u001b[0;32mIn[13], line 1\u001b[0m\n\u001b[0;32m----> 1\u001b[0m fibonacci(\u001b[39m45\u001b[39;49m)\n",
      "Cell \u001b[0;32mIn[12], line 20\u001b[0m, in \u001b[0;36mfibonacci\u001b[0;34m(n)\u001b[0m\n\u001b[1;32m     18\u001b[0m     \u001b[39mreturn\u001b[39;00m \u001b[39m1\u001b[39m\n\u001b[1;32m     19\u001b[0m \u001b[39melse\u001b[39;00m:\n\u001b[0;32m---> 20\u001b[0m     \u001b[39mreturn\u001b[39;00m fibonacci(n\u001b[39m-\u001b[39;49m\u001b[39m1\u001b[39;49m) \u001b[39m+\u001b[39m fibonacci(n\u001b[39m-\u001b[39m\u001b[39m2\u001b[39m)\n",
      "Cell \u001b[0;32mIn[12], line 20\u001b[0m, in \u001b[0;36mfibonacci\u001b[0;34m(n)\u001b[0m\n\u001b[1;32m     18\u001b[0m     \u001b[39mreturn\u001b[39;00m \u001b[39m1\u001b[39m\n\u001b[1;32m     19\u001b[0m \u001b[39melse\u001b[39;00m:\n\u001b[0;32m---> 20\u001b[0m     \u001b[39mreturn\u001b[39;00m fibonacci(n\u001b[39m-\u001b[39;49m\u001b[39m1\u001b[39;49m) \u001b[39m+\u001b[39m fibonacci(n\u001b[39m-\u001b[39m\u001b[39m2\u001b[39m)\n",
      "    \u001b[0;31m[... skipping similar frames: fibonacci at line 20 (28 times)]\u001b[0m\n",
      "Cell \u001b[0;32mIn[12], line 20\u001b[0m, in \u001b[0;36mfibonacci\u001b[0;34m(n)\u001b[0m\n\u001b[1;32m     18\u001b[0m     \u001b[39mreturn\u001b[39;00m \u001b[39m1\u001b[39m\n\u001b[1;32m     19\u001b[0m \u001b[39melse\u001b[39;00m:\n\u001b[0;32m---> 20\u001b[0m     \u001b[39mreturn\u001b[39;00m fibonacci(n\u001b[39m-\u001b[39m\u001b[39m1\u001b[39m) \u001b[39m+\u001b[39m fibonacci(n\u001b[39m-\u001b[39m\u001b[39m2\u001b[39m)\n",
      "\u001b[0;31mKeyboardInterrupt\u001b[0m: "
     ]
    }
   ],
   "source": [
    "fibonacci(45)"
   ]
  },
  {
   "cell_type": "code",
   "execution_count": 10,
   "metadata": {},
   "outputs": [
    {
     "ename": "AssertionError",
     "evalue": "n doit être un entier strictement positif",
     "output_type": "error",
     "traceback": [
      "\u001b[0;31m---------------------------------------------------------------------------\u001b[0m",
      "\u001b[0;31mAssertionError\u001b[0m                            Traceback (most recent call last)",
      "Cell \u001b[0;32mIn[10], line 1\u001b[0m\n\u001b[0;32m----> 1\u001b[0m fibonacci(\u001b[39m-\u001b[39;49m\u001b[39m5\u001b[39;49m)\n",
      "Cell \u001b[0;32mIn[5], line 13\u001b[0m, in \u001b[0;36mfibonacci\u001b[0;34m(n)\u001b[0m\n\u001b[1;32m      1\u001b[0m \u001b[39mdef\u001b[39;00m \u001b[39mfibonacci\u001b[39m(n):\n\u001b[1;32m      2\u001b[0m \u001b[39m    \u001b[39m\u001b[39m'''\u001b[39;00m\n\u001b[1;32m      3\u001b[0m \u001b[39m        * Définition :\u001b[39;00m\n\u001b[1;32m      4\u001b[0m \u001b[39m            Prend en paramètre un entier n strictement positif et renvoie le terme d'indice n de la suite de fibonacci.\u001b[39;00m\n\u001b[0;32m   (...)\u001b[0m\n\u001b[1;32m     11\u001b[0m \u001b[39m            - (int) : Le terme de la suite de fibonacci de rang n.\u001b[39;00m\n\u001b[1;32m     12\u001b[0m \u001b[39m    '''\u001b[39;00m\n\u001b[0;32m---> 13\u001b[0m     \u001b[39massert\u001b[39;00m \u001b[39mtype\u001b[39m(n) \u001b[39m==\u001b[39m \u001b[39mint\u001b[39m \u001b[39mand\u001b[39;00m n \u001b[39m>\u001b[39m\u001b[39m=\u001b[39m \u001b[39m1\u001b[39m, \u001b[39m\"\u001b[39m\u001b[39mn doit être un entier strictement positif\u001b[39m\u001b[39m\"\u001b[39m\n\u001b[1;32m     14\u001b[0m     \u001b[39mif\u001b[39;00m n\u001b[39m==\u001b[39m\u001b[39m1\u001b[39m \u001b[39mor\u001b[39;00m n\u001b[39m==\u001b[39m\u001b[39m2\u001b[39m:\n\u001b[1;32m     15\u001b[0m         \u001b[39mreturn\u001b[39;00m \u001b[39m1\u001b[39m\n",
      "\u001b[0;31mAssertionError\u001b[0m: n doit être un entier strictement positif"
     ]
    }
   ],
   "source": [
    "fibonacci(-5)"
   ]
  },
  {
   "cell_type": "code",
   "execution_count": 11,
   "metadata": {},
   "outputs": [
    {
     "ename": "AssertionError",
     "evalue": "n doit être un entier strictement positif",
     "output_type": "error",
     "traceback": [
      "\u001b[0;31m---------------------------------------------------------------------------\u001b[0m",
      "\u001b[0;31mAssertionError\u001b[0m                            Traceback (most recent call last)",
      "Cell \u001b[0;32mIn[11], line 1\u001b[0m\n\u001b[0;32m----> 1\u001b[0m fibonacci(\u001b[39m1.2\u001b[39;49m)\n",
      "Cell \u001b[0;32mIn[5], line 13\u001b[0m, in \u001b[0;36mfibonacci\u001b[0;34m(n)\u001b[0m\n\u001b[1;32m      1\u001b[0m \u001b[39mdef\u001b[39;00m \u001b[39mfibonacci\u001b[39m(n):\n\u001b[1;32m      2\u001b[0m \u001b[39m    \u001b[39m\u001b[39m'''\u001b[39;00m\n\u001b[1;32m      3\u001b[0m \u001b[39m        * Définition :\u001b[39;00m\n\u001b[1;32m      4\u001b[0m \u001b[39m            Prend en paramètre un entier n strictement positif et renvoie le terme d'indice n de la suite de fibonacci.\u001b[39;00m\n\u001b[0;32m   (...)\u001b[0m\n\u001b[1;32m     11\u001b[0m \u001b[39m            - (int) : Le terme de la suite de fibonacci de rang n.\u001b[39;00m\n\u001b[1;32m     12\u001b[0m \u001b[39m    '''\u001b[39;00m\n\u001b[0;32m---> 13\u001b[0m     \u001b[39massert\u001b[39;00m \u001b[39mtype\u001b[39m(n) \u001b[39m==\u001b[39m \u001b[39mint\u001b[39m \u001b[39mand\u001b[39;00m n \u001b[39m>\u001b[39m\u001b[39m=\u001b[39m \u001b[39m1\u001b[39m, \u001b[39m\"\u001b[39m\u001b[39mn doit être un entier strictement positif\u001b[39m\u001b[39m\"\u001b[39m\n\u001b[1;32m     14\u001b[0m     \u001b[39mif\u001b[39;00m n\u001b[39m==\u001b[39m\u001b[39m1\u001b[39m \u001b[39mor\u001b[39;00m n\u001b[39m==\u001b[39m\u001b[39m2\u001b[39m:\n\u001b[1;32m     15\u001b[0m         \u001b[39mreturn\u001b[39;00m \u001b[39m1\u001b[39m\n",
      "\u001b[0;31mAssertionError\u001b[0m: n doit être un entier strictement positif"
     ]
    }
   ],
   "source": [
    "fibonacci(1.2)"
   ]
  },
  {
   "attachments": {},
   "cell_type": "markdown",
   "metadata": {},
   "source": [
    "## Exercice 2"
   ]
  },
  {
   "cell_type": "code",
   "execution_count": 16,
   "metadata": {},
   "outputs": [],
   "source": [
    "def pantheon(eleves, notes):\n",
    "    note_maxi = 0\n",
    "    meilleurs_eleves =  []\n",
    "\n",
    "    for i in range(len(eleves)) :\n",
    "        if notes[i] == note_maxi :\n",
    "            meilleurs_eleves.append(eleves[i])\n",
    "        elif notes[i] > note_maxi:\n",
    "            note_maxi = notes[i]\n",
    "            meilleurs_eleves = [eleves[i]]\n",
    "\n",
    "    return (note_maxi,meilleurs_eleves)\n",
    "\n",
    "\n",
    "\n",
    "eleves_nsi = ['a','b','c','d','e','f','g','h','i','j']\n",
    "notes_nsi = [30, 40, 80, 60, 58, 80, 75, 80, 60, 24]"
   ]
  },
  {
   "cell_type": "code",
   "execution_count": 17,
   "metadata": {},
   "outputs": [
    {
     "data": {
      "text/plain": [
       "(80, ['c', 'f', 'h'])"
      ]
     },
     "execution_count": 17,
     "metadata": {},
     "output_type": "execute_result"
    }
   ],
   "source": [
    "pantheon(eleves_nsi, notes_nsi)"
   ]
  },
  {
   "cell_type": "code",
   "execution_count": 18,
   "metadata": {},
   "outputs": [
    {
     "data": {
      "text/plain": [
       "(0, [])"
      ]
     },
     "execution_count": 18,
     "metadata": {},
     "output_type": "execute_result"
    }
   ],
   "source": [
    "pantheon([],[])"
   ]
  }
 ],
 "metadata": {
  "kernelspec": {
   "display_name": "Python 3",
   "language": "python",
   "name": "python3"
  },
  "language_info": {
   "codemirror_mode": {
    "name": "ipython",
    "version": 3
   },
   "file_extension": ".py",
   "mimetype": "text/x-python",
   "name": "python",
   "nbconvert_exporter": "python",
   "pygments_lexer": "ipython3",
   "version": "3.8.16"
  },
  "orig_nbformat": 4,
  "vscode": {
   "interpreter": {
    "hash": "6823027d7e29b41a4e6f28161e95b4dfbe0e8b9a6a7278f50ef7cf75c6459dbe"
   }
  }
 },
 "nbformat": 4,
 "nbformat_minor": 2
}
