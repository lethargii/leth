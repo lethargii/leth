{
 "cells": [
  {
   "attachments": {},
   "cell_type": "markdown",
   "metadata": {},
   "source": [
    "# Sujet n°37"
   ]
  },
  {
   "attachments": {},
   "cell_type": "markdown",
   "metadata": {},
   "source": [
    "## Exercice 1"
   ]
  },
  {
   "cell_type": "code",
   "execution_count": 9,
   "metadata": {},
   "outputs": [],
   "source": [
    "def recherche(elt : int, tab : list) -> int:\n",
    "    \"\"\" ==================================================================================================================\n",
    "        \n",
    "        * Description :\n",
    "            Fonction renvoyant l'indice de la dernière occurence de elt dans tab ou -1 si elt n'est pas dans tab.\n",
    "\n",
    "        * Exemple :\n",
    "            >>> recherche(1, [2, 3, 4])\n",
    "            -1\n",
    "\n",
    "        * Préconditions :\n",
    "            - elt(int) : L'entier recherché dans tab.\n",
    "            - tab(list) : Le tableau dans lequel on recherche elt.\n",
    "\n",
    "        * Postconditions :\n",
    "            (int) : L'indice de la dernière occurence de elt dans tab.\n",
    "\n",
    "        ==================================================================================================================\n",
    "    \"\"\"\n",
    "    assert type(elt) == int, 'elt doit être un entier'\n",
    "    assert type(tab) == list, 'tab doit être un tableau'\n",
    "    indice = -1\n",
    "    for i in range(len(tab)):\n",
    "        if tab[i] == elt:\n",
    "            indice = i\n",
    "    return indice"
   ]
  },
  {
   "cell_type": "code",
   "execution_count": 11,
   "metadata": {},
   "outputs": [
    {
     "ename": "AssertionError",
     "evalue": "elt doit être un entier",
     "output_type": "error",
     "traceback": [
      "\u001b[0;31m---------------------------------------------------------------------------\u001b[0m",
      "\u001b[0;31mAssertionError\u001b[0m                            Traceback (most recent call last)",
      "Cell \u001b[0;32mIn[11], line 1\u001b[0m\n\u001b[0;32m----> 1\u001b[0m recherche(\u001b[39m0.5\u001b[39;49m, [\u001b[39m1\u001b[39;49m, \u001b[39m2\u001b[39;49m, \u001b[39m3\u001b[39;49m])\n",
      "Cell \u001b[0;32mIn[9], line 20\u001b[0m, in \u001b[0;36mrecherche\u001b[0;34m(elt, tab)\u001b[0m\n\u001b[1;32m      1\u001b[0m \u001b[39mdef\u001b[39;00m \u001b[39mrecherche\u001b[39m(elt : \u001b[39mint\u001b[39m, tab : \u001b[39mlist\u001b[39m) \u001b[39m-\u001b[39m\u001b[39m>\u001b[39m \u001b[39mint\u001b[39m:\n\u001b[1;32m      2\u001b[0m     \u001b[39m\"\"\" ==================================================================================================================\u001b[39;00m\n\u001b[1;32m      3\u001b[0m \u001b[39m        \u001b[39;00m\n\u001b[1;32m      4\u001b[0m \u001b[39m        * Description :\u001b[39;00m\n\u001b[0;32m   (...)\u001b[0m\n\u001b[1;32m     18\u001b[0m \u001b[39m        ==================================================================================================================\u001b[39;00m\n\u001b[1;32m     19\u001b[0m \u001b[39m    \"\"\"\u001b[39;00m\n\u001b[0;32m---> 20\u001b[0m     \u001b[39massert\u001b[39;00m \u001b[39mtype\u001b[39m(elt) \u001b[39m==\u001b[39m \u001b[39mint\u001b[39m, \u001b[39m'\u001b[39m\u001b[39melt doit être un entier\u001b[39m\u001b[39m'\u001b[39m\n\u001b[1;32m     21\u001b[0m     \u001b[39massert\u001b[39;00m \u001b[39mtype\u001b[39m(tab) \u001b[39m==\u001b[39m \u001b[39mlist\u001b[39m, \u001b[39m'\u001b[39m\u001b[39mtab doit être un tableau\u001b[39m\u001b[39m'\u001b[39m\n\u001b[1;32m     22\u001b[0m     indice \u001b[39m=\u001b[39m \u001b[39m-\u001b[39m\u001b[39m1\u001b[39m\n",
      "\u001b[0;31mAssertionError\u001b[0m: elt doit être un entier"
     ]
    }
   ],
   "source": [
    "recherche(0.5, [1, 2, 3])"
   ]
  },
  {
   "cell_type": "code",
   "execution_count": 12,
   "metadata": {},
   "outputs": [
    {
     "ename": "AssertionError",
     "evalue": "tab doit être un tableau",
     "output_type": "error",
     "traceback": [
      "\u001b[0;31m---------------------------------------------------------------------------\u001b[0m",
      "\u001b[0;31mAssertionError\u001b[0m                            Traceback (most recent call last)",
      "Cell \u001b[0;32mIn[12], line 1\u001b[0m\n\u001b[0;32m----> 1\u001b[0m recherche(\u001b[39m1\u001b[39;49m, (\u001b[39m1\u001b[39;49m, \u001b[39m2\u001b[39;49m))\n",
      "Cell \u001b[0;32mIn[9], line 21\u001b[0m, in \u001b[0;36mrecherche\u001b[0;34m(elt, tab)\u001b[0m\n\u001b[1;32m      2\u001b[0m \u001b[39m\"\"\" ==================================================================================================================\u001b[39;00m\n\u001b[1;32m      3\u001b[0m \u001b[39m    \u001b[39;00m\n\u001b[1;32m      4\u001b[0m \u001b[39m    * Description :\u001b[39;00m\n\u001b[0;32m   (...)\u001b[0m\n\u001b[1;32m     18\u001b[0m \u001b[39m    ==================================================================================================================\u001b[39;00m\n\u001b[1;32m     19\u001b[0m \u001b[39m\"\"\"\u001b[39;00m\n\u001b[1;32m     20\u001b[0m \u001b[39massert\u001b[39;00m \u001b[39mtype\u001b[39m(elt) \u001b[39m==\u001b[39m \u001b[39mint\u001b[39m, \u001b[39m'\u001b[39m\u001b[39melt doit être un entier\u001b[39m\u001b[39m'\u001b[39m\n\u001b[0;32m---> 21\u001b[0m \u001b[39massert\u001b[39;00m \u001b[39mtype\u001b[39m(tab) \u001b[39m==\u001b[39m \u001b[39mlist\u001b[39m, \u001b[39m'\u001b[39m\u001b[39mtab doit être un tableau\u001b[39m\u001b[39m'\u001b[39m\n\u001b[1;32m     22\u001b[0m indice \u001b[39m=\u001b[39m \u001b[39m-\u001b[39m\u001b[39m1\u001b[39m\n\u001b[1;32m     23\u001b[0m \u001b[39mfor\u001b[39;00m i \u001b[39min\u001b[39;00m \u001b[39mrange\u001b[39m(\u001b[39mlen\u001b[39m(tab)):\n",
      "\u001b[0;31mAssertionError\u001b[0m: tab doit être un tableau"
     ]
    }
   ],
   "source": [
    "recherche(1, (1, 2))"
   ]
  },
  {
   "cell_type": "code",
   "execution_count": 10,
   "metadata": {},
   "outputs": [
    {
     "data": {
      "text/plain": [
       "-1"
      ]
     },
     "execution_count": 10,
     "metadata": {},
     "output_type": "execute_result"
    }
   ],
   "source": [
    "recherche(1, [2, 3, 4])"
   ]
  },
  {
   "cell_type": "code",
   "execution_count": 4,
   "metadata": {},
   "outputs": [
    {
     "data": {
      "text/plain": [
       "2"
      ]
     },
     "execution_count": 4,
     "metadata": {},
     "output_type": "execute_result"
    }
   ],
   "source": [
    "recherche(1, [10, 12, 1, 56])"
   ]
  },
  {
   "cell_type": "code",
   "execution_count": 5,
   "metadata": {},
   "outputs": [
    {
     "data": {
      "text/plain": [
       "0"
      ]
     },
     "execution_count": 5,
     "metadata": {},
     "output_type": "execute_result"
    }
   ],
   "source": [
    "recherche(1, [1, 0, 42, 7])"
   ]
  },
  {
   "cell_type": "code",
   "execution_count": 7,
   "metadata": {},
   "outputs": [
    {
     "data": {
      "text/plain": [
       "2"
      ]
     },
     "execution_count": 7,
     "metadata": {},
     "output_type": "execute_result"
    }
   ],
   "source": [
    "recherche(1, [1, 50, 1])"
   ]
  },
  {
   "cell_type": "code",
   "execution_count": 8,
   "metadata": {},
   "outputs": [
    {
     "data": {
      "text/plain": [
       "5"
      ]
     },
     "execution_count": 8,
     "metadata": {},
     "output_type": "execute_result"
    }
   ],
   "source": [
    "recherche(1, [8, 1, 10, 1, 7, 1, 8])"
   ]
  },
  {
   "attachments": {},
   "cell_type": "markdown",
   "metadata": {},
   "source": [
    "## Exercice 2"
   ]
  },
  {
   "cell_type": "code",
   "execution_count": 28,
   "metadata": {},
   "outputs": [],
   "source": [
    "class AdresseIP:\n",
    "\n",
    "    def __init__(self, adresse):\n",
    "        self.adresse = adresse\n",
    "   \n",
    "    def liste_octet(self):\n",
    "        \"\"\"renvoie une liste de nombres entiers,\n",
    "           la liste des octets de l'adresse IP\"\"\"\n",
    "        return [int(i) for i in self.adresse.split(\".\")] \n",
    "        \n",
    "    def est_reservee(self):\n",
    "        \"\"\"renvoie True si l'adresse IP est une adresse\n",
    "           reservee, False sinon\"\"\"\n",
    "        return self.liste_octet()[-1] == 0 or self.liste_octet()[-1] == 255\n",
    "             \n",
    "    def adresse_suivante(self):\n",
    "        \"\"\"renvoie un objet de AdresseIP avec l'adresse \n",
    "           IP qui suit l'adresse self\n",
    "           si elle existe et False sinon\"\"\"\n",
    "        if self.liste_octet()[-1] < 254:\n",
    "            octet_nouveau = self.liste_octet()[-1] + 1\n",
    "            return AdresseIP('192.168.0.' + str(octet_nouveau))\n",
    "        else:\n",
    "            return False"
   ]
  },
  {
   "cell_type": "code",
   "execution_count": 29,
   "metadata": {},
   "outputs": [],
   "source": [
    "adresse1 = AdresseIP('192.168.0.1')\n",
    "adresse2 = AdresseIP('192.168.0.2')\n",
    "adresse3 = AdresseIP('192.168.0.0')"
   ]
  },
  {
   "cell_type": "code",
   "execution_count": 30,
   "metadata": {},
   "outputs": [
    {
     "data": {
      "text/plain": [
       "False"
      ]
     },
     "execution_count": 30,
     "metadata": {},
     "output_type": "execute_result"
    }
   ],
   "source": [
    "adresse1.est_reservee()"
   ]
  },
  {
   "cell_type": "code",
   "execution_count": 31,
   "metadata": {},
   "outputs": [
    {
     "data": {
      "text/plain": [
       "True"
      ]
     },
     "execution_count": 31,
     "metadata": {},
     "output_type": "execute_result"
    }
   ],
   "source": [
    "adresse3.est_reservee()"
   ]
  },
  {
   "cell_type": "code",
   "execution_count": 32,
   "metadata": {},
   "outputs": [
    {
     "data": {
      "text/plain": [
       "'192.168.0.3'"
      ]
     },
     "execution_count": 32,
     "metadata": {},
     "output_type": "execute_result"
    }
   ],
   "source": [
    "adresse2.adresse_suivante().adresse"
   ]
  },
  {
   "attachments": {},
   "cell_type": "markdown",
   "metadata": {},
   "source": [
    "# Sujet n°38"
   ]
  },
  {
   "attachments": {},
   "cell_type": "markdown",
   "metadata": {},
   "source": [
    "## Exercice 1"
   ]
  },
  {
   "cell_type": "code",
   "execution_count": 34,
   "metadata": {},
   "outputs": [],
   "source": [
    "def correspond(mot : str, mot_a_trous : str) -> bool:\n",
    "    \"\"\" ==================================================================================================================\n",
    "        \n",
    "        * Description :\n",
    "            Fonction renvoyant True si on peut remplacer les '*' dans mot_a_trous pour former le mot et False sinon.\n",
    "\n",
    "        * Exemple :\n",
    "            >>> correspond('INFORMATIQUE', 'INFO*MA*IQUE')\n",
    "            True\n",
    "\n",
    "        * Préconditions :\n",
    "            - mot(str) : La chaîne de caractères que l'on va essayer de former avec mot_a_trous.\n",
    "            - mot_a_trous(str) : La chaîne de caractères que l'on va essayer de compléter pour former mot.\n",
    "\n",
    "        * Postconditions :\n",
    "            (bool) : True si il est possible de former mot avec mot_a_trous et False sinon\n",
    "\n",
    "        ==================================================================================================================\n",
    "    \"\"\"\n",
    "    assert type(mot) == str, 'mot doit être une chaîne de caractères'\n",
    "    assert type(mot_a_trous) == str, 'mot_a_trous doit être une chaîne de caractères'\n",
    "    if len(mot) != len(mot_a_trous):\n",
    "        return False\n",
    "    for i in range(len(mot_a_trous)):\n",
    "        if not (mot_a_trous[i] == mot[i] or mot_a_trous[i] == '*'):\n",
    "            return False\n",
    "    return True"
   ]
  },
  {
   "cell_type": "code",
   "execution_count": 35,
   "metadata": {},
   "outputs": [
    {
     "data": {
      "text/plain": [
       "True"
      ]
     },
     "execution_count": 35,
     "metadata": {},
     "output_type": "execute_result"
    }
   ],
   "source": [
    "correspond('INFORMATIQUE', 'INFO*MA*IQUE')"
   ]
  },
  {
   "cell_type": "code",
   "execution_count": 36,
   "metadata": {},
   "outputs": [
    {
     "data": {
      "text/plain": [
       "False"
      ]
     },
     "execution_count": 36,
     "metadata": {},
     "output_type": "execute_result"
    }
   ],
   "source": [
    "correspond('AUTOMATIQUE', 'INFO*MA*IQUE')"
   ]
  },
  {
   "cell_type": "code",
   "execution_count": 37,
   "metadata": {},
   "outputs": [
    {
     "data": {
      "text/plain": [
       "False"
      ]
     },
     "execution_count": 37,
     "metadata": {},
     "output_type": "execute_result"
    }
   ],
   "source": [
    "correspond('STOP', 'S*')"
   ]
  },
  {
   "cell_type": "code",
   "execution_count": 38,
   "metadata": {},
   "outputs": [
    {
     "data": {
      "text/plain": [
       "True"
      ]
     },
     "execution_count": 38,
     "metadata": {},
     "output_type": "execute_result"
    }
   ],
   "source": [
    "correspond('AUTO', '*UT*')"
   ]
  },
  {
   "attachments": {},
   "cell_type": "markdown",
   "metadata": {},
   "source": [
    "## Exercice 2"
   ]
  },
  {
   "cell_type": "code",
   "execution_count": 19,
   "metadata": {},
   "outputs": [],
   "source": [
    "def est_cyclique(plan):\n",
    "    '''\n",
    "    Prend en paramètre un dictionnaire `plan` correspondant à un plan d'envoi de messages (ici entre les personnes A, B, C, D, E, F).\n",
    "    Renvoie True si le plan d'envoi de messages est cyclique et False sinon.\n",
    "    '''\n",
    "    expediteur = 'A'\n",
    "    destinataire = plan[expediteur]\n",
    "    nb_destinaires = 1\n",
    "    \n",
    "    while destinataire != expediteur:\n",
    "        destinataire = plan[destinataire]\n",
    "        nb_destinaires += 1\n",
    "\n",
    "    return nb_destinaires == len(plan)"
   ]
  },
  {
   "cell_type": "code",
   "execution_count": 24,
   "metadata": {},
   "outputs": [
    {
     "data": {
      "text/plain": [
       "False"
      ]
     },
     "execution_count": 24,
     "metadata": {},
     "output_type": "execute_result"
    }
   ],
   "source": [
    "est_cyclique({'A':'E', 'F':'A', 'C':'D', 'E':'B', 'B':'F', 'D':'C'})"
   ]
  },
  {
   "cell_type": "code",
   "execution_count": 25,
   "metadata": {},
   "outputs": [
    {
     "data": {
      "text/plain": [
       "True"
      ]
     },
     "execution_count": 25,
     "metadata": {},
     "output_type": "execute_result"
    }
   ],
   "source": [
    "est_cyclique({'A':'E', 'F':'C', 'C':'D', 'E':'B', 'B':'F', 'D':'A'})"
   ]
  },
  {
   "cell_type": "code",
   "execution_count": 26,
   "metadata": {},
   "outputs": [
    {
     "data": {
      "text/plain": [
       "True"
      ]
     },
     "execution_count": 26,
     "metadata": {},
     "output_type": "execute_result"
    }
   ],
   "source": [
    "est_cyclique({'A':'B', 'F':'C', 'C':'D', 'E':'A', 'B':'F', 'D':'E'})"
   ]
  },
  {
   "cell_type": "code",
   "execution_count": 27,
   "metadata": {},
   "outputs": [
    {
     "data": {
      "text/plain": [
       "False"
      ]
     },
     "execution_count": 27,
     "metadata": {},
     "output_type": "execute_result"
    }
   ],
   "source": [
    "est_cyclique({'A':'B', 'F':'A', 'C':'D', 'E':'C', 'B':'F', 'D':'E'})"
   ]
  },
  {
   "attachments": {},
   "cell_type": "markdown",
   "metadata": {},
   "source": [
    "# Sujet n°39"
   ]
  },
  {
   "attachments": {},
   "cell_type": "markdown",
   "metadata": {},
   "source": [
    "## Exercice 1"
   ]
  },
  {
   "cell_type": "code",
   "execution_count": 12,
   "metadata": {},
   "outputs": [],
   "source": [
    "def fibonacci(n):\n",
    "    '''\n",
    "        * Définition :\n",
    "            Prend en paramètre un entier n strictement positif et renvoie le terme d'indice n de la suite de fibonacci.\n",
    "\n",
    "        * Exemple :\n",
    "            >>>fibonacci(25)\n",
    "            75025\n",
    "\n",
    "        * Postconditions :\n",
    "            n(int) : Le rang du terme de la suite de fibonacci que l'on veut obtenir.\n",
    "\n",
    "        * Postconditions :\n",
    "            (int) : Le terme de la suite de fibonacci de rang n.\n",
    "    '''\n",
    "    assert type(n) == int and n >= 1, \"n doit être un entier strictement positif\"\n",
    "    if n==1 or n==2:\n",
    "        return 1\n",
    "    else:\n",
    "        return fibonacci(n-1) + fibonacci(n-2)"
   ]
  },
  {
   "cell_type": "code",
   "execution_count": 6,
   "metadata": {},
   "outputs": [
    {
     "data": {
      "text/plain": [
       "1"
      ]
     },
     "execution_count": 6,
     "metadata": {},
     "output_type": "execute_result"
    }
   ],
   "source": [
    "fibonacci(1)"
   ]
  },
  {
   "cell_type": "code",
   "execution_count": 7,
   "metadata": {},
   "outputs": [
    {
     "data": {
      "text/plain": [
       "1"
      ]
     },
     "execution_count": 7,
     "metadata": {},
     "output_type": "execute_result"
    }
   ],
   "source": [
    "fibonacci(2)"
   ]
  },
  {
   "cell_type": "code",
   "execution_count": 8,
   "metadata": {},
   "outputs": [
    {
     "data": {
      "text/plain": [
       "75025"
      ]
     },
     "execution_count": 8,
     "metadata": {},
     "output_type": "execute_result"
    }
   ],
   "source": [
    "fibonacci(25)"
   ]
  },
  {
   "cell_type": "code",
   "execution_count": 13,
   "metadata": {},
   "outputs": [
    {
     "ename": "KeyboardInterrupt",
     "evalue": "",
     "output_type": "error",
     "traceback": [
      "\u001b[0;31m---------------------------------------------------------------------------\u001b[0m",
      "\u001b[0;31mKeyboardInterrupt\u001b[0m                         Traceback (most recent call last)",
      "Cell \u001b[0;32mIn[13], line 1\u001b[0m\n\u001b[0;32m----> 1\u001b[0m fibonacci(\u001b[39m45\u001b[39;49m)\n",
      "Cell \u001b[0;32mIn[12], line 20\u001b[0m, in \u001b[0;36mfibonacci\u001b[0;34m(n)\u001b[0m\n\u001b[1;32m     18\u001b[0m     \u001b[39mreturn\u001b[39;00m \u001b[39m1\u001b[39m\n\u001b[1;32m     19\u001b[0m \u001b[39melse\u001b[39;00m:\n\u001b[0;32m---> 20\u001b[0m     \u001b[39mreturn\u001b[39;00m fibonacci(n\u001b[39m-\u001b[39;49m\u001b[39m1\u001b[39;49m) \u001b[39m+\u001b[39m fibonacci(n\u001b[39m-\u001b[39m\u001b[39m2\u001b[39m)\n",
      "Cell \u001b[0;32mIn[12], line 20\u001b[0m, in \u001b[0;36mfibonacci\u001b[0;34m(n)\u001b[0m\n\u001b[1;32m     18\u001b[0m     \u001b[39mreturn\u001b[39;00m \u001b[39m1\u001b[39m\n\u001b[1;32m     19\u001b[0m \u001b[39melse\u001b[39;00m:\n\u001b[0;32m---> 20\u001b[0m     \u001b[39mreturn\u001b[39;00m fibonacci(n\u001b[39m-\u001b[39;49m\u001b[39m1\u001b[39;49m) \u001b[39m+\u001b[39m fibonacci(n\u001b[39m-\u001b[39m\u001b[39m2\u001b[39m)\n",
      "    \u001b[0;31m[... skipping similar frames: fibonacci at line 20 (28 times)]\u001b[0m\n",
      "Cell \u001b[0;32mIn[12], line 20\u001b[0m, in \u001b[0;36mfibonacci\u001b[0;34m(n)\u001b[0m\n\u001b[1;32m     18\u001b[0m     \u001b[39mreturn\u001b[39;00m \u001b[39m1\u001b[39m\n\u001b[1;32m     19\u001b[0m \u001b[39melse\u001b[39;00m:\n\u001b[0;32m---> 20\u001b[0m     \u001b[39mreturn\u001b[39;00m fibonacci(n\u001b[39m-\u001b[39m\u001b[39m1\u001b[39m) \u001b[39m+\u001b[39m fibonacci(n\u001b[39m-\u001b[39m\u001b[39m2\u001b[39m)\n",
      "\u001b[0;31mKeyboardInterrupt\u001b[0m: "
     ]
    }
   ],
   "source": [
    "fibonacci(45)"
   ]
  },
  {
   "cell_type": "code",
   "execution_count": 10,
   "metadata": {},
   "outputs": [
    {
     "ename": "AssertionError",
     "evalue": "n doit être un entier strictement positif",
     "output_type": "error",
     "traceback": [
      "\u001b[0;31m---------------------------------------------------------------------------\u001b[0m",
      "\u001b[0;31mAssertionError\u001b[0m                            Traceback (most recent call last)",
      "Cell \u001b[0;32mIn[10], line 1\u001b[0m\n\u001b[0;32m----> 1\u001b[0m fibonacci(\u001b[39m-\u001b[39;49m\u001b[39m5\u001b[39;49m)\n",
      "Cell \u001b[0;32mIn[5], line 13\u001b[0m, in \u001b[0;36mfibonacci\u001b[0;34m(n)\u001b[0m\n\u001b[1;32m      1\u001b[0m \u001b[39mdef\u001b[39;00m \u001b[39mfibonacci\u001b[39m(n):\n\u001b[1;32m      2\u001b[0m \u001b[39m    \u001b[39m\u001b[39m'''\u001b[39;00m\n\u001b[1;32m      3\u001b[0m \u001b[39m        * Définition :\u001b[39;00m\n\u001b[1;32m      4\u001b[0m \u001b[39m            Prend en paramètre un entier n strictement positif et renvoie le terme d'indice n de la suite de fibonacci.\u001b[39;00m\n\u001b[0;32m   (...)\u001b[0m\n\u001b[1;32m     11\u001b[0m \u001b[39m            - (int) : Le terme de la suite de fibonacci de rang n.\u001b[39;00m\n\u001b[1;32m     12\u001b[0m \u001b[39m    '''\u001b[39;00m\n\u001b[0;32m---> 13\u001b[0m     \u001b[39massert\u001b[39;00m \u001b[39mtype\u001b[39m(n) \u001b[39m==\u001b[39m \u001b[39mint\u001b[39m \u001b[39mand\u001b[39;00m n \u001b[39m>\u001b[39m\u001b[39m=\u001b[39m \u001b[39m1\u001b[39m, \u001b[39m\"\u001b[39m\u001b[39mn doit être un entier strictement positif\u001b[39m\u001b[39m\"\u001b[39m\n\u001b[1;32m     14\u001b[0m     \u001b[39mif\u001b[39;00m n\u001b[39m==\u001b[39m\u001b[39m1\u001b[39m \u001b[39mor\u001b[39;00m n\u001b[39m==\u001b[39m\u001b[39m2\u001b[39m:\n\u001b[1;32m     15\u001b[0m         \u001b[39mreturn\u001b[39;00m \u001b[39m1\u001b[39m\n",
      "\u001b[0;31mAssertionError\u001b[0m: n doit être un entier strictement positif"
     ]
    }
   ],
   "source": [
    "fibonacci(-5)"
   ]
  },
  {
   "cell_type": "code",
   "execution_count": 11,
   "metadata": {},
   "outputs": [
    {
     "ename": "AssertionError",
     "evalue": "n doit être un entier strictement positif",
     "output_type": "error",
     "traceback": [
      "\u001b[0;31m---------------------------------------------------------------------------\u001b[0m",
      "\u001b[0;31mAssertionError\u001b[0m                            Traceback (most recent call last)",
      "Cell \u001b[0;32mIn[11], line 1\u001b[0m\n\u001b[0;32m----> 1\u001b[0m fibonacci(\u001b[39m1.2\u001b[39;49m)\n",
      "Cell \u001b[0;32mIn[5], line 13\u001b[0m, in \u001b[0;36mfibonacci\u001b[0;34m(n)\u001b[0m\n\u001b[1;32m      1\u001b[0m \u001b[39mdef\u001b[39;00m \u001b[39mfibonacci\u001b[39m(n):\n\u001b[1;32m      2\u001b[0m \u001b[39m    \u001b[39m\u001b[39m'''\u001b[39;00m\n\u001b[1;32m      3\u001b[0m \u001b[39m        * Définition :\u001b[39;00m\n\u001b[1;32m      4\u001b[0m \u001b[39m            Prend en paramètre un entier n strictement positif et renvoie le terme d'indice n de la suite de fibonacci.\u001b[39;00m\n\u001b[0;32m   (...)\u001b[0m\n\u001b[1;32m     11\u001b[0m \u001b[39m            - (int) : Le terme de la suite de fibonacci de rang n.\u001b[39;00m\n\u001b[1;32m     12\u001b[0m \u001b[39m    '''\u001b[39;00m\n\u001b[0;32m---> 13\u001b[0m     \u001b[39massert\u001b[39;00m \u001b[39mtype\u001b[39m(n) \u001b[39m==\u001b[39m \u001b[39mint\u001b[39m \u001b[39mand\u001b[39;00m n \u001b[39m>\u001b[39m\u001b[39m=\u001b[39m \u001b[39m1\u001b[39m, \u001b[39m\"\u001b[39m\u001b[39mn doit être un entier strictement positif\u001b[39m\u001b[39m\"\u001b[39m\n\u001b[1;32m     14\u001b[0m     \u001b[39mif\u001b[39;00m n\u001b[39m==\u001b[39m\u001b[39m1\u001b[39m \u001b[39mor\u001b[39;00m n\u001b[39m==\u001b[39m\u001b[39m2\u001b[39m:\n\u001b[1;32m     15\u001b[0m         \u001b[39mreturn\u001b[39;00m \u001b[39m1\u001b[39m\n",
      "\u001b[0;31mAssertionError\u001b[0m: n doit être un entier strictement positif"
     ]
    }
   ],
   "source": [
    "fibonacci(1.2)"
   ]
  },
  {
   "attachments": {},
   "cell_type": "markdown",
   "metadata": {},
   "source": [
    "## Exercice 2"
   ]
  },
  {
   "cell_type": "code",
   "execution_count": 16,
   "metadata": {},
   "outputs": [],
   "source": [
    "def pantheon(eleves, notes):\n",
    "    note_maxi = 0\n",
    "    meilleurs_eleves =  []\n",
    "\n",
    "    for i in range(len(eleves)) :\n",
    "        if notes[i] == note_maxi :\n",
    "            meilleurs_eleves.append(eleves[i])\n",
    "        elif notes[i] > note_maxi:\n",
    "            note_maxi = notes[i]\n",
    "            meilleurs_eleves = [eleves[i]]\n",
    "\n",
    "    return (note_maxi,meilleurs_eleves)\n",
    "\n",
    "\n",
    "\n",
    "eleves_nsi = ['a','b','c','d','e','f','g','h','i','j']\n",
    "notes_nsi = [30, 40, 80, 60, 58, 80, 75, 80, 60, 24]"
   ]
  },
  {
   "cell_type": "code",
   "execution_count": 17,
   "metadata": {},
   "outputs": [
    {
     "data": {
      "text/plain": [
       "(80, ['c', 'f', 'h'])"
      ]
     },
     "execution_count": 17,
     "metadata": {},
     "output_type": "execute_result"
    }
   ],
   "source": [
    "pantheon(eleves_nsi, notes_nsi)"
   ]
  },
  {
   "cell_type": "code",
   "execution_count": 18,
   "metadata": {},
   "outputs": [
    {
     "data": {
      "text/plain": [
       "(0, [])"
      ]
     },
     "execution_count": 18,
     "metadata": {},
     "output_type": "execute_result"
    }
   ],
   "source": [
    "pantheon([],[])"
   ]
  },
  {
   "attachments": {},
   "cell_type": "markdown",
   "metadata": {},
   "source": [
    "# Sujet n°36"
   ]
  },
  {
   "attachments": {},
   "cell_type": "markdown",
   "metadata": {},
   "source": [
    "## Exercice 1"
   ]
  },
  {
   "cell_type": "code",
   "execution_count": 27,
   "metadata": {},
   "outputs": [],
   "source": [
    "def couples_consecutifs(tab):\n",
    "    '''\n",
    "        * Définition : \n",
    "            Fonction prenant en paramètre une liste de nombres entiers tab non_vide, et qui renvoie la liste (éventuellement vide) des couples d'entiers consécutifs successifs qu'il peut y a voir dans tab.\n",
    "\n",
    "        * Exemple :\n",
    "            >>>couples_consecutifs([7, 1, 2, 5, 3, 4])\n",
    "            [(1, 2), (3, 4)]\n",
    "\n",
    "        * Préconditions :\n",
    "            tab(list) : Une liste de nombres entiers non vide dans laquelle on veut chercher les couples d'entiers consécutifs.\n",
    "\n",
    "        * Postconditions :\n",
    "            (list) : La liste des tuples contenant les couples d'entiers consécutifs de la liste tab.\n",
    "    '''\n",
    "    assert type(tab) == list, \"tab doit être une liste\"\n",
    "    assert tab, \"tab doit être non vide\"\n",
    "    for elt in tab:\n",
    "        assert type(elt) == int, \"les éléments du tableau doivent être des entiers\"\n",
    "    couples_consecutifs = []\n",
    "    for i in range(len(tab)-1):\n",
    "        if tab[i] + 1 == tab[i+1]:\n",
    "            couples_consecutifs.append((tab[i], tab[i+1]))\n",
    "    return couples_consecutifs"
   ]
  },
  {
   "cell_type": "code",
   "execution_count": 28,
   "metadata": {},
   "outputs": [
    {
     "data": {
      "text/plain": [
       "[]"
      ]
     },
     "execution_count": 28,
     "metadata": {},
     "output_type": "execute_result"
    }
   ],
   "source": [
    "couples_consecutifs([1, 4, 3, 5])"
   ]
  },
  {
   "cell_type": "code",
   "execution_count": 21,
   "metadata": {},
   "outputs": [
    {
     "data": {
      "text/plain": [
       "[(4, 5)]"
      ]
     },
     "execution_count": 21,
     "metadata": {},
     "output_type": "execute_result"
    }
   ],
   "source": [
    "couples_consecutifs([1, 4, 5, 3])"
   ]
  },
  {
   "cell_type": "code",
   "execution_count": 22,
   "metadata": {},
   "outputs": [
    {
     "data": {
      "text/plain": [
       "[(1, 2)]"
      ]
     },
     "execution_count": 22,
     "metadata": {},
     "output_type": "execute_result"
    }
   ],
   "source": [
    "couples_consecutifs([1, 1, 2, 4])"
   ]
  },
  {
   "cell_type": "code",
   "execution_count": 23,
   "metadata": {},
   "outputs": [
    {
     "data": {
      "text/plain": [
       "[(1, 2), (3, 4)]"
      ]
     },
     "execution_count": 23,
     "metadata": {},
     "output_type": "execute_result"
    }
   ],
   "source": [
    "couples_consecutifs([7, 1, 2, 5, 3, 4])"
   ]
  },
  {
   "cell_type": "code",
   "execution_count": 24,
   "metadata": {},
   "outputs": [
    {
     "data": {
      "text/plain": [
       "[(1, 2), (2, 3), (-5, -4)]"
      ]
     },
     "execution_count": 24,
     "metadata": {},
     "output_type": "execute_result"
    }
   ],
   "source": [
    "couples_consecutifs ([5, 1, 2, 3, 8, -5, -4, 7])"
   ]
  },
  {
   "cell_type": "code",
   "execution_count": 25,
   "metadata": {},
   "outputs": [
    {
     "ename": "AssertionError",
     "evalue": "tab doit être une liste",
     "output_type": "error",
     "traceback": [
      "\u001b[0;31m---------------------------------------------------------------------------\u001b[0m",
      "\u001b[0;31mAssertionError\u001b[0m                            Traceback (most recent call last)",
      "Cell \u001b[0;32mIn[25], line 1\u001b[0m\n\u001b[0;32m----> 1\u001b[0m couples_consecutifs(\u001b[39m5\u001b[39;49m)\n",
      "Cell \u001b[0;32mIn[19], line 16\u001b[0m, in \u001b[0;36mcouples_consecutifs\u001b[0;34m(tab)\u001b[0m\n\u001b[1;32m      1\u001b[0m \u001b[39mdef\u001b[39;00m \u001b[39mcouples_consecutifs\u001b[39m(tab):\n\u001b[1;32m      2\u001b[0m \u001b[39m    \u001b[39m\u001b[39m'''\u001b[39;00m\n\u001b[1;32m      3\u001b[0m \u001b[39m        * Définition : \u001b[39;00m\n\u001b[1;32m      4\u001b[0m \u001b[39m            prend en paramètre une liste de nombres entiers tab non_vide, et qui renvoie la liste (éventuellement vide) des couples d'entiers consécutifs successifs qu'il peut y a voir dans tab.\u001b[39;00m\n\u001b[0;32m   (...)\u001b[0m\n\u001b[1;32m     14\u001b[0m \u001b[39m            (list) : La liste des tuples contenant les couples d'entiers consécutifs de la liste tab.\u001b[39;00m\n\u001b[1;32m     15\u001b[0m \u001b[39m    '''\u001b[39;00m\n\u001b[0;32m---> 16\u001b[0m     \u001b[39massert\u001b[39;00m \u001b[39mtype\u001b[39m(tab) \u001b[39m==\u001b[39m \u001b[39mlist\u001b[39m, \u001b[39m\"\u001b[39m\u001b[39mtab doit être une liste\u001b[39m\u001b[39m\"\u001b[39m\n\u001b[1;32m     17\u001b[0m     \u001b[39mfor\u001b[39;00m elt \u001b[39min\u001b[39;00m tab:\n\u001b[1;32m     18\u001b[0m         \u001b[39massert\u001b[39;00m \u001b[39mtype\u001b[39m(elt) \u001b[39m==\u001b[39m \u001b[39mint\u001b[39m, \u001b[39m\"\u001b[39m\u001b[39mles éléments du tableau doivent être des entiers\u001b[39m\u001b[39m\"\u001b[39m\n",
      "\u001b[0;31mAssertionError\u001b[0m: tab doit être une liste"
     ]
    }
   ],
   "source": [
    "couples_consecutifs(5)"
   ]
  },
  {
   "cell_type": "code",
   "execution_count": 26,
   "metadata": {},
   "outputs": [
    {
     "ename": "AssertionError",
     "evalue": "les éléments du tableau doivent être des entiers",
     "output_type": "error",
     "traceback": [
      "\u001b[0;31m---------------------------------------------------------------------------\u001b[0m",
      "\u001b[0;31mAssertionError\u001b[0m                            Traceback (most recent call last)",
      "Cell \u001b[0;32mIn[26], line 1\u001b[0m\n\u001b[0;32m----> 1\u001b[0m couples_consecutifs([\u001b[39m\"\u001b[39;49m\u001b[39ma\u001b[39;49m\u001b[39m\"\u001b[39;49m,[\u001b[39m\"\u001b[39;49m\u001b[39mb\u001b[39;49m\u001b[39m\"\u001b[39;49m]])\n",
      "Cell \u001b[0;32mIn[19], line 18\u001b[0m, in \u001b[0;36mcouples_consecutifs\u001b[0;34m(tab)\u001b[0m\n\u001b[1;32m     16\u001b[0m \u001b[39massert\u001b[39;00m \u001b[39mtype\u001b[39m(tab) \u001b[39m==\u001b[39m \u001b[39mlist\u001b[39m, \u001b[39m\"\u001b[39m\u001b[39mtab doit être une liste\u001b[39m\u001b[39m\"\u001b[39m\n\u001b[1;32m     17\u001b[0m \u001b[39mfor\u001b[39;00m elt \u001b[39min\u001b[39;00m tab:\n\u001b[0;32m---> 18\u001b[0m     \u001b[39massert\u001b[39;00m \u001b[39mtype\u001b[39m(elt) \u001b[39m==\u001b[39m \u001b[39mint\u001b[39m, \u001b[39m\"\u001b[39m\u001b[39mles éléments du tableau doivent être des entiers\u001b[39m\u001b[39m\"\u001b[39m\n\u001b[1;32m     19\u001b[0m couples_consecutifs \u001b[39m=\u001b[39m []\n\u001b[1;32m     20\u001b[0m \u001b[39mfor\u001b[39;00m i \u001b[39min\u001b[39;00m \u001b[39mrange\u001b[39m(\u001b[39mlen\u001b[39m(tab)\u001b[39m-\u001b[39m\u001b[39m1\u001b[39m):\n",
      "\u001b[0;31mAssertionError\u001b[0m: les éléments du tableau doivent être des entiers"
     ]
    }
   ],
   "source": [
    "couples_consecutifs([\"a\",[\"b\"]])"
   ]
  },
  {
   "cell_type": "code",
   "execution_count": 29,
   "metadata": {},
   "outputs": [
    {
     "ename": "AssertionError",
     "evalue": "tab doit être non vide",
     "output_type": "error",
     "traceback": [
      "\u001b[0;31m---------------------------------------------------------------------------\u001b[0m",
      "\u001b[0;31mAssertionError\u001b[0m                            Traceback (most recent call last)",
      "Cell \u001b[0;32mIn[29], line 1\u001b[0m\n\u001b[0;32m----> 1\u001b[0m couples_consecutifs([])\n",
      "Cell \u001b[0;32mIn[27], line 17\u001b[0m, in \u001b[0;36mcouples_consecutifs\u001b[0;34m(tab)\u001b[0m\n\u001b[1;32m      2\u001b[0m \u001b[39m\u001b[39m\u001b[39m'''\u001b[39;00m\n\u001b[1;32m      3\u001b[0m \u001b[39m    * Définition : \u001b[39;00m\n\u001b[1;32m      4\u001b[0m \u001b[39m        prend en paramètre une liste de nombres entiers tab non_vide, et qui renvoie la liste (éventuellement vide) des couples d'entiers consécutifs successifs qu'il peut y a voir dans tab.\u001b[39;00m\n\u001b[0;32m   (...)\u001b[0m\n\u001b[1;32m     14\u001b[0m \u001b[39m        (list) : La liste des tuples contenant les couples d'entiers consécutifs de la liste tab.\u001b[39;00m\n\u001b[1;32m     15\u001b[0m \u001b[39m'''\u001b[39;00m\n\u001b[1;32m     16\u001b[0m \u001b[39massert\u001b[39;00m \u001b[39mtype\u001b[39m(tab) \u001b[39m==\u001b[39m \u001b[39mlist\u001b[39m, \u001b[39m\"\u001b[39m\u001b[39mtab doit être une liste\u001b[39m\u001b[39m\"\u001b[39m\n\u001b[0;32m---> 17\u001b[0m \u001b[39massert\u001b[39;00m tab, \u001b[39m\"\u001b[39m\u001b[39mtab doit être non vide\u001b[39m\u001b[39m\"\u001b[39m\n\u001b[1;32m     18\u001b[0m \u001b[39mfor\u001b[39;00m elt \u001b[39min\u001b[39;00m tab:\n\u001b[1;32m     19\u001b[0m     \u001b[39massert\u001b[39;00m \u001b[39mtype\u001b[39m(elt) \u001b[39m==\u001b[39m \u001b[39mint\u001b[39m, \u001b[39m\"\u001b[39m\u001b[39mles éléments du tableau doivent être des entiers\u001b[39m\u001b[39m\"\u001b[39m\n",
      "\u001b[0;31mAssertionError\u001b[0m: tab doit être non vide"
     ]
    }
   ],
   "source": [
    "couples_consecutifs([])"
   ]
  },
  {
   "attachments": {},
   "cell_type": "markdown",
   "metadata": {},
   "source": [
    "## Exercice 2"
   ]
  },
  {
   "cell_type": "code",
   "execution_count": 4,
   "metadata": {},
   "outputs": [],
   "source": [
    "def propager(M, i, j, val):\n",
    "    if M[i][j] == 1:\n",
    "        M[i][j] = val\n",
    "\n",
    "    # l'element en haut fait partie de la composante\n",
    "    if i-1 >= 0 and M[i-1][j] == 1:\n",
    "        propager(M, i-1, j, val)\n",
    "\n",
    "    # l'element en bas fait partie de la composante\n",
    "    if i+1 < len(M) and M[i+1][j] == 1:\n",
    "        propager(M, i+1, j, val)\n",
    "\n",
    "    # l'element à gauche fait partie de la composante\n",
    "    if j-1 >= 0 and M[i][j-1] == 1:\n",
    "        propager(M, i, j-1, val)\n",
    "\n",
    "    # l'element à droite fait partie de la composante\n",
    "    if j+1 < len(M[0]) and M[i][j+1] == 1:\n",
    "        propager(M, i, j+1, val)"
   ]
  },
  {
   "cell_type": "code",
   "execution_count": 5,
   "metadata": {},
   "outputs": [
    {
     "data": {
      "text/plain": [
       "[[0, 0, 1, 0], [0, 3, 0, 1], [3, 3, 3, 0], [0, 3, 3, 0]]"
      ]
     },
     "execution_count": 5,
     "metadata": {},
     "output_type": "execute_result"
    }
   ],
   "source": [
    "M = [[0, 0, 1, 0], [0, 1, 0, 1], [1, 1, 1, 0], [0, 1, 1, 0]]\n",
    "propager(M, 2, 1, 3)\n",
    "M"
   ]
  },
  {
   "attachments": {},
   "cell_type": "markdown",
   "metadata": {},
   "source": [
    "# Sujet n°35"
   ]
  },
  {
   "attachments": {},
   "cell_type": "markdown",
   "metadata": {},
   "source": [
    "## Exercice 1"
   ]
  },
  {
   "cell_type": "code",
   "execution_count": 26,
   "metadata": {},
   "outputs": [],
   "source": [
    "def ou_exclusif(tab_a, tab_b):\n",
    "    '''\n",
    "        * Définition :\n",
    "            Fonction prenant en paramètre deux tableaux de même longueur et qui renvoie un tableau où l'élément situé à la position i est le résultat, \n",
    "            par l’opérateur « ou exclusif », des éléments à la position i des tableaux passés en paramètres.\n",
    "\n",
    "        * Exemple :\n",
    "            >>> ou_exclusif([1, 1, 0, 1], [0, 0, 1, 1])\n",
    "            [1, 1, 1, 0]\n",
    "\n",
    "        * Préconditions :\n",
    "            tab_a(list) : Premier tableau contenant des 0 et des 1 \n",
    "            tab_b(list) : \n",
    "\n",
    "        * Postconditions :\n",
    "            (list) : Liste issue du résultat par l'opérateur \"ou exclusif\" de chaque élément à l'indice i de tab_a et tab_b.\n",
    "    '''\n",
    "    tab_c = []\n",
    "    # ((not a) and b) or (a and (not b))\n",
    "    for i in range(len(tab_a)):\n",
    "        if tab_a[i] !=  tab_b[i]:\n",
    "            tab_c.append(1)\n",
    "        else:\n",
    "            tab_c.append(0)\n",
    "    return tab_c\n"
   ]
  },
  {
   "cell_type": "code",
   "execution_count": 37,
   "metadata": {},
   "outputs": [],
   "source": [
    "def ou_exclusif(tab_a, tab_b):\n",
    "    '''\n",
    "        * Définition :\n",
    "            Fonction prenant en paramètre deux tableaux de même longueur et qui renvoie un tableau où l'élément situé à la position i est le résultat, \n",
    "            par l’opérateur « ou exclusif », des éléments à la position i des tableaux passés en paramètres.\n",
    "\n",
    "        * Exemple :\n",
    "            >>> ou_exclusif([1, 1, 0, 1], [0, 0, 1, 1])\n",
    "            [1, 1, 1, 0]\n",
    "\n",
    "        * Préconditions :\n",
    "            tab_a(list) : Premier tableau contenant des 0 et des 1 auqel on va appliquer pour chaque élément et ceux du second tableau l'opérateur \"ou exclusif\".\n",
    "            tab_b(list) : \n",
    "\n",
    "        * Postconditions :\n",
    "            (list) : Liste issue du résultat par l'opérateur \"ou exclusif\" de chaque élément à l'indice i de tab_a et tab_b.\n",
    "    '''\n",
    "    tab_c = []\n",
    "    # ((not a) and b) or (a and (not b))\n",
    "    for i in range(len(tab_a)):\n",
    "        if ((not tab_a[i] == 1) and tab_b[i] == 1) or (tab_a[i] == 1 and (not tab_b[i] == 1)):\n",
    "            tab_c.append(1)\n",
    "        else:\n",
    "            tab_c.append(0)\n",
    "    return tab_c\n"
   ]
  },
  {
   "cell_type": "code",
   "execution_count": 41,
   "metadata": {},
   "outputs": [],
   "source": [
    "def ou_exclusif(tab_a, tab_b):\n",
    "    '''\n",
    "        * Définition :\n",
    "            Fonction prenant en paramètre deux tableaux de même longueur et qui renvoie un tableau où l'élément situé à la position i est le résultat, \n",
    "            par l’opérateur « ou exclusif », des éléments à la position i des tableaux passés en paramètres.\n",
    "\n",
    "        * Exemple :\n",
    "            >>> ou_exclusif([1, 1, 0, 1], [0, 0, 1, 1])\n",
    "            [1, 1, 1, 0]\n",
    "\n",
    "        * Préconditions :\n",
    "            tab_a(list) : Premier tableau contenant des 0 et des 1 auqel on va appliquer pour chaque élément et ceux du second tableau l'opérateur \"ou exclusif\".\n",
    "            tab_b(list) : \n",
    "\n",
    "        * Postconditions :\n",
    "            (list) : Liste issue du résultat par l'opérateur \"ou exclusif\" de chaque élément à l'indice i de tab_a et tab_b.\n",
    "    '''\n",
    "    tab_c = []\n",
    "    # ((not a) and b) or (a and (not b))\n",
    "    for i in range(len(tab_a)):\n",
    "        if ((not tab_a[i]) and tab_b[i]) or (tab_a[i] and (not tab_b[i])):\n",
    "            tab_c.append(1)\n",
    "        else:\n",
    "            tab_c.append(0)\n",
    "    return tab_c\n"
   ]
  },
  {
   "cell_type": "code",
   "execution_count": 74,
   "metadata": {},
   "outputs": [],
   "source": [
    "def ou_exclusif(tab_a, tab_b):\n",
    "    '''\n",
    "        * Définition :\n",
    "            Fonction prenant en paramètre deux tableaux de même longueur et qui renvoie un tableau où l'élément situé à la position i est le résultat, \n",
    "            par l’opérateur « ou exclusif », des éléments à la position i des tableaux passés en paramètres.\n",
    "\n",
    "        * Exemple :\n",
    "            >>> ou_exclusif([1, 1, 0, 1], [0, 0, 1, 1])\n",
    "            [1, 1, 1, 0]\n",
    "\n",
    "        * Préconditions :\n",
    "            tab_a(list) : Premier tableau contenant des 0 et des 1 auqel on va appliquer pour chaque élément et ceux du second tableau l'opérateur \"ou exclusif\".\n",
    "            tab_b(list) : Second tableau contenant des 0 et des 1 auqel on va appliquer pour chaque élément et ceux du premier tableau l'opérateur \"ou exclusif\".\n",
    "\n",
    "        * Postconditions :\n",
    "            (list) : Liste issue du résultat par l'opérateur \"ou exclusif\" de chaque élément à l'indice i de tab_a et tab_b.\n",
    "    '''\n",
    "    tab_c = []\n",
    "    # ((not a) and b) or (a and (not b))\n",
    "    assert type(tab_a) == list, \"tab_a doit être un tableau\"\n",
    "    assert type(tab_b) == list, \"tab_b doit être un tableau\"\n",
    "    assert len(tab_a) == len(tab_b), \"tab_a et tab_b doivent avoir la même longueur\"\n",
    "    for i in range(len(tab_a)):\n",
    "        assert tab_a[i] == 0 or tab_a[i] == 1, \"tab_a doit seulement contenir des 0 et des 1\"\n",
    "        assert tab_b[i] == 0 or tab_b[i] == 1, \"tab_b doit seulement contenir des 0 et des 1\"\n",
    "    for i in range(len(tab_a)):\n",
    "        if tab_a[i] ^ tab_b[i]:\n",
    "            tab_c.append(1)\n",
    "        else:\n",
    "            tab_c.append(0)\n",
    "    return tab_c\n"
   ]
  },
  {
   "cell_type": "code",
   "execution_count": 71,
   "metadata": {},
   "outputs": [],
   "source": [
    "a = [1, 0, 1, 0, 1, 1, 0, 1]\n",
    "b = [0, 1, 1, 1, 0, 1, 0, 0]\n",
    "c = [1, 1, 0, 1]\n",
    "d = [0, 0, 1, 1]\n",
    "e = [4,0,1,0]\n",
    "f = [\"a\",0,1,1]\n",
    "g = (0,0,0,1)"
   ]
  },
  {
   "cell_type": "code",
   "execution_count": 53,
   "metadata": {},
   "outputs": [
    {
     "data": {
      "text/plain": [
       "[1, 1, 0, 1, 1, 0, 0, 1]"
      ]
     },
     "execution_count": 53,
     "metadata": {},
     "output_type": "execute_result"
    }
   ],
   "source": [
    "ou_exclusif(a, b)"
   ]
  },
  {
   "cell_type": "code",
   "execution_count": 54,
   "metadata": {},
   "outputs": [
    {
     "data": {
      "text/plain": [
       "[1, 1, 1, 0]"
      ]
     },
     "execution_count": 54,
     "metadata": {},
     "output_type": "execute_result"
    }
   ],
   "source": [
    "ou_exclusif(c, d)"
   ]
  },
  {
   "cell_type": "code",
   "execution_count": 68,
   "metadata": {},
   "outputs": [
    {
     "ename": "AssertionError",
     "evalue": "tab_b doit seulement contenir des 0 et des 1",
     "output_type": "error",
     "traceback": [
      "\u001b[0;31m---------------------------------------------------------------------------\u001b[0m",
      "\u001b[0;31mAssertionError\u001b[0m                            Traceback (most recent call last)",
      "Cell \u001b[0;32mIn[68], line 1\u001b[0m\n\u001b[0;32m----> 1\u001b[0m ou_exclusif(d, e)\n",
      "Cell \u001b[0;32mIn[60], line 24\u001b[0m, in \u001b[0;36mou_exclusif\u001b[0;34m(tab_a, tab_b)\u001b[0m\n\u001b[1;32m     22\u001b[0m \u001b[39mfor\u001b[39;00m i \u001b[39min\u001b[39;00m \u001b[39mrange\u001b[39m(\u001b[39mlen\u001b[39m(tab_a)):\n\u001b[1;32m     23\u001b[0m     \u001b[39massert\u001b[39;00m tab_a[i] \u001b[39m==\u001b[39m \u001b[39m0\u001b[39m \u001b[39mor\u001b[39;00m tab_a[i] \u001b[39m==\u001b[39m \u001b[39m1\u001b[39m, \u001b[39m\"\u001b[39m\u001b[39mtab_a doit seulement contenir des 0 et des 1\u001b[39m\u001b[39m\"\u001b[39m\n\u001b[0;32m---> 24\u001b[0m     \u001b[39massert\u001b[39;00m tab_b[i] \u001b[39m==\u001b[39m \u001b[39m0\u001b[39m \u001b[39mor\u001b[39;00m tab_b[i] \u001b[39m==\u001b[39m \u001b[39m1\u001b[39m, \u001b[39m\"\u001b[39m\u001b[39mtab_b doit seulement contenir des 0 et des 1\u001b[39m\u001b[39m\"\u001b[39m\n\u001b[1;32m     25\u001b[0m \u001b[39mfor\u001b[39;00m i \u001b[39min\u001b[39;00m \u001b[39mrange\u001b[39m(\u001b[39mlen\u001b[39m(tab_a)):\n\u001b[1;32m     26\u001b[0m     \u001b[39mif\u001b[39;00m tab_a[i] \u001b[39m^\u001b[39m tab_b[i]:\n",
      "\u001b[0;31mAssertionError\u001b[0m: tab_b doit seulement contenir des 0 et des 1"
     ]
    }
   ],
   "source": [
    "ou_exclusif(d, e)"
   ]
  },
  {
   "cell_type": "code",
   "execution_count": 69,
   "metadata": {},
   "outputs": [
    {
     "ename": "AssertionError",
     "evalue": "tab_b doit seulement contenir des 0 et des 1",
     "output_type": "error",
     "traceback": [
      "\u001b[0;31m---------------------------------------------------------------------------\u001b[0m",
      "\u001b[0;31mAssertionError\u001b[0m                            Traceback (most recent call last)",
      "Cell \u001b[0;32mIn[69], line 1\u001b[0m\n\u001b[0;32m----> 1\u001b[0m ou_exclusif(d, f)\n",
      "Cell \u001b[0;32mIn[60], line 24\u001b[0m, in \u001b[0;36mou_exclusif\u001b[0;34m(tab_a, tab_b)\u001b[0m\n\u001b[1;32m     22\u001b[0m \u001b[39mfor\u001b[39;00m i \u001b[39min\u001b[39;00m \u001b[39mrange\u001b[39m(\u001b[39mlen\u001b[39m(tab_a)):\n\u001b[1;32m     23\u001b[0m     \u001b[39massert\u001b[39;00m tab_a[i] \u001b[39m==\u001b[39m \u001b[39m0\u001b[39m \u001b[39mor\u001b[39;00m tab_a[i] \u001b[39m==\u001b[39m \u001b[39m1\u001b[39m, \u001b[39m\"\u001b[39m\u001b[39mtab_a doit seulement contenir des 0 et des 1\u001b[39m\u001b[39m\"\u001b[39m\n\u001b[0;32m---> 24\u001b[0m     \u001b[39massert\u001b[39;00m tab_b[i] \u001b[39m==\u001b[39m \u001b[39m0\u001b[39m \u001b[39mor\u001b[39;00m tab_b[i] \u001b[39m==\u001b[39m \u001b[39m1\u001b[39m, \u001b[39m\"\u001b[39m\u001b[39mtab_b doit seulement contenir des 0 et des 1\u001b[39m\u001b[39m\"\u001b[39m\n\u001b[1;32m     25\u001b[0m \u001b[39mfor\u001b[39;00m i \u001b[39min\u001b[39;00m \u001b[39mrange\u001b[39m(\u001b[39mlen\u001b[39m(tab_a)):\n\u001b[1;32m     26\u001b[0m     \u001b[39mif\u001b[39;00m tab_a[i] \u001b[39m^\u001b[39m tab_b[i]:\n",
      "\u001b[0;31mAssertionError\u001b[0m: tab_b doit seulement contenir des 0 et des 1"
     ]
    }
   ],
   "source": [
    "ou_exclusif(d, f)"
   ]
  },
  {
   "cell_type": "code",
   "execution_count": 72,
   "metadata": {},
   "outputs": [
    {
     "ename": "AssertionError",
     "evalue": "tab_b doit être un tableau",
     "output_type": "error",
     "traceback": [
      "\u001b[0;31m---------------------------------------------------------------------------\u001b[0m",
      "\u001b[0;31mAssertionError\u001b[0m                            Traceback (most recent call last)",
      "Cell \u001b[0;32mIn[72], line 1\u001b[0m\n\u001b[0;32m----> 1\u001b[0m ou_exclusif(d, g)\n",
      "Cell \u001b[0;32mIn[60], line 21\u001b[0m, in \u001b[0;36mou_exclusif\u001b[0;34m(tab_a, tab_b)\u001b[0m\n\u001b[1;32m     19\u001b[0m \u001b[39m# ((not a) and b) or (a and (not b))\u001b[39;00m\n\u001b[1;32m     20\u001b[0m \u001b[39massert\u001b[39;00m \u001b[39mtype\u001b[39m(tab_a) \u001b[39m==\u001b[39m \u001b[39mlist\u001b[39m, \u001b[39m\"\u001b[39m\u001b[39mtab_a doit être un tableau\u001b[39m\u001b[39m\"\u001b[39m\n\u001b[0;32m---> 21\u001b[0m \u001b[39massert\u001b[39;00m \u001b[39mtype\u001b[39m(tab_b) \u001b[39m==\u001b[39m \u001b[39mlist\u001b[39m, \u001b[39m\"\u001b[39m\u001b[39mtab_b doit être un tableau\u001b[39m\u001b[39m\"\u001b[39m\n\u001b[1;32m     22\u001b[0m \u001b[39mfor\u001b[39;00m i \u001b[39min\u001b[39;00m \u001b[39mrange\u001b[39m(\u001b[39mlen\u001b[39m(tab_a)):\n\u001b[1;32m     23\u001b[0m     \u001b[39massert\u001b[39;00m tab_a[i] \u001b[39m==\u001b[39m \u001b[39m0\u001b[39m \u001b[39mor\u001b[39;00m tab_a[i] \u001b[39m==\u001b[39m \u001b[39m1\u001b[39m, \u001b[39m\"\u001b[39m\u001b[39mtab_a doit seulement contenir des 0 et des 1\u001b[39m\u001b[39m\"\u001b[39m\n",
      "\u001b[0;31mAssertionError\u001b[0m: tab_b doit être un tableau"
     ]
    }
   ],
   "source": [
    "ou_exclusif(d, g)"
   ]
  },
  {
   "cell_type": "code",
   "execution_count": 75,
   "metadata": {},
   "outputs": [
    {
     "ename": "AssertionError",
     "evalue": "tab_a et tab_b doivent avoir la même longueur",
     "output_type": "error",
     "traceback": [
      "\u001b[0;31m---------------------------------------------------------------------------\u001b[0m",
      "\u001b[0;31mAssertionError\u001b[0m                            Traceback (most recent call last)",
      "Cell \u001b[0;32mIn[75], line 1\u001b[0m\n\u001b[0;32m----> 1\u001b[0m ou_exclusif(a,c)\n",
      "Cell \u001b[0;32mIn[74], line 22\u001b[0m, in \u001b[0;36mou_exclusif\u001b[0;34m(tab_a, tab_b)\u001b[0m\n\u001b[1;32m     20\u001b[0m \u001b[39massert\u001b[39;00m \u001b[39mtype\u001b[39m(tab_a) \u001b[39m==\u001b[39m \u001b[39mlist\u001b[39m, \u001b[39m\"\u001b[39m\u001b[39mtab_a doit être un tableau\u001b[39m\u001b[39m\"\u001b[39m\n\u001b[1;32m     21\u001b[0m \u001b[39massert\u001b[39;00m \u001b[39mtype\u001b[39m(tab_b) \u001b[39m==\u001b[39m \u001b[39mlist\u001b[39m, \u001b[39m\"\u001b[39m\u001b[39mtab_b doit être un tableau\u001b[39m\u001b[39m\"\u001b[39m\n\u001b[0;32m---> 22\u001b[0m \u001b[39massert\u001b[39;00m \u001b[39mlen\u001b[39m(tab_a) \u001b[39m==\u001b[39m \u001b[39mlen\u001b[39m(tab_b), \u001b[39m\"\u001b[39m\u001b[39mtab_a et tab_b doivent avoir la même longueur\u001b[39m\u001b[39m\"\u001b[39m\n\u001b[1;32m     23\u001b[0m \u001b[39mfor\u001b[39;00m i \u001b[39min\u001b[39;00m \u001b[39mrange\u001b[39m(\u001b[39mlen\u001b[39m(tab_a)):\n\u001b[1;32m     24\u001b[0m     \u001b[39massert\u001b[39;00m tab_a[i] \u001b[39m==\u001b[39m \u001b[39m0\u001b[39m \u001b[39mor\u001b[39;00m tab_a[i] \u001b[39m==\u001b[39m \u001b[39m1\u001b[39m, \u001b[39m\"\u001b[39m\u001b[39mtab_a doit seulement contenir des 0 et des 1\u001b[39m\u001b[39m\"\u001b[39m\n",
      "\u001b[0;31mAssertionError\u001b[0m: tab_a et tab_b doivent avoir la même longueur"
     ]
    }
   ],
   "source": [
    "ou_exclusif(a,c)"
   ]
  },
  {
   "attachments": {},
   "cell_type": "markdown",
   "metadata": {},
   "source": [
    "## Exercice 2"
   ]
  },
  {
   "cell_type": "code",
   "execution_count": 18,
   "metadata": {},
   "outputs": [],
   "source": [
    "l2 = (1, 7, 7, 1)\n",
    "l3 = (3, 4, 5, 4, 4, 4, 5, 4, 3)\n",
    "l3bis = (2, 9, 4, 7, 0, 3, 6, 1, 8)\n",
    "\n",
    "\n",
    "class Carre:\n",
    "    def __init__(self, liste, n):\n",
    "        self.ordre = n\n",
    "        self.tableau = [[liste[i + j * n] for i in range(n)] for j in range(n)]\n",
    "\n",
    "    def affiche(self):\n",
    "        '''Affiche un carré'''\n",
    "        for i in range(self.ordre):\n",
    "            print(self.tableau[i])\n",
    "\n",
    "    def somme_ligne(self, i):\n",
    "        '''Calcule la somme des valeurs de la ligne i'''\n",
    "        somme = 0\n",
    "        for j in range(self.ordre):\n",
    "            somme = somme + self.tableau[i][j]\n",
    "        return somme\n",
    "\n",
    "    def somme_col(self, j):\n",
    "        '''Calcule la somme des valeurs de la colonne j'''\n",
    "        somme = 0\n",
    "        for i in range(self.ordre):\n",
    "            somme = somme + self.tableau[i][j]\n",
    "        return somme\n",
    "\n",
    "    def est_semimagique(self):\n",
    "        s = self.somme_ligne(0)\n",
    "\n",
    "        #test de la somme de chaque ligne\n",
    "        for i in range(self.ordre):\n",
    "            if self.somme_ligne(i) != s:\n",
    "                return False\n",
    "\n",
    "        #test de la somme de chaque colonne\n",
    "        for j in range(self.ordre):\n",
    "            if self.somme_col(i) != s:\n",
    "                return False\n",
    "\n",
    "        return True"
   ]
  },
  {
   "cell_type": "code",
   "execution_count": 15,
   "metadata": {},
   "outputs": [
    {
     "data": {
      "text/plain": [
       "True"
      ]
     },
     "execution_count": 15,
     "metadata": {},
     "output_type": "execute_result"
    }
   ],
   "source": [
    "c2 = Carre(l2, 2)\n",
    "c2.est_semimagique()"
   ]
  },
  {
   "cell_type": "code",
   "execution_count": 20,
   "metadata": {},
   "outputs": [
    {
     "data": {
      "text/plain": [
       "True"
      ]
     },
     "execution_count": 20,
     "metadata": {},
     "output_type": "execute_result"
    }
   ],
   "source": [
    "c3 = Carre(l3, 3)\n",
    "c3.est_semimagique()"
   ]
  },
  {
   "cell_type": "code",
   "execution_count": 21,
   "metadata": {},
   "outputs": [
    {
     "data": {
      "text/plain": [
       "False"
      ]
     },
     "execution_count": 21,
     "metadata": {},
     "output_type": "execute_result"
    }
   ],
   "source": [
    "c3bis = Carre(l3bis, 3)\n",
    "c3bis.est_semimagique()"
   ]
  },
  {
   "attachments": {},
   "cell_type": "markdown",
   "metadata": {},
   "source": [
    "# Sujet n°34"
   ]
  },
  {
   "attachments": {},
   "cell_type": "markdown",
   "metadata": {},
   "source": [
    "## Exercice 1"
   ]
  },
  {
   "cell_type": "code",
   "execution_count": 95,
   "metadata": {},
   "outputs": [],
   "source": [
    "def moyenne(tab):\n",
    "    '''\n",
    "        * Définition :\n",
    "            Fonction prenant en paramètre un tableau d'entiers tab (de type list) qui renvoie la moyenne de ses éléments si le tableau est non vide et 0 sinon.\n",
    "        * Exemple :\n",
    "            >>>moyenne([1, 2, 3, 4, 5, 6, 7, 8, 9, 10])\n",
    "            5.5\n",
    "        * Préconditions :\n",
    "            tab(list) : Tableau de valeurs entières dont on va calculer la moyenne.\n",
    "        * Postconditions :\n",
    "            (float) : La moyenne des valeurs du tableau tab.\n",
    "    '''\n",
    "    assert type(tab) == list, \"tab doit être un tableau\"\n",
    "    for i in range(len(tab)):\n",
    "        assert type(tab[i]) == int, \"tab doit seulement contenir des entiers\"\n",
    "    if len(tab) == 0:\n",
    "        return 0.0\n",
    "    somme = 0\n",
    "    for i in range(len(tab)):\n",
    "        somme += tab[i]\n",
    "    return somme/len(tab)"
   ]
  },
  {
   "cell_type": "code",
   "execution_count": 96,
   "metadata": {},
   "outputs": [
    {
     "data": {
      "text/plain": [
       "5.333333333333333"
      ]
     },
     "execution_count": 96,
     "metadata": {},
     "output_type": "execute_result"
    }
   ],
   "source": [
    "moyenne([5, 3, 8])"
   ]
  },
  {
   "cell_type": "code",
   "execution_count": 97,
   "metadata": {},
   "outputs": [
    {
     "data": {
      "text/plain": [
       "5.5"
      ]
     },
     "execution_count": 97,
     "metadata": {},
     "output_type": "execute_result"
    }
   ],
   "source": [
    "moyenne([1, 2, 3, 4, 5, 6, 7, 8, 9, 10])"
   ]
  },
  {
   "cell_type": "code",
   "execution_count": 98,
   "metadata": {},
   "outputs": [
    {
     "data": {
      "text/plain": [
       "0.0"
      ]
     },
     "execution_count": 98,
     "metadata": {},
     "output_type": "execute_result"
    }
   ],
   "source": [
    "moyenne([])"
   ]
  },
  {
   "cell_type": "code",
   "execution_count": 99,
   "metadata": {},
   "outputs": [
    {
     "ename": "AssertionError",
     "evalue": "tab doit être un tableau",
     "output_type": "error",
     "traceback": [
      "\u001b[0;31m---------------------------------------------------------------------------\u001b[0m",
      "\u001b[0;31mAssertionError\u001b[0m                            Traceback (most recent call last)",
      "Cell \u001b[0;32mIn[99], line 1\u001b[0m\n\u001b[0;32m----> 1\u001b[0m moyenne(\u001b[39m3\u001b[39;49m)\n",
      "Cell \u001b[0;32mIn[95], line 13\u001b[0m, in \u001b[0;36mmoyenne\u001b[0;34m(tab)\u001b[0m\n\u001b[1;32m      1\u001b[0m \u001b[39mdef\u001b[39;00m \u001b[39mmoyenne\u001b[39m(tab):\n\u001b[1;32m      2\u001b[0m \u001b[39m    \u001b[39m\u001b[39m'''\u001b[39;00m\n\u001b[1;32m      3\u001b[0m \u001b[39m        * Définition :\u001b[39;00m\n\u001b[1;32m      4\u001b[0m \u001b[39m            Fonction prenant en paramètre un tableau d'entiers tab (de type list) qui renvoie la moyenne de ses éléments si le tableau est non vide et 0 sinon.\u001b[39;00m\n\u001b[0;32m   (...)\u001b[0m\n\u001b[1;32m     11\u001b[0m \u001b[39m            (float) : La moyenne des valeurs du tableau tab.\u001b[39;00m\n\u001b[1;32m     12\u001b[0m \u001b[39m    '''\u001b[39;00m\n\u001b[0;32m---> 13\u001b[0m     \u001b[39massert\u001b[39;00m \u001b[39mtype\u001b[39m(tab) \u001b[39m==\u001b[39m \u001b[39mlist\u001b[39m, \u001b[39m\"\u001b[39m\u001b[39mtab doit être un tableau\u001b[39m\u001b[39m\"\u001b[39m\n\u001b[1;32m     14\u001b[0m     \u001b[39mfor\u001b[39;00m i \u001b[39min\u001b[39;00m \u001b[39mrange\u001b[39m(\u001b[39mlen\u001b[39m(tab)):\n\u001b[1;32m     15\u001b[0m         \u001b[39massert\u001b[39;00m \u001b[39mtype\u001b[39m(tab[i]) \u001b[39m==\u001b[39m \u001b[39mint\u001b[39m, \u001b[39m\"\u001b[39m\u001b[39mtab doit seulement contenir des entiers\u001b[39m\u001b[39m\"\u001b[39m\n",
      "\u001b[0;31mAssertionError\u001b[0m: tab doit être un tableau"
     ]
    }
   ],
   "source": [
    "moyenne(3)"
   ]
  },
  {
   "cell_type": "code",
   "execution_count": 100,
   "metadata": {},
   "outputs": [
    {
     "ename": "AssertionError",
     "evalue": "tab doit seulement contenir des entiers",
     "output_type": "error",
     "traceback": [
      "\u001b[0;31m---------------------------------------------------------------------------\u001b[0m",
      "\u001b[0;31mAssertionError\u001b[0m                            Traceback (most recent call last)",
      "Cell \u001b[0;32mIn[100], line 1\u001b[0m\n\u001b[0;32m----> 1\u001b[0m moyenne([\u001b[39m1\u001b[39;49m,\u001b[39m2\u001b[39;49m,\u001b[39m\"\u001b[39;49m\u001b[39m3\u001b[39;49m\u001b[39m\"\u001b[39;49m])\n",
      "Cell \u001b[0;32mIn[95], line 15\u001b[0m, in \u001b[0;36mmoyenne\u001b[0;34m(tab)\u001b[0m\n\u001b[1;32m     13\u001b[0m \u001b[39massert\u001b[39;00m \u001b[39mtype\u001b[39m(tab) \u001b[39m==\u001b[39m \u001b[39mlist\u001b[39m, \u001b[39m\"\u001b[39m\u001b[39mtab doit être un tableau\u001b[39m\u001b[39m\"\u001b[39m\n\u001b[1;32m     14\u001b[0m \u001b[39mfor\u001b[39;00m i \u001b[39min\u001b[39;00m \u001b[39mrange\u001b[39m(\u001b[39mlen\u001b[39m(tab)):\n\u001b[0;32m---> 15\u001b[0m     \u001b[39massert\u001b[39;00m \u001b[39mtype\u001b[39m(tab[i]) \u001b[39m==\u001b[39m \u001b[39mint\u001b[39m, \u001b[39m\"\u001b[39m\u001b[39mtab doit seulement contenir des entiers\u001b[39m\u001b[39m\"\u001b[39m\n\u001b[1;32m     16\u001b[0m \u001b[39mif\u001b[39;00m \u001b[39mlen\u001b[39m(tab) \u001b[39m==\u001b[39m \u001b[39m0\u001b[39m:\n\u001b[1;32m     17\u001b[0m     \u001b[39mreturn\u001b[39;00m \u001b[39m0.0\u001b[39m\n",
      "\u001b[0;31mAssertionError\u001b[0m: tab doit seulement contenir des entiers"
     ]
    }
   ],
   "source": [
    "moyenne([1,2,\"3\"])"
   ]
  },
  {
   "attachments": {},
   "cell_type": "markdown",
   "metadata": {},
   "source": [
    "## Exercice 2"
   ]
  },
  {
   "cell_type": "code",
   "execution_count": 79,
   "metadata": {},
   "outputs": [],
   "source": [
    "def tri(tab):\n",
    "    # i est le premier indice de la zone non triee,\n",
    "    # j est le dernier indice de cette zone non triée. \n",
    "    # Au debut, la zone non triee est le tableau complet.\n",
    "    i= 0\n",
    "    j= len(tab) - 1\n",
    "    while i != j :\n",
    "        if tab[i] == 0:\n",
    "            i= i + 1\n",
    "        else :\n",
    "            valeur = tab[j]\n",
    "            tab[j] = tab[i]\n",
    "            tab[i] = valeur\n",
    "            j= j - 1\n",
    "    return tab\n"
   ]
  },
  {
   "cell_type": "code",
   "execution_count": 88,
   "metadata": {},
   "outputs": [
    {
     "data": {
      "text/plain": [
       "[0, 0, 0, 0, 0, 1, 1, 1, 1]"
      ]
     },
     "execution_count": 88,
     "metadata": {},
     "output_type": "execute_result"
    }
   ],
   "source": [
    "tri([0, 1, 0, 1, 0, 1, 0, 1, 0])"
   ]
  },
  {
   "attachments": {},
   "cell_type": "markdown",
   "metadata": {},
   "source": [
    "exercice 2 n°6\n",
    "exercice 2 n°9\n",
    "exercice 2 n°12\n",
    "exercice 2 n°13\n",
    "exercice 1 n°19\n",
    "exercice 2 n°28\n",
    "exercice 2 n°41"
   ]
  }
 ],
 "metadata": {
  "kernelspec": {
   "display_name": "Python 3",
   "language": "python",
   "name": "python3"
  },
  "language_info": {
   "codemirror_mode": {
    "name": "ipython",
    "version": 3
   },
   "file_extension": ".py",
   "mimetype": "text/x-python",
   "name": "python",
   "nbconvert_exporter": "python",
   "pygments_lexer": "ipython3",
   "version": "3.8.16"
  },
  "orig_nbformat": 4,
  "vscode": {
   "interpreter": {
    "hash": "9ac03a0a6051494cc606d484d27d20fce22fb7b4d169f583271e11d5ba46a56e"
   }
  }
 },
 "nbformat": 4,
 "nbformat_minor": 2
}
